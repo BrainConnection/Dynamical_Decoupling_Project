{
  "cells": [
    {
      "cell_type": "markdown",
      "metadata": {
        "id": "view-in-github",
        "colab_type": "text"
      },
      "source": [
        "<a href=\"https://colab.research.google.com/github/BrainConnection/Dynamical_Decoupling_Project/blob/main/classical_shadows_qiskit.ipynb\" target=\"_parent\"><img src=\"https://colab.research.google.com/assets/colab-badge.svg\" alt=\"Open In Colab\"/></a>"
      ]
    },
    {
      "cell_type": "markdown",
      "metadata": {
        "id": "ztUGYEdpIuI5"
      },
      "source": [
        "# Import Packages"
      ]
    },
    {
      "cell_type": "code",
      "source": [
        "!pip install qiskit\n",
        "!pip install qiskit-ibm-runtime\n",
        "!pip install numpy\n",
        "!pip install matplotlib\n",
        "!pip install pylatexenc\n",
        "!pip install qiskit-aer"
      ],
      "metadata": {
        "colab": {
          "base_uri": "https://localhost:8080/"
        },
        "id": "Jg6VNWvJIwJ4",
        "outputId": "dc3017bc-c517-484e-fddd-d28338c04103"
      },
      "execution_count": 1,
      "outputs": [
        {
          "output_type": "stream",
          "name": "stdout",
          "text": [
            "Collecting qiskit\n",
            "  Downloading qiskit-1.1.1-cp38-abi3-manylinux_2_17_x86_64.manylinux2014_x86_64.whl (4.3 MB)\n",
            "\u001b[2K     \u001b[90m━━━━━━━━━━━━━━━━━━━━━━━━━━━━━━━━━━━━━━━━\u001b[0m \u001b[32m4.3/4.3 MB\u001b[0m \u001b[31m11.2 MB/s\u001b[0m eta \u001b[36m0:00:00\u001b[0m\n",
            "\u001b[?25hCollecting rustworkx>=0.14.0 (from qiskit)\n",
            "  Downloading rustworkx-0.14.2-cp310-cp310-manylinux_2_17_x86_64.manylinux2014_x86_64.whl (2.1 MB)\n",
            "\u001b[2K     \u001b[90m━━━━━━━━━━━━━━━━━━━━━━━━━━━━━━━━━━━━━━━━\u001b[0m \u001b[32m2.1/2.1 MB\u001b[0m \u001b[31m17.7 MB/s\u001b[0m eta \u001b[36m0:00:00\u001b[0m\n",
            "\u001b[?25hRequirement already satisfied: numpy<3,>=1.17 in /usr/local/lib/python3.10/dist-packages (from qiskit) (1.25.2)\n",
            "Requirement already satisfied: scipy>=1.5 in /usr/local/lib/python3.10/dist-packages (from qiskit) (1.11.4)\n",
            "Requirement already satisfied: sympy>=1.3 in /usr/local/lib/python3.10/dist-packages (from qiskit) (1.12.1)\n",
            "Collecting dill>=0.3 (from qiskit)\n",
            "  Downloading dill-0.3.8-py3-none-any.whl (116 kB)\n",
            "\u001b[2K     \u001b[90m━━━━━━━━━━━━━━━━━━━━━━━━━━━━━━━━━━━━━━━━\u001b[0m \u001b[32m116.3/116.3 kB\u001b[0m \u001b[31m5.6 MB/s\u001b[0m eta \u001b[36m0:00:00\u001b[0m\n",
            "\u001b[?25hRequirement already satisfied: python-dateutil>=2.8.0 in /usr/local/lib/python3.10/dist-packages (from qiskit) (2.8.2)\n",
            "Collecting stevedore>=3.0.0 (from qiskit)\n",
            "  Downloading stevedore-5.2.0-py3-none-any.whl (49 kB)\n",
            "\u001b[2K     \u001b[90m━━━━━━━━━━━━━━━━━━━━━━━━━━━━━━━━━━━━━━━━\u001b[0m \u001b[32m49.7/49.7 kB\u001b[0m \u001b[31m2.4 MB/s\u001b[0m eta \u001b[36m0:00:00\u001b[0m\n",
            "\u001b[?25hRequirement already satisfied: typing-extensions in /usr/local/lib/python3.10/dist-packages (from qiskit) (4.12.2)\n",
            "Collecting symengine>=0.11 (from qiskit)\n",
            "  Downloading symengine-0.11.0-cp310-cp310-manylinux_2_12_x86_64.manylinux2010_x86_64.whl (39.4 MB)\n",
            "\u001b[2K     \u001b[90m━━━━━━━━━━━━━━━━━━━━━━━━━━━━━━━━━━━━━━━━\u001b[0m \u001b[32m39.4/39.4 MB\u001b[0m \u001b[31m9.7 MB/s\u001b[0m eta \u001b[36m0:00:00\u001b[0m\n",
            "\u001b[?25hRequirement already satisfied: six>=1.5 in /usr/local/lib/python3.10/dist-packages (from python-dateutil>=2.8.0->qiskit) (1.16.0)\n",
            "Collecting pbr!=2.1.0,>=2.0.0 (from stevedore>=3.0.0->qiskit)\n",
            "  Downloading pbr-6.0.0-py2.py3-none-any.whl (107 kB)\n",
            "\u001b[2K     \u001b[90m━━━━━━━━━━━━━━━━━━━━━━━━━━━━━━━━━━━━━━━━\u001b[0m \u001b[32m107.5/107.5 kB\u001b[0m \u001b[31m6.0 MB/s\u001b[0m eta \u001b[36m0:00:00\u001b[0m\n",
            "\u001b[?25hRequirement already satisfied: mpmath<1.4.0,>=1.1.0 in /usr/local/lib/python3.10/dist-packages (from sympy>=1.3->qiskit) (1.3.0)\n",
            "Installing collected packages: symengine, rustworkx, pbr, dill, stevedore, qiskit\n",
            "Successfully installed dill-0.3.8 pbr-6.0.0 qiskit-1.1.1 rustworkx-0.14.2 stevedore-5.2.0 symengine-0.11.0\n",
            "Collecting qiskit-ibm-runtime\n",
            "  Downloading qiskit_ibm_runtime-0.24.1-py3-none-any.whl (2.9 MB)\n",
            "\u001b[2K     \u001b[90m━━━━━━━━━━━━━━━━━━━━━━━━━━━━━━━━━━━━━━━━\u001b[0m \u001b[32m2.9/2.9 MB\u001b[0m \u001b[31m19.7 MB/s\u001b[0m eta \u001b[36m0:00:00\u001b[0m\n",
            "\u001b[?25hRequirement already satisfied: requests>=2.19 in /usr/local/lib/python3.10/dist-packages (from qiskit-ibm-runtime) (2.31.0)\n",
            "Collecting requests-ntlm>=1.1.0 (from qiskit-ibm-runtime)\n",
            "  Downloading requests_ntlm-1.3.0-py3-none-any.whl (6.6 kB)\n",
            "Requirement already satisfied: numpy>=1.13 in /usr/local/lib/python3.10/dist-packages (from qiskit-ibm-runtime) (1.25.2)\n",
            "Requirement already satisfied: urllib3>=1.21.1 in /usr/local/lib/python3.10/dist-packages (from qiskit-ibm-runtime) (2.0.7)\n",
            "Requirement already satisfied: python-dateutil>=2.8.0 in /usr/local/lib/python3.10/dist-packages (from qiskit-ibm-runtime) (2.8.2)\n",
            "Requirement already satisfied: websocket-client>=1.5.1 in /usr/local/lib/python3.10/dist-packages (from qiskit-ibm-runtime) (1.8.0)\n",
            "Collecting ibm-platform-services>=0.22.6 (from qiskit-ibm-runtime)\n",
            "  Downloading ibm-platform-services-0.54.1.tar.gz (324 kB)\n",
            "\u001b[2K     \u001b[90m━━━━━━━━━━━━━━━━━━━━━━━━━━━━━━━━━━━━━━━━\u001b[0m \u001b[32m324.4/324.4 kB\u001b[0m \u001b[31m2.6 MB/s\u001b[0m eta \u001b[36m0:00:00\u001b[0m\n",
            "\u001b[?25h  Installing build dependencies ... \u001b[?25l\u001b[?25hdone\n",
            "  Getting requirements to build wheel ... \u001b[?25l\u001b[?25hdone\n",
            "  Preparing metadata (pyproject.toml) ... \u001b[?25l\u001b[?25hdone\n",
            "Requirement already satisfied: pydantic in /usr/local/lib/python3.10/dist-packages (from qiskit-ibm-runtime) (2.7.4)\n",
            "Requirement already satisfied: qiskit>=1.1.0 in /usr/local/lib/python3.10/dist-packages (from qiskit-ibm-runtime) (1.1.1)\n",
            "Collecting ibm-cloud-sdk-core<4.0.0,>=3.19.2 (from ibm-platform-services>=0.22.6->qiskit-ibm-runtime)\n",
            "  Downloading ibm-cloud-sdk-core-3.20.1.tar.gz (62 kB)\n",
            "\u001b[2K     \u001b[90m━━━━━━━━━━━━━━━━━━━━━━━━━━━━━━━━━━━━━━━━\u001b[0m \u001b[32m62.1/62.1 kB\u001b[0m \u001b[31m8.1 MB/s\u001b[0m eta \u001b[36m0:00:00\u001b[0m\n",
            "\u001b[?25h  Installing build dependencies ... \u001b[?25l\u001b[?25hdone\n",
            "  Getting requirements to build wheel ... \u001b[?25l\u001b[?25hdone\n",
            "  Preparing metadata (pyproject.toml) ... \u001b[?25l\u001b[?25hdone\n",
            "Requirement already satisfied: six>=1.5 in /usr/local/lib/python3.10/dist-packages (from python-dateutil>=2.8.0->qiskit-ibm-runtime) (1.16.0)\n",
            "Requirement already satisfied: rustworkx>=0.14.0 in /usr/local/lib/python3.10/dist-packages (from qiskit>=1.1.0->qiskit-ibm-runtime) (0.14.2)\n",
            "Requirement already satisfied: scipy>=1.5 in /usr/local/lib/python3.10/dist-packages (from qiskit>=1.1.0->qiskit-ibm-runtime) (1.11.4)\n",
            "Requirement already satisfied: sympy>=1.3 in /usr/local/lib/python3.10/dist-packages (from qiskit>=1.1.0->qiskit-ibm-runtime) (1.12.1)\n",
            "Requirement already satisfied: dill>=0.3 in /usr/local/lib/python3.10/dist-packages (from qiskit>=1.1.0->qiskit-ibm-runtime) (0.3.8)\n",
            "Requirement already satisfied: stevedore>=3.0.0 in /usr/local/lib/python3.10/dist-packages (from qiskit>=1.1.0->qiskit-ibm-runtime) (5.2.0)\n",
            "Requirement already satisfied: typing-extensions in /usr/local/lib/python3.10/dist-packages (from qiskit>=1.1.0->qiskit-ibm-runtime) (4.12.2)\n",
            "Requirement already satisfied: symengine>=0.11 in /usr/local/lib/python3.10/dist-packages (from qiskit>=1.1.0->qiskit-ibm-runtime) (0.11.0)\n",
            "Requirement already satisfied: charset-normalizer<4,>=2 in /usr/local/lib/python3.10/dist-packages (from requests>=2.19->qiskit-ibm-runtime) (3.3.2)\n",
            "Requirement already satisfied: idna<4,>=2.5 in /usr/local/lib/python3.10/dist-packages (from requests>=2.19->qiskit-ibm-runtime) (3.7)\n",
            "Requirement already satisfied: certifi>=2017.4.17 in /usr/local/lib/python3.10/dist-packages (from requests>=2.19->qiskit-ibm-runtime) (2024.6.2)\n",
            "Requirement already satisfied: cryptography>=1.3 in /usr/local/lib/python3.10/dist-packages (from requests-ntlm>=1.1.0->qiskit-ibm-runtime) (42.0.8)\n",
            "Collecting pyspnego>=0.4.0 (from requests-ntlm>=1.1.0->qiskit-ibm-runtime)\n",
            "  Downloading pyspnego-0.11.0-py3-none-any.whl (130 kB)\n",
            "\u001b[2K     \u001b[90m━━━━━━━━━━━━━━━━━━━━━━━━━━━━━━━━━━━━━━━━\u001b[0m \u001b[32m130.4/130.4 kB\u001b[0m \u001b[31m15.8 MB/s\u001b[0m eta \u001b[36m0:00:00\u001b[0m\n",
            "\u001b[?25hRequirement already satisfied: annotated-types>=0.4.0 in /usr/local/lib/python3.10/dist-packages (from pydantic->qiskit-ibm-runtime) (0.7.0)\n",
            "Requirement already satisfied: pydantic-core==2.18.4 in /usr/local/lib/python3.10/dist-packages (from pydantic->qiskit-ibm-runtime) (2.18.4)\n",
            "Requirement already satisfied: cffi>=1.12 in /usr/local/lib/python3.10/dist-packages (from cryptography>=1.3->requests-ntlm>=1.1.0->qiskit-ibm-runtime) (1.16.0)\n",
            "Collecting urllib3>=1.21.1 (from qiskit-ibm-runtime)\n",
            "  Downloading urllib3-2.2.2-py3-none-any.whl (121 kB)\n",
            "\u001b[2K     \u001b[90m━━━━━━━━━━━━━━━━━━━━━━━━━━━━━━━━━━━━━━━━\u001b[0m \u001b[32m121.4/121.4 kB\u001b[0m \u001b[31m14.4 MB/s\u001b[0m eta \u001b[36m0:00:00\u001b[0m\n",
            "\u001b[?25hCollecting PyJWT<3.0.0,>=2.8.0 (from ibm-cloud-sdk-core<4.0.0,>=3.19.2->ibm-platform-services>=0.22.6->qiskit-ibm-runtime)\n",
            "  Downloading PyJWT-2.8.0-py3-none-any.whl (22 kB)\n",
            "Requirement already satisfied: pbr!=2.1.0,>=2.0.0 in /usr/local/lib/python3.10/dist-packages (from stevedore>=3.0.0->qiskit>=1.1.0->qiskit-ibm-runtime) (6.0.0)\n",
            "Requirement already satisfied: mpmath<1.4.0,>=1.1.0 in /usr/local/lib/python3.10/dist-packages (from sympy>=1.3->qiskit>=1.1.0->qiskit-ibm-runtime) (1.3.0)\n",
            "Requirement already satisfied: pycparser in /usr/local/lib/python3.10/dist-packages (from cffi>=1.12->cryptography>=1.3->requests-ntlm>=1.1.0->qiskit-ibm-runtime) (2.22)\n",
            "Building wheels for collected packages: ibm-platform-services, ibm-cloud-sdk-core\n",
            "  Building wheel for ibm-platform-services (pyproject.toml) ... \u001b[?25l\u001b[?25hdone\n",
            "  Created wheel for ibm-platform-services: filename=ibm_platform_services-0.54.1-py3-none-any.whl size=340800 sha256=62854e264855c4673f9b157785a5b6945525e656d9b1b96ccdd08017807a34e6\n",
            "  Stored in directory: /root/.cache/pip/wheels/5e/62/98/600274a9a4f6a7ed92c29c9d8531d046bd43e49ebf096fbce9\n",
            "  Building wheel for ibm-cloud-sdk-core (pyproject.toml) ... \u001b[?25l\u001b[?25hdone\n",
            "  Created wheel for ibm-cloud-sdk-core: filename=ibm_cloud_sdk_core-3.20.1-py3-none-any.whl size=101529 sha256=8380fc7f26974d4113a6a99d28b2936057b52da0fba6d7d56e4d669b9741aa82\n",
            "  Stored in directory: /root/.cache/pip/wheels/b1/80/5b/12af32c69e0bde3322cb9c1809952e8ed9f2a2a39509ee5374\n",
            "Successfully built ibm-platform-services ibm-cloud-sdk-core\n",
            "Installing collected packages: urllib3, PyJWT, pyspnego, ibm-cloud-sdk-core, requests-ntlm, ibm-platform-services, qiskit-ibm-runtime\n",
            "  Attempting uninstall: urllib3\n",
            "    Found existing installation: urllib3 2.0.7\n",
            "    Uninstalling urllib3-2.0.7:\n",
            "      Successfully uninstalled urllib3-2.0.7\n",
            "  Attempting uninstall: PyJWT\n",
            "    Found existing installation: PyJWT 2.3.0\n",
            "    Uninstalling PyJWT-2.3.0:\n",
            "      Successfully uninstalled PyJWT-2.3.0\n",
            "Successfully installed PyJWT-2.8.0 ibm-cloud-sdk-core-3.20.1 ibm-platform-services-0.54.1 pyspnego-0.11.0 qiskit-ibm-runtime-0.24.1 requests-ntlm-1.3.0 urllib3-2.2.2\n",
            "Requirement already satisfied: numpy in /usr/local/lib/python3.10/dist-packages (1.25.2)\n",
            "Requirement already satisfied: matplotlib in /usr/local/lib/python3.10/dist-packages (3.7.1)\n",
            "Requirement already satisfied: contourpy>=1.0.1 in /usr/local/lib/python3.10/dist-packages (from matplotlib) (1.2.1)\n",
            "Requirement already satisfied: cycler>=0.10 in /usr/local/lib/python3.10/dist-packages (from matplotlib) (0.12.1)\n",
            "Requirement already satisfied: fonttools>=4.22.0 in /usr/local/lib/python3.10/dist-packages (from matplotlib) (4.53.0)\n",
            "Requirement already satisfied: kiwisolver>=1.0.1 in /usr/local/lib/python3.10/dist-packages (from matplotlib) (1.4.5)\n",
            "Requirement already satisfied: numpy>=1.20 in /usr/local/lib/python3.10/dist-packages (from matplotlib) (1.25.2)\n",
            "Requirement already satisfied: packaging>=20.0 in /usr/local/lib/python3.10/dist-packages (from matplotlib) (24.1)\n",
            "Requirement already satisfied: pillow>=6.2.0 in /usr/local/lib/python3.10/dist-packages (from matplotlib) (9.4.0)\n",
            "Requirement already satisfied: pyparsing>=2.3.1 in /usr/local/lib/python3.10/dist-packages (from matplotlib) (3.1.2)\n",
            "Requirement already satisfied: python-dateutil>=2.7 in /usr/local/lib/python3.10/dist-packages (from matplotlib) (2.8.2)\n",
            "Requirement already satisfied: six>=1.5 in /usr/local/lib/python3.10/dist-packages (from python-dateutil>=2.7->matplotlib) (1.16.0)\n",
            "Collecting pylatexenc\n",
            "  Downloading pylatexenc-2.10.tar.gz (162 kB)\n",
            "\u001b[2K     \u001b[90m━━━━━━━━━━━━━━━━━━━━━━━━━━━━━━━━━━━━━━━━\u001b[0m \u001b[32m162.6/162.6 kB\u001b[0m \u001b[31m3.1 MB/s\u001b[0m eta \u001b[36m0:00:00\u001b[0m\n",
            "\u001b[?25h  Preparing metadata (setup.py) ... \u001b[?25l\u001b[?25hdone\n",
            "Building wheels for collected packages: pylatexenc\n",
            "  Building wheel for pylatexenc (setup.py) ... \u001b[?25l\u001b[?25hdone\n",
            "  Created wheel for pylatexenc: filename=pylatexenc-2.10-py3-none-any.whl size=136816 sha256=b580779cede50a87b50ef8aea81dade60b584a1061b5bb4164fb4ef0072f071f\n",
            "  Stored in directory: /root/.cache/pip/wheels/d3/31/8b/e09b0386afd80cfc556c00408c9aeea5c35c4d484a9c762fd5\n",
            "Successfully built pylatexenc\n",
            "Installing collected packages: pylatexenc\n",
            "Successfully installed pylatexenc-2.10\n",
            "Collecting qiskit-aer\n",
            "  Downloading qiskit_aer-0.14.2-cp310-cp310-manylinux_2_17_x86_64.manylinux2014_x86_64.whl (12.4 MB)\n",
            "\u001b[2K     \u001b[90m━━━━━━━━━━━━━━━━━━━━━━━━━━━━━━━━━━━━━━━━\u001b[0m \u001b[32m12.4/12.4 MB\u001b[0m \u001b[31m70.5 MB/s\u001b[0m eta \u001b[36m0:00:00\u001b[0m\n",
            "\u001b[?25hRequirement already satisfied: qiskit>=0.45.2 in /usr/local/lib/python3.10/dist-packages (from qiskit-aer) (1.1.1)\n",
            "Requirement already satisfied: numpy>=1.16.3 in /usr/local/lib/python3.10/dist-packages (from qiskit-aer) (1.25.2)\n",
            "Requirement already satisfied: scipy>=1.0 in /usr/local/lib/python3.10/dist-packages (from qiskit-aer) (1.11.4)\n",
            "Requirement already satisfied: psutil>=5 in /usr/local/lib/python3.10/dist-packages (from qiskit-aer) (5.9.5)\n",
            "Requirement already satisfied: rustworkx>=0.14.0 in /usr/local/lib/python3.10/dist-packages (from qiskit>=0.45.2->qiskit-aer) (0.14.2)\n",
            "Requirement already satisfied: sympy>=1.3 in /usr/local/lib/python3.10/dist-packages (from qiskit>=0.45.2->qiskit-aer) (1.12.1)\n",
            "Requirement already satisfied: dill>=0.3 in /usr/local/lib/python3.10/dist-packages (from qiskit>=0.45.2->qiskit-aer) (0.3.8)\n",
            "Requirement already satisfied: python-dateutil>=2.8.0 in /usr/local/lib/python3.10/dist-packages (from qiskit>=0.45.2->qiskit-aer) (2.8.2)\n",
            "Requirement already satisfied: stevedore>=3.0.0 in /usr/local/lib/python3.10/dist-packages (from qiskit>=0.45.2->qiskit-aer) (5.2.0)\n",
            "Requirement already satisfied: typing-extensions in /usr/local/lib/python3.10/dist-packages (from qiskit>=0.45.2->qiskit-aer) (4.12.2)\n",
            "Requirement already satisfied: symengine>=0.11 in /usr/local/lib/python3.10/dist-packages (from qiskit>=0.45.2->qiskit-aer) (0.11.0)\n",
            "Requirement already satisfied: six>=1.5 in /usr/local/lib/python3.10/dist-packages (from python-dateutil>=2.8.0->qiskit>=0.45.2->qiskit-aer) (1.16.0)\n",
            "Requirement already satisfied: pbr!=2.1.0,>=2.0.0 in /usr/local/lib/python3.10/dist-packages (from stevedore>=3.0.0->qiskit>=0.45.2->qiskit-aer) (6.0.0)\n",
            "Requirement already satisfied: mpmath<1.4.0,>=1.1.0 in /usr/local/lib/python3.10/dist-packages (from sympy>=1.3->qiskit>=0.45.2->qiskit-aer) (1.3.0)\n",
            "Installing collected packages: qiskit-aer\n",
            "Successfully installed qiskit-aer-0.14.2\n"
          ]
        }
      ]
    },
    {
      "cell_type": "code",
      "execution_count": 2,
      "metadata": {
        "id": "30db5ZhSIuI8"
      },
      "outputs": [],
      "source": [
        "import qiskit\n",
        "import qiskit_ibm_runtime\n",
        "import numpy as np\n",
        "import matplotlib.pyplot as plt\n",
        "\n",
        "from qiskit import QuantumCircuit\n",
        "from qiskit.quantum_info import SparsePauliOp, DensityMatrix\n",
        "from qiskit.transpiler.preset_passmanagers import generate_preset_pass_manager\n",
        "from qiskit_ibm_runtime import QiskitRuntimeService\n",
        "from qiskit_ibm_runtime import EstimatorV2 as Estimator, Batch\n",
        "\n",
        "from qiskit_aer import AerSimulator\n",
        "from qiskit.circuit import ParameterVector\n",
        "\n",
        "from functools import cache"
      ]
    },
    {
      "cell_type": "markdown",
      "metadata": {
        "id": "RJTzHnJ7IuI_"
      },
      "source": [
        "# Utility Functions"
      ]
    },
    {
      "cell_type": "code",
      "execution_count": 3,
      "metadata": {
        "id": "ctAraW35IuI_"
      },
      "outputs": [],
      "source": [
        "def generate_pauli_string(location, pauli, num_qubits):\n",
        "    string = [\"I\"] * num_qubits\n",
        "    for i, loc in enumerate(location):\n",
        "        string[num_qubits-loc-1] = pauli[i]\n",
        "\n",
        "    result = ''.join(char for char in string)\n",
        "\n",
        "    return result"
      ]
    },
    {
      "cell_type": "code",
      "execution_count": 4,
      "metadata": {
        "id": "2NUNvCD6IuJA"
      },
      "outputs": [],
      "source": [
        "def Minv(N,X):\n",
        "    '''inverse shadow channel'''\n",
        "    return ((2**N+1.))*X - np.eye(2**N)\n",
        "\n",
        "def twototen(n):\n",
        "  sum = 0\n",
        "  for i in range(num_qubits):\n",
        "    sum = sum + (int(n[i]))*(2**i)\n",
        "  return sum"
      ]
    },
    {
      "cell_type": "code",
      "execution_count": 5,
      "metadata": {
        "id": "7A-PmwMqIuJA"
      },
      "outputs": [],
      "source": [
        "def derandomization(observables, shadow_num, accuracy, num_qubits):\n",
        "    p_sharp = np.empty((num_qubits, shadow_num),dtype=str)\n",
        "    nu =  1-np.exp(-0.5*accuracy**2)\n",
        "    pauli_list = [\"X\", \"Y\", \"Z\"]\n",
        "    f_list =  []\n",
        "\n",
        "    obs_strings = []\n",
        "\n",
        "\n",
        "    for obs in observables:\n",
        "        obs_strings.append(obs.to_list()[0][0])\n",
        "\n",
        "    def check_prod(obs_string, p_sharp, n,m):\n",
        "        for l in range(n):\n",
        "            if not (obs_string[num_qubits-1-l] == \"I\" or obs_string[num_qubits-1-l] == p_sharp[l][m]):\n",
        "                return 0\n",
        "        return 1\n",
        "\n",
        "    def w(o):\n",
        "        sum = 0\n",
        "        for c in o:\n",
        "               if c != \"I\":\n",
        "                    sum +=1\n",
        "        return sum\n",
        "    def conditional_exp_val(obs_strings, pauli,k,m):\n",
        "        sum = 0\n",
        "        for l, obs in enumerate(obs_strings):\n",
        "            expval = 0\n",
        "            expval += check_prod(obs, p_sharp, num_qubits, m)\n",
        "            expval = -0.5 * accuracy**2 * expval\n",
        "            if obs[num_qubits-1-k] == \"I\" or obs[num_qubits-1-k] == pauli:\n",
        "                prod_1 = 1-nu/(3**(w(obs[0:num_qubits-k-1])))*check_prod(obs, p_sharp, k-1, m)\n",
        "            else:\n",
        "                prod_1 = 1\n",
        "            prod_2  = (1-nu*3**(-w(obs)))**(shadow_num-m)\n",
        "        sum += np.exp(expval) * prod_1 * prod_2\n",
        "        return sum\n",
        "\n",
        "\n",
        "    for m in range(shadow_num):\n",
        "        for k in range(num_qubits):\n",
        "            for W in pauli_list:\n",
        "                f = conditional_exp_val(obs_strings, W, k, m)\n",
        "                f_list.append(f)\n",
        "\n",
        "            min_index = f_list.index(min(f_list))\n",
        "            if min_index == 0:\n",
        "                final_pauli = \"X\"\n",
        "            elif min_index == 1:\n",
        "                final_pauli = \"Y\"\n",
        "            else:\n",
        "                final_pauli = \"Z\"\n",
        "            p_sharp[k][m] = final_pauli\n",
        "\n",
        "\n",
        "    p_sharp = p_sharp.T\n",
        "\n",
        "    final_observables = []\n",
        "\n",
        "    for m in range(shadow_num):\n",
        "        string = ''.join(str(e) for e in p_sharp[m])\n",
        "        string = string[::-1]\n",
        "        observable = SparsePauliOp(string)\n",
        "        final_observables.append(observable)\n",
        "\n",
        "\n",
        "    return final_observables"
      ]
    },
    {
      "cell_type": "markdown",
      "metadata": {
        "id": "2s2KRfwNIuJC"
      },
      "source": [
        "# Backend Management"
      ]
    },
    {
      "cell_type": "code",
      "execution_count": 6,
      "metadata": {
        "id": "mCXGnbqFIuJC"
      },
      "outputs": [],
      "source": [
        "service = QiskitRuntimeService(\n",
        "    channel='ibm_quantum',\n",
        "    instance='ibm-q-skku/hackathon-2024/hackathon',\n",
        "    token='24ce54238a7bb29fe5e3eb450acefed2444169ce5e525f08f9515676b1cf257ea65b85895d4157a30359eb3d9a4aab9873008d7edf6ff177ed29015e625e4ad6'\n",
        ")\n",
        "real_backend = service.least_busy(operational=True, simulator=False)"
      ]
    },
    {
      "cell_type": "code",
      "execution_count": 7,
      "metadata": {
        "id": "cRFhe3MgIuJD"
      },
      "outputs": [],
      "source": [
        "from qiskit_aer import AerSimulator\n",
        "simulator =  AerSimulator()"
      ]
    },
    {
      "cell_type": "markdown",
      "metadata": {
        "id": "VNf6HRhqIuJE"
      },
      "source": [
        "# Obtain Snapshots"
      ]
    },
    {
      "cell_type": "code",
      "execution_count": 8,
      "metadata": {
        "id": "6CIXVLqmIuJE"
      },
      "outputs": [],
      "source": [
        "def snapshots(qc, size, backend = None, gate_set=\"clifford\", derand = False, accuracy=0.1,K=10):\n",
        "  # qc: Generate rho circuit\n",
        "  # size: shadow size\n",
        "  # backend: Backend\n",
        "  # gate_set: Clifford or Pauli gate set, derandomization requires Pauli\n",
        "  # accuracy: Accuracy parameter for derandomization\n",
        "  # k: Number of clusters\n",
        "  num_qubits = qc.num_qubits\n",
        "  gateset = []\n",
        "\n",
        "  if gate_set == \"clifford\":\n",
        "    gateset = [qiskit.quantum_info.random_clifford(num_qubits) for _ in range(size)]\n",
        "  elif gate_set == \"pauli\":\n",
        "    gateset = [SparsePauliOp(generate_pauli_string(range(num_qubits), [np.random.choice([\"X\",\"Y\",\"Z\"]) for _ in range(num_qubits)], num_qubits)) for _ in range(size)]\n",
        "    if derandomization:\n",
        "      gateset = derandomization(gateset,size, accuracy, num_qubits)\n",
        "\n",
        "  results = []\n",
        "  for idx, gate in enumerate(gateset):\n",
        "    if gate_set == \"clifford\":\n",
        "      qc_c  = qc.compose(gate.to_circuit())\n",
        "    elif gate_set == \"pauli\":\n",
        "      qc_c = qc\n",
        "      qc_c.pauli(gate.to_list()[0][0],qubits= range(num_qubits))\n",
        "    if backend is None:\n",
        "      counts = qiskit.quantum_info.Statevector(qc_c).sample_counts(1)\n",
        "    else:\n",
        "      sampler = Sampler(backend)\n",
        "      pm = generate_preset_pass_manager(backend=simulator, optimization_level=1)\n",
        "      isa_circuit = pm.run(qc_c)\n",
        "      job = sampler.run([(isa_circuit)],shots=1)\n",
        "      print(\"Job Run:\" + \"\" + str(idx))\n",
        "      result = job.result()[0]\n",
        "      counts = result.data.meas.get_counts()\n",
        "    results.append(counts)\n",
        "\n",
        "  shadows = []\n",
        "  for gate, res in zip(gateset, results):\n",
        "    mat = gate.adjoint().to_matrix()\n",
        "    for bit,count in res.items():\n",
        "        Ub = mat[:,int(bit,2)] # this is Udag|b>\n",
        "        shadows.append(Minv(num_qubits,np.outer(Ub,Ub.conj()))*count)\n",
        "\n",
        "  clustered_shadows = []\n",
        "\n",
        "\n",
        "  for k in range(K):\n",
        "    temp_matrix = shadows[(k-1)*int(size//K)]\n",
        "    for l in range((k-1)*int(size//K)+1, k*int(size//K),1):\n",
        "      temp_matrix += shadows[l]\n",
        "    temp_matrix = temp_matrix * 1/(int(size//K))\n",
        "    clustered_shadows.append(temp_matrix)\n",
        "\n",
        "\n",
        "\n",
        "  return clustered_shadows"
      ]
    },
    {
      "cell_type": "code",
      "execution_count": 9,
      "metadata": {
        "id": "DC12EmmRIuJF"
      },
      "outputs": [],
      "source": [
        "def observable_prediction(snapshots, observables):\n",
        "    estimates = []\n",
        "    for obs in observables:\n",
        "        temp = [np.trace(np.matmul(obs, snapshot)) for snapshot in snapshots]\n",
        "        estimates.append(np.median(temp))\n",
        "    return estimates\n"
      ]
    },
    {
      "cell_type": "code",
      "execution_count": 10,
      "metadata": {
        "id": "hprFCerVIuJG"
      },
      "outputs": [],
      "source": [
        "def classical_shadow_estimation(observables,qc, size, backend= None, gate_set = \"clifford\", derand = False, accuracy = 0.1, k =10):\n",
        "    clusters = snapshots(qc, size, backend, gate_set, derandomization,accuracy,k)\n",
        "    estimates = observable_prediction(clusters,observables)\n",
        "    return estimates"
      ]
    },
    {
      "cell_type": "markdown",
      "metadata": {
        "id": "UcbuKsaXIuJG"
      },
      "source": [
        "# Ideal output"
      ]
    },
    {
      "cell_type": "code",
      "execution_count": 11,
      "metadata": {
        "id": "StwlmEr0IuJG"
      },
      "outputs": [],
      "source": [
        "def ideal_output(observables, qc):\n",
        "    rho = DensityMatrix(qc)\n",
        "    estimates = []\n",
        "    for obs in observables:\n",
        "        estimates.append(np.trace(np.matmul(rho, obs)))\n",
        "    return estimates"
      ]
    },
    {
      "cell_type": "markdown",
      "metadata": {
        "id": "4tdy4kDHIuJH"
      },
      "source": [
        "# Circuit Sampling Tomography"
      ]
    },
    {
      "cell_type": "code",
      "execution_count": 12,
      "metadata": {
        "id": "mwNGaLoNIuJH"
      },
      "outputs": [],
      "source": [
        "def circuit_sampling(observables, qc, backend=None):\n",
        "    num_qubits = qc.num_qubits\n",
        "    if backend is None:\n",
        "        backend = AerSimulator()\n",
        "        isa_circuit = qc\n",
        "        isa_observables=  observables\n",
        "    else:\n",
        "        pm = generate_preset_pass_manager(backend, optimization_level=1)\n",
        "        isa_circuit = pm.run(qc)\n",
        "        isa_observables = [obs.apply_layout(isa_circuit) for obs in observables]\n",
        "\n",
        "    estimator = Estimator(backend)\n",
        "    estimates = []\n",
        "    for obs in observables:\n",
        "        pub = [(isa_circuit,obs)]\n",
        "        job = estimator.run(pub)\n",
        "        print(\"Job Done:\" + \" \" + str(obs))\n",
        "        result = job.result()[0]\n",
        "        estimates.append(result.data.evs)\n",
        "        job.status()\n",
        "\n",
        "    return estimates\n",
        "\n"
      ]
    },
    {
      "cell_type": "markdown",
      "metadata": {
        "id": "o7DsG0TZIuJH"
      },
      "source": [
        "# Define Rho Circuit (5Q)"
      ]
    },
    {
      "cell_type": "code",
      "execution_count": 13,
      "metadata": {
        "id": "xlKImx3uIuJI"
      },
      "outputs": [],
      "source": [
        "def rho_circuit(params, num_qubits):\n",
        "\n",
        "  ansatz = QuantumCircuit(num_qubits)\n",
        "  it = iter(params)\n",
        "  ansatz.h(range(0,5))\n",
        "\n",
        "  ansatz.barrier()\n",
        "\n",
        "  ansatz.cx(0, 1)\n",
        "  ansatz.cx(2, 3)\n",
        "  ansatz.rz(next(it), 1)\n",
        "  ansatz.rz(next(it), 3)\n",
        "  ansatz.cx(0, 1)\n",
        "  ansatz.cx(2, 3)\n",
        "  ansatz.cx(1, 2)\n",
        "  ansatz.cx(3, 4)\n",
        "  ansatz.rz(next(it), 2)\n",
        "  ansatz.rz(next(it), 4)\n",
        "  ansatz.cx(1, 2)\n",
        "  ansatz.cx(3, 4)\n",
        "\n",
        "  ansatz.barrier()\n",
        "\n",
        "  ansatz.rx(next(it), 0)\n",
        "  ansatz.rx(next(it), 1)\n",
        "  ansatz.rx(next(it), 2)\n",
        "  ansatz.rx(next(it), 3)\n",
        "  ansatz.rx(next(it), 4)\n",
        "\n",
        "  return ansatz"
      ]
    },
    {
      "cell_type": "code",
      "execution_count": 14,
      "metadata": {
        "id": "geeLI711IuJI"
      },
      "outputs": [],
      "source": [
        "np.random.seed(666)\n",
        "num_qubits = 5\n",
        "params = np.array([5.803e+00,  5.886e+00,  5.886e+00,  5.803e+00,  7.854e+00, 1.823e-07,  7.854e+00,  1.749e-06,  1.571e+00])"
      ]
    },
    {
      "cell_type": "code",
      "execution_count": 15,
      "metadata": {
        "id": "7-_g9_7VIuJI"
      },
      "outputs": [],
      "source": [
        "qc = rho_circuit(params, num_qubits)"
      ]
    },
    {
      "cell_type": "code",
      "execution_count": 16,
      "metadata": {
        "id": "0D-q3WlsIuJJ"
      },
      "outputs": [],
      "source": [
        "# Instantiate the system Hamiltonian\n",
        "interation = 1\n",
        "bias = -1\n",
        "\n",
        "coeff_list = [interation for _ in range(4)] + [bias for _ in range(5)]\n",
        "operator_list = [\"ZZIII\", \"IZZII\", \"IIZZI\", \"IIIZZ\", \"XIIII\", \"IXIII\", \"IIXII\", \"IIIXI\", \"IIIIX\"]\n",
        "hamiltonian_list = []\n",
        "for i in range(9):\n",
        "  hamiltonian_list.append((operator_list[i], coeff_list[i]))\n",
        "hamiltonian = SparsePauliOp.from_list(hamiltonian_list)"
      ]
    },
    {
      "cell_type": "code",
      "execution_count": 17,
      "metadata": {
        "colab": {
          "base_uri": "https://localhost:8080/"
        },
        "id": "SXH4-f_dIuJJ",
        "outputId": "617f1017-901a-45b3-fded-318e1339e177"
      },
      "outputs": [
        {
          "output_type": "execute_result",
          "data": {
            "text/plain": [
              "SparsePauliOp(['ZZIII', 'IZZII', 'IIZZI', 'IIIZZ', 'XIIII', 'IXIII', 'IIXII', 'IIIXI', 'IIIIX'],\n",
              "              coeffs=[ 1.+0.j,  1.+0.j,  1.+0.j,  1.+0.j, -1.+0.j, -1.+0.j, -1.+0.j, -1.+0.j,\n",
              " -1.+0.j])"
            ]
          },
          "metadata": {},
          "execution_count": 17
        }
      ],
      "source": [
        "hamiltonian"
      ]
    },
    {
      "cell_type": "code",
      "source": [
        "hamiltonian = hamiltonian.to_matrix()"
      ],
      "metadata": {
        "id": "-DjC74nYLKpO"
      },
      "execution_count": 18,
      "outputs": []
    },
    {
      "cell_type": "code",
      "execution_count": 19,
      "metadata": {
        "id": "U_tlM7USIuJK"
      },
      "outputs": [],
      "source": [
        "exact_values = ideal_output([hamiltonian],qc)"
      ]
    },
    {
      "cell_type": "code",
      "execution_count": 20,
      "metadata": {
        "colab": {
          "base_uri": "https://localhost:8080/"
        },
        "id": "Aj0FyTOVIuJL",
        "outputId": "8403736b-7f60-4d12-9a0a-6023a92031b7"
      },
      "outputs": [
        {
          "output_type": "execute_result",
          "data": {
            "text/plain": [
              "[(-5.897228393301033-6.245004513516506e-17j)]"
            ]
          },
          "metadata": {},
          "execution_count": 20
        }
      ],
      "source": [
        "exact_values"
      ]
    },
    {
      "cell_type": "code",
      "source": [
        "shots = 200\n",
        "\n",
        "estimates = np.real(classical_shadow_estimation([hamiltonian], qc, shots, None, gate_set=\"pauli\", derand=False, k=200))\n",
        "print(estimates)"
      ],
      "metadata": {
        "id": "I6H2lqqle1f0",
        "outputId": "ac50b1b1-c0a2-48fa-fe6f-f62aa52c7aab",
        "colab": {
          "base_uri": "https://localhost:8080/"
        }
      },
      "execution_count": 21,
      "outputs": [
        {
          "output_type": "stream",
          "name": "stdout",
          "text": [
            "[-66.]\n"
          ]
        }
      ]
    },
    {
      "cell_type": "code",
      "source": [
        "shots = 400\n",
        "\n",
        "estimates = np.real(classical_shadow_estimation([hamiltonian], qc, shots, None, gate_set=\"pauli\", derand=False, k=200))\n",
        "print(estimates)"
      ],
      "metadata": {
        "id": "PK-5_VhdOhj8",
        "outputId": "fe059d3d-e4e5-4186-c7ec-4e1b7cf0a352",
        "colab": {
          "base_uri": "https://localhost:8080/"
        }
      },
      "execution_count": 25,
      "outputs": [
        {
          "output_type": "stream",
          "name": "stdout",
          "text": [
            "[-66.]\n"
          ]
        }
      ]
    },
    {
      "cell_type": "code",
      "source": [
        "shots = 600\n",
        "\n",
        "estimates = np.real(classical_shadow_estimation([hamiltonian], qc, shots, None, gate_set=\"pauli\", derand=False, k=200))\n",
        "print(estimates)"
      ],
      "metadata": {
        "id": "3TmbEbdTMs_r",
        "outputId": "433ce104-273d-450d-d08f-ceb5b8b773c2",
        "colab": {
          "base_uri": "https://localhost:8080/"
        }
      },
      "execution_count": 22,
      "outputs": [
        {
          "output_type": "stream",
          "name": "stdout",
          "text": [
            "[-22.]\n"
          ]
        }
      ]
    },
    {
      "cell_type": "code",
      "source": [
        "shots = 800\n",
        "\n",
        "estimates = np.real(classical_shadow_estimation([hamiltonian], qc, shots, None, gate_set=\"pauli\", derand=False, k=200))\n",
        "print(estimates)"
      ],
      "metadata": {
        "id": "BHc5B8jxOh4U",
        "outputId": "04826111-1eb1-4bfd-ecd2-c3bf3a2dccf2",
        "colab": {
          "base_uri": "https://localhost:8080/"
        }
      },
      "execution_count": 26,
      "outputs": [
        {
          "output_type": "stream",
          "name": "stdout",
          "text": [
            "[-49.5]\n"
          ]
        }
      ]
    },
    {
      "cell_type": "code",
      "source": [
        "shots = 1000\n",
        "\n",
        "estimates = np.real(classical_shadow_estimation([hamiltonian], qc, shots, None, gate_set=\"pauli\", derand=False, k=200))\n",
        "print(estimates)"
      ],
      "metadata": {
        "id": "xCbSLr2OMs9X",
        "outputId": "9da4c6a6-cb2d-4ca3-c551-78f1e106f8ab",
        "colab": {
          "base_uri": "https://localhost:8080/"
        }
      },
      "execution_count": 23,
      "outputs": [
        {
          "output_type": "stream",
          "name": "stdout",
          "text": [
            "[-52.8]\n"
          ]
        }
      ]
    },
    {
      "cell_type": "code",
      "source": [
        "shots = 200\n",
        "\n",
        "estimates = np.real(classical_shadow_estimation([hamiltonian], qc, shots, None, gate_set=\"pauli\", derand=True, k=200))\n",
        "print(estimates)"
      ],
      "metadata": {
        "id": "KBbFcPkwMvuK",
        "outputId": "44534cbe-acb9-46ff-a425-a4a712b79e2f",
        "colab": {
          "base_uri": "https://localhost:8080/"
        }
      },
      "execution_count": 24,
      "outputs": [
        {
          "output_type": "stream",
          "name": "stdout",
          "text": [
            "[0.]\n"
          ]
        }
      ]
    },
    {
      "cell_type": "code",
      "source": [
        "shots = 400\n",
        "\n",
        "estimates = np.real(classical_shadow_estimation([hamiltonian], qc, shots, None, gate_set=\"pauli\", derand=True, k=200))\n",
        "print(estimates)"
      ],
      "metadata": {
        "id": "HKkC6UXjOlVL",
        "outputId": "ecf44477-3f84-4602-8340-9fc6508c9555",
        "colab": {
          "base_uri": "https://localhost:8080/"
        }
      },
      "execution_count": 27,
      "outputs": [
        {
          "output_type": "stream",
          "name": "stdout",
          "text": [
            "[-33.]\n"
          ]
        }
      ]
    },
    {
      "cell_type": "code",
      "source": [
        "shots = 600\n",
        "\n",
        "estimates = np.real(classical_shadow_estimation([hamiltonian], qc, shots, None, gate_set=\"pauli\", derand=True, k=200))\n",
        "print(estimates)"
      ],
      "metadata": {
        "id": "dUAsA6eTM2YO"
      },
      "execution_count": null,
      "outputs": []
    },
    {
      "cell_type": "code",
      "source": [
        "shots = 800\n",
        "\n",
        "estimates = np.real(classical_shadow_estimation([hamiltonian], qc, shots, None, gate_set=\"pauli\", derand=True, k=200))\n",
        "print(estimates)"
      ],
      "metadata": {
        "id": "8Rf4_6PoOlkM"
      },
      "execution_count": null,
      "outputs": []
    },
    {
      "cell_type": "code",
      "source": [
        "shots = 1000\n",
        "\n",
        "estimates = np.real(classical_shadow_estimation([hamiltonian], qc, shots, None, gate_set=\"pauli\", derand=True, k=200))\n",
        "print(estimates)"
      ],
      "metadata": {
        "id": "yfaY2hZiM2Te"
      },
      "execution_count": null,
      "outputs": []
    }
  ],
  "metadata": {
    "kernelspec": {
      "display_name": "Python 3",
      "language": "python",
      "name": "python3"
    },
    "language_info": {
      "codemirror_mode": {
        "name": "ipython",
        "version": 3
      },
      "file_extension": ".py",
      "mimetype": "text/x-python",
      "name": "python",
      "nbconvert_exporter": "python",
      "pygments_lexer": "ipython3",
      "version": "3.10.11"
    },
    "colab": {
      "provenance": [],
      "include_colab_link": true
    }
  },
  "nbformat": 4,
  "nbformat_minor": 0
}