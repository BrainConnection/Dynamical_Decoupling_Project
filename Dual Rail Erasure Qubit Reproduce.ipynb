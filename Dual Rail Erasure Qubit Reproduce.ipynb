{
  "nbformat": 4,
  "nbformat_minor": 0,
  "metadata": {
    "colab": {
      "provenance": [],
      "authorship_tag": "ABX9TyM10Kd9WAMmY80J4ZkorUFm",
      "include_colab_link": true
    },
    "kernelspec": {
      "name": "python3",
      "display_name": "Python 3"
    },
    "language_info": {
      "name": "python"
    }
  },
  "cells": [
    {
      "cell_type": "markdown",
      "metadata": {
        "id": "view-in-github",
        "colab_type": "text"
      },
      "source": [
        "<a href=\"https://colab.research.google.com/github/BrainConnection/Dynamical_Decoupling_Project/blob/main/Dual%20Rail%20Erasure%20Qubit%20Reproduce.ipynb\" target=\"_parent\"><img src=\"https://colab.research.google.com/assets/colab-badge.svg\" alt=\"Open In Colab\"/></a>"
      ]
    },
    {
      "cell_type": "markdown",
      "source": [
        "#Environment Setting\n",
        "\n"
      ],
      "metadata": {
        "id": "kYEX1dUQZyBB"
      }
    },
    {
      "cell_type": "code",
      "source": [
        "!pip install qutip\n",
        "!pip install numpy\n",
        "!pip install matplotlib\n",
        "!pip install scipy"
      ],
      "metadata": {
        "colab": {
          "base_uri": "https://localhost:8080/"
        },
        "id": "t5_2f5ckZxC6",
        "outputId": "c9f82853-db54-482f-b43b-62e5522f9457"
      },
      "execution_count": 1,
      "outputs": [
        {
          "output_type": "stream",
          "name": "stdout",
          "text": [
            "Collecting qutip\n",
            "  Downloading qutip-5.0.3.post1-cp310-cp310-manylinux_2_17_x86_64.manylinux2014_x86_64.whl.metadata (9.2 kB)\n",
            "Requirement already satisfied: numpy>=1.22 in /usr/local/lib/python3.10/dist-packages (from qutip) (1.26.4)\n",
            "Requirement already satisfied: scipy>=1.9 in /usr/local/lib/python3.10/dist-packages (from qutip) (1.13.1)\n",
            "Requirement already satisfied: packaging in /usr/local/lib/python3.10/dist-packages (from qutip) (24.1)\n",
            "Downloading qutip-5.0.3.post1-cp310-cp310-manylinux_2_17_x86_64.manylinux2014_x86_64.whl (28.0 MB)\n",
            "\u001b[2K   \u001b[90m━━━━━━━━━━━━━━━━━━━━━━━━━━━━━━━━━━━━━━━━\u001b[0m \u001b[32m28.0/28.0 MB\u001b[0m \u001b[31m30.1 MB/s\u001b[0m eta \u001b[36m0:00:00\u001b[0m\n",
            "\u001b[?25hInstalling collected packages: qutip\n",
            "Successfully installed qutip-5.0.3.post1\n",
            "Requirement already satisfied: numpy in /usr/local/lib/python3.10/dist-packages (1.26.4)\n",
            "Requirement already satisfied: matplotlib in /usr/local/lib/python3.10/dist-packages (3.7.1)\n",
            "Requirement already satisfied: contourpy>=1.0.1 in /usr/local/lib/python3.10/dist-packages (from matplotlib) (1.2.1)\n",
            "Requirement already satisfied: cycler>=0.10 in /usr/local/lib/python3.10/dist-packages (from matplotlib) (0.12.1)\n",
            "Requirement already satisfied: fonttools>=4.22.0 in /usr/local/lib/python3.10/dist-packages (from matplotlib) (4.53.1)\n",
            "Requirement already satisfied: kiwisolver>=1.0.1 in /usr/local/lib/python3.10/dist-packages (from matplotlib) (1.4.5)\n",
            "Requirement already satisfied: numpy>=1.20 in /usr/local/lib/python3.10/dist-packages (from matplotlib) (1.26.4)\n",
            "Requirement already satisfied: packaging>=20.0 in /usr/local/lib/python3.10/dist-packages (from matplotlib) (24.1)\n",
            "Requirement already satisfied: pillow>=6.2.0 in /usr/local/lib/python3.10/dist-packages (from matplotlib) (9.4.0)\n",
            "Requirement already satisfied: pyparsing>=2.3.1 in /usr/local/lib/python3.10/dist-packages (from matplotlib) (3.1.2)\n",
            "Requirement already satisfied: python-dateutil>=2.7 in /usr/local/lib/python3.10/dist-packages (from matplotlib) (2.8.2)\n",
            "Requirement already satisfied: six>=1.5 in /usr/local/lib/python3.10/dist-packages (from python-dateutil>=2.7->matplotlib) (1.16.0)\n",
            "Requirement already satisfied: scipy in /usr/local/lib/python3.10/dist-packages (1.13.1)\n",
            "Requirement already satisfied: numpy<2.3,>=1.22.4 in /usr/local/lib/python3.10/dist-packages (from scipy) (1.26.4)\n"
          ]
        }
      ]
    },
    {
      "cell_type": "code",
      "source": [
        "from functools import cache\n",
        "\n",
        "from qutip import *\n",
        "import numpy as np\n",
        "import matplotlib.pyplot as plt\n",
        "import scipy.interpolate\n",
        "from scipy.optimize import curve_fit\n",
        "from numpy.random import uniform"
      ],
      "metadata": {
        "id": "FLCdREEEZw9Y"
      },
      "execution_count": 50,
      "outputs": []
    },
    {
      "cell_type": "markdown",
      "metadata": {
        "id": "3XvN32zJtMr5"
      },
      "source": [
        "# CP CPMG UDD XY4 XY8 XY16 Sequence"
      ]
    },
    {
      "cell_type": "code",
      "execution_count": null,
      "metadata": {
        "id": "-JNoVG1ENBKG"
      },
      "outputs": [],
      "source": [
        "# Modulate each pulse timing (Equivalent Spacing)\n",
        "# pulse list\n",
        "# skip pi/2 pulse at T_srt, T_end\n",
        "# pi pulse at pulse time list\n",
        "\n",
        "def Pulse_Timing(T_srt, T_end, N):\n",
        "\n",
        "    T = T_end - T_srt\n",
        "    Seq_list = []\n",
        "    for i in range(N):\n",
        "      Seq_list.append(T_srt + (2*i+1)*T/(2*N))\n",
        "\n",
        "    Seq = np.array(Seq_list)\n",
        "\n",
        "    return Seq\n",
        "\n",
        "\n",
        "# Single Square Pulse Envolope\n",
        "\n",
        "def Single_pulse_env(t, B, T_cent):\n",
        "\n",
        "    return B * (t > T_cent-0.5*np.pi/B) * (t < T_cent+0.5*np.pi/B)\n",
        "\n",
        "\n",
        "# Single Square Pulse (lab frame)\n",
        "\n",
        "def Single_pulse(t, B, Omega_qd, T_cent, Phi_qd):\n",
        "\n",
        "    return Single_pulse_env(t, B, T_cent) * np.cos(Omega_qd * t + Phi_qd)\n",
        "\n",
        "\n",
        "# time-dependent coefficient for resonator drive\n",
        "\n",
        "def Hrd_rotating_frame(t, args):\n",
        "    \"\"\"\n",
        "    Envelope function for the readout drive\n",
        "    \"\"\"\n",
        "    A = args['A'] # amplitude of the readout drive\n",
        "    T_srt = args['T_srt_r'] # duration of the readout drive, in units of ns\n",
        "    T_end = args['T_end_r'] # duration of the readout drive, in units of ns\n",
        "\n",
        "    return A * (T_srt <= t) * (t <= T_end)\n",
        "\n",
        "\n",
        "def Hrd_lab_frame(t, args):\n",
        "    omega_rd = args['Omega_rd']\n",
        "    return Hrd_rotating_frame(t, args) * np.cos(omega_rd * t)"
      ]
    },
    {
      "cell_type": "markdown",
      "metadata": {
        "id": "8sMVG_TYZmJs"
      },
      "source": [
        "## CP CPMG UDD Sequence"
      ]
    },
    {
      "cell_type": "code",
      "execution_count": null,
      "metadata": {
        "id": "YfHDpl3MtMr6"
      },
      "outputs": [],
      "source": [
        "# CP (lab frame)\n",
        "\n",
        "# args\n",
        "\n",
        "# B (qubit drive amplitude)\n",
        "# Omega_qd (qubit drive frequency)\n",
        "# T_srt (pulse start time)\n",
        "# T_end (pulse end time)\n",
        "# N_seq (number of pulse)\n",
        "\n",
        "def CP_lab_frame(t, args):\n",
        "\n",
        "    Omega_qd = args['Omega_qd']\n",
        "    T_srt = args['T_srt_q']\n",
        "    T_end = args['T_end_q']\n",
        "    N = args['N_seq']\n",
        "    B = args['B']\n",
        "\n",
        "    # T_cent\n",
        "    Seq = Pulse_Timing(T_srt, T_end, N)\n",
        "    pulse = 0\n",
        "\n",
        "    for T_cent in Seq:\n",
        "      pulse = pulse + Single_pulse(t, B, Omega_qd, T_cent, 0)\n",
        "\n",
        "    return pulse"
      ]
    },
    {
      "cell_type": "code",
      "execution_count": null,
      "metadata": {
        "id": "CDpwWk99xbj6"
      },
      "outputs": [],
      "source": [
        "# CPMG (lab frame)\n",
        "\n",
        "# args\n",
        "\n",
        "# B (qubit drive amplitude)\n",
        "# Omega_qd (qubit drive frequency)\n",
        "# T_srt (pulse start time)\n",
        "# T_end (pulse end time)\n",
        "# N_seq (number of pulse)\n",
        "\n",
        "def CPMG_lab_frame(t, args):\n",
        "\n",
        "    Omega_qd = args['Omega_qd']\n",
        "    T_srt = args['T_srt_q']\n",
        "    T_end = args['T_end_q']\n",
        "    N = args['N_seq']\n",
        "    B = args['B']\n",
        "\n",
        "    # T_cent\n",
        "    Seq = Pulse_Timing(T_srt, T_end, N)\n",
        "    pulse = 0\n",
        "\n",
        "    for T_cent in Seq:\n",
        "      pulse = pulse + Single_pulse(t, B, Omega_qd, T_cent, 0.5*np.pi)\n",
        "\n",
        "    return pulse"
      ]
    },
    {
      "cell_type": "markdown",
      "metadata": {
        "id": "V7q8JddWaVvl"
      },
      "source": [
        "## XY4 XY8 XY16 Sequence"
      ]
    },
    {
      "cell_type": "code",
      "execution_count": null,
      "metadata": {
        "id": "76Dm81RNUchX"
      },
      "outputs": [],
      "source": [
        "# XY4 (lab frame)\n",
        "\n",
        "# args\n",
        "\n",
        "# B (qubit drive amplitude)\n",
        "# Omega_qd (qubit drive frequency)\n",
        "# T_srt (pulse start time)\n",
        "# T_end (pulse end time)\n",
        "\n",
        "def XY4_lab_frame(t, args):\n",
        "\n",
        "    Omega_qd = args['Omega_qd']\n",
        "    T_srt = args['T_srt_q']\n",
        "    T_end = args['T_end_q']\n",
        "    B = args['B']\n",
        "\n",
        "    # T_cent\n",
        "    Seq = Pulse_Timing(T_srt, T_end, 4)\n",
        "    pulse = 0\n",
        "\n",
        "    pulse = pulse + Single_pulse(t, B, Omega_qd, Seq[0], 0)\n",
        "    pulse = pulse + Single_pulse(t, B, Omega_qd, Seq[1], 0.5*np.pi)\n",
        "    pulse = pulse + Single_pulse(t, B, Omega_qd, Seq[2], 1.5*np.pi)\n",
        "    pulse = pulse + Single_pulse(t, B, Omega_qd, Seq[3], 1.0*np.pi)\n",
        "\n",
        "    return pulse"
      ]
    },
    {
      "cell_type": "code",
      "execution_count": null,
      "metadata": {
        "id": "4NT3NzfTXT1W"
      },
      "outputs": [],
      "source": [
        "# XY8 (lab frame)\n",
        "\n",
        "# args\n",
        "\n",
        "# B (qubit drive amplitude)\n",
        "# Omega_qd (qubit drive frequency)\n",
        "# T_srt (pulse start time)\n",
        "# T_end (pulse end time)\n",
        "\n",
        "def XY8_lab_frame(t, args):\n",
        "\n",
        "    Omega_qd = args['Omega_qd']\n",
        "    T_srt = args['T_srt_q']\n",
        "    T_end = args['T_end_q']\n",
        "    B = args['B']\n",
        "\n",
        "    # T_cent\n",
        "    Seq = Pulse_Timing(T_srt, T_end, 8)\n",
        "    pulse = 0\n",
        "\n",
        "    pulse = pulse + Single_pulse(t, B, Omega_qd, Seq[0], 0)\n",
        "    pulse = pulse + Single_pulse(t, B, Omega_qd, Seq[1], 0.5*np.pi)\n",
        "    pulse = pulse + Single_pulse(t, B, Omega_qd, Seq[2], 0)\n",
        "    pulse = pulse + Single_pulse(t, B, Omega_qd, Seq[3], 0.5*np.pi)\n",
        "\n",
        "    pulse = pulse + Single_pulse(t, B, Omega_qd, Seq[4], 1.5*np.pi)\n",
        "    pulse = pulse + Single_pulse(t, B, Omega_qd, Seq[5], 1.0*np.pi)\n",
        "    pulse = pulse + Single_pulse(t, B, Omega_qd, Seq[6], 1.5*np.pi)\n",
        "    pulse = pulse + Single_pulse(t, B, Omega_qd, Seq[7], 1.0*np.pi)\n",
        "\n",
        "    return pulse"
      ]
    },
    {
      "cell_type": "code",
      "execution_count": null,
      "metadata": {
        "id": "uy5YUf97X_vt"
      },
      "outputs": [],
      "source": [
        "# XY16 (lab frame)\n",
        "\n",
        "# args\n",
        "\n",
        "# B (qubit drive amplitude)\n",
        "# Omega_qd (qubit drive frequency)\n",
        "# T_srt (pulse start time)\n",
        "# T_end (pulse end time)\n",
        "\n",
        "def XY16_lab_frame(t, args):\n",
        "\n",
        "    Omega_qd = args['Omega_qd']\n",
        "    T_srt = args['T_srt_q']\n",
        "    T_end = args['T_end_q']\n",
        "    B = args['B']\n",
        "\n",
        "    # T_cent\n",
        "    Seq = Pulse_Timing(T_srt, T_end, 16)\n",
        "    pulse = 0\n",
        "\n",
        "    pulse = pulse + Single_pulse(t, B, Omega_qd, Seq[0], 0)\n",
        "    pulse = pulse + Single_pulse(t, B, Omega_qd, Seq[1], 0.5*np.pi)\n",
        "    pulse = pulse + Single_pulse(t, B, Omega_qd, Seq[2], 0)\n",
        "    pulse = pulse + Single_pulse(t, B, Omega_qd, Seq[3], 0.5*np.pi)\n",
        "\n",
        "    pulse = pulse + Single_pulse(t, B, Omega_qd, Seq[4], 0.5*np.pi)\n",
        "    pulse = pulse + Single_pulse(t, B, Omega_qd, Seq[5], 0)\n",
        "    pulse = pulse + Single_pulse(t, B, Omega_qd, Seq[6], 0.5*np.pi)\n",
        "    pulse = pulse + Single_pulse(t, B, Omega_qd, Seq[7], 0)\n",
        "\n",
        "    pulse = pulse + Single_pulse(t, B, Omega_qd, Seq[8], np.pi)\n",
        "    pulse = pulse + Single_pulse(t, B, Omega_qd, Seq[9], 1.5*np.pi)\n",
        "    pulse = pulse + Single_pulse(t, B, Omega_qd, Seq[10], np.pi)\n",
        "    pulse = pulse + Single_pulse(t, B, Omega_qd, Seq[11], 1.5*np.pi)\n",
        "\n",
        "    pulse = pulse + Single_pulse(t, B, Omega_qd, Seq[12], 1.5*np.pi)\n",
        "    pulse = pulse + Single_pulse(t, B, Omega_qd, Seq[13], np.pi)\n",
        "    pulse = pulse + Single_pulse(t, B, Omega_qd, Seq[14], 1.5*np.pi)\n",
        "    pulse = pulse + Single_pulse(t, B, Omega_qd, Seq[15], np.pi)\n",
        "\n",
        "    return pulse"
      ]
    },
    {
      "cell_type": "markdown",
      "source": [
        "# Noise"
      ],
      "metadata": {
        "id": "HMcPOS1LlSnW"
      }
    },
    {
      "cell_type": "markdown",
      "source": [
        "Pink Noise (1/f noise)\n",
        "\n",
        "$$ x(t)=A\\left [ \\sum_{k=1}^{\\infty}\\frac{\\chi_{k}}{\\sqrt{|f_{k}|}}\\sin(2\\pi f_{k}t+\\phi _{k}) \\right ] $$\n",
        "\n",
        "$$ \\chi_{k} \\sim \\chi(2), \\phi_{k} \\sim U(0,2\\pi) $$"
      ],
      "metadata": {
        "id": "g3l5AnkFC68y"
      }
    },
    {
      "cell_type": "code",
      "source": [
        "def Chi_Ensemble(mu, sigma, num_seq):\n",
        "\n",
        "  np.random.seed(0)\n",
        "  X = np.random.normal(mu, sigma, num_seq)\n",
        "\n",
        "  np.random.seed(1)\n",
        "  Y = np.random.normal(mu, sigma, num_seq)\n",
        "\n",
        "  chi = []\n",
        "\n",
        "  for i in range(num_seq):\n",
        "    chi.append(np.sqrt(X[i]**2+Y[i]**2))\n",
        "\n",
        "  return np.array(chi)"
      ],
      "metadata": {
        "id": "sT5e0O4_Cguc"
      },
      "execution_count": 62,
      "outputs": []
    },
    {
      "cell_type": "code",
      "source": [
        "@cache\n",
        "def Pink_Noise_Create_1(min_freq, freq_repeat, t_srt, t_end, t_repeat, t_shift, mu, sigma, A):\n",
        "\n",
        "  tlist = np.linspace(t_srt, t_end, t_repeat)\n",
        "\n",
        "  Chi_A = Chi_Ensemble(mu, sigma, freq_repeat)\n",
        "\n",
        "  np.random.seed(2)\n",
        "  U_A = uniform(0, 2*np.pi, freq_repeat)\n",
        "\n",
        "  f = A * (Chi_A[0]/np.sqrt((0+1)*min_freq)) * np.sin(2*np.pi*(0+1)*min_freq*(tlist+t_shift)+U_A[0])\n",
        "\n",
        "  for k in range(1, freq_repeat, 1):\n",
        "    f = f + A * (Chi_A[k]/np.sqrt((k+1)*min_freq)) * np.sin(2*np.pi*(k+1)*min_freq*(tlist+t_shift)+U_A[k])\n",
        "\n",
        "  return f"
      ],
      "metadata": {
        "id": "2z4vtHsENxRr"
      },
      "execution_count": 71,
      "outputs": []
    },
    {
      "cell_type": "code",
      "source": [
        "@cache\n",
        "def Pink_Noise_Create_2(min_freq, freq_repeat, t_srt, t_end, t_repeat, t_shift, mu, sigma, A):\n",
        "\n",
        "  tlist = np.linspace(t_srt, t_end, t_repeat)\n",
        "\n",
        "  Chi_A = Chi_Ensemble(mu, sigma, freq_repeat)\n",
        "\n",
        "  np.random.seed(2)\n",
        "  U_A = uniform(0, 2*np.pi, freq_repeat)\n",
        "\n",
        "  f = A * (Chi_A[0]/np.sqrt((0+1)*min_freq)) * np.sin(2*np.pi*(0+1)*min_freq*(tlist+t_shift)+U_A[0])\n",
        "\n",
        "  for k in range(1, freq_repeat, 1):\n",
        "    f = f + A * (Chi_A[k]/np.sqrt((k+1)*min_freq)) * np.sin(2*np.pi*(k+1)*min_freq*(tlist+t_shift)+U_A[k])\n",
        "\n",
        "  return f"
      ],
      "metadata": {
        "id": "Fkk9wJVvqqIo"
      },
      "execution_count": null,
      "outputs": []
    },
    {
      "cell_type": "code",
      "source": [
        "def Pink_Noise_1(args):\n",
        "\n",
        "  min_freq = args['min_freq']\n",
        "  freq_repeat = args['freq_repeat']\n",
        "  mu = args['mu']\n",
        "  sigma = args['sigma']\n",
        "  A = args['A_noise1']\n",
        "\n",
        "  t_srt = args['t_srt']\n",
        "  t_end = args['t_end']\n",
        "  t_repeat = args['t_repeat']\n",
        "  t_shift = args['t_shift']\n",
        "\n",
        "\n",
        "  return Pink_Noise_Create_1(min_freq, freq_repeat, t_srt, t_end, t_repeat, t_shift, mu, sigma, A)"
      ],
      "metadata": {
        "id": "ji4k2a5bcy9T"
      },
      "execution_count": 72,
      "outputs": []
    },
    {
      "cell_type": "code",
      "source": [
        "def Pink_Noise_2(args):\n",
        "\n",
        "  min_freq = args['min_freq']\n",
        "  freq_repeat = args['freq_repeat']\n",
        "  mu = args['mu']\n",
        "  sigma = args['sigma']\n",
        "  A = args['A_noise2']\n",
        "\n",
        "  t_srt = args['t_srt']\n",
        "  t_end = args['t_end']\n",
        "  t_repeat = args['t_repeat']\n",
        "  t_shift = args['t_shift']\n",
        "\n",
        "\n",
        "  return Pink_Noise_Create_2(min_freq, freq_repeat, t_srt, t_end, t_repeat, t_shift, mu, sigma, A)"
      ],
      "metadata": {
        "id": "R6jrr3yuqsd_"
      },
      "execution_count": null,
      "outputs": []
    },
    {
      "cell_type": "code",
      "source": [
        "def func(t, b, a):\n",
        "    return b + a * t"
      ],
      "metadata": {
        "id": "Zg86XvQHFyOo"
      },
      "execution_count": 73,
      "outputs": []
    },
    {
      "cell_type": "code",
      "source": [
        "min_freq = 0.0001\n",
        "freq_repeat = 10000\n",
        "t_shift = 0\n",
        "\n",
        "t_repeat = 200000\n",
        "t_srt = 0\n",
        "t_end = 100000\n",
        "\n",
        "mu = 0\n",
        "sigma = 1\n",
        "\n",
        "A = 1\n",
        "\n",
        "args = {'min_freq': min_freq, 'freq_repeat': freq_repeat, 't_srt': t_srt, 't_end': t_end, 't_repeat': t_repeat, 't_shift': t_shift, 'mu': mu, 'sigma': sigma, 'A_noise1': 2*np.pi*0.000001}"
      ],
      "metadata": {
        "id": "ArMDi9XdCgBO"
      },
      "execution_count": 84,
      "outputs": []
    },
    {
      "cell_type": "code",
      "source": [
        "tlist = np.linspace(t_srt, t_end, t_repeat)\n",
        "Pink_Noise_Sample = Pink_Noise_1(args)\n",
        "\n",
        "print(np.sqrt(np.mean(Pink_Noise_Sample**2)))\n",
        "\n",
        "fig, ax = plt.subplots(1, 1)\n",
        "ax.plot(tlist, Pink_Noise_Sample, label = 'Pink_Noise Distribution', color='pink')\n",
        "ax.legend(loc = 0)\n",
        "ax.set_xlabel('t(ns)')\n",
        "ax.set_ylabel('Pink_Noise Distribution')"
      ],
      "metadata": {
        "colab": {
          "base_uri": "https://localhost:8080/",
          "height": 486
        },
        "id": "PMOmUg_vDTNy",
        "outputId": "f7e8bea9-1edb-4fa3-f2ac-ac9080391bd6"
      },
      "execution_count": 85,
      "outputs": [
        {
          "output_type": "stream",
          "name": "stdout",
          "text": [
            "0.0021699250589032443\n"
          ]
        },
        {
          "output_type": "execute_result",
          "data": {
            "text/plain": [
              "Text(0, 0.5, 'Pink_Noise Distribution')"
            ]
          },
          "metadata": {},
          "execution_count": 85
        },
        {
          "output_type": "display_data",
          "data": {
            "text/plain": [
              "<Figure size 640x480 with 1 Axes>"
            ],
            "image/png": "[encoded data removed]"
          },
          "metadata": {}
        }
      ]
    },
    {
      "cell_type": "code",
      "source": [
        "x_fft = np.fft.fftshift(np.fft.fft(Pink_Noise_Sample))\n",
        "x_freq = np.fft.fftshift(np.fft.fftfreq(len(Pink_Noise_Sample), d=tlist[1]-tlist[0]))\n",
        "\n",
        "x_fft_plog = np.log10(x_fft[x_freq > 0])\n",
        "x_freq_plog = np.log10(x_freq[x_freq > 0])\n",
        "\n",
        "popt, pcov = curve_fit(func, x_freq_plog, x_fft_plog, p0 = [2, -0.5])\n",
        "print(popt)\n",
        "\n",
        "fig, ax = plt.subplots(1, 1)\n",
        "ax.plot(x_freq_plog, x_fft_plog, label = 'Data', color='pink')\n",
        "ax.plot(x_freq_plog, func(x_freq_plog, popt[0], popt[1]), marker='.', label = 'Fit', color='black')\n",
        "ax.legend()\n",
        "ax.set_xlabel('Freq(GHz) (log scale)')\n",
        "ax.set_ylabel('FT Absolute Value (log scale)')"
      ],
      "metadata": {
        "colab": {
          "base_uri": "https://localhost:8080/",
          "height": 486
        },
        "id": "VAUjL5Eb3Q82",
        "outputId": "16c4fafa-3244-443a-823f-030fb7d4d8e3"
      },
      "execution_count": 83,
      "outputs": [
        {
          "output_type": "stream",
          "name": "stdout",
          "text": [
            "[-1.82825512 -1.10747779]\n"
          ]
        },
        {
          "output_type": "execute_result",
          "data": {
            "text/plain": [
              "Text(0, 0.5, 'FT Absolute Value (log scale)')"
            ]
          },
          "metadata": {},
          "execution_count": 83
        },
        {
          "output_type": "display_data",
          "data": {
            "text/plain": [
              "<Figure size 640x480 with 1 Axes>"
            ],
            "image/png": "[encoded data removed]"
          },
          "metadata": {}
        }
      ]
    },
    {
      "cell_type": "markdown",
      "source": [
        "# CPMG"
      ],
      "metadata": {
        "id": "ilM9qPt41Ht-"
      }
    },
    {
      "cell_type": "code",
      "source": [
        "omega_q1 = 2 * np.pi * 5.1    # qubit frequency in units of GHz\n",
        "omega_q2 = 2 * np.pi * 5.1    # qubit frequency in units of GHz\n",
        "g12 = 2 * np.pi * 0.0901      # qubit coupling in units of GHz\n",
        "\n",
        "gamma1_1 = (1/36)\n",
        "gamma1_2 = (1/14)\n",
        "\n",
        "gammaphi_1 = (1/31)- 0.5*gamma1_1\n",
        "gammaphi_2 = (1/1.29) - 0.5*gamma1_2"
      ],
      "metadata": {
        "id": "CQX4E-Qh-32U"
      },
      "execution_count": 28,
      "outputs": []
    },
    {
      "cell_type": "code",
      "source": [
        "gammaphi_1"
      ],
      "metadata": {
        "id": "X5264E7z-5JO",
        "outputId": "2f214368-0265-4a0f-f1f5-2f3f07cd3c94",
        "colab": {
          "base_uri": "https://localhost:8080/"
        }
      },
      "execution_count": 29,
      "outputs": [
        {
          "output_type": "execute_result",
          "data": {
            "text/plain": [
              "0.018369175627240143"
            ]
          },
          "metadata": {},
          "execution_count": 29
        }
      ]
    },
    {
      "cell_type": "code",
      "source": [
        "gammaphi_2"
      ],
      "metadata": {
        "id": "LcCdG6Js-5E0",
        "outputId": "524e761c-e171-4ee8-efbf-f2fc85c63435",
        "colab": {
          "base_uri": "https://localhost:8080/"
        }
      },
      "execution_count": 30,
      "outputs": [
        {
          "output_type": "execute_result",
          "data": {
            "text/plain": [
              "0.7394795127353266"
            ]
          },
          "metadata": {},
          "execution_count": 30
        }
      ]
    },
    {
      "cell_type": "code",
      "source": [
        "state0L = (tensor(basis(2,0), basis(2,1)) - tensor(basis(2,1), basis(2,0)))/np.sqrt(2)\n",
        "state1L = (tensor(basis(2,0), basis(2,1)) + tensor(basis(2,1), basis(2,0)))/np.sqrt(2)\n",
        "\n",
        "state00 = tensor(basis(2,0), basis(2,0))\n",
        "state01 = tensor(basis(2,0), basis(2,1))\n",
        "state10 = tensor(basis(2,1), basis(2,0))\n",
        "state11 = tensor(basis(2,1), basis(2,1))\n",
        "\n",
        "sx = sigmax()\n",
        "sy = sigmay()\n",
        "sz = sigmaz()\n",
        "sp = basis(2,1)*basis(2,0).dag()\n",
        "sm = basis(2,0)*basis(2,1).dag()\n",
        "\n",
        "proj00 = state00*state00.dag()\n",
        "proj01 = state01*state01.dag()\n",
        "proj10 = state10*state10.dag()\n",
        "proj11 = state11*state11.dag()\n",
        "proj0L = state0L*state0L.dag()\n",
        "proj1L = state1L*state1L.dag()\n",
        "\n",
        "sx_1 = tensor(sx, qeye(2))\n",
        "sy_1 = tensor(sy, qeye(2))\n",
        "sz_1 = tensor(sz, qeye(2))\n",
        "\n",
        "sx_2 = tensor(qeye(2), sx)\n",
        "sy_2 = tensor(qeye(2), sy)\n",
        "sz_2 = tensor(qeye(2), sz)\n",
        "\n",
        "sx_dressed = state0L*state1L.dag() + state1L*state0L.dag()\n",
        "sy_dressed = (-1j)*state0L*state1L.dag() + (+1j)*state1L*state0L.dag()\n",
        "sz_dressed = state0L*state0L.dag() - state1L*state1L.dag()\n",
        "\n",
        "\n",
        "op_list = [sx_1, sy_1, sz_1, sx_2, sy_2, sz_2, sx_dressed, sy_dressed, sz_dressed, proj00, proj01, proj10, proj11, proj0L, proj1L]\n",
        "\n",
        "H0 = -0.5*omega_q1*tensor(sz, qeye(2)) -0.5*omega_q2*tensor(qeye(2), sz) + g12*(tensor(sp, sm) + tensor(sm, sp))\n",
        "H1 = sx_dressed"
      ],
      "metadata": {
        "id": "S7_hNEBl8uwk"
      },
      "execution_count": 31,
      "outputs": []
    },
    {
      "cell_type": "code",
      "source": [
        "H0.eigenstates()"
      ],
      "metadata": {
        "id": "ljdrs_Pcp9lB",
        "outputId": "4ffe6769-83d2-4674-ead8-a0c20f9730a5",
        "colab": {
          "base_uri": "https://localhost:8080/"
        }
      },
      "execution_count": 86,
      "outputs": [
        {
          "output_type": "execute_result",
          "data": {
            "text/plain": [
              "(array([-32.04424507,  -0.566115  ,   0.566115  ,  32.04424507]),\n",
              " array([Quantum object: dims=[[2, 2], [1, 1]], shape=(4, 1), type='ket', dtype=Dense\n",
              "        Qobj data =\n",
              "        [[1.]\n",
              "         [0.]\n",
              "         [0.]\n",
              "         [0.]]                                                                      ,\n",
              "        Quantum object: dims=[[2, 2], [1, 1]], shape=(4, 1), type='ket', dtype=Dense\n",
              "        Qobj data =\n",
              "        [[ 0.        ]\n",
              "         [-0.70710678]\n",
              "         [ 0.70710678]\n",
              "         [ 0.        ]]                                                             ,\n",
              "        Quantum object: dims=[[2, 2], [1, 1]], shape=(4, 1), type='ket', dtype=Dense\n",
              "        Qobj data =\n",
              "        [[0.        ]\n",
              "         [0.70710678]\n",
              "         [0.70710678]\n",
              "         [0.        ]]                                                              ,\n",
              "        Quantum object: dims=[[2, 2], [1, 1]], shape=(4, 1), type='ket', dtype=Dense\n",
              "        Qobj data =\n",
              "        [[0.]\n",
              "         [0.]\n",
              "         [0.]\n",
              "         [1.]]                                                                      ],\n",
              "       dtype=object))"
            ]
          },
          "metadata": {},
          "execution_count": 86
        }
      ]
    },
    {
      "cell_type": "code",
      "source": [
        "# Simulation T1 & T2 process\n",
        "\n",
        "plus_10 = []\n",
        "minus_10 = []\n",
        "\n",
        "for k in range(20):\n",
        "\n",
        "  min_freq = 0.0001\n",
        "  freq_repeat = 10000\n",
        "  t_shift = 10*k\n",
        "\n",
        "  t_repeat = 2000\n",
        "  t_srt = 0\n",
        "  t_end = 1000\n",
        "\n",
        "  mu = 0\n",
        "  sigma = 1\n",
        "\n",
        "  A1 = 2*np.pi*0.00001\n",
        "  A2 = 2*np.pi*0.0001\n",
        "\n",
        "  B = 2*np.pi*0.1\n",
        "  T_end_q = 10\n",
        "  N_seq = 1\n",
        "  omega_qd = 2*g12\n",
        "\n",
        "  tlist = np.linspace(0, 10, 1000)\n",
        "\n",
        "  result = mesolve(\n",
        "      [H0, [-0.5*tensor(sz, qeye(2)), Pink_Noise_1], [-0.5*tensor(qeye(2), sz), Pink_Noise_2], [H1, CP_lab_frame]],\n",
        "      state1L,\n",
        "      tlist,\n",
        "      args = {'min_freq': min_freq, 'freq_repeat': freq_repeat,\n",
        "              't_srt': t_srt, 't_end': t_end, 't_repeat': t_repeat, 't_shift': t_shift, 'mu': mu, 'sigma': sigma, 'A_noise1': A1, 'A_noise2': A2,\n",
        "              'B': B, 'T_srt_q': 0, 'T_end_q': T_end_q, 'N_seq': N_seq, 'Omega_qd': omega_qd}\n",
        "       {'A': 2*np.pi*0.1, 'Omega_rd': omega_rd, 'T_srt': 0, 'T_end': 100, 'N': 0, 'Env': 0, 'Func': 0, 'min_freq': 0.001, 'freq_repeat': 1000, 't_shift': 10*k, 'mu': 0, 'sigma': 1, 'A_noise': 2*np.pi*0.0001},\n",
        "      e_ops = op_list,\n",
        "      options = Options(nsteps = 10000000, atol = 1e-10, rtol = 1e-8)\n",
        "  )\n",
        "\n",
        "  plus = result.expect[3]\n",
        "  minus = result.expect[4]\n",
        "\n",
        "  plus_10.append(plus[-1])\n",
        "  minus_10.append(minus[-1])"
      ],
      "metadata": {
        "id": "7suqO6g91JKp"
      },
      "execution_count": null,
      "outputs": []
    },
    {
      "cell_type": "code",
      "source": [
        "# Plot Results\n",
        "\n",
        "plt.plot(tlist, result4.expect[6], label=\"Z Expectation Value of Ancilla\")\n",
        "\n",
        "plt.legend()\n",
        "plt.title('Probability')\n",
        "plt.xlabel('Time (ns)')\n",
        "plt.ylabel('Probability')"
      ],
      "metadata": {
        "colab": {
          "base_uri": "https://localhost:8080/",
          "height": 490
        },
        "id": "F9_r8VX61JGR",
        "outputId": "7471b82e-54c8-4ff3-93e6-65bd1bbd920e"
      },
      "execution_count": null,
      "outputs": [
        {
          "output_type": "execute_result",
          "data": {
            "text/plain": [
              "Text(0, 0.5, 'Probability')"
            ]
          },
          "metadata": {},
          "execution_count": 61
        },
        {
          "output_type": "display_data",
          "data": {
            "text/plain": [
              "<Figure size 640x480 with 1 Axes>"
            ],
            "image/png": "[encoded data removed]"
          },
          "metadata": {}
        }
      ]
    },
    {
      "cell_type": "code",
      "source": [
        "z_fft = np.fft.fftshift(np.fft.fft(result4.expect[6]))\n",
        "z_freq = np.fft.fftshift(np.fft.fftfreq(len(result4.expect[6]), d=tlist[1]-tlist[0]))\n",
        "\n",
        "plt.figure()\n",
        "plt.plot(z_freq, np.abs(z_fft))\n",
        "plt.xlim(1,4)\n",
        "plt.ylim(-1,10)\n",
        "plt.xlabel('Freq(GHz)')\n",
        "plt.ylabel('FFT of signal')"
      ],
      "metadata": {
        "colab": {
          "base_uri": "https://localhost:8080/",
          "height": 473
        },
        "id": "zvnvHp432dJ4",
        "outputId": "6c94475b-9b7e-45f8-9c7b-81545712d504"
      },
      "execution_count": null,
      "outputs": [
        {
          "output_type": "execute_result",
          "data": {
            "text/plain": [
              "Text(0, 0.5, 'FFT of signal')"
            ]
          },
          "metadata": {},
          "execution_count": 64
        },
        {
          "output_type": "display_data",
          "data": {
            "text/plain": [
              "<Figure size 640x480 with 1 Axes>"
            ],
            "image/png": "[encoded data removed]"
          },
          "metadata": {}
        }
      ]
    }
  ]
}