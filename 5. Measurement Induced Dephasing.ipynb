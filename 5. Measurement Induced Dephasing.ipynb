{
  "nbformat": 4,
  "nbformat_minor": 0,
  "metadata": {
    "colab": {
      "provenance": [],
      "machine_shape": "hm",
      "authorship_tag": "ABX9TyM6z4aC+nz7fQShWPQQS3oF",
      "include_colab_link": true
    },
    "kernelspec": {
      "name": "python3",
      "display_name": "Python 3"
    },
    "language_info": {
      "name": "python"
    }
  },
  "cells": [
    {
      "cell_type": "markdown",
      "metadata": {
        "id": "view-in-github",
        "colab_type": "text"
      },
      "source": [
        "<a href=\"https://colab.research.google.com/github/BrainConnection/Dynamical_Decoupling_Project/blob/main/5.%20Measurement%20Induced%20Dephasing.ipynb\" target=\"_parent\"><img src=\"https://colab.research.google.com/assets/colab-badge.svg\" alt=\"Open In Colab\"/></a>"
      ]
    },
    {
      "cell_type": "markdown",
      "source": [
        "#Environment Setting\n",
        "\n"
      ],
      "metadata": {
        "id": "kYEX1dUQZyBB"
      }
    },
    {
      "cell_type": "code",
      "source": [
        "!pip install qutip\n",
        "!pip install numpy\n",
        "!pip install matplotlib\n",
        "!pip install scipy"
      ],
      "metadata": {
        "colab": {
          "base_uri": "https://localhost:8080/"
        },
        "id": "t5_2f5ckZxC6",
        "outputId": "4224378a-b37f-46b0-df2a-faf76ccbd551"
      },
      "execution_count": 1,
      "outputs": [
        {
          "output_type": "stream",
          "name": "stdout",
          "text": [
            "Collecting qutip\n",
            "  Downloading qutip-5.0.3.post1-cp310-cp310-manylinux_2_17_x86_64.manylinux2014_x86_64.whl (28.0 MB)\n",
            "\u001b[2K     \u001b[90m━━━━━━━━━━━━━━━━━━━━━━━━━━━━━━━━━━━━━━━━\u001b[0m \u001b[32m28.0/28.0 MB\u001b[0m \u001b[31m70.2 MB/s\u001b[0m eta \u001b[36m0:00:00\u001b[0m\n",
            "\u001b[?25hRequirement already satisfied: numpy>=1.22 in /usr/local/lib/python3.10/dist-packages (from qutip) (1.25.2)\n",
            "Requirement already satisfied: scipy>=1.9 in /usr/local/lib/python3.10/dist-packages (from qutip) (1.11.4)\n",
            "Requirement already satisfied: packaging in /usr/local/lib/python3.10/dist-packages (from qutip) (24.1)\n",
            "Installing collected packages: qutip\n",
            "Successfully installed qutip-5.0.3.post1\n",
            "Requirement already satisfied: numpy in /usr/local/lib/python3.10/dist-packages (1.25.2)\n",
            "Requirement already satisfied: matplotlib in /usr/local/lib/python3.10/dist-packages (3.7.1)\n",
            "Requirement already satisfied: contourpy>=1.0.1 in /usr/local/lib/python3.10/dist-packages (from matplotlib) (1.2.1)\n",
            "Requirement already satisfied: cycler>=0.10 in /usr/local/lib/python3.10/dist-packages (from matplotlib) (0.12.1)\n",
            "Requirement already satisfied: fonttools>=4.22.0 in /usr/local/lib/python3.10/dist-packages (from matplotlib) (4.53.1)\n",
            "Requirement already satisfied: kiwisolver>=1.0.1 in /usr/local/lib/python3.10/dist-packages (from matplotlib) (1.4.5)\n",
            "Requirement already satisfied: numpy>=1.20 in /usr/local/lib/python3.10/dist-packages (from matplotlib) (1.25.2)\n",
            "Requirement already satisfied: packaging>=20.0 in /usr/local/lib/python3.10/dist-packages (from matplotlib) (24.1)\n",
            "Requirement already satisfied: pillow>=6.2.0 in /usr/local/lib/python3.10/dist-packages (from matplotlib) (9.4.0)\n",
            "Requirement already satisfied: pyparsing>=2.3.1 in /usr/local/lib/python3.10/dist-packages (from matplotlib) (3.1.2)\n",
            "Requirement already satisfied: python-dateutil>=2.7 in /usr/local/lib/python3.10/dist-packages (from matplotlib) (2.8.2)\n",
            "Requirement already satisfied: six>=1.5 in /usr/local/lib/python3.10/dist-packages (from python-dateutil>=2.7->matplotlib) (1.16.0)\n",
            "Requirement already satisfied: scipy in /usr/local/lib/python3.10/dist-packages (1.11.4)\n",
            "Requirement already satisfied: numpy<1.28.0,>=1.21.6 in /usr/local/lib/python3.10/dist-packages (from scipy) (1.25.2)\n"
          ]
        }
      ]
    },
    {
      "cell_type": "code",
      "source": [
        "from qutip import *\n",
        "import numpy as np\n",
        "import matplotlib.pyplot as plt\n",
        "import scipy.interpolate\n",
        "from scipy.optimize import curve_fit"
      ],
      "metadata": {
        "id": "FLCdREEEZw9Y"
      },
      "execution_count": 2,
      "outputs": []
    },
    {
      "cell_type": "markdown",
      "source": [
        "# shelter"
      ],
      "metadata": {
        "id": "ixKXOf4X4EQh"
      }
    },
    {
      "cell_type": "code",
      "source": [
        "corr1 = correlation_2op_1t(\n",
        "    [H0, [H1, Hrd_lab_frame], [H2, CP_lab_frame]],\n",
        "    psis_dressed,\n",
        "    tlist,\n",
        "    [np.sqrt(kappa_f) * tensor(qeye(2), qeye(N), b)],\n",
        "    readout_number_dressed,\n",
        "    readout_number_dressed,\n",
        "    args = {'A': A, 'T_srt_r': 0, 'T_end_r': 50000, 'Omega_rd': omega_rd, 'B': B, 'T_srt_q': 0, 'T_end_q': 400, 'N_seq': N_seq, 'Omega_qd': omega_qd}\n",
        ")"
      ],
      "metadata": {
        "id": "7s2lDbct4FoL"
      },
      "execution_count": null,
      "outputs": []
    },
    {
      "cell_type": "code",
      "source": [
        "corr2 = correlation_2op_1t(\n",
        "    [H0, [H1, Hrd_lab_frame], [H2, CP_lab_frame]],\n",
        "    psis_dressed,\n",
        "    tlist,\n",
        "    [np.sqrt(kappa_f) * tensor(qeye(2), qeye(N), b)],\n",
        "    sp_dressed,\n",
        "    sp_dressed.dag(),\n",
        "    args = {'A': A, 'T_srt_r': 0, 'T_end_r': 50000, 'Omega_rd': omega_rd, 'B': B, 'T_srt_q': 0, 'T_end_q': 400, 'N_seq': N_seq, 'Omega_qd': omega_qd}\n",
        ")"
      ],
      "metadata": {
        "id": "UpfHqsdQ4J4C"
      },
      "execution_count": null,
      "outputs": []
    },
    {
      "cell_type": "markdown",
      "metadata": {
        "id": "3XvN32zJtMr5"
      },
      "source": [
        "# CP CPMG UDD XY4 XY8 XY16 Sequence"
      ]
    },
    {
      "cell_type": "markdown",
      "source": [
        "![캡처4.png](data:image/png;base64,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)"
      ],
      "metadata": {
        "id": "SuWBqFt4Xu7U"
      }
    },
    {
      "cell_type": "code",
      "source": [
        "# Modulate each pulse timing (Equivalent Spacing)\n",
        "# pulse list\n",
        "# skip pi/2 pulse at T_srt, T_end\n",
        "# pi pulse at pulse time list\n",
        "\n",
        "def Pulse_Timing(T_srt, T_end, N):\n",
        "\n",
        "    T = T_end - T_srt\n",
        "    Seq_list = []\n",
        "    for i in range(N):\n",
        "      Seq_list.append(T_srt + (2*i+1)*T/(2*N))\n",
        "\n",
        "    Seq = np.array(Seq_list)\n",
        "\n",
        "    return Seq\n",
        "\n",
        "\n",
        "# Modulate each pulse timing (Sinusoidal Spacing)\n",
        "# pulse list\n",
        "# skip pi/2 pulse at T_srt, T_end\n",
        "# pi pulse at pulse time list\n",
        "\n",
        "def Pulse_Timing_UDD(T_srt, T_end, N):\n",
        "\n",
        "    T = T_end - T_srt\n",
        "    Seq_list = []\n",
        "\n",
        "    shift = 0\n",
        "    for i in range(N):\n",
        "      shift = shift + T * np.sin(np.pi/(2*(N+2))) * np.sin(np.pi*(i+1)/(N+2)) / np.cos(np.pi/(2*(N+2)))\n",
        "      Seq_list.append(T_srt + shift)\n",
        "\n",
        "    Seq = np.array(Seq_list)\n",
        "\n",
        "    return Seq"
      ],
      "metadata": {
        "id": "-JNoVG1ENBKG"
      },
      "execution_count": 3,
      "outputs": []
    },
    {
      "cell_type": "code",
      "execution_count": 4,
      "metadata": {
        "id": "0W5Mbue7tMr6"
      },
      "outputs": [],
      "source": [
        "# Single Square Pulse Envolope\n",
        "\n",
        "def Single_pulse_env(t, B, T_cent):\n",
        "\n",
        "    return B * (t > T_cent-0.5*np.pi/B) * (t < T_cent+0.5*np.pi/B)\n",
        "\n",
        "\n",
        "# Single Square Pulse (lab frame)\n",
        "\n",
        "def Single_pulse(t, B, Omega_qd, T_cent, Phi_qd):\n",
        "\n",
        "    return Single_pulse_env(t, B, T_cent) * np.cos(Omega_qd * t + Phi_qd)"
      ]
    },
    {
      "cell_type": "code",
      "execution_count": 5,
      "metadata": {
        "id": "vvsgJQyptMr6"
      },
      "outputs": [],
      "source": [
        "# time-dependent coefficient for resonator drive\n",
        "\n",
        "def Hrd_rotating_frame(t, args):\n",
        "    \"\"\"\n",
        "    Envelope function for the readout drive\n",
        "    \"\"\"\n",
        "    A = args['A'] # amplitude of the readout drive\n",
        "    T_srt = args['T_srt_r'] # duration of the readout drive, in units of ns\n",
        "    T_end = args['T_end_r'] # duration of the readout drive, in units of ns\n",
        "\n",
        "    return A * (T_srt <= t) * (t <= T_end)\n",
        "\n",
        "\n",
        "def Hrd_lab_frame(t, args):\n",
        "    omega_rd = args['Omega_rd']\n",
        "    return Hrd_rotating_frame(t, args) * np.cos(omega_rd * t)"
      ]
    },
    {
      "cell_type": "markdown",
      "source": [
        "## CP CPMG UDD Sequence"
      ],
      "metadata": {
        "id": "8sMVG_TYZmJs"
      }
    },
    {
      "cell_type": "code",
      "execution_count": 6,
      "metadata": {
        "id": "YfHDpl3MtMr6"
      },
      "outputs": [],
      "source": [
        "# CP (lab frame)\n",
        "\n",
        "# args\n",
        "\n",
        "# B (qubit drive amplitude)\n",
        "# Omega_qd (qubit drive frequency)\n",
        "# T_srt (pulse start time)\n",
        "# T_end (pulse end time)\n",
        "# N_seq (number of pulse)\n",
        "\n",
        "def CP_lab_frame(t, args):\n",
        "\n",
        "    Omega_qd = args['Omega_qd']\n",
        "    T_srt = args['T_srt_q']\n",
        "    T_end = args['T_end_q']\n",
        "    N = args['N_seq']\n",
        "    B = args['B']\n",
        "\n",
        "    # T_cent\n",
        "    Seq = Pulse_Timing(T_srt, T_end, N)\n",
        "    pulse = 0\n",
        "\n",
        "    for T_cent in Seq:\n",
        "      pulse = pulse + Single_pulse(t, B, Omega_qd, T_cent, 0)\n",
        "\n",
        "    return pulse"
      ]
    },
    {
      "cell_type": "code",
      "source": [
        "# CPMG (lab frame)\n",
        "\n",
        "# args\n",
        "\n",
        "# B (qubit drive amplitude)\n",
        "# Omega_qd (qubit drive frequency)\n",
        "# T_srt (pulse start time)\n",
        "# T_end (pulse end time)\n",
        "# N_seq (number of pulse)\n",
        "\n",
        "def CPMG_lab_frame(t, args):\n",
        "\n",
        "    Omega_qd = args['Omega_qd']\n",
        "    T_srt = args['T_srt_q']\n",
        "    T_end = args['T_end_q']\n",
        "    N = args['N_seq']\n",
        "    B = args['B']\n",
        "\n",
        "    # T_cent\n",
        "    Seq = Pulse_Timing(T_srt, T_end, N)\n",
        "    pulse = 0\n",
        "\n",
        "    for T_cent in Seq:\n",
        "      pulse = pulse + Single_pulse(t, B, Omega_qd, T_cent, 0.5*np.pi)\n",
        "\n",
        "    return pulse"
      ],
      "metadata": {
        "id": "CDpwWk99xbj6"
      },
      "execution_count": 7,
      "outputs": []
    },
    {
      "cell_type": "code",
      "source": [
        "# CPMG (lab frame)\n",
        "\n",
        "# args\n",
        "\n",
        "# B (qubit drive amplitude)\n",
        "# Omega_qd (qubit drive frequency)\n",
        "# T_srt (pulse start time)\n",
        "# T_end (pulse end time)\n",
        "# N_seq (number of pulse)\n",
        "\n",
        "def UDD_lab_frame(t, args):\n",
        "\n",
        "    Omega_qd = args['Omega_qd']\n",
        "    T_srt = args['T_srt_q']\n",
        "    T_end = args['T_end_q']\n",
        "    N = args['N_seq']\n",
        "    B = args['B']\n",
        "\n",
        "    # T_cent\n",
        "    Seq = Pulse_Timing_UDD(T_srt, T_end, N)\n",
        "    pulse = 0\n",
        "\n",
        "    for T_cent in Seq:\n",
        "      pulse = pulse + Single_pulse(t, B, Omega_qd, T_cent, 0.5*np.pi)\n",
        "\n",
        "    return pulse"
      ],
      "metadata": {
        "id": "IUFUrVhvZaQv"
      },
      "execution_count": 8,
      "outputs": []
    },
    {
      "cell_type": "markdown",
      "source": [
        "## XY4 XY8 XY16 Sequence"
      ],
      "metadata": {
        "id": "V7q8JddWaVvl"
      }
    },
    {
      "cell_type": "code",
      "source": [
        "# XY4 (lab frame)\n",
        "\n",
        "# args\n",
        "\n",
        "# B (qubit drive amplitude)\n",
        "# Omega_qd (qubit drive frequency)\n",
        "# T_srt (pulse start time)\n",
        "# T_end (pulse end time)\n",
        "\n",
        "def XY4_lab_frame(t, args):\n",
        "\n",
        "    Omega_qd = args['Omega_qd']\n",
        "    T_srt = args['T_srt_q']\n",
        "    T_end = args['T_end_q']\n",
        "    B = args['B']\n",
        "\n",
        "    # T_cent\n",
        "    Seq = Pulse_Timing(T_srt, T_end, 4)\n",
        "    pulse = 0\n",
        "\n",
        "    pulse = pulse + Single_pulse(t, B, Omega_qd, Seq[0], 0)\n",
        "    pulse = pulse + Single_pulse(t, B, Omega_qd, Seq[1], 0.5*np.pi)\n",
        "    pulse = pulse + Single_pulse(t, B, Omega_qd, Seq[2], 0)\n",
        "    pulse = pulse + Single_pulse(t, B, Omega_qd, Seq[3], 0.5*np.pi)\n",
        "\n",
        "    return pulse"
      ],
      "metadata": {
        "id": "76Dm81RNUchX"
      },
      "execution_count": 9,
      "outputs": []
    },
    {
      "cell_type": "code",
      "source": [
        "# XY8 (lab frame)\n",
        "\n",
        "# args\n",
        "\n",
        "# B (qubit drive amplitude)\n",
        "# Omega_qd (qubit drive frequency)\n",
        "# T_srt (pulse start time)\n",
        "# T_end (pulse end time)\n",
        "\n",
        "def XY8_lab_frame(t, args):\n",
        "\n",
        "    Omega_qd = args['Omega_qd']\n",
        "    T_srt = args['T_srt_q']\n",
        "    T_end = args['T_end_q']\n",
        "    B = args['B']\n",
        "\n",
        "    # T_cent\n",
        "    Seq = Pulse_Timing(T_srt, T_end, 8)\n",
        "    pulse = 0\n",
        "\n",
        "    pulse = pulse + Single_pulse(t, B, Omega_qd, Seq[0], 0)\n",
        "    pulse = pulse + Single_pulse(t, B, Omega_qd, Seq[1], 0.5*np.pi)\n",
        "    pulse = pulse + Single_pulse(t, B, Omega_qd, Seq[2], 0)\n",
        "    pulse = pulse + Single_pulse(t, B, Omega_qd, Seq[3], 0.5*np.pi)\n",
        "\n",
        "    pulse = pulse + Single_pulse(t, B, Omega_qd, Seq[4], 0.5*np.pi)\n",
        "    pulse = pulse + Single_pulse(t, B, Omega_qd, Seq[5], 0)\n",
        "    pulse = pulse + Single_pulse(t, B, Omega_qd, Seq[6], 0.5*np.pi)\n",
        "    pulse = pulse + Single_pulse(t, B, Omega_qd, Seq[7], 0)\n",
        "\n",
        "    return pulse"
      ],
      "metadata": {
        "id": "4NT3NzfTXT1W"
      },
      "execution_count": 10,
      "outputs": []
    },
    {
      "cell_type": "code",
      "source": [
        "# XY16 (lab frame)\n",
        "\n",
        "# args\n",
        "\n",
        "# B (qubit drive amplitude)\n",
        "# Omega_qd (qubit drive frequency)\n",
        "# T_srt (pulse start time)\n",
        "# T_end (pulse end time)\n",
        "\n",
        "def XY16_lab_frame(t, args):\n",
        "\n",
        "    Omega_qd = args['Omega_qd']\n",
        "    T_srt = args['T_srt_q']\n",
        "    T_end = args['T_end_q']\n",
        "    B = args['B']\n",
        "\n",
        "    # T_cent\n",
        "    Seq = Pulse_Timing(T_srt, T_end, 16)\n",
        "    pulse = 0\n",
        "\n",
        "    pulse = pulse + Single_pulse(t, B, Omega_qd, Seq[0], 0)\n",
        "    pulse = pulse + Single_pulse(t, B, Omega_qd, Seq[1], 0.5*np.pi)\n",
        "    pulse = pulse + Single_pulse(t, B, Omega_qd, Seq[2], 0)\n",
        "    pulse = pulse + Single_pulse(t, B, Omega_qd, Seq[3], 0.5*np.pi)\n",
        "\n",
        "    pulse = pulse + Single_pulse(t, B, Omega_qd, Seq[4], 0.5*np.pi)\n",
        "    pulse = pulse + Single_pulse(t, B, Omega_qd, Seq[5], 0)\n",
        "    pulse = pulse + Single_pulse(t, B, Omega_qd, Seq[6], 0.5*np.pi)\n",
        "    pulse = pulse + Single_pulse(t, B, Omega_qd, Seq[7], 0)\n",
        "\n",
        "    pulse = pulse + Single_pulse(t, B, Omega_qd, Seq[8], np.pi)\n",
        "    pulse = pulse + Single_pulse(t, B, Omega_qd, Seq[9], 1.5*np.pi)\n",
        "    pulse = pulse + Single_pulse(t, B, Omega_qd, Seq[10], np.pi)\n",
        "    pulse = pulse + Single_pulse(t, B, Omega_qd, Seq[11], 1.5*np.pi)\n",
        "\n",
        "    pulse = pulse + Single_pulse(t, B, Omega_qd, Seq[12], 1.5*np.pi)\n",
        "    pulse = pulse + Single_pulse(t, B, Omega_qd, Seq[13], np.pi)\n",
        "    pulse = pulse + Single_pulse(t, B, Omega_qd, Seq[14], 1.5*np.pi)\n",
        "    pulse = pulse + Single_pulse(t, B, Omega_qd, Seq[15], np.pi)\n",
        "\n",
        "    return pulse"
      ],
      "metadata": {
        "id": "uy5YUf97X_vt"
      },
      "execution_count": 11,
      "outputs": []
    },
    {
      "cell_type": "markdown",
      "source": [
        "## UDD4 UDD8 UDD16 Sequence"
      ],
      "metadata": {
        "id": "C4i_FRFMdaTg"
      }
    },
    {
      "cell_type": "code",
      "source": [
        "# UDD4 (lab frame)\n",
        "\n",
        "# args\n",
        "\n",
        "# B (qubit drive amplitude)\n",
        "# Omega_qd (qubit drive frequency)\n",
        "# T_srt (pulse start time)\n",
        "# T_end (pulse end time)\n",
        "\n",
        "def UDD4_lab_frame(t, args):\n",
        "\n",
        "    Omega_qd = args['Omega_qd']\n",
        "    T_srt = args['T_srt_q']\n",
        "    T_end = args['T_end_q']\n",
        "    B = args['B']\n",
        "\n",
        "    # T_cent\n",
        "    Seq = Pulse_Timing_UDD(T_srt, T_end, 4)\n",
        "    pulse = 0\n",
        "\n",
        "    pulse = pulse + Single_pulse(t, B, Omega_qd, Seq[0], 0)\n",
        "    pulse = pulse + Single_pulse(t, B, Omega_qd, Seq[1], 0.5*np.pi)\n",
        "    pulse = pulse + Single_pulse(t, B, Omega_qd, Seq[2], 0)\n",
        "    pulse = pulse + Single_pulse(t, B, Omega_qd, Seq[3], 0.5*np.pi)\n",
        "\n",
        "    return pulse"
      ],
      "metadata": {
        "id": "mjH4C_TWdaTv"
      },
      "execution_count": 12,
      "outputs": []
    },
    {
      "cell_type": "code",
      "source": [
        "# UDD8 (lab frame)\n",
        "\n",
        "# args\n",
        "\n",
        "# B (qubit drive amplitude)\n",
        "# Omega_qd (qubit drive frequency)\n",
        "# T_srt (pulse start time)\n",
        "# T_end (pulse end time)\n",
        "\n",
        "def UDD8_lab_frame(t, args):\n",
        "\n",
        "    Omega_qd = args['Omega_qd']\n",
        "    T_srt = args['T_srt_q']\n",
        "    T_end = args['T_end_q']\n",
        "    B = args['B']\n",
        "\n",
        "    # T_cent\n",
        "    Seq = Pulse_Timing_UDD(T_srt, T_end, 8)\n",
        "    pulse = 0\n",
        "\n",
        "    pulse = pulse + Single_pulse(t, B, Omega_qd, Seq[0], 0)\n",
        "    pulse = pulse + Single_pulse(t, B, Omega_qd, Seq[1], 0.5*np.pi)\n",
        "    pulse = pulse + Single_pulse(t, B, Omega_qd, Seq[2], 0)\n",
        "    pulse = pulse + Single_pulse(t, B, Omega_qd, Seq[3], 0.5*np.pi)\n",
        "\n",
        "    pulse = pulse + Single_pulse(t, B, Omega_qd, Seq[4], 0.5*np.pi)\n",
        "    pulse = pulse + Single_pulse(t, B, Omega_qd, Seq[5], 0)\n",
        "    pulse = pulse + Single_pulse(t, B, Omega_qd, Seq[6], 0.5*np.pi)\n",
        "    pulse = pulse + Single_pulse(t, B, Omega_qd, Seq[7], 0)\n",
        "\n",
        "    return pulse"
      ],
      "metadata": {
        "id": "FXEDLo3BdaTw"
      },
      "execution_count": 13,
      "outputs": []
    },
    {
      "cell_type": "code",
      "source": [
        "# UDD16 (lab frame)\n",
        "\n",
        "# args\n",
        "\n",
        "# B (qubit drive amplitude)\n",
        "# Omega_qd (qubit drive frequency)\n",
        "# T_srt (pulse start time)\n",
        "# T_end (pulse end time)\n",
        "\n",
        "def UDD16_lab_frame(t, args):\n",
        "\n",
        "    Omega_qd = args['Omega_qd']\n",
        "    T_srt = args['T_srt_q']\n",
        "    T_end = args['T_end_q']\n",
        "    B = args['B']\n",
        "\n",
        "    # T_cent\n",
        "    Seq = Pulse_Timing_UDD(T_srt, T_end, 16)\n",
        "    pulse = 0\n",
        "\n",
        "    pulse = pulse + Single_pulse(t, B, Omega_qd, Seq[0], 0)\n",
        "    pulse = pulse + Single_pulse(t, B, Omega_qd, Seq[1], 0.5*np.pi)\n",
        "    pulse = pulse + Single_pulse(t, B, Omega_qd, Seq[2], 0)\n",
        "    pulse = pulse + Single_pulse(t, B, Omega_qd, Seq[3], 0.5*np.pi)\n",
        "\n",
        "    pulse = pulse + Single_pulse(t, B, Omega_qd, Seq[4], 0.5*np.pi)\n",
        "    pulse = pulse + Single_pulse(t, B, Omega_qd, Seq[5], 0)\n",
        "    pulse = pulse + Single_pulse(t, B, Omega_qd, Seq[6], 0.5*np.pi)\n",
        "    pulse = pulse + Single_pulse(t, B, Omega_qd, Seq[7], 0)\n",
        "\n",
        "    pulse = pulse + Single_pulse(t, B, Omega_qd, Seq[8], np.pi)\n",
        "    pulse = pulse + Single_pulse(t, B, Omega_qd, Seq[9], 1.5*np.pi)\n",
        "    pulse = pulse + Single_pulse(t, B, Omega_qd, Seq[10], np.pi)\n",
        "    pulse = pulse + Single_pulse(t, B, Omega_qd, Seq[11], 1.5*np.pi)\n",
        "\n",
        "    pulse = pulse + Single_pulse(t, B, Omega_qd, Seq[12], 1.5*np.pi)\n",
        "    pulse = pulse + Single_pulse(t, B, Omega_qd, Seq[13], np.pi)\n",
        "    pulse = pulse + Single_pulse(t, B, Omega_qd, Seq[14], 1.5*np.pi)\n",
        "    pulse = pulse + Single_pulse(t, B, Omega_qd, Seq[15], np.pi)\n",
        "\n",
        "    return pulse"
      ],
      "metadata": {
        "id": "NqWGx6FIdaTw"
      },
      "execution_count": 14,
      "outputs": []
    },
    {
      "cell_type": "markdown",
      "source": [
        "# Effective Linewidth & Photon Number & Ring-up Oscillation Frequency Simulation"
      ],
      "metadata": {
        "id": "dCh5FcTa5eM2"
      }
    },
    {
      "cell_type": "code",
      "source": [
        "rkappa_simulation = []\n",
        "pkappa_simulation = []\n",
        "\n",
        "rphoton_simulation = []\n",
        "pphoton_simulation = []\n",
        "\n",
        "roscillation_simulation = []\n",
        "poscillation_simulation = []"
      ],
      "metadata": {
        "id": "Sdc2qQwq69UW"
      },
      "execution_count": 172,
      "outputs": []
    },
    {
      "cell_type": "markdown",
      "source": [
        "## $G=2\\pi 10MHz$"
      ],
      "metadata": {
        "id": "NIq7R9gr4WxL"
      }
    },
    {
      "cell_type": "code",
      "execution_count": 173,
      "metadata": {
        "id": "BWDorB2R8vEf"
      },
      "outputs": [],
      "source": [
        "# readout resonator & purcell filter resonator dimension\n",
        "\n",
        "N = 3\n",
        "\n",
        "\n",
        "# constant\n",
        "\n",
        "B = 0.01 * 2 * np.pi        # gate operation time : 50ns\n",
        "\n",
        "omega_r = 2 * np.pi * 7.0   # resonator frequency in units of GHz\n",
        "omega_f = 2 * np.pi * 7.0   # resonator frequency in units of GHz\n",
        "omega_q = 2 * np.pi * 6.0   # qubit frequency in units of GHz\n",
        "omega_rd = 2 * np.pi * 7.0  # qubit frequency in units of GHz\n",
        "g = 2 * np.pi * 0.1         # qubit-resonator coupling in units of GHz\n",
        "G = 2 * np.pi * 0.010        # qubit-resonator coupling in units of GHz\n",
        "\n",
        "\n",
        "detune = omega_q-omega_r\n",
        "chi = g*g/(detune)\n",
        "\n",
        "omega_rd = omega_r          # qubit frequency in units of GHz\n",
        "omega_qd = omega_q + chi\n",
        "\n",
        "# operator defined on bare basis\n",
        "\n",
        "sz = sigmaz()\n",
        "sx = sigmax()\n",
        "sy = sigmay()\n",
        "sp = basis(2,1)*basis(2,0).dag()\n",
        "sm = basis(2,0)*basis(2,1).dag()\n",
        "\n",
        "a = destroy(N)\n",
        "b = destroy(N)\n",
        "\n",
        "sx_bare                 = tensor(sx, qeye(N), qeye(N))\n",
        "sy_bare                 = tensor(sy, qeye(N), qeye(N))\n",
        "sz_bare                 = tensor(sz, qeye(N), qeye(N))\n",
        "sp_bare                 = tensor(sp, qeye(N), qeye(N))\n",
        "sm_bare                 = tensor(sm, qeye(N), qeye(N))\n",
        "\n",
        "readout_annihilate_bare = tensor(qeye(2), a, qeye(N))\n",
        "readout_create_bare     = tensor(qeye(2), a.dag(), qeye(N))\n",
        "readout_number_bare     = tensor(qeye(2), a.dag()*a, qeye(N))\n",
        "\n",
        "filter_annihilate_bare  = tensor(qeye(2), qeye(N), b)\n",
        "filter_create_bare      = tensor(qeye(2), qeye(N), b.dag())\n",
        "filter_number_bare      = tensor(qeye(2), qeye(N), b.dag()*b)\n",
        "\n",
        "psi0_bare               = tensor(basis(2,0), basis(N,0), basis(N,0))\n",
        "psis_bare               = tensor((basis(2,0) + basis(2,1))/np.sqrt(2), basis(N,0), basis(N,0))\n",
        "psi1_bare               = tensor(basis(2,1), basis(N,0), basis(N,0))\n",
        "\n",
        "\n",
        "H0 = -0.5*omega_q*sz_bare + omega_r*readout_number_bare + omega_f*filter_number_bare + g*(tensor(sp, a, qeye(N))+tensor(sm, a.dag(), qeye(N))) + G*(tensor(qeye(2), a, b.dag()) + tensor(qeye(2), a.dag(), b))\n",
        "H1 = tensor(qeye(2), a+a.dag(), qeye(N))\n",
        "H2 = sx_bare"
      ]
    },
    {
      "cell_type": "code",
      "source": [
        "sx_dressed = H0.eigenstates()[1][0]*H0.eigenstates()[1][1].dag() + H0.eigenstates()[1][2]*H0.eigenstates()[1][5].dag() \\\n",
        "+ H0.eigenstates()[1][3]*H0.eigenstates()[1][4].dag() + H0.eigenstates()[1][6]*H0.eigenstates()[1][10].dag() \\\n",
        "+ H0.eigenstates()[1][7]*H0.eigenstates()[1][9].dag() + H0.eigenstates()[1][8]*H0.eigenstates()[1][11].dag() \\\n",
        "+ H0.eigenstates()[1][12]*H0.eigenstates()[1][15].dag() + H0.eigenstates()[1][13]*H0.eigenstates()[1][14].dag() \\\n",
        "+ H0.eigenstates()[1][16]*H0.eigenstates()[1][17].dag() \\\n",
        "+ H0.eigenstates()[1][1]*H0.eigenstates()[1][0].dag() + H0.eigenstates()[1][5]*H0.eigenstates()[1][2].dag() \\\n",
        "+ H0.eigenstates()[1][4]*H0.eigenstates()[1][3].dag() + H0.eigenstates()[1][10]*H0.eigenstates()[1][6].dag() \\\n",
        "+ H0.eigenstates()[1][9]*H0.eigenstates()[1][7].dag() + H0.eigenstates()[1][11]*H0.eigenstates()[1][8].dag() \\\n",
        "+ H0.eigenstates()[1][15]*H0.eigenstates()[1][12].dag() + H0.eigenstates()[1][14]*H0.eigenstates()[1][13].dag() \\\n",
        "+ H0.eigenstates()[1][17]*H0.eigenstates()[1][16].dag()\n",
        "\n",
        "\n",
        "sy_dressed = + (-1j)*H0.eigenstates()[1][0]*H0.eigenstates()[1][1].dag() + (-1j)*H0.eigenstates()[1][2]*H0.eigenstates()[1][5].dag() \\\n",
        "+ (-1j)*H0.eigenstates()[1][3]*H0.eigenstates()[1][4].dag() + (-1j)*H0.eigenstates()[1][6]*H0.eigenstates()[1][10].dag() \\\n",
        "+ (-1j)*H0.eigenstates()[1][7]*H0.eigenstates()[1][9].dag() + (-1j)*H0.eigenstates()[1][8]*H0.eigenstates()[1][11].dag() \\\n",
        "+ (-1j)*H0.eigenstates()[1][12]*H0.eigenstates()[1][15].dag() + (-1j)*H0.eigenstates()[1][13]*H0.eigenstates()[1][14].dag() \\\n",
        "+ (-1j)*H0.eigenstates()[1][16]*H0.eigenstates()[1][17].dag() \\\n",
        "+ (+1j)*H0.eigenstates()[1][1]*H0.eigenstates()[1][0].dag() + (+1j)*H0.eigenstates()[1][5]*H0.eigenstates()[1][2].dag() \\\n",
        "+ (+1j)*H0.eigenstates()[1][4]*H0.eigenstates()[1][3].dag() + (+1j)*H0.eigenstates()[1][10]*H0.eigenstates()[1][6].dag() \\\n",
        "+ (+1j)*H0.eigenstates()[1][9]*H0.eigenstates()[1][7].dag() + (+1j)*H0.eigenstates()[1][11]*H0.eigenstates()[1][8].dag() \\\n",
        "+ (+1j)*H0.eigenstates()[1][15]*H0.eigenstates()[1][12].dag() + (+1j)*H0.eigenstates()[1][14]*H0.eigenstates()[1][13].dag() \\\n",
        "+ (+1j)*H0.eigenstates()[1][17]*H0.eigenstates()[1][16].dag()\n",
        "\n",
        "\n",
        "sz_dressed = H0.eigenstates()[1][0]*H0.eigenstates()[1][0].dag() + H0.eigenstates()[1][2]*H0.eigenstates()[1][2].dag() \\\n",
        "+ H0.eigenstates()[1][3]*H0.eigenstates()[1][3].dag() + H0.eigenstates()[1][6]*H0.eigenstates()[1][6].dag() \\\n",
        "+ H0.eigenstates()[1][7]*H0.eigenstates()[1][7].dag() + H0.eigenstates()[1][8]*H0.eigenstates()[1][8].dag() \\\n",
        "+ H0.eigenstates()[1][12]*H0.eigenstates()[1][12].dag() + H0.eigenstates()[1][13]*H0.eigenstates()[1][13].dag() \\\n",
        "+ H0.eigenstates()[1][16]*H0.eigenstates()[1][16].dag() \\\n",
        "- H0.eigenstates()[1][1]*H0.eigenstates()[1][1].dag() - H0.eigenstates()[1][4]*H0.eigenstates()[1][4].dag() \\\n",
        "- H0.eigenstates()[1][5]*H0.eigenstates()[1][5].dag() - H0.eigenstates()[1][9]*H0.eigenstates()[1][9].dag() \\\n",
        "- H0.eigenstates()[1][10]*H0.eigenstates()[1][10].dag() - H0.eigenstates()[1][11]*H0.eigenstates()[1][11].dag() \\\n",
        "- H0.eigenstates()[1][14]*H0.eigenstates()[1][14].dag() - H0.eigenstates()[1][15]*H0.eigenstates()[1][15].dag() \\\n",
        "- H0.eigenstates()[1][17]*H0.eigenstates()[1][17].dag()\n",
        "\n",
        "\n",
        "sp_dressed = H0.eigenstates()[1][1]*H0.eigenstates()[1][0].dag() + H0.eigenstates()[1][5]*H0.eigenstates()[1][2].dag() \\\n",
        "+ H0.eigenstates()[1][4]*H0.eigenstates()[1][3].dag() + H0.eigenstates()[1][10]*H0.eigenstates()[1][6].dag() \\\n",
        "+ H0.eigenstates()[1][9]*H0.eigenstates()[1][7].dag() + H0.eigenstates()[1][11]*H0.eigenstates()[1][8].dag() \\\n",
        "+ H0.eigenstates()[1][15]*H0.eigenstates()[1][12].dag() + H0.eigenstates()[1][14]*H0.eigenstates()[1][13].dag() \\\n",
        "+ H0.eigenstates()[1][17]*H0.eigenstates()[1][16].dag()\n",
        "\n",
        "\n",
        "readout_number_dressed = H0.eigenstates()[1][3]*H0.eigenstates()[1][3].dag() + H0.eigenstates()[1][4]*H0.eigenstates()[1][4].dag() \\\n",
        "+ H0.eigenstates()[1][7]*H0.eigenstates()[1][7].dag() + H0.eigenstates()[1][9]*H0.eigenstates()[1][9].dag() \\\n",
        "+ H0.eigenstates()[1][12]*H0.eigenstates()[1][12].dag() + H0.eigenstates()[1][14]*H0.eigenstates()[1][14].dag() \\\n",
        "+ 2*H0.eigenstates()[1][8]*H0.eigenstates()[1][8].dag() + 2*H0.eigenstates()[1][11]*H0.eigenstates()[1][11].dag() \\\n",
        "+ 2*H0.eigenstates()[1][13]*H0.eigenstates()[1][13].dag() + 2*H0.eigenstates()[1][15]*H0.eigenstates()[1][15].dag() \\\n",
        "+ 2*H0.eigenstates()[1][16]*H0.eigenstates()[1][16].dag() + 2*H0.eigenstates()[1][17]*H0.eigenstates()[1][17].dag() \\\n",
        "\n",
        "\n",
        "filter_number_dressed = H0.eigenstates()[1][2]*H0.eigenstates()[1][2].dag() + H0.eigenstates()[1][5]*H0.eigenstates()[1][5].dag() \\\n",
        "+ H0.eigenstates()[1][7]*H0.eigenstates()[1][7].dag() + H0.eigenstates()[1][9]*H0.eigenstates()[1][9].dag() \\\n",
        "+ H0.eigenstates()[1][13]*H0.eigenstates()[1][13].dag() + H0.eigenstates()[1][15]*H0.eigenstates()[1][15].dag() \\\n",
        "+ 2*H0.eigenstates()[1][6]*H0.eigenstates()[1][6].dag() + 2*H0.eigenstates()[1][10]*H0.eigenstates()[1][10].dag() \\\n",
        "+ 2*H0.eigenstates()[1][12]*H0.eigenstates()[1][12].dag() + 2*H0.eigenstates()[1][14]*H0.eigenstates()[1][14].dag() \\\n",
        "+ 2*H0.eigenstates()[1][16]*H0.eigenstates()[1][16].dag() + 2*H0.eigenstates()[1][17]*H0.eigenstates()[1][17].dag()"
      ],
      "metadata": {
        "id": "z0uVP15J8vEf"
      },
      "execution_count": 174,
      "outputs": []
    },
    {
      "cell_type": "code",
      "source": [
        "psi0_dressed             = H0.eigenstates()[1][0]\n",
        "psi1_dressed             = H0.eigenstates()[1][1]\n",
        "psis_dressed             = (psi0_dressed + psi1_dressed)/np.sqrt(2)\n",
        "\n",
        "op_list = [sx_dressed, sy_dressed, sz_dressed, sp_dressed, readout_number_dressed, filter_number_dressed]"
      ],
      "metadata": {
        "id": "OeKwlU0A8vEg"
      },
      "execution_count": 175,
      "outputs": []
    },
    {
      "cell_type": "markdown",
      "source": [
        "### $ \\kappa = 2\\pi 5MHz$"
      ],
      "metadata": {
        "id": "qgAX3_Ei8vEU"
      }
    },
    {
      "cell_type": "code",
      "source": [
        "# Simulation\n",
        "\n",
        "N_seq = 0\n",
        "A = 0.005 * 2 * np.pi\n",
        "omega_qd = 37.6381\n",
        "kappa_f = 2 * np.pi * 0.05  # external coupling rate of resonator in units of GHz\n",
        "\n",
        "tlist = np.linspace(0, 1000, 10000)\n",
        "\n",
        "result = mesolve(\n",
        "    [H0, [H1, Hrd_lab_frame], [H2, CP_lab_frame]],\n",
        "    psis_dressed,\n",
        "    tlist,\n",
        "    c_ops = [np.sqrt(kappa_f) * tensor(qeye(2), qeye(N), b)],\n",
        "    args = {'A': A, 'T_srt_r': 0, 'T_end_r': 50000, 'Omega_rd': omega_rd, 'B': B, 'T_srt_q': 0, 'T_end_q': 400, 'N_seq': N_seq, 'Omega_qd': omega_qd},\n",
        "    e_ops = op_list,\n",
        ")"
      ],
      "metadata": {
        "id": "oHoBLiXE8vEg"
      },
      "execution_count": null,
      "outputs": []
    },
    {
      "cell_type": "code",
      "source": [
        "# Plot Results\n",
        "\n",
        "plt.plot(tlist, result.expect[4])\n",
        "\n",
        "plt.title('Readout Resonator Photon Number')\n",
        "plt.xlabel('Evolution Time (ns)')\n",
        "plt.ylabel('Readout Resonator Photon Number')"
      ],
      "metadata": {
        "id": "Zu2uPcYu8vEg"
      },
      "execution_count": null,
      "outputs": []
    },
    {
      "cell_type": "code",
      "source": [
        "# Plot Results\n",
        "\n",
        "plt.plot(tlist, np.sqrt(result.expect[6] - result.expect[4]*result.expect[4]), label=\"photon number fluctuation simulation\")\n",
        "plt.plot(tlist, np.sqrt(result.expect[4]), label=\"photon number fluctuation calculated\")\n",
        "\n",
        "plt.legend()\n",
        "plt.title('Readout Resonator Photon Number Fluctuation')\n",
        "plt.xlabel('Evolution Time (ns)')\n",
        "plt.ylabel('Readout Resonator Photon Number Fluctuation')"
      ],
      "metadata": {
        "id": "J0tPjo_XOmdB"
      },
      "execution_count": null,
      "outputs": []
    },
    {
      "cell_type": "code",
      "source": [
        "# Plot Results\n",
        "\n",
        "plt.plot(tlist, result.expect[5])\n",
        "\n",
        "plt.title('Filter Resonator Photon Number')\n",
        "plt.xlabel('Evolution Time (ns)')\n",
        "plt.ylabel('Filter Resonator Photon Number')"
      ],
      "metadata": {
        "id": "Fy76Ey_RAvNG"
      },
      "execution_count": null,
      "outputs": []
    },
    {
      "cell_type": "code",
      "source": [
        "# Plot Results\n",
        "\n",
        "plt.plot(tlist, np.sqrt(result.expect[7] - result.expect[5]*result.expect[5]), label=\"photon number fluctuation simulation\")\n",
        "plt.plot(tlist, np.sqrt(result.expect[5]), label=\"photon number fluctuation calculated\")\n",
        "\n",
        "plt.legend()\n",
        "plt.title('Filter Resonator Photon Number Fluctuation')\n",
        "plt.xlabel('Evolution Time (ns)')\n",
        "plt.ylabel('Filter Resonator Photon Number Fluctuation')"
      ],
      "metadata": {
        "id": "-e93S6oAO45E"
      },
      "execution_count": null,
      "outputs": []
    },
    {
      "cell_type": "code",
      "source": [
        "# Fitting function : exponential function\n",
        "\n",
        "def func(t, a, b, kappa):\n",
        "  return a*(1 - 2*np.exp(-kappa*t/2)*np.cos(2*np.pi*b*t) + np.exp(-kappa*t))\n",
        "\n",
        "\n",
        "popt, pcov = curve_fit(func, tlist, result.expect[4], p0 = [0.02, 0.01, 0.012])\n",
        "\n",
        "popt"
      ],
      "metadata": {
        "id": "dVDaSDq58vEg"
      },
      "execution_count": null,
      "outputs": []
    },
    {
      "cell_type": "code",
      "source": [
        "rkappa_simulation.append(popt[2])\n",
        "rphoton_simulation.append(popt[0])\n",
        "roscillation_simulation.append(np.abs(popt[1]))"
      ],
      "metadata": {
        "id": "MkaDiSv58vEg"
      },
      "execution_count": null,
      "outputs": []
    },
    {
      "cell_type": "code",
      "source": [
        "# Fitting function : exponential function\n",
        "\n",
        "def func(t, a, b, kappa):\n",
        "  return a*(1 - 2*np.exp(-kappa*t/2)*np.cos(2*np.pi*b*t) + np.exp(-kappa*t))\n",
        "\n",
        "\n",
        "popt, pcov = curve_fit(func, tlist, result.expect[5], p0 = [0.02, 0.0128, 0.012])\n",
        "\n",
        "popt"
      ],
      "metadata": {
        "id": "kmh0sWRkMriu"
      },
      "execution_count": null,
      "outputs": []
    },
    {
      "cell_type": "code",
      "source": [
        "pkappa_simulation.append(popt[2])\n",
        "pphoton_simulation.append(popt[0])\n",
        "poscillation_simulation.append(np.abs(popt[1]))"
      ],
      "metadata": {
        "id": "2wTgrMvJMrf-"
      },
      "execution_count": null,
      "outputs": []
    },
    {
      "cell_type": "markdown",
      "source": [
        "### $ \\kappa = 2\\pi 10MHz$"
      ],
      "metadata": {
        "id": "Htkj86mm4sob"
      }
    },
    {
      "cell_type": "code",
      "source": [
        "# Simulation\n",
        "\n",
        "N_seq = 0\n",
        "A = 0.005 * 2 * np.pi\n",
        "omega_qd = 37.6381\n",
        "kappa_f = 2 * np.pi * 0.10  # external coupling rate of resonator in units of GHz\n",
        "\n",
        "tlist = np.linspace(0, 1000, 10000)\n",
        "\n",
        "result = mesolve(\n",
        "    [H0, [H1, Hrd_lab_frame], [H2, CP_lab_frame]],\n",
        "    psis_dressed,\n",
        "    tlist,\n",
        "    c_ops = [np.sqrt(kappa_f) * tensor(qeye(2), qeye(N), b)],\n",
        "    args = {'A': A, 'T_srt_r': 0, 'T_end_r': 50000, 'Omega_rd': omega_rd, 'B': B, 'T_srt_q': 0, 'T_end_q': 400, 'N_seq': N_seq, 'Omega_qd': omega_qd},\n",
        "    e_ops = op_list,\n",
        ")"
      ],
      "metadata": {
        "id": "q9Kw8hpc4soq"
      },
      "execution_count": null,
      "outputs": []
    },
    {
      "cell_type": "code",
      "source": [
        "# Plot Results\n",
        "\n",
        "plt.plot(tlist, result.expect[4])\n",
        "\n",
        "plt.title('Readout Resonator Photon Number')\n",
        "plt.xlabel('Evolution Time (ns)')\n",
        "plt.ylabel('Readout Resonator Photon Number')"
      ],
      "metadata": {
        "id": "8kqVBW9y4sor"
      },
      "execution_count": null,
      "outputs": []
    },
    {
      "cell_type": "code",
      "source": [
        "# Plot Results\n",
        "\n",
        "plt.plot(tlist, np.sqrt(result.expect[6] - result.expect[4]*result.expect[4]), label=\"photon number fluctuation simulation\")\n",
        "plt.plot(tlist, np.sqrt(result.expect[4]), label=\"photon number fluctuation calculated\")\n",
        "\n",
        "plt.legend()\n",
        "plt.title('Readout Resonator Photon Number Fluctuation')\n",
        "plt.xlabel('Evolution Time (ns)')\n",
        "plt.ylabel('Readout Resonator Photon Number Fluctuation')"
      ],
      "metadata": {
        "id": "00fjSZzD4sor"
      },
      "execution_count": null,
      "outputs": []
    },
    {
      "cell_type": "code",
      "source": [
        "# Plot Results\n",
        "\n",
        "plt.plot(tlist, result.expect[5])\n",
        "\n",
        "plt.title('Filter Resonator Photon Number')\n",
        "plt.xlabel('Evolution Time (ns)')\n",
        "plt.ylabel('Filter Resonator Photon Number')"
      ],
      "metadata": {
        "id": "GurfoYFr4sos"
      },
      "execution_count": null,
      "outputs": []
    },
    {
      "cell_type": "code",
      "source": [
        "# Plot Results\n",
        "\n",
        "plt.plot(tlist, np.sqrt(result.expect[7] - result.expect[5]*result.expect[5]), label=\"photon number fluctuation simulation\")\n",
        "plt.plot(tlist, np.sqrt(result.expect[5]), label=\"photon number fluctuation calculated\")\n",
        "\n",
        "plt.legend()\n",
        "plt.title('Filter Resonator Photon Number Fluctuation')\n",
        "plt.xlabel('Evolution Time (ns)')\n",
        "plt.ylabel('Filter Resonator Photon Number Fluctuation')"
      ],
      "metadata": {
        "id": "QwB4Q6jN4sos"
      },
      "execution_count": null,
      "outputs": []
    },
    {
      "cell_type": "code",
      "source": [
        "# Fitting function : exponential function\n",
        "\n",
        "def func(t, a, b, kappa):\n",
        "  return a*(1 - 2*np.exp(-kappa*t/2)*np.cos(2*np.pi*b*t) + np.exp(-kappa*t))\n",
        "\n",
        "\n",
        "popt, pcov = curve_fit(func, tlist, result.expect[4], p0 = [0.02, 0.01, 0.012])\n",
        "\n",
        "popt"
      ],
      "metadata": {
        "id": "lWRjZuQN4sos"
      },
      "execution_count": null,
      "outputs": []
    },
    {
      "cell_type": "code",
      "source": [
        "rkappa_simulation.append(popt[2])\n",
        "rphoton_simulation.append(popt[0])\n",
        "roscillation_simulation.append(np.abs(popt[1]))"
      ],
      "metadata": {
        "id": "iB_-TfC04sos"
      },
      "execution_count": null,
      "outputs": []
    },
    {
      "cell_type": "code",
      "source": [
        "# Fitting function : exponential function\n",
        "\n",
        "def func(t, a, b, kappa):\n",
        "  return a*(1 - 2*np.exp(-kappa*t/2)*np.cos(2*np.pi*b*t) + np.exp(-kappa*t))\n",
        "\n",
        "\n",
        "popt, pcov = curve_fit(func, tlist, result.expect[5], p0 = [0.02, 0.0128, 0.012])\n",
        "\n",
        "popt"
      ],
      "metadata": {
        "id": "ZdFn4EKE4sos"
      },
      "execution_count": null,
      "outputs": []
    },
    {
      "cell_type": "code",
      "source": [
        "pkappa_simulation.append(popt[2])\n",
        "pphoton_simulation.append(popt[0])\n",
        "poscillation_simulation.append(np.abs(popt[1]))"
      ],
      "metadata": {
        "id": "696EdDml4sos"
      },
      "execution_count": null,
      "outputs": []
    },
    {
      "cell_type": "markdown",
      "source": [
        "### $ \\kappa = 2\\pi 15MHz$"
      ],
      "metadata": {
        "id": "kvmiB8zb4tFJ"
      }
    },
    {
      "cell_type": "code",
      "source": [
        "# Simulation\n",
        "\n",
        "N_seq = 0\n",
        "A = 0.005 * 2 * np.pi\n",
        "omega_qd = 37.6381\n",
        "kappa_f = 2 * np.pi * 0.015  # external coupling rate of resonator in units of GHz\n",
        "\n",
        "tlist = np.linspace(0, 1000, 10000)\n",
        "\n",
        "result = mesolve(\n",
        "    [H0, [H1, Hrd_lab_frame], [H2, CP_lab_frame]],\n",
        "    psis_dressed,\n",
        "    tlist,\n",
        "    c_ops = [np.sqrt(kappa_f) * tensor(qeye(2), qeye(N), b)],\n",
        "    args = {'A': A, 'T_srt_r': 0, 'T_end_r': 50000, 'Omega_rd': omega_rd, 'B': B, 'T_srt_q': 0, 'T_end_q': 400, 'N_seq': N_seq, 'Omega_qd': omega_qd},\n",
        "    e_ops = op_list,\n",
        ")"
      ],
      "metadata": {
        "id": "O0exR8594tFJ"
      },
      "execution_count": null,
      "outputs": []
    },
    {
      "cell_type": "code",
      "source": [
        "# Plot Results\n",
        "\n",
        "plt.plot(tlist, result.expect[4])\n",
        "\n",
        "plt.title('Readout Resonator Photon Number')\n",
        "plt.xlabel('Evolution Time (ns)')\n",
        "plt.ylabel('Readout Resonator Photon Number')"
      ],
      "metadata": {
        "id": "bWFsfEzJ4tFJ"
      },
      "execution_count": null,
      "outputs": []
    },
    {
      "cell_type": "code",
      "source": [
        "# Plot Results\n",
        "\n",
        "plt.plot(tlist, np.sqrt(result.expect[6] - result.expect[4]*result.expect[4]), label=\"photon number fluctuation simulation\")\n",
        "plt.plot(tlist, np.sqrt(result.expect[4]), label=\"photon number fluctuation calculated\")\n",
        "\n",
        "plt.legend()\n",
        "plt.title('Readout Resonator Photon Number Fluctuation')\n",
        "plt.xlabel('Evolution Time (ns)')\n",
        "plt.ylabel('Readout Resonator Photon Number Fluctuation')"
      ],
      "metadata": {
        "id": "Nk6PXGyf4tFJ"
      },
      "execution_count": null,
      "outputs": []
    },
    {
      "cell_type": "code",
      "source": [
        "# Plot Results\n",
        "\n",
        "plt.plot(tlist, result.expect[5])\n",
        "\n",
        "plt.title('Filter Resonator Photon Number')\n",
        "plt.xlabel('Evolution Time (ns)')\n",
        "plt.ylabel('Filter Resonator Photon Number')"
      ],
      "metadata": {
        "id": "ro-3_wsa4tFK"
      },
      "execution_count": null,
      "outputs": []
    },
    {
      "cell_type": "code",
      "source": [
        "# Plot Results\n",
        "\n",
        "plt.plot(tlist, np.sqrt(result.expect[7] - result.expect[5]*result.expect[5]), label=\"photon number fluctuation simulation\")\n",
        "plt.plot(tlist, np.sqrt(result.expect[5]), label=\"photon number fluctuation calculated\")\n",
        "\n",
        "plt.legend()\n",
        "plt.title('Filter Resonator Photon Number Fluctuation')\n",
        "plt.xlabel('Evolution Time (ns)')\n",
        "plt.ylabel('Filter Resonator Photon Number Fluctuation')"
      ],
      "metadata": {
        "id": "QzodHhaj4tFK"
      },
      "execution_count": null,
      "outputs": []
    },
    {
      "cell_type": "code",
      "source": [
        "# Fitting function : exponential function\n",
        "\n",
        "def func(t, a, b, kappa):\n",
        "  return a*(1 - 2*np.exp(-kappa*t/2)*np.cos(2*np.pi*b*t) + np.exp(-kappa*t))\n",
        "\n",
        "\n",
        "popt, pcov = curve_fit(func, tlist, result.expect[4], p0 = [0.02, 0.01, 0.012])\n",
        "\n",
        "popt"
      ],
      "metadata": {
        "id": "-dj63RHg4tFK"
      },
      "execution_count": null,
      "outputs": []
    },
    {
      "cell_type": "code",
      "source": [
        "rkappa_simulation.append(popt[2])\n",
        "rphoton_simulation.append(popt[0])\n",
        "roscillation_simulation.append(np.abs(popt[1]))"
      ],
      "metadata": {
        "id": "IUATxZ604tFK"
      },
      "execution_count": null,
      "outputs": []
    },
    {
      "cell_type": "code",
      "source": [
        "# Fitting function : exponential function\n",
        "\n",
        "def func(t, a, b, kappa):\n",
        "  return a*(1 - 2*np.exp(-kappa*t/2)*np.cos(2*np.pi*b*t) + np.exp(-kappa*t))\n",
        "\n",
        "\n",
        "popt, pcov = curve_fit(func, tlist, result.expect[5], p0 = [0.02, 0.0128, 0.012])\n",
        "\n",
        "popt"
      ],
      "metadata": {
        "id": "rIdW1WAn4tFK"
      },
      "execution_count": null,
      "outputs": []
    },
    {
      "cell_type": "code",
      "source": [
        "pkappa_simulation.append(popt[2])\n",
        "pphoton_simulation.append(popt[0])\n",
        "poscillation_simulation.append(np.abs(popt[1]))"
      ],
      "metadata": {
        "id": "CPXKlvsG4tFK"
      },
      "execution_count": null,
      "outputs": []
    },
    {
      "cell_type": "markdown",
      "source": [
        "### $ \\kappa = 2\\pi 20MHz$"
      ],
      "metadata": {
        "id": "HIN1vjQ_4tbl"
      }
    },
    {
      "cell_type": "code",
      "source": [
        "# Simulation\n",
        "\n",
        "N_seq = 0\n",
        "A = 0.005 * 2 * np.pi\n",
        "omega_qd = 37.6381\n",
        "kappa_f = 2 * np.pi * 0.020  # external coupling rate of resonator in units of GHz\n",
        "\n",
        "tlist = np.linspace(0, 1000, 10000)\n",
        "\n",
        "result = mesolve(\n",
        "    [H0, [H1, Hrd_lab_frame], [H2, CP_lab_frame]],\n",
        "    psis_dressed,\n",
        "    tlist,\n",
        "    c_ops = [np.sqrt(kappa_f) * tensor(qeye(2), qeye(N), b)],\n",
        "    args = {'A': A, 'T_srt_r': 0, 'T_end_r': 50000, 'Omega_rd': omega_rd, 'B': B, 'T_srt_q': 0, 'T_end_q': 400, 'N_seq': N_seq, 'Omega_qd': omega_qd},\n",
        "    e_ops = op_list,\n",
        ")"
      ],
      "metadata": {
        "id": "PVTdkAz24tbm"
      },
      "execution_count": null,
      "outputs": []
    },
    {
      "cell_type": "code",
      "source": [
        "# Plot Results\n",
        "\n",
        "plt.plot(tlist, result.expect[4])\n",
        "\n",
        "plt.title('Readout Resonator Photon Number')\n",
        "plt.xlabel('Evolution Time (ns)')\n",
        "plt.ylabel('Readout Resonator Photon Number')"
      ],
      "metadata": {
        "id": "NOjaW50V4tbm"
      },
      "execution_count": null,
      "outputs": []
    },
    {
      "cell_type": "code",
      "source": [
        "# Plot Results\n",
        "\n",
        "plt.plot(tlist, np.sqrt(result.expect[6] - result.expect[4]*result.expect[4]), label=\"photon number fluctuation simulation\")\n",
        "plt.plot(tlist, np.sqrt(result.expect[4]), label=\"photon number fluctuation calculated\")\n",
        "\n",
        "plt.legend()\n",
        "plt.title('Readout Resonator Photon Number Fluctuation')\n",
        "plt.xlabel('Evolution Time (ns)')\n",
        "plt.ylabel('Readout Resonator Photon Number Fluctuation')"
      ],
      "metadata": {
        "id": "gdDqj3mz4tbm"
      },
      "execution_count": null,
      "outputs": []
    },
    {
      "cell_type": "code",
      "source": [
        "# Plot Results\n",
        "\n",
        "plt.plot(tlist, result.expect[5])\n",
        "\n",
        "plt.title('Filter Resonator Photon Number')\n",
        "plt.xlabel('Evolution Time (ns)')\n",
        "plt.ylabel('Filter Resonator Photon Number')"
      ],
      "metadata": {
        "id": "f3Kf-JcE4tbn"
      },
      "execution_count": null,
      "outputs": []
    },
    {
      "cell_type": "code",
      "source": [
        "# Plot Results\n",
        "\n",
        "plt.plot(tlist, np.sqrt(result.expect[7] - result.expect[5]*result.expect[5]), label=\"photon number fluctuation simulation\")\n",
        "plt.plot(tlist, np.sqrt(result.expect[5]), label=\"photon number fluctuation calculated\")\n",
        "\n",
        "plt.legend()\n",
        "plt.title('Filter Resonator Photon Number Fluctuation')\n",
        "plt.xlabel('Evolution Time (ns)')\n",
        "plt.ylabel('Filter Resonator Photon Number Fluctuation')"
      ],
      "metadata": {
        "id": "krx9w2dP4tbn"
      },
      "execution_count": null,
      "outputs": []
    },
    {
      "cell_type": "code",
      "source": [
        "# Fitting function : exponential function\n",
        "\n",
        "def func(t, a, b, kappa):\n",
        "  return a*(1 - 2*np.exp(-kappa*t/2)*np.cos(2*np.pi*b*t) + np.exp(-kappa*t))\n",
        "\n",
        "\n",
        "popt, pcov = curve_fit(func, tlist, result.expect[4], p0 = [0.02, 0.01, 0.012])\n",
        "\n",
        "popt"
      ],
      "metadata": {
        "id": "UJGOnRsg4tbn"
      },
      "execution_count": null,
      "outputs": []
    },
    {
      "cell_type": "code",
      "source": [
        "rkappa_simulation.append(popt[2])\n",
        "rphoton_simulation.append(popt[0])\n",
        "roscillation_simulation.append(np.abs(popt[1]))"
      ],
      "metadata": {
        "id": "o-0IO_yv4tbn"
      },
      "execution_count": null,
      "outputs": []
    },
    {
      "cell_type": "code",
      "source": [
        "# Fitting function : exponential function\n",
        "\n",
        "def func(t, a, b, kappa):\n",
        "  return a*(1 - 2*np.exp(-kappa*t/2)*np.cos(2*np.pi*b*t) + np.exp(-kappa*t))\n",
        "\n",
        "\n",
        "popt, pcov = curve_fit(func, tlist, result.expect[5], p0 = [0.02, 0.0128, 0.012])\n",
        "\n",
        "popt"
      ],
      "metadata": {
        "id": "d-d-soX-4tbn"
      },
      "execution_count": null,
      "outputs": []
    },
    {
      "cell_type": "code",
      "source": [
        "pkappa_simulation.append(popt[2])\n",
        "pphoton_simulation.append(popt[0])\n",
        "poscillation_simulation.append(np.abs(popt[1]))"
      ],
      "metadata": {
        "id": "Am-56Z7a4tbo"
      },
      "execution_count": null,
      "outputs": []
    },
    {
      "cell_type": "markdown",
      "source": [
        "### $ \\kappa = 2\\pi 25MHz$"
      ],
      "metadata": {
        "id": "91LrA3944twK"
      }
    },
    {
      "cell_type": "code",
      "source": [
        "# Simulation\n",
        "\n",
        "N_seq = 0\n",
        "A = 0.005 * 2 * np.pi\n",
        "omega_qd = 37.6381\n",
        "kappa_f = 2 * np.pi * 0.025  # external coupling rate of resonator in units of GHz\n",
        "\n",
        "tlist = np.linspace(0, 1000, 10000)\n",
        "\n",
        "result = mesolve(\n",
        "    [H0, [H1, Hrd_lab_frame], [H2, CP_lab_frame]],\n",
        "    psis_dressed,\n",
        "    tlist,\n",
        "    c_ops = [np.sqrt(kappa_f) * tensor(qeye(2), qeye(N), b)],\n",
        "    args = {'A': A, 'T_srt_r': 0, 'T_end_r': 50000, 'Omega_rd': omega_rd, 'B': B, 'T_srt_q': 0, 'T_end_q': 400, 'N_seq': N_seq, 'Omega_qd': omega_qd},\n",
        "    e_ops = op_list,\n",
        ")"
      ],
      "metadata": {
        "id": "-nJfHmk54twL"
      },
      "execution_count": null,
      "outputs": []
    },
    {
      "cell_type": "code",
      "source": [
        "# Plot Results\n",
        "\n",
        "plt.plot(tlist, result.expect[4])\n",
        "\n",
        "plt.title('Readout Resonator Photon Number')\n",
        "plt.xlabel('Evolution Time (ns)')\n",
        "plt.ylabel('Readout Resonator Photon Number')"
      ],
      "metadata": {
        "id": "SzutXm5j4twL"
      },
      "execution_count": null,
      "outputs": []
    },
    {
      "cell_type": "code",
      "source": [
        "# Plot Results\n",
        "\n",
        "plt.plot(tlist, np.sqrt(result.expect[6] - result.expect[4]*result.expect[4]), label=\"photon number fluctuation simulation\")\n",
        "plt.plot(tlist, np.sqrt(result.expect[4]), label=\"photon number fluctuation calculated\")\n",
        "\n",
        "plt.legend()\n",
        "plt.title('Readout Resonator Photon Number Fluctuation')\n",
        "plt.xlabel('Evolution Time (ns)')\n",
        "plt.ylabel('Readout Resonator Photon Number Fluctuation')"
      ],
      "metadata": {
        "id": "NYCkKAhw4twL"
      },
      "execution_count": null,
      "outputs": []
    },
    {
      "cell_type": "code",
      "source": [
        "# Plot Results\n",
        "\n",
        "plt.plot(tlist, result.expect[5])\n",
        "\n",
        "plt.title('Filter Resonator Photon Number')\n",
        "plt.xlabel('Evolution Time (ns)')\n",
        "plt.ylabel('Filter Resonator Photon Number')"
      ],
      "metadata": {
        "id": "_mUSetk-4twM"
      },
      "execution_count": null,
      "outputs": []
    },
    {
      "cell_type": "code",
      "source": [
        "# Plot Results\n",
        "\n",
        "plt.plot(tlist, np.sqrt(result.expect[7] - result.expect[5]*result.expect[5]), label=\"photon number fluctuation simulation\")\n",
        "plt.plot(tlist, np.sqrt(result.expect[5]), label=\"photon number fluctuation calculated\")\n",
        "\n",
        "plt.legend()\n",
        "plt.title('Filter Resonator Photon Number Fluctuation')\n",
        "plt.xlabel('Evolution Time (ns)')\n",
        "plt.ylabel('Filter Resonator Photon Number Fluctuation')"
      ],
      "metadata": {
        "id": "gmxpyOAu4twM"
      },
      "execution_count": null,
      "outputs": []
    },
    {
      "cell_type": "code",
      "source": [
        "# Fitting function : exponential function\n",
        "\n",
        "def func(t, a, b, kappa):\n",
        "  return a*(1 - 2*np.exp(-kappa*t/2)*np.cos(2*np.pi*b*t) + np.exp(-kappa*t))\n",
        "\n",
        "\n",
        "popt, pcov = curve_fit(func, tlist, result.expect[4], p0 = [0.02, 0.01, 0.012])\n",
        "\n",
        "popt"
      ],
      "metadata": {
        "id": "bJFsLfes4twM"
      },
      "execution_count": null,
      "outputs": []
    },
    {
      "cell_type": "code",
      "source": [
        "rkappa_simulation.append(popt[2])\n",
        "rphoton_simulation.append(popt[0])\n",
        "roscillation_simulation.append(np.abs(popt[1]))"
      ],
      "metadata": {
        "id": "cnOSwmLi4twM"
      },
      "execution_count": null,
      "outputs": []
    },
    {
      "cell_type": "code",
      "source": [
        "# Fitting function : exponential function\n",
        "\n",
        "def func(t, a, b, kappa):\n",
        "  return a*(1 - 2*np.exp(-kappa*t/2)*np.cos(2*np.pi*b*t) + np.exp(-kappa*t))\n",
        "\n",
        "\n",
        "popt, pcov = curve_fit(func, tlist, result.expect[5], p0 = [0.02, 0.0128, 0.012])\n",
        "\n",
        "popt"
      ],
      "metadata": {
        "id": "Qeobyzwg4twN"
      },
      "execution_count": null,
      "outputs": []
    },
    {
      "cell_type": "code",
      "source": [
        "pkappa_simulation.append(popt[2])\n",
        "pphoton_simulation.append(popt[0])\n",
        "poscillation_simulation.append(np.abs(popt[1]))"
      ],
      "metadata": {
        "id": "jVnawY6B4twN"
      },
      "execution_count": null,
      "outputs": []
    },
    {
      "cell_type": "markdown",
      "source": [
        "### $ \\kappa = 2\\pi 30MHz$"
      ],
      "metadata": {
        "id": "ZjUsZEEd4uIb"
      }
    },
    {
      "cell_type": "code",
      "source": [
        "# Simulation\n",
        "\n",
        "N_seq = 0\n",
        "A = 0.005 * 2 * np.pi\n",
        "omega_qd = 37.6381\n",
        "kappa_f = 2 * np.pi * 0.030  # external coupling rate of resonator in units of GHz\n",
        "\n",
        "tlist = np.linspace(0, 1000, 10000)\n",
        "\n",
        "result = mesolve(\n",
        "    [H0, [H1, Hrd_lab_frame], [H2, CP_lab_frame]],\n",
        "    psis_dressed,\n",
        "    tlist,\n",
        "    c_ops = [np.sqrt(kappa_f) * tensor(qeye(2), qeye(N), b)],\n",
        "    args = {'A': A, 'T_srt_r': 0, 'T_end_r': 50000, 'Omega_rd': omega_rd, 'B': B, 'T_srt_q': 0, 'T_end_q': 400, 'N_seq': N_seq, 'Omega_qd': omega_qd},\n",
        "    e_ops = op_list,\n",
        ")"
      ],
      "metadata": {
        "id": "m0rEwEe84uIb"
      },
      "execution_count": null,
      "outputs": []
    },
    {
      "cell_type": "code",
      "source": [
        "# Plot Results\n",
        "\n",
        "plt.plot(tlist, result.expect[4])\n",
        "\n",
        "plt.title('Readout Resonator Photon Number')\n",
        "plt.xlabel('Evolution Time (ns)')\n",
        "plt.ylabel('Readout Resonator Photon Number')"
      ],
      "metadata": {
        "id": "jo0dVpNe4uIc"
      },
      "execution_count": null,
      "outputs": []
    },
    {
      "cell_type": "code",
      "source": [
        "# Plot Results\n",
        "\n",
        "plt.plot(tlist, np.sqrt(result.expect[6] - result.expect[4]*result.expect[4]), label=\"photon number fluctuation simulation\")\n",
        "plt.plot(tlist, np.sqrt(result.expect[4]), label=\"photon number fluctuation calculated\")\n",
        "\n",
        "plt.legend()\n",
        "plt.title('Readout Resonator Photon Number Fluctuation')\n",
        "plt.xlabel('Evolution Time (ns)')\n",
        "plt.ylabel('Readout Resonator Photon Number Fluctuation')"
      ],
      "metadata": {
        "id": "UW0o0hSM4uIc"
      },
      "execution_count": null,
      "outputs": []
    },
    {
      "cell_type": "code",
      "source": [
        "# Plot Results\n",
        "\n",
        "plt.plot(tlist, result.expect[5])\n",
        "\n",
        "plt.title('Filter Resonator Photon Number')\n",
        "plt.xlabel('Evolution Time (ns)')\n",
        "plt.ylabel('Filter Resonator Photon Number')"
      ],
      "metadata": {
        "id": "-FPMYzw04uId"
      },
      "execution_count": null,
      "outputs": []
    },
    {
      "cell_type": "code",
      "source": [
        "# Plot Results\n",
        "\n",
        "plt.plot(tlist, np.sqrt(result.expect[7] - result.expect[5]*result.expect[5]), label=\"photon number fluctuation simulation\")\n",
        "plt.plot(tlist, np.sqrt(result.expect[5]), label=\"photon number fluctuation calculated\")\n",
        "\n",
        "plt.legend()\n",
        "plt.title('Filter Resonator Photon Number Fluctuation')\n",
        "plt.xlabel('Evolution Time (ns)')\n",
        "plt.ylabel('Filter Resonator Photon Number Fluctuation')"
      ],
      "metadata": {
        "id": "amN_bSTw4uId"
      },
      "execution_count": null,
      "outputs": []
    },
    {
      "cell_type": "code",
      "source": [
        "# Fitting function : exponential function\n",
        "\n",
        "def func(t, a, b, kappa):\n",
        "  return a*(1 - 2*np.exp(-kappa*t/2)*np.cos(2*np.pi*b*t) + np.exp(-kappa*t))\n",
        "\n",
        "\n",
        "popt, pcov = curve_fit(func, tlist, result.expect[4], p0 = [0.02, 0.01, 0.012])\n",
        "\n",
        "popt"
      ],
      "metadata": {
        "id": "KT4CZwN_4uId"
      },
      "execution_count": null,
      "outputs": []
    },
    {
      "cell_type": "code",
      "source": [
        "rkappa_simulation.append(popt[2])\n",
        "rphoton_simulation.append(popt[0])\n",
        "roscillation_simulation.append(np.abs(popt[1]))"
      ],
      "metadata": {
        "id": "T7uSmXDi4uId"
      },
      "execution_count": null,
      "outputs": []
    },
    {
      "cell_type": "code",
      "source": [
        "# Fitting function : exponential function\n",
        "\n",
        "def func(t, a, b, kappa):\n",
        "  return a*(1 - 2*np.exp(-kappa*t/2)*np.cos(2*np.pi*b*t) + np.exp(-kappa*t))\n",
        "\n",
        "\n",
        "popt, pcov = curve_fit(func, tlist, result.expect[5], p0 = [0.02, 0.0128, 0.012])\n",
        "\n",
        "popt"
      ],
      "metadata": {
        "id": "dCNgQu5N4uIe"
      },
      "execution_count": null,
      "outputs": []
    },
    {
      "cell_type": "code",
      "source": [
        "pkappa_simulation.append(popt[2])\n",
        "pphoton_simulation.append(popt[0])\n",
        "poscillation_simulation.append(np.abs(popt[1]))"
      ],
      "metadata": {
        "id": "rqEfilpb4uIe"
      },
      "execution_count": null,
      "outputs": []
    },
    {
      "cell_type": "markdown",
      "source": [
        "## $G=2\\pi 20MHz$"
      ],
      "metadata": {
        "id": "tGjJSDik5eHU"
      }
    },
    {
      "cell_type": "code",
      "execution_count": null,
      "metadata": {
        "id": "Pc_PXH4J5eHc"
      },
      "outputs": [],
      "source": [
        "# readout resonator & purcell filter resonator dimension\n",
        "\n",
        "N = 3\n",
        "\n",
        "\n",
        "# constant\n",
        "\n",
        "B = 0.01 * 2 * np.pi        # gate operation time : 50ns\n",
        "\n",
        "omega_r = 2 * np.pi * 7.0   # resonator frequency in units of GHz\n",
        "omega_f = 2 * np.pi * 7.0   # resonator frequency in units of GHz\n",
        "omega_q = 2 * np.pi * 6.0   # qubit frequency in units of GHz\n",
        "omega_rd = 2 * np.pi * 7.0  # qubit frequency in units of GHz\n",
        "g = 2 * np.pi * 0.1         # qubit-resonator coupling in units of GHz\n",
        "G = 2 * np.pi * 0.020        # qubit-resonator coupling in units of GHz\n",
        "\n",
        "\n",
        "detune = omega_q-omega_r\n",
        "chi = g*g/(detune)\n",
        "\n",
        "omega_rd = omega_r          # qubit frequency in units of GHz\n",
        "omega_qd = omega_q + chi\n",
        "\n",
        "# operator defined on bare basis\n",
        "\n",
        "sz = sigmaz()\n",
        "sx = sigmax()\n",
        "sy = sigmay()\n",
        "sp = basis(2,1)*basis(2,0).dag()\n",
        "sm = basis(2,0)*basis(2,1).dag()\n",
        "\n",
        "a = destroy(N)\n",
        "b = destroy(N)\n",
        "\n",
        "sx_bare                 = tensor(sx, qeye(N), qeye(N))\n",
        "sy_bare                 = tensor(sy, qeye(N), qeye(N))\n",
        "sz_bare                 = tensor(sz, qeye(N), qeye(N))\n",
        "sp_bare                 = tensor(sp, qeye(N), qeye(N))\n",
        "sm_bare                 = tensor(sm, qeye(N), qeye(N))\n",
        "\n",
        "readout_annihilate_bare = tensor(qeye(2), a, qeye(N))\n",
        "readout_create_bare     = tensor(qeye(2), a.dag(), qeye(N))\n",
        "readout_number_bare     = tensor(qeye(2), a.dag()*a, qeye(N))\n",
        "\n",
        "filter_annihilate_bare  = tensor(qeye(2), qeye(N), b)\n",
        "filter_create_bare      = tensor(qeye(2), qeye(N), b.dag())\n",
        "filter_number_bare      = tensor(qeye(2), qeye(N), b.dag()*b)\n",
        "\n",
        "psi0_bare               = tensor(basis(2,0), basis(N,0), basis(N,0))\n",
        "psis_bare               = tensor((basis(2,0) + basis(2,1))/np.sqrt(2), basis(N,0), basis(N,0))\n",
        "psi1_bare               = tensor(basis(2,1), basis(N,0), basis(N,0))\n",
        "\n",
        "\n",
        "H0 = -0.5*omega_q*sz_bare + omega_r*readout_number_bare + omega_f*filter_number_bare + g*(tensor(sp, a, qeye(N))+tensor(sm, a.dag(), qeye(N))) + G*(tensor(qeye(2), a, b.dag()) + tensor(qeye(2), a.dag(), b))\n",
        "H1 = tensor(qeye(2), a+a.dag(), qeye(N))\n",
        "H2 = sx_bare"
      ]
    },
    {
      "cell_type": "code",
      "source": [
        "sx_dressed = H0.eigenstates()[1][0]*H0.eigenstates()[1][1].dag() + H0.eigenstates()[1][2]*H0.eigenstates()[1][5].dag() \\\n",
        "+ H0.eigenstates()[1][3]*H0.eigenstates()[1][4].dag() + H0.eigenstates()[1][6]*H0.eigenstates()[1][10].dag() \\\n",
        "+ H0.eigenstates()[1][7]*H0.eigenstates()[1][9].dag() + H0.eigenstates()[1][8]*H0.eigenstates()[1][11].dag() \\\n",
        "+ H0.eigenstates()[1][12]*H0.eigenstates()[1][15].dag() + H0.eigenstates()[1][13]*H0.eigenstates()[1][14].dag() \\\n",
        "+ H0.eigenstates()[1][16]*H0.eigenstates()[1][17].dag() \\\n",
        "+ H0.eigenstates()[1][1]*H0.eigenstates()[1][0].dag() + H0.eigenstates()[1][5]*H0.eigenstates()[1][2].dag() \\\n",
        "+ H0.eigenstates()[1][4]*H0.eigenstates()[1][3].dag() + H0.eigenstates()[1][10]*H0.eigenstates()[1][6].dag() \\\n",
        "+ H0.eigenstates()[1][9]*H0.eigenstates()[1][7].dag() + H0.eigenstates()[1][11]*H0.eigenstates()[1][8].dag() \\\n",
        "+ H0.eigenstates()[1][15]*H0.eigenstates()[1][12].dag() + H0.eigenstates()[1][14]*H0.eigenstates()[1][13].dag() \\\n",
        "+ H0.eigenstates()[1][17]*H0.eigenstates()[1][16].dag()\n",
        "\n",
        "\n",
        "sy_dressed = + (-1j)*H0.eigenstates()[1][0]*H0.eigenstates()[1][1].dag() + (-1j)*H0.eigenstates()[1][2]*H0.eigenstates()[1][5].dag() \\\n",
        "+ (-1j)*H0.eigenstates()[1][3]*H0.eigenstates()[1][4].dag() + (-1j)*H0.eigenstates()[1][6]*H0.eigenstates()[1][10].dag() \\\n",
        "+ (-1j)*H0.eigenstates()[1][7]*H0.eigenstates()[1][9].dag() + (-1j)*H0.eigenstates()[1][8]*H0.eigenstates()[1][11].dag() \\\n",
        "+ (-1j)*H0.eigenstates()[1][12]*H0.eigenstates()[1][15].dag() + (-1j)*H0.eigenstates()[1][13]*H0.eigenstates()[1][14].dag() \\\n",
        "+ (-1j)*H0.eigenstates()[1][16]*H0.eigenstates()[1][17].dag() \\\n",
        "+ (+1j)*H0.eigenstates()[1][1]*H0.eigenstates()[1][0].dag() + (+1j)*H0.eigenstates()[1][5]*H0.eigenstates()[1][2].dag() \\\n",
        "+ (+1j)*H0.eigenstates()[1][4]*H0.eigenstates()[1][3].dag() + (+1j)*H0.eigenstates()[1][10]*H0.eigenstates()[1][6].dag() \\\n",
        "+ (+1j)*H0.eigenstates()[1][9]*H0.eigenstates()[1][7].dag() + (+1j)*H0.eigenstates()[1][11]*H0.eigenstates()[1][8].dag() \\\n",
        "+ (+1j)*H0.eigenstates()[1][15]*H0.eigenstates()[1][12].dag() + (+1j)*H0.eigenstates()[1][14]*H0.eigenstates()[1][13].dag() \\\n",
        "+ (+1j)*H0.eigenstates()[1][17]*H0.eigenstates()[1][16].dag()\n",
        "\n",
        "\n",
        "sz_dressed = H0.eigenstates()[1][0]*H0.eigenstates()[1][0].dag() + H0.eigenstates()[1][2]*H0.eigenstates()[1][2].dag() \\\n",
        "+ H0.eigenstates()[1][3]*H0.eigenstates()[1][3].dag() + H0.eigenstates()[1][6]*H0.eigenstates()[1][6].dag() \\\n",
        "+ H0.eigenstates()[1][7]*H0.eigenstates()[1][7].dag() + H0.eigenstates()[1][8]*H0.eigenstates()[1][8].dag() \\\n",
        "+ H0.eigenstates()[1][12]*H0.eigenstates()[1][12].dag() + H0.eigenstates()[1][13]*H0.eigenstates()[1][13].dag() \\\n",
        "+ H0.eigenstates()[1][16]*H0.eigenstates()[1][16].dag() \\\n",
        "- H0.eigenstates()[1][1]*H0.eigenstates()[1][1].dag() - H0.eigenstates()[1][4]*H0.eigenstates()[1][4].dag() \\\n",
        "- H0.eigenstates()[1][5]*H0.eigenstates()[1][5].dag() - H0.eigenstates()[1][9]*H0.eigenstates()[1][9].dag() \\\n",
        "- H0.eigenstates()[1][10]*H0.eigenstates()[1][10].dag() - H0.eigenstates()[1][11]*H0.eigenstates()[1][11].dag() \\\n",
        "- H0.eigenstates()[1][14]*H0.eigenstates()[1][14].dag() - H0.eigenstates()[1][15]*H0.eigenstates()[1][15].dag() \\\n",
        "- H0.eigenstates()[1][17]*H0.eigenstates()[1][17].dag()\n",
        "\n",
        "\n",
        "sp_dressed = H0.eigenstates()[1][1]*H0.eigenstates()[1][0].dag() + H0.eigenstates()[1][5]*H0.eigenstates()[1][2].dag() \\\n",
        "+ H0.eigenstates()[1][4]*H0.eigenstates()[1][3].dag() + H0.eigenstates()[1][10]*H0.eigenstates()[1][6].dag() \\\n",
        "+ H0.eigenstates()[1][9]*H0.eigenstates()[1][7].dag() + H0.eigenstates()[1][11]*H0.eigenstates()[1][8].dag() \\\n",
        "+ H0.eigenstates()[1][15]*H0.eigenstates()[1][12].dag() + H0.eigenstates()[1][14]*H0.eigenstates()[1][13].dag() \\\n",
        "+ H0.eigenstates()[1][17]*H0.eigenstates()[1][16].dag()\n",
        "\n",
        "\n",
        "readout_number_dressed = H0.eigenstates()[1][3]*H0.eigenstates()[1][3].dag() + H0.eigenstates()[1][4]*H0.eigenstates()[1][4].dag() \\\n",
        "+ H0.eigenstates()[1][7]*H0.eigenstates()[1][7].dag() + H0.eigenstates()[1][9]*H0.eigenstates()[1][9].dag() \\\n",
        "+ H0.eigenstates()[1][12]*H0.eigenstates()[1][12].dag() + H0.eigenstates()[1][14]*H0.eigenstates()[1][14].dag() \\\n",
        "+ 2*H0.eigenstates()[1][8]*H0.eigenstates()[1][8].dag() + 2*H0.eigenstates()[1][11]*H0.eigenstates()[1][11].dag() \\\n",
        "+ 2*H0.eigenstates()[1][13]*H0.eigenstates()[1][13].dag() + 2*H0.eigenstates()[1][15]*H0.eigenstates()[1][15].dag() \\\n",
        "+ 2*H0.eigenstates()[1][16]*H0.eigenstates()[1][16].dag() + 2*H0.eigenstates()[1][17]*H0.eigenstates()[1][17].dag() \\\n",
        "\n",
        "\n",
        "filter_number_dressed = H0.eigenstates()[1][2]*H0.eigenstates()[1][2].dag() + H0.eigenstates()[1][5]*H0.eigenstates()[1][5].dag() \\\n",
        "+ H0.eigenstates()[1][7]*H0.eigenstates()[1][7].dag() + H0.eigenstates()[1][9]*H0.eigenstates()[1][9].dag() \\\n",
        "+ H0.eigenstates()[1][13]*H0.eigenstates()[1][13].dag() + H0.eigenstates()[1][15]*H0.eigenstates()[1][15].dag() \\\n",
        "+ 2*H0.eigenstates()[1][6]*H0.eigenstates()[1][6].dag() + 2*H0.eigenstates()[1][10]*H0.eigenstates()[1][10].dag() \\\n",
        "+ 2*H0.eigenstates()[1][12]*H0.eigenstates()[1][12].dag() + 2*H0.eigenstates()[1][14]*H0.eigenstates()[1][14].dag() \\\n",
        "+ 2*H0.eigenstates()[1][16]*H0.eigenstates()[1][16].dag() + 2*H0.eigenstates()[1][17]*H0.eigenstates()[1][17].dag()"
      ],
      "metadata": {
        "id": "pTd1KuD35eHc"
      },
      "execution_count": null,
      "outputs": []
    },
    {
      "cell_type": "code",
      "source": [
        "psi0_dressed             = H0.eigenstates()[1][0]\n",
        "psi1_dressed             = H0.eigenstates()[1][1]\n",
        "psis_dressed             = (psi0_dressed + psi1_dressed)/np.sqrt(2)\n",
        "\n",
        "op_list = [sx_dressed, sy_dressed, sz_dressed, sp_dressed, readout_number_dressed, filter_number_dressed]"
      ],
      "metadata": {
        "id": "h0I1X-5A5eHc"
      },
      "execution_count": null,
      "outputs": []
    },
    {
      "cell_type": "markdown",
      "source": [
        "### $ \\kappa = 2\\pi 5MHz$"
      ],
      "metadata": {
        "id": "MT0jQi0e5eHc"
      }
    },
    {
      "cell_type": "code",
      "source": [
        "# Simulation\n",
        "\n",
        "N_seq = 0\n",
        "A = 0.005 * 2 * np.pi\n",
        "omega_qd = 37.6381\n",
        "kappa_f = 2 * np.pi * 0.05  # external coupling rate of resonator in units of GHz\n",
        "\n",
        "tlist = np.linspace(0, 1000, 10000)\n",
        "\n",
        "result = mesolve(\n",
        "    [H0, [H1, Hrd_lab_frame], [H2, CP_lab_frame]],\n",
        "    psis_dressed,\n",
        "    tlist,\n",
        "    c_ops = [np.sqrt(kappa_f) * tensor(qeye(2), qeye(N), b)],\n",
        "    args = {'A': A, 'T_srt_r': 0, 'T_end_r': 50000, 'Omega_rd': omega_rd, 'B': B, 'T_srt_q': 0, 'T_end_q': 400, 'N_seq': N_seq, 'Omega_qd': omega_qd},\n",
        "    e_ops = op_list,\n",
        ")"
      ],
      "metadata": {
        "id": "6wDVfOvl5eHc"
      },
      "execution_count": null,
      "outputs": []
    },
    {
      "cell_type": "code",
      "source": [
        "# Plot Results\n",
        "\n",
        "plt.plot(tlist, result.expect[4])\n",
        "\n",
        "plt.title('Readout Resonator Photon Number')\n",
        "plt.xlabel('Evolution Time (ns)')\n",
        "plt.ylabel('Readout Resonator Photon Number')"
      ],
      "metadata": {
        "id": "z6LPNdVi5eHc"
      },
      "execution_count": null,
      "outputs": []
    },
    {
      "cell_type": "code",
      "source": [
        "# Plot Results\n",
        "\n",
        "plt.plot(tlist, np.sqrt(result.expect[6] - result.expect[4]*result.expect[4]), label=\"photon number fluctuation simulation\")\n",
        "plt.plot(tlist, np.sqrt(result.expect[4]), label=\"photon number fluctuation calculated\")\n",
        "\n",
        "plt.legend()\n",
        "plt.title('Readout Resonator Photon Number Fluctuation')\n",
        "plt.xlabel('Evolution Time (ns)')\n",
        "plt.ylabel('Readout Resonator Photon Number Fluctuation')"
      ],
      "metadata": {
        "id": "tZYN5xCq5eHd"
      },
      "execution_count": null,
      "outputs": []
    },
    {
      "cell_type": "code",
      "source": [
        "# Plot Results\n",
        "\n",
        "plt.plot(tlist, result.expect[5])\n",
        "\n",
        "plt.title('Filter Resonator Photon Number')\n",
        "plt.xlabel('Evolution Time (ns)')\n",
        "plt.ylabel('Filter Resonator Photon Number')"
      ],
      "metadata": {
        "id": "gJQOlsHC5eHd"
      },
      "execution_count": null,
      "outputs": []
    },
    {
      "cell_type": "code",
      "source": [
        "# Plot Results\n",
        "\n",
        "plt.plot(tlist, np.sqrt(result.expect[7] - result.expect[5]*result.expect[5]), label=\"photon number fluctuation simulation\")\n",
        "plt.plot(tlist, np.sqrt(result.expect[5]), label=\"photon number fluctuation calculated\")\n",
        "\n",
        "plt.legend()\n",
        "plt.title('Filter Resonator Photon Number Fluctuation')\n",
        "plt.xlabel('Evolution Time (ns)')\n",
        "plt.ylabel('Filter Resonator Photon Number Fluctuation')"
      ],
      "metadata": {
        "id": "9FvenAO95eHd"
      },
      "execution_count": null,
      "outputs": []
    },
    {
      "cell_type": "code",
      "source": [
        "# Fitting function : exponential function\n",
        "\n",
        "def func(t, a, b, kappa):\n",
        "  return a*(1 - 2*np.exp(-kappa*t/2)*np.cos(2*np.pi*b*t) + np.exp(-kappa*t))\n",
        "\n",
        "\n",
        "popt, pcov = curve_fit(func, tlist, result.expect[4], p0 = [0.02, 0.01, 0.012])\n",
        "\n",
        "popt"
      ],
      "metadata": {
        "id": "vppyXPIU5eHd"
      },
      "execution_count": null,
      "outputs": []
    },
    {
      "cell_type": "code",
      "source": [
        "rkappa_simulation.append(popt[2])\n",
        "rphoton_simulation.append(popt[0])\n",
        "roscillation_simulation.append(np.abs(popt[1]))"
      ],
      "metadata": {
        "id": "Jho9xaFY5eHd"
      },
      "execution_count": null,
      "outputs": []
    },
    {
      "cell_type": "code",
      "source": [
        "# Fitting function : exponential function\n",
        "\n",
        "def func(t, a, b, kappa):\n",
        "  return a*(1 - 2*np.exp(-kappa*t/2)*np.cos(2*np.pi*b*t) + np.exp(-kappa*t))\n",
        "\n",
        "\n",
        "popt, pcov = curve_fit(func, tlist, result.expect[5], p0 = [0.02, 0.0128, 0.012])\n",
        "\n",
        "popt"
      ],
      "metadata": {
        "id": "MyPNGX1d5eHd"
      },
      "execution_count": null,
      "outputs": []
    },
    {
      "cell_type": "code",
      "source": [
        "pkappa_simulation.append(popt[2])\n",
        "pphoton_simulation.append(popt[0])\n",
        "poscillation_simulation.append(np.abs(popt[1]))"
      ],
      "metadata": {
        "id": "HdDo2snz5eHd"
      },
      "execution_count": null,
      "outputs": []
    },
    {
      "cell_type": "markdown",
      "source": [
        "### $ \\kappa = 2\\pi 10MHz$"
      ],
      "metadata": {
        "id": "cxhg2-JJ5eHd"
      }
    },
    {
      "cell_type": "code",
      "source": [
        "# Simulation\n",
        "\n",
        "N_seq = 0\n",
        "A = 0.005 * 2 * np.pi\n",
        "omega_qd = 37.6381\n",
        "kappa_f = 2 * np.pi * 0.10  # external coupling rate of resonator in units of GHz\n",
        "\n",
        "tlist = np.linspace(0, 1000, 10000)\n",
        "\n",
        "result = mesolve(\n",
        "    [H0, [H1, Hrd_lab_frame], [H2, CP_lab_frame]],\n",
        "    psis_dressed,\n",
        "    tlist,\n",
        "    c_ops = [np.sqrt(kappa_f) * tensor(qeye(2), qeye(N), b)],\n",
        "    args = {'A': A, 'T_srt_r': 0, 'T_end_r': 50000, 'Omega_rd': omega_rd, 'B': B, 'T_srt_q': 0, 'T_end_q': 400, 'N_seq': N_seq, 'Omega_qd': omega_qd},\n",
        "    e_ops = op_list,\n",
        ")"
      ],
      "metadata": {
        "id": "ZwIwsxkA5eHd"
      },
      "execution_count": null,
      "outputs": []
    },
    {
      "cell_type": "code",
      "source": [
        "# Plot Results\n",
        "\n",
        "plt.plot(tlist, result.expect[4])\n",
        "\n",
        "plt.title('Readout Resonator Photon Number')\n",
        "plt.xlabel('Evolution Time (ns)')\n",
        "plt.ylabel('Readout Resonator Photon Number')"
      ],
      "metadata": {
        "id": "beSddBZE5eHd"
      },
      "execution_count": null,
      "outputs": []
    },
    {
      "cell_type": "code",
      "source": [
        "# Plot Results\n",
        "\n",
        "plt.plot(tlist, np.sqrt(result.expect[6] - result.expect[4]*result.expect[4]), label=\"photon number fluctuation simulation\")\n",
        "plt.plot(tlist, np.sqrt(result.expect[4]), label=\"photon number fluctuation calculated\")\n",
        "\n",
        "plt.legend()\n",
        "plt.title('Readout Resonator Photon Number Fluctuation')\n",
        "plt.xlabel('Evolution Time (ns)')\n",
        "plt.ylabel('Readout Resonator Photon Number Fluctuation')"
      ],
      "metadata": {
        "id": "cSK-uJGA5eHd"
      },
      "execution_count": null,
      "outputs": []
    },
    {
      "cell_type": "code",
      "source": [
        "# Plot Results\n",
        "\n",
        "plt.plot(tlist, result.expect[5])\n",
        "\n",
        "plt.title('Filter Resonator Photon Number')\n",
        "plt.xlabel('Evolution Time (ns)')\n",
        "plt.ylabel('Filter Resonator Photon Number')"
      ],
      "metadata": {
        "id": "vG_wAx_D5eHd"
      },
      "execution_count": null,
      "outputs": []
    },
    {
      "cell_type": "code",
      "source": [
        "# Plot Results\n",
        "\n",
        "plt.plot(tlist, np.sqrt(result.expect[7] - result.expect[5]*result.expect[5]), label=\"photon number fluctuation simulation\")\n",
        "plt.plot(tlist, np.sqrt(result.expect[5]), label=\"photon number fluctuation calculated\")\n",
        "\n",
        "plt.legend()\n",
        "plt.title('Filter Resonator Photon Number Fluctuation')\n",
        "plt.xlabel('Evolution Time (ns)')\n",
        "plt.ylabel('Filter Resonator Photon Number Fluctuation')"
      ],
      "metadata": {
        "id": "63_gK3j-5eHd"
      },
      "execution_count": null,
      "outputs": []
    },
    {
      "cell_type": "code",
      "source": [
        "# Fitting function : exponential function\n",
        "\n",
        "def func(t, a, b, kappa):\n",
        "  return a*(1 - 2*np.exp(-kappa*t/2)*np.cos(2*np.pi*b*t) + np.exp(-kappa*t))\n",
        "\n",
        "\n",
        "popt, pcov = curve_fit(func, tlist, result.expect[4], p0 = [0.02, 0.01, 0.012])\n",
        "\n",
        "popt"
      ],
      "metadata": {
        "id": "RKOzUCOM5eHd"
      },
      "execution_count": null,
      "outputs": []
    },
    {
      "cell_type": "code",
      "source": [
        "rkappa_simulation.append(popt[2])\n",
        "rphoton_simulation.append(popt[0])\n",
        "roscillation_simulation.append(np.abs(popt[1]))"
      ],
      "metadata": {
        "id": "DFvZWZu55eHe"
      },
      "execution_count": null,
      "outputs": []
    },
    {
      "cell_type": "code",
      "source": [
        "# Fitting function : exponential function\n",
        "\n",
        "def func(t, a, b, kappa):\n",
        "  return a*(1 - 2*np.exp(-kappa*t/2)*np.cos(2*np.pi*b*t) + np.exp(-kappa*t))\n",
        "\n",
        "\n",
        "popt, pcov = curve_fit(func, tlist, result.expect[5], p0 = [0.02, 0.0128, 0.012])\n",
        "\n",
        "popt"
      ],
      "metadata": {
        "id": "9r6ZPQXH5eHe"
      },
      "execution_count": null,
      "outputs": []
    },
    {
      "cell_type": "code",
      "source": [
        "pkappa_simulation.append(popt[2])\n",
        "pphoton_simulation.append(popt[0])\n",
        "poscillation_simulation.append(np.abs(popt[1]))"
      ],
      "metadata": {
        "id": "3jy78Uwv5eHe"
      },
      "execution_count": null,
      "outputs": []
    },
    {
      "cell_type": "markdown",
      "source": [
        "### $ \\kappa = 2\\pi 15MHz$"
      ],
      "metadata": {
        "id": "YYvs-La95eHe"
      }
    },
    {
      "cell_type": "code",
      "source": [
        "# Simulation\n",
        "\n",
        "N_seq = 0\n",
        "A = 0.005 * 2 * np.pi\n",
        "omega_qd = 37.6381\n",
        "kappa_f = 2 * np.pi * 0.015  # external coupling rate of resonator in units of GHz\n",
        "\n",
        "tlist = np.linspace(0, 1000, 10000)\n",
        "\n",
        "result = mesolve(\n",
        "    [H0, [H1, Hrd_lab_frame], [H2, CP_lab_frame]],\n",
        "    psis_dressed,\n",
        "    tlist,\n",
        "    c_ops = [np.sqrt(kappa_f) * tensor(qeye(2), qeye(N), b)],\n",
        "    args = {'A': A, 'T_srt_r': 0, 'T_end_r': 50000, 'Omega_rd': omega_rd, 'B': B, 'T_srt_q': 0, 'T_end_q': 400, 'N_seq': N_seq, 'Omega_qd': omega_qd},\n",
        "    e_ops = op_list,\n",
        ")"
      ],
      "metadata": {
        "id": "pdc2nehr5eHe"
      },
      "execution_count": null,
      "outputs": []
    },
    {
      "cell_type": "code",
      "source": [
        "# Plot Results\n",
        "\n",
        "plt.plot(tlist, result.expect[4])\n",
        "\n",
        "plt.title('Readout Resonator Photon Number')\n",
        "plt.xlabel('Evolution Time (ns)')\n",
        "plt.ylabel('Readout Resonator Photon Number')"
      ],
      "metadata": {
        "id": "PpzG375k5eHe"
      },
      "execution_count": null,
      "outputs": []
    },
    {
      "cell_type": "code",
      "source": [
        "# Plot Results\n",
        "\n",
        "plt.plot(tlist, np.sqrt(result.expect[6] - result.expect[4]*result.expect[4]), label=\"photon number fluctuation simulation\")\n",
        "plt.plot(tlist, np.sqrt(result.expect[4]), label=\"photon number fluctuation calculated\")\n",
        "\n",
        "plt.legend()\n",
        "plt.title('Readout Resonator Photon Number Fluctuation')\n",
        "plt.xlabel('Evolution Time (ns)')\n",
        "plt.ylabel('Readout Resonator Photon Number Fluctuation')"
      ],
      "metadata": {
        "id": "OJYfGAg55eHf"
      },
      "execution_count": null,
      "outputs": []
    },
    {
      "cell_type": "code",
      "source": [
        "# Plot Results\n",
        "\n",
        "plt.plot(tlist, result.expect[5])\n",
        "\n",
        "plt.title('Filter Resonator Photon Number')\n",
        "plt.xlabel('Evolution Time (ns)')\n",
        "plt.ylabel('Filter Resonator Photon Number')"
      ],
      "metadata": {
        "id": "9pLFfRHa5eHf"
      },
      "execution_count": null,
      "outputs": []
    },
    {
      "cell_type": "code",
      "source": [
        "# Plot Results\n",
        "\n",
        "plt.plot(tlist, np.sqrt(result.expect[7] - result.expect[5]*result.expect[5]), label=\"photon number fluctuation simulation\")\n",
        "plt.plot(tlist, np.sqrt(result.expect[5]), label=\"photon number fluctuation calculated\")\n",
        "\n",
        "plt.legend()\n",
        "plt.title('Filter Resonator Photon Number Fluctuation')\n",
        "plt.xlabel('Evolution Time (ns)')\n",
        "plt.ylabel('Filter Resonator Photon Number Fluctuation')"
      ],
      "metadata": {
        "id": "eqUrCDEG5eHf"
      },
      "execution_count": null,
      "outputs": []
    },
    {
      "cell_type": "code",
      "source": [
        "# Fitting function : exponential function\n",
        "\n",
        "def func(t, a, b, kappa):\n",
        "  return a*(1 - 2*np.exp(-kappa*t/2)*np.cos(2*np.pi*b*t) + np.exp(-kappa*t))\n",
        "\n",
        "\n",
        "popt, pcov = curve_fit(func, tlist, result.expect[4], p0 = [0.02, 0.01, 0.012])\n",
        "\n",
        "popt"
      ],
      "metadata": {
        "id": "EqK_bjYo5eHf"
      },
      "execution_count": null,
      "outputs": []
    },
    {
      "cell_type": "code",
      "source": [
        "rkappa_simulation.append(popt[2])\n",
        "rphoton_simulation.append(popt[0])\n",
        "roscillation_simulation.append(np.abs(popt[1]))"
      ],
      "metadata": {
        "id": "cJe65zFa5eHf"
      },
      "execution_count": null,
      "outputs": []
    },
    {
      "cell_type": "code",
      "source": [
        "# Fitting function : exponential function\n",
        "\n",
        "def func(t, a, b, kappa):\n",
        "  return a*(1 - 2*np.exp(-kappa*t/2)*np.cos(2*np.pi*b*t) + np.exp(-kappa*t))\n",
        "\n",
        "\n",
        "popt, pcov = curve_fit(func, tlist, result.expect[5], p0 = [0.02, 0.0128, 0.012])\n",
        "\n",
        "popt"
      ],
      "metadata": {
        "id": "05L9JQVv5eHf"
      },
      "execution_count": null,
      "outputs": []
    },
    {
      "cell_type": "code",
      "source": [
        "pkappa_simulation.append(popt[2])\n",
        "pphoton_simulation.append(popt[0])\n",
        "poscillation_simulation.append(np.abs(popt[1]))"
      ],
      "metadata": {
        "id": "xv5LJr2G5eHf"
      },
      "execution_count": null,
      "outputs": []
    },
    {
      "cell_type": "markdown",
      "source": [
        "### $ \\kappa = 2\\pi 20MHz$"
      ],
      "metadata": {
        "id": "toxFFqAA5eHf"
      }
    },
    {
      "cell_type": "code",
      "source": [
        "# Simulation\n",
        "\n",
        "N_seq = 0\n",
        "A = 0.005 * 2 * np.pi\n",
        "omega_qd = 37.6381\n",
        "kappa_f = 2 * np.pi * 0.020  # external coupling rate of resonator in units of GHz\n",
        "\n",
        "tlist = np.linspace(0, 1000, 10000)\n",
        "\n",
        "result = mesolve(\n",
        "    [H0, [H1, Hrd_lab_frame], [H2, CP_lab_frame]],\n",
        "    psis_dressed,\n",
        "    tlist,\n",
        "    c_ops = [np.sqrt(kappa_f) * tensor(qeye(2), qeye(N), b)],\n",
        "    args = {'A': A, 'T_srt_r': 0, 'T_end_r': 50000, 'Omega_rd': omega_rd, 'B': B, 'T_srt_q': 0, 'T_end_q': 400, 'N_seq': N_seq, 'Omega_qd': omega_qd},\n",
        "    e_ops = op_list,\n",
        ")"
      ],
      "metadata": {
        "id": "cAhA_52K5eHf"
      },
      "execution_count": null,
      "outputs": []
    },
    {
      "cell_type": "code",
      "source": [
        "# Plot Results\n",
        "\n",
        "plt.plot(tlist, result.expect[4])\n",
        "\n",
        "plt.title('Readout Resonator Photon Number')\n",
        "plt.xlabel('Evolution Time (ns)')\n",
        "plt.ylabel('Readout Resonator Photon Number')"
      ],
      "metadata": {
        "id": "hYwGs8tY5eHf"
      },
      "execution_count": null,
      "outputs": []
    },
    {
      "cell_type": "code",
      "source": [
        "# Plot Results\n",
        "\n",
        "plt.plot(tlist, np.sqrt(result.expect[6] - result.expect[4]*result.expect[4]), label=\"photon number fluctuation simulation\")\n",
        "plt.plot(tlist, np.sqrt(result.expect[4]), label=\"photon number fluctuation calculated\")\n",
        "\n",
        "plt.legend()\n",
        "plt.title('Readout Resonator Photon Number Fluctuation')\n",
        "plt.xlabel('Evolution Time (ns)')\n",
        "plt.ylabel('Readout Resonator Photon Number Fluctuation')"
      ],
      "metadata": {
        "id": "fcmiW0_x5eHf"
      },
      "execution_count": null,
      "outputs": []
    },
    {
      "cell_type": "code",
      "source": [
        "# Plot Results\n",
        "\n",
        "plt.plot(tlist, result.expect[5])\n",
        "\n",
        "plt.title('Filter Resonator Photon Number')\n",
        "plt.xlabel('Evolution Time (ns)')\n",
        "plt.ylabel('Filter Resonator Photon Number')"
      ],
      "metadata": {
        "id": "Czc5kcyt5eHf"
      },
      "execution_count": null,
      "outputs": []
    },
    {
      "cell_type": "code",
      "source": [
        "# Plot Results\n",
        "\n",
        "plt.plot(tlist, np.sqrt(result.expect[7] - result.expect[5]*result.expect[5]), label=\"photon number fluctuation simulation\")\n",
        "plt.plot(tlist, np.sqrt(result.expect[5]), label=\"photon number fluctuation calculated\")\n",
        "\n",
        "plt.legend()\n",
        "plt.title('Filter Resonator Photon Number Fluctuation')\n",
        "plt.xlabel('Evolution Time (ns)')\n",
        "plt.ylabel('Filter Resonator Photon Number Fluctuation')"
      ],
      "metadata": {
        "id": "XjM_J5ch5eHg"
      },
      "execution_count": null,
      "outputs": []
    },
    {
      "cell_type": "code",
      "source": [
        "# Fitting function : exponential function\n",
        "\n",
        "def func(t, a, b, kappa):\n",
        "  return a*(1 - 2*np.exp(-kappa*t/2)*np.cos(2*np.pi*b*t) + np.exp(-kappa*t))\n",
        "\n",
        "\n",
        "popt, pcov = curve_fit(func, tlist, result.expect[4], p0 = [0.02, 0.01, 0.012])\n",
        "\n",
        "popt"
      ],
      "metadata": {
        "id": "90zyTcsu5eHg"
      },
      "execution_count": null,
      "outputs": []
    },
    {
      "cell_type": "code",
      "source": [
        "rkappa_simulation.append(popt[2])\n",
        "rphoton_simulation.append(popt[0])\n",
        "roscillation_simulation.append(np.abs(popt[1]))"
      ],
      "metadata": {
        "id": "Ja_witQd5eHg"
      },
      "execution_count": null,
      "outputs": []
    },
    {
      "cell_type": "code",
      "source": [
        "# Fitting function : exponential function\n",
        "\n",
        "def func(t, a, b, kappa):\n",
        "  return a*(1 - 2*np.exp(-kappa*t/2)*np.cos(2*np.pi*b*t) + np.exp(-kappa*t))\n",
        "\n",
        "\n",
        "popt, pcov = curve_fit(func, tlist, result.expect[5], p0 = [0.02, 0.0128, 0.012])\n",
        "\n",
        "popt"
      ],
      "metadata": {
        "id": "F-B-W3ni5eHg"
      },
      "execution_count": null,
      "outputs": []
    },
    {
      "cell_type": "code",
      "source": [
        "pkappa_simulation.append(popt[2])\n",
        "pphoton_simulation.append(popt[0])\n",
        "poscillation_simulation.append(np.abs(popt[1]))"
      ],
      "metadata": {
        "id": "g-O6WtXK5eHg"
      },
      "execution_count": null,
      "outputs": []
    },
    {
      "cell_type": "markdown",
      "source": [
        "### $ \\kappa = 2\\pi 25MHz$"
      ],
      "metadata": {
        "id": "eD4wu3F15eHg"
      }
    },
    {
      "cell_type": "code",
      "source": [
        "# Simulation\n",
        "\n",
        "N_seq = 0\n",
        "A = 0.005 * 2 * np.pi\n",
        "omega_qd = 37.6381\n",
        "kappa_f = 2 * np.pi * 0.025  # external coupling rate of resonator in units of GHz\n",
        "\n",
        "tlist = np.linspace(0, 1000, 10000)\n",
        "\n",
        "result = mesolve(\n",
        "    [H0, [H1, Hrd_lab_frame], [H2, CP_lab_frame]],\n",
        "    psis_dressed,\n",
        "    tlist,\n",
        "    c_ops = [np.sqrt(kappa_f) * tensor(qeye(2), qeye(N), b)],\n",
        "    args = {'A': A, 'T_srt_r': 0, 'T_end_r': 50000, 'Omega_rd': omega_rd, 'B': B, 'T_srt_q': 0, 'T_end_q': 400, 'N_seq': N_seq, 'Omega_qd': omega_qd},\n",
        "    e_ops = op_list,\n",
        ")"
      ],
      "metadata": {
        "id": "Jc2094145eHg"
      },
      "execution_count": null,
      "outputs": []
    },
    {
      "cell_type": "code",
      "source": [
        "# Plot Results\n",
        "\n",
        "plt.plot(tlist, result.expect[4])\n",
        "\n",
        "plt.title('Readout Resonator Photon Number')\n",
        "plt.xlabel('Evolution Time (ns)')\n",
        "plt.ylabel('Readout Resonator Photon Number')"
      ],
      "metadata": {
        "id": "-8WTLR-f5eHg"
      },
      "execution_count": null,
      "outputs": []
    },
    {
      "cell_type": "code",
      "source": [
        "# Plot Results\n",
        "\n",
        "plt.plot(tlist, np.sqrt(result.expect[6] - result.expect[4]*result.expect[4]), label=\"photon number fluctuation simulation\")\n",
        "plt.plot(tlist, np.sqrt(result.expect[4]), label=\"photon number fluctuation calculated\")\n",
        "\n",
        "plt.legend()\n",
        "plt.title('Readout Resonator Photon Number Fluctuation')\n",
        "plt.xlabel('Evolution Time (ns)')\n",
        "plt.ylabel('Readout Resonator Photon Number Fluctuation')"
      ],
      "metadata": {
        "id": "8El-8JxF5eHg"
      },
      "execution_count": null,
      "outputs": []
    },
    {
      "cell_type": "code",
      "source": [
        "# Plot Results\n",
        "\n",
        "plt.plot(tlist, result.expect[5])\n",
        "\n",
        "plt.title('Filter Resonator Photon Number')\n",
        "plt.xlabel('Evolution Time (ns)')\n",
        "plt.ylabel('Filter Resonator Photon Number')"
      ],
      "metadata": {
        "id": "P8mQOE6N5eHg"
      },
      "execution_count": null,
      "outputs": []
    },
    {
      "cell_type": "code",
      "source": [
        "# Plot Results\n",
        "\n",
        "plt.plot(tlist, np.sqrt(result.expect[7] - result.expect[5]*result.expect[5]), label=\"photon number fluctuation simulation\")\n",
        "plt.plot(tlist, np.sqrt(result.expect[5]), label=\"photon number fluctuation calculated\")\n",
        "\n",
        "plt.legend()\n",
        "plt.title('Filter Resonator Photon Number Fluctuation')\n",
        "plt.xlabel('Evolution Time (ns)')\n",
        "plt.ylabel('Filter Resonator Photon Number Fluctuation')"
      ],
      "metadata": {
        "id": "Wr1kJhJz5eHg"
      },
      "execution_count": null,
      "outputs": []
    },
    {
      "cell_type": "code",
      "source": [
        "# Fitting function : exponential function\n",
        "\n",
        "def func(t, a, b, kappa):\n",
        "  return a*(1 - 2*np.exp(-kappa*t/2)*np.cos(2*np.pi*b*t) + np.exp(-kappa*t))\n",
        "\n",
        "\n",
        "popt, pcov = curve_fit(func, tlist, result.expect[4], p0 = [0.02, 0.01, 0.012])\n",
        "\n",
        "popt"
      ],
      "metadata": {
        "id": "JUwkMJIP5eHg"
      },
      "execution_count": null,
      "outputs": []
    },
    {
      "cell_type": "code",
      "source": [
        "rkappa_simulation.append(popt[2])\n",
        "rphoton_simulation.append(popt[0])\n",
        "roscillation_simulation.append(np.abs(popt[1]))"
      ],
      "metadata": {
        "id": "oojYTv8h5eHg"
      },
      "execution_count": null,
      "outputs": []
    },
    {
      "cell_type": "code",
      "source": [
        "# Fitting function : exponential function\n",
        "\n",
        "def func(t, a, b, kappa):\n",
        "  return a*(1 - 2*np.exp(-kappa*t/2)*np.cos(2*np.pi*b*t) + np.exp(-kappa*t))\n",
        "\n",
        "\n",
        "popt, pcov = curve_fit(func, tlist, result.expect[5], p0 = [0.02, 0.0128, 0.012])\n",
        "\n",
        "popt"
      ],
      "metadata": {
        "id": "vx9dk7Nm5eHg"
      },
      "execution_count": null,
      "outputs": []
    },
    {
      "cell_type": "code",
      "source": [
        "pkappa_simulation.append(popt[2])\n",
        "pphoton_simulation.append(popt[0])\n",
        "poscillation_simulation.append(np.abs(popt[1]))"
      ],
      "metadata": {
        "id": "g5jXaZQX5eHg"
      },
      "execution_count": null,
      "outputs": []
    },
    {
      "cell_type": "markdown",
      "source": [
        "### $ \\kappa = 2\\pi 30MHz$"
      ],
      "metadata": {
        "id": "q-8aiDAU5eHg"
      }
    },
    {
      "cell_type": "code",
      "source": [
        "# Simulation\n",
        "\n",
        "N_seq = 0\n",
        "A = 0.005 * 2 * np.pi\n",
        "omega_qd = 37.6381\n",
        "kappa_f = 2 * np.pi * 0.030  # external coupling rate of resonator in units of GHz\n",
        "\n",
        "tlist = np.linspace(0, 1000, 10000)\n",
        "\n",
        "result = mesolve(\n",
        "    [H0, [H1, Hrd_lab_frame], [H2, CP_lab_frame]],\n",
        "    psis_dressed,\n",
        "    tlist,\n",
        "    c_ops = [np.sqrt(kappa_f) * tensor(qeye(2), qeye(N), b)],\n",
        "    args = {'A': A, 'T_srt_r': 0, 'T_end_r': 50000, 'Omega_rd': omega_rd, 'B': B, 'T_srt_q': 0, 'T_end_q': 400, 'N_seq': N_seq, 'Omega_qd': omega_qd},\n",
        "    e_ops = op_list,\n",
        ")"
      ],
      "metadata": {
        "id": "PUKkDmwr5eHh"
      },
      "execution_count": null,
      "outputs": []
    },
    {
      "cell_type": "code",
      "source": [
        "# Plot Results\n",
        "\n",
        "plt.plot(tlist, result.expect[4])\n",
        "\n",
        "plt.title('Readout Resonator Photon Number')\n",
        "plt.xlabel('Evolution Time (ns)')\n",
        "plt.ylabel('Readout Resonator Photon Number')"
      ],
      "metadata": {
        "id": "eQbCnM6_5eHh"
      },
      "execution_count": null,
      "outputs": []
    },
    {
      "cell_type": "code",
      "source": [
        "# Plot Results\n",
        "\n",
        "plt.plot(tlist, np.sqrt(result.expect[6] - result.expect[4]*result.expect[4]), label=\"photon number fluctuation simulation\")\n",
        "plt.plot(tlist, np.sqrt(result.expect[4]), label=\"photon number fluctuation calculated\")\n",
        "\n",
        "plt.legend()\n",
        "plt.title('Readout Resonator Photon Number Fluctuation')\n",
        "plt.xlabel('Evolution Time (ns)')\n",
        "plt.ylabel('Readout Resonator Photon Number Fluctuation')"
      ],
      "metadata": {
        "id": "hO6F-CH85eHi"
      },
      "execution_count": null,
      "outputs": []
    },
    {
      "cell_type": "code",
      "source": [
        "# Plot Results\n",
        "\n",
        "plt.plot(tlist, result.expect[5])\n",
        "\n",
        "plt.title('Filter Resonator Photon Number')\n",
        "plt.xlabel('Evolution Time (ns)')\n",
        "plt.ylabel('Filter Resonator Photon Number')"
      ],
      "metadata": {
        "id": "b8_73kAN5eHi"
      },
      "execution_count": null,
      "outputs": []
    },
    {
      "cell_type": "code",
      "source": [
        "# Plot Results\n",
        "\n",
        "plt.plot(tlist, np.sqrt(result.expect[7] - result.expect[5]*result.expect[5]), label=\"photon number fluctuation simulation\")\n",
        "plt.plot(tlist, np.sqrt(result.expect[5]), label=\"photon number fluctuation calculated\")\n",
        "\n",
        "plt.legend()\n",
        "plt.title('Filter Resonator Photon Number Fluctuation')\n",
        "plt.xlabel('Evolution Time (ns)')\n",
        "plt.ylabel('Filter Resonator Photon Number Fluctuation')"
      ],
      "metadata": {
        "id": "wYOS7mGj5eHi"
      },
      "execution_count": null,
      "outputs": []
    },
    {
      "cell_type": "code",
      "source": [
        "# Fitting function : exponential function\n",
        "\n",
        "def func(t, a, b, kappa):\n",
        "  return a*(1 - 2*np.exp(-kappa*t/2)*np.cos(2*np.pi*b*t) + np.exp(-kappa*t))\n",
        "\n",
        "\n",
        "popt, pcov = curve_fit(func, tlist, result.expect[4], p0 = [0.02, 0.01, 0.012])\n",
        "\n",
        "popt"
      ],
      "metadata": {
        "id": "VEYqAo705eHi"
      },
      "execution_count": null,
      "outputs": []
    },
    {
      "cell_type": "code",
      "source": [
        "rkappa_simulation.append(popt[2])\n",
        "rphoton_simulation.append(popt[0])\n",
        "roscillation_simulation.append(np.abs(popt[1]))"
      ],
      "metadata": {
        "id": "e0MhUJm65eHi"
      },
      "execution_count": null,
      "outputs": []
    },
    {
      "cell_type": "code",
      "source": [
        "# Fitting function : exponential function\n",
        "\n",
        "def func(t, a, b, kappa):\n",
        "  return a*(1 - 2*np.exp(-kappa*t/2)*np.cos(2*np.pi*b*t) + np.exp(-kappa*t))\n",
        "\n",
        "\n",
        "popt, pcov = curve_fit(func, tlist, result.expect[5], p0 = [0.02, 0.0128, 0.012])\n",
        "\n",
        "popt"
      ],
      "metadata": {
        "id": "cFZZ5Oni5eHi"
      },
      "execution_count": null,
      "outputs": []
    },
    {
      "cell_type": "code",
      "source": [
        "pkappa_simulation.append(popt[2])\n",
        "pphoton_simulation.append(popt[0])\n",
        "poscillation_simulation.append(np.abs(popt[1]))"
      ],
      "metadata": {
        "id": "xSg5xpSb5eHi"
      },
      "execution_count": null,
      "outputs": []
    },
    {
      "cell_type": "markdown",
      "source": [
        "## $G=2\\pi 30MHz$"
      ],
      "metadata": {
        "id": "PcbrpGQM5e85"
      }
    },
    {
      "cell_type": "code",
      "execution_count": null,
      "metadata": {
        "id": "6UtIaFus5e9F"
      },
      "outputs": [],
      "source": [
        "# readout resonator & purcell filter resonator dimension\n",
        "\n",
        "N = 3\n",
        "\n",
        "\n",
        "# constant\n",
        "\n",
        "B = 0.01 * 2 * np.pi        # gate operation time : 50ns\n",
        "\n",
        "omega_r = 2 * np.pi * 7.0   # resonator frequency in units of GHz\n",
        "omega_f = 2 * np.pi * 7.0   # resonator frequency in units of GHz\n",
        "omega_q = 2 * np.pi * 6.0   # qubit frequency in units of GHz\n",
        "omega_rd = 2 * np.pi * 7.0  # qubit frequency in units of GHz\n",
        "g = 2 * np.pi * 0.1         # qubit-resonator coupling in units of GHz\n",
        "G = 2 * np.pi * 0.030        # qubit-resonator coupling in units of GHz\n",
        "\n",
        "\n",
        "detune = omega_q-omega_r\n",
        "chi = g*g/(detune)\n",
        "\n",
        "omega_rd = omega_r          # qubit frequency in units of GHz\n",
        "omega_qd = omega_q + chi\n",
        "\n",
        "# operator defined on bare basis\n",
        "\n",
        "sz = sigmaz()\n",
        "sx = sigmax()\n",
        "sy = sigmay()\n",
        "sp = basis(2,1)*basis(2,0).dag()\n",
        "sm = basis(2,0)*basis(2,1).dag()\n",
        "\n",
        "a = destroy(N)\n",
        "b = destroy(N)\n",
        "\n",
        "sx_bare                 = tensor(sx, qeye(N), qeye(N))\n",
        "sy_bare                 = tensor(sy, qeye(N), qeye(N))\n",
        "sz_bare                 = tensor(sz, qeye(N), qeye(N))\n",
        "sp_bare                 = tensor(sp, qeye(N), qeye(N))\n",
        "sm_bare                 = tensor(sm, qeye(N), qeye(N))\n",
        "\n",
        "readout_annihilate_bare = tensor(qeye(2), a, qeye(N))\n",
        "readout_create_bare     = tensor(qeye(2), a.dag(), qeye(N))\n",
        "readout_number_bare     = tensor(qeye(2), a.dag()*a, qeye(N))\n",
        "\n",
        "filter_annihilate_bare  = tensor(qeye(2), qeye(N), b)\n",
        "filter_create_bare      = tensor(qeye(2), qeye(N), b.dag())\n",
        "filter_number_bare      = tensor(qeye(2), qeye(N), b.dag()*b)\n",
        "\n",
        "psi0_bare               = tensor(basis(2,0), basis(N,0), basis(N,0))\n",
        "psis_bare               = tensor((basis(2,0) + basis(2,1))/np.sqrt(2), basis(N,0), basis(N,0))\n",
        "psi1_bare               = tensor(basis(2,1), basis(N,0), basis(N,0))\n",
        "\n",
        "\n",
        "H0 = -0.5*omega_q*sz_bare + omega_r*readout_number_bare + omega_f*filter_number_bare + g*(tensor(sp, a, qeye(N))+tensor(sm, a.dag(), qeye(N))) + G*(tensor(qeye(2), a, b.dag()) + tensor(qeye(2), a.dag(), b))\n",
        "H1 = tensor(qeye(2), a+a.dag(), qeye(N))\n",
        "H2 = sx_bare"
      ]
    },
    {
      "cell_type": "code",
      "source": [
        "sx_dressed = H0.eigenstates()[1][0]*H0.eigenstates()[1][1].dag() + H0.eigenstates()[1][2]*H0.eigenstates()[1][5].dag() \\\n",
        "+ H0.eigenstates()[1][3]*H0.eigenstates()[1][4].dag() + H0.eigenstates()[1][6]*H0.eigenstates()[1][10].dag() \\\n",
        "+ H0.eigenstates()[1][7]*H0.eigenstates()[1][9].dag() + H0.eigenstates()[1][8]*H0.eigenstates()[1][11].dag() \\\n",
        "+ H0.eigenstates()[1][12]*H0.eigenstates()[1][15].dag() + H0.eigenstates()[1][13]*H0.eigenstates()[1][14].dag() \\\n",
        "+ H0.eigenstates()[1][16]*H0.eigenstates()[1][17].dag() \\\n",
        "+ H0.eigenstates()[1][1]*H0.eigenstates()[1][0].dag() + H0.eigenstates()[1][5]*H0.eigenstates()[1][2].dag() \\\n",
        "+ H0.eigenstates()[1][4]*H0.eigenstates()[1][3].dag() + H0.eigenstates()[1][10]*H0.eigenstates()[1][6].dag() \\\n",
        "+ H0.eigenstates()[1][9]*H0.eigenstates()[1][7].dag() + H0.eigenstates()[1][11]*H0.eigenstates()[1][8].dag() \\\n",
        "+ H0.eigenstates()[1][15]*H0.eigenstates()[1][12].dag() + H0.eigenstates()[1][14]*H0.eigenstates()[1][13].dag() \\\n",
        "+ H0.eigenstates()[1][17]*H0.eigenstates()[1][16].dag()\n",
        "\n",
        "\n",
        "sy_dressed = + (-1j)*H0.eigenstates()[1][0]*H0.eigenstates()[1][1].dag() + (-1j)*H0.eigenstates()[1][2]*H0.eigenstates()[1][5].dag() \\\n",
        "+ (-1j)*H0.eigenstates()[1][3]*H0.eigenstates()[1][4].dag() + (-1j)*H0.eigenstates()[1][6]*H0.eigenstates()[1][10].dag() \\\n",
        "+ (-1j)*H0.eigenstates()[1][7]*H0.eigenstates()[1][9].dag() + (-1j)*H0.eigenstates()[1][8]*H0.eigenstates()[1][11].dag() \\\n",
        "+ (-1j)*H0.eigenstates()[1][12]*H0.eigenstates()[1][15].dag() + (-1j)*H0.eigenstates()[1][13]*H0.eigenstates()[1][14].dag() \\\n",
        "+ (-1j)*H0.eigenstates()[1][16]*H0.eigenstates()[1][17].dag() \\\n",
        "+ (+1j)*H0.eigenstates()[1][1]*H0.eigenstates()[1][0].dag() + (+1j)*H0.eigenstates()[1][5]*H0.eigenstates()[1][2].dag() \\\n",
        "+ (+1j)*H0.eigenstates()[1][4]*H0.eigenstates()[1][3].dag() + (+1j)*H0.eigenstates()[1][10]*H0.eigenstates()[1][6].dag() \\\n",
        "+ (+1j)*H0.eigenstates()[1][9]*H0.eigenstates()[1][7].dag() + (+1j)*H0.eigenstates()[1][11]*H0.eigenstates()[1][8].dag() \\\n",
        "+ (+1j)*H0.eigenstates()[1][15]*H0.eigenstates()[1][12].dag() + (+1j)*H0.eigenstates()[1][14]*H0.eigenstates()[1][13].dag() \\\n",
        "+ (+1j)*H0.eigenstates()[1][17]*H0.eigenstates()[1][16].dag()\n",
        "\n",
        "\n",
        "sz_dressed = H0.eigenstates()[1][0]*H0.eigenstates()[1][0].dag() + H0.eigenstates()[1][2]*H0.eigenstates()[1][2].dag() \\\n",
        "+ H0.eigenstates()[1][3]*H0.eigenstates()[1][3].dag() + H0.eigenstates()[1][6]*H0.eigenstates()[1][6].dag() \\\n",
        "+ H0.eigenstates()[1][7]*H0.eigenstates()[1][7].dag() + H0.eigenstates()[1][8]*H0.eigenstates()[1][8].dag() \\\n",
        "+ H0.eigenstates()[1][12]*H0.eigenstates()[1][12].dag() + H0.eigenstates()[1][13]*H0.eigenstates()[1][13].dag() \\\n",
        "+ H0.eigenstates()[1][16]*H0.eigenstates()[1][16].dag() \\\n",
        "- H0.eigenstates()[1][1]*H0.eigenstates()[1][1].dag() - H0.eigenstates()[1][4]*H0.eigenstates()[1][4].dag() \\\n",
        "- H0.eigenstates()[1][5]*H0.eigenstates()[1][5].dag() - H0.eigenstates()[1][9]*H0.eigenstates()[1][9].dag() \\\n",
        "- H0.eigenstates()[1][10]*H0.eigenstates()[1][10].dag() - H0.eigenstates()[1][11]*H0.eigenstates()[1][11].dag() \\\n",
        "- H0.eigenstates()[1][14]*H0.eigenstates()[1][14].dag() - H0.eigenstates()[1][15]*H0.eigenstates()[1][15].dag() \\\n",
        "- H0.eigenstates()[1][17]*H0.eigenstates()[1][17].dag()\n",
        "\n",
        "\n",
        "sp_dressed = H0.eigenstates()[1][1]*H0.eigenstates()[1][0].dag() + H0.eigenstates()[1][5]*H0.eigenstates()[1][2].dag() \\\n",
        "+ H0.eigenstates()[1][4]*H0.eigenstates()[1][3].dag() + H0.eigenstates()[1][10]*H0.eigenstates()[1][6].dag() \\\n",
        "+ H0.eigenstates()[1][9]*H0.eigenstates()[1][7].dag() + H0.eigenstates()[1][11]*H0.eigenstates()[1][8].dag() \\\n",
        "+ H0.eigenstates()[1][15]*H0.eigenstates()[1][12].dag() + H0.eigenstates()[1][14]*H0.eigenstates()[1][13].dag() \\\n",
        "+ H0.eigenstates()[1][17]*H0.eigenstates()[1][16].dag()\n",
        "\n",
        "\n",
        "readout_number_dressed = H0.eigenstates()[1][3]*H0.eigenstates()[1][3].dag() + H0.eigenstates()[1][4]*H0.eigenstates()[1][4].dag() \\\n",
        "+ H0.eigenstates()[1][7]*H0.eigenstates()[1][7].dag() + H0.eigenstates()[1][9]*H0.eigenstates()[1][9].dag() \\\n",
        "+ H0.eigenstates()[1][12]*H0.eigenstates()[1][12].dag() + H0.eigenstates()[1][14]*H0.eigenstates()[1][14].dag() \\\n",
        "+ 2*H0.eigenstates()[1][8]*H0.eigenstates()[1][8].dag() + 2*H0.eigenstates()[1][11]*H0.eigenstates()[1][11].dag() \\\n",
        "+ 2*H0.eigenstates()[1][13]*H0.eigenstates()[1][13].dag() + 2*H0.eigenstates()[1][15]*H0.eigenstates()[1][15].dag() \\\n",
        "+ 2*H0.eigenstates()[1][16]*H0.eigenstates()[1][16].dag() + 2*H0.eigenstates()[1][17]*H0.eigenstates()[1][17].dag() \\\n",
        "\n",
        "\n",
        "filter_number_dressed = H0.eigenstates()[1][2]*H0.eigenstates()[1][2].dag() + H0.eigenstates()[1][5]*H0.eigenstates()[1][5].dag() \\\n",
        "+ H0.eigenstates()[1][7]*H0.eigenstates()[1][7].dag() + H0.eigenstates()[1][9]*H0.eigenstates()[1][9].dag() \\\n",
        "+ H0.eigenstates()[1][13]*H0.eigenstates()[1][13].dag() + H0.eigenstates()[1][15]*H0.eigenstates()[1][15].dag() \\\n",
        "+ 2*H0.eigenstates()[1][6]*H0.eigenstates()[1][6].dag() + 2*H0.eigenstates()[1][10]*H0.eigenstates()[1][10].dag() \\\n",
        "+ 2*H0.eigenstates()[1][12]*H0.eigenstates()[1][12].dag() + 2*H0.eigenstates()[1][14]*H0.eigenstates()[1][14].dag() \\\n",
        "+ 2*H0.eigenstates()[1][16]*H0.eigenstates()[1][16].dag() + 2*H0.eigenstates()[1][17]*H0.eigenstates()[1][17].dag()"
      ],
      "metadata": {
        "id": "rRwMOWvo5e9F"
      },
      "execution_count": null,
      "outputs": []
    },
    {
      "cell_type": "code",
      "source": [
        "psi0_dressed             = H0.eigenstates()[1][0]\n",
        "psi1_dressed             = H0.eigenstates()[1][1]\n",
        "psis_dressed             = (psi0_dressed + psi1_dressed)/np.sqrt(2)\n",
        "\n",
        "op_list = [sx_dressed, sy_dressed, sz_dressed, sp_dressed, readout_number_dressed, filter_number_dressed]"
      ],
      "metadata": {
        "id": "atUv8JSd5e9F"
      },
      "execution_count": null,
      "outputs": []
    },
    {
      "cell_type": "markdown",
      "source": [
        "### $ \\kappa = 2\\pi 5MHz$"
      ],
      "metadata": {
        "id": "yJ4sxW885e9G"
      }
    },
    {
      "cell_type": "code",
      "source": [
        "# Simulation\n",
        "\n",
        "N_seq = 0\n",
        "A = 0.005 * 2 * np.pi\n",
        "omega_qd = 37.6381\n",
        "kappa_f = 2 * np.pi * 0.05  # external coupling rate of resonator in units of GHz\n",
        "\n",
        "tlist = np.linspace(0, 1000, 10000)\n",
        "\n",
        "result = mesolve(\n",
        "    [H0, [H1, Hrd_lab_frame], [H2, CP_lab_frame]],\n",
        "    psis_dressed,\n",
        "    tlist,\n",
        "    c_ops = [np.sqrt(kappa_f) * tensor(qeye(2), qeye(N), b)],\n",
        "    args = {'A': A, 'T_srt_r': 0, 'T_end_r': 50000, 'Omega_rd': omega_rd, 'B': B, 'T_srt_q': 0, 'T_end_q': 400, 'N_seq': N_seq, 'Omega_qd': omega_qd},\n",
        "    e_ops = op_list,\n",
        ")"
      ],
      "metadata": {
        "id": "rx40gOhR5e9G"
      },
      "execution_count": null,
      "outputs": []
    },
    {
      "cell_type": "code",
      "source": [
        "# Plot Results\n",
        "\n",
        "plt.plot(tlist, result.expect[4])\n",
        "\n",
        "plt.title('Readout Resonator Photon Number')\n",
        "plt.xlabel('Evolution Time (ns)')\n",
        "plt.ylabel('Readout Resonator Photon Number')"
      ],
      "metadata": {
        "id": "kot51i9w5e9G"
      },
      "execution_count": null,
      "outputs": []
    },
    {
      "cell_type": "code",
      "source": [
        "# Plot Results\n",
        "\n",
        "plt.plot(tlist, np.sqrt(result.expect[6] - result.expect[4]*result.expect[4]), label=\"photon number fluctuation simulation\")\n",
        "plt.plot(tlist, np.sqrt(result.expect[4]), label=\"photon number fluctuation calculated\")\n",
        "\n",
        "plt.legend()\n",
        "plt.title('Readout Resonator Photon Number Fluctuation')\n",
        "plt.xlabel('Evolution Time (ns)')\n",
        "plt.ylabel('Readout Resonator Photon Number Fluctuation')"
      ],
      "metadata": {
        "id": "pBkUU2qd5e9G"
      },
      "execution_count": null,
      "outputs": []
    },
    {
      "cell_type": "code",
      "source": [
        "# Plot Results\n",
        "\n",
        "plt.plot(tlist, result.expect[5])\n",
        "\n",
        "plt.title('Filter Resonator Photon Number')\n",
        "plt.xlabel('Evolution Time (ns)')\n",
        "plt.ylabel('Filter Resonator Photon Number')"
      ],
      "metadata": {
        "id": "ZleAR-jS5e9G"
      },
      "execution_count": null,
      "outputs": []
    },
    {
      "cell_type": "code",
      "source": [
        "# Plot Results\n",
        "\n",
        "plt.plot(tlist, np.sqrt(result.expect[7] - result.expect[5]*result.expect[5]), label=\"photon number fluctuation simulation\")\n",
        "plt.plot(tlist, np.sqrt(result.expect[5]), label=\"photon number fluctuation calculated\")\n",
        "\n",
        "plt.legend()\n",
        "plt.title('Filter Resonator Photon Number Fluctuation')\n",
        "plt.xlabel('Evolution Time (ns)')\n",
        "plt.ylabel('Filter Resonator Photon Number Fluctuation')"
      ],
      "metadata": {
        "id": "sgRS_9D-5e9G"
      },
      "execution_count": null,
      "outputs": []
    },
    {
      "cell_type": "code",
      "source": [
        "# Fitting function : exponential function\n",
        "\n",
        "def func(t, a, b, kappa):\n",
        "  return a*(1 - 2*np.exp(-kappa*t/2)*np.cos(2*np.pi*b*t) + np.exp(-kappa*t))\n",
        "\n",
        "\n",
        "popt, pcov = curve_fit(func, tlist, result.expect[4], p0 = [0.02, 0.01, 0.012])\n",
        "\n",
        "popt"
      ],
      "metadata": {
        "id": "Brp8p_BT5e9G"
      },
      "execution_count": null,
      "outputs": []
    },
    {
      "cell_type": "code",
      "source": [
        "rkappa_simulation.append(popt[2])\n",
        "rphoton_simulation.append(popt[0])\n",
        "roscillation_simulation.append(np.abs(popt[1]))"
      ],
      "metadata": {
        "id": "pA0eg6rD5e9G"
      },
      "execution_count": null,
      "outputs": []
    },
    {
      "cell_type": "code",
      "source": [
        "# Fitting function : exponential function\n",
        "\n",
        "def func(t, a, b, kappa):\n",
        "  return a*(1 - 2*np.exp(-kappa*t/2)*np.cos(2*np.pi*b*t) + np.exp(-kappa*t))\n",
        "\n",
        "\n",
        "popt, pcov = curve_fit(func, tlist, result.expect[5], p0 = [0.02, 0.0128, 0.012])\n",
        "\n",
        "popt"
      ],
      "metadata": {
        "id": "xfkcYBS25e9G"
      },
      "execution_count": null,
      "outputs": []
    },
    {
      "cell_type": "code",
      "source": [
        "pkappa_simulation.append(popt[2])\n",
        "pphoton_simulation.append(popt[0])\n",
        "poscillation_simulation.append(np.abs(popt[1]))"
      ],
      "metadata": {
        "id": "HsZfwNDu5e9G"
      },
      "execution_count": null,
      "outputs": []
    },
    {
      "cell_type": "markdown",
      "source": [
        "### $ \\kappa = 2\\pi 10MHz$"
      ],
      "metadata": {
        "id": "mnSM9oNi5e9G"
      }
    },
    {
      "cell_type": "code",
      "source": [
        "# Simulation\n",
        "\n",
        "N_seq = 0\n",
        "A = 0.005 * 2 * np.pi\n",
        "omega_qd = 37.6381\n",
        "kappa_f = 2 * np.pi * 0.10  # external coupling rate of resonator in units of GHz\n",
        "\n",
        "tlist = np.linspace(0, 1000, 10000)\n",
        "\n",
        "result = mesolve(\n",
        "    [H0, [H1, Hrd_lab_frame], [H2, CP_lab_frame]],\n",
        "    psis_dressed,\n",
        "    tlist,\n",
        "    c_ops = [np.sqrt(kappa_f) * tensor(qeye(2), qeye(N), b)],\n",
        "    args = {'A': A, 'T_srt_r': 0, 'T_end_r': 50000, 'Omega_rd': omega_rd, 'B': B, 'T_srt_q': 0, 'T_end_q': 400, 'N_seq': N_seq, 'Omega_qd': omega_qd},\n",
        "    e_ops = op_list,\n",
        ")"
      ],
      "metadata": {
        "id": "ZERYFP8a5e9G"
      },
      "execution_count": null,
      "outputs": []
    },
    {
      "cell_type": "code",
      "source": [
        "# Plot Results\n",
        "\n",
        "plt.plot(tlist, result.expect[4])\n",
        "\n",
        "plt.title('Readout Resonator Photon Number')\n",
        "plt.xlabel('Evolution Time (ns)')\n",
        "plt.ylabel('Readout Resonator Photon Number')"
      ],
      "metadata": {
        "id": "-dS72jdj5e9G"
      },
      "execution_count": null,
      "outputs": []
    },
    {
      "cell_type": "code",
      "source": [
        "# Plot Results\n",
        "\n",
        "plt.plot(tlist, np.sqrt(result.expect[6] - result.expect[4]*result.expect[4]), label=\"photon number fluctuation simulation\")\n",
        "plt.plot(tlist, np.sqrt(result.expect[4]), label=\"photon number fluctuation calculated\")\n",
        "\n",
        "plt.legend()\n",
        "plt.title('Readout Resonator Photon Number Fluctuation')\n",
        "plt.xlabel('Evolution Time (ns)')\n",
        "plt.ylabel('Readout Resonator Photon Number Fluctuation')"
      ],
      "metadata": {
        "id": "mPet7bcD5e9G"
      },
      "execution_count": null,
      "outputs": []
    },
    {
      "cell_type": "code",
      "source": [
        "# Plot Results\n",
        "\n",
        "plt.plot(tlist, result.expect[5])\n",
        "\n",
        "plt.title('Filter Resonator Photon Number')\n",
        "plt.xlabel('Evolution Time (ns)')\n",
        "plt.ylabel('Filter Resonator Photon Number')"
      ],
      "metadata": {
        "id": "D1d2D3S65e9G"
      },
      "execution_count": null,
      "outputs": []
    },
    {
      "cell_type": "code",
      "source": [
        "# Plot Results\n",
        "\n",
        "plt.plot(tlist, np.sqrt(result.expect[7] - result.expect[5]*result.expect[5]), label=\"photon number fluctuation simulation\")\n",
        "plt.plot(tlist, np.sqrt(result.expect[5]), label=\"photon number fluctuation calculated\")\n",
        "\n",
        "plt.legend()\n",
        "plt.title('Filter Resonator Photon Number Fluctuation')\n",
        "plt.xlabel('Evolution Time (ns)')\n",
        "plt.ylabel('Filter Resonator Photon Number Fluctuation')"
      ],
      "metadata": {
        "id": "i_OkWVd_5e9G"
      },
      "execution_count": null,
      "outputs": []
    },
    {
      "cell_type": "code",
      "source": [
        "# Fitting function : exponential function\n",
        "\n",
        "def func(t, a, b, kappa):\n",
        "  return a*(1 - 2*np.exp(-kappa*t/2)*np.cos(2*np.pi*b*t) + np.exp(-kappa*t))\n",
        "\n",
        "\n",
        "popt, pcov = curve_fit(func, tlist, result.expect[4], p0 = [0.02, 0.01, 0.012])\n",
        "\n",
        "popt"
      ],
      "metadata": {
        "id": "LbdPhhv95e9G"
      },
      "execution_count": null,
      "outputs": []
    },
    {
      "cell_type": "code",
      "source": [
        "rkappa_simulation.append(popt[2])\n",
        "rphoton_simulation.append(popt[0])\n",
        "roscillation_simulation.append(np.abs(popt[1]))"
      ],
      "metadata": {
        "id": "ksp1JHf65e9H"
      },
      "execution_count": null,
      "outputs": []
    },
    {
      "cell_type": "code",
      "source": [
        "# Fitting function : exponential function\n",
        "\n",
        "def func(t, a, b, kappa):\n",
        "  return a*(1 - 2*np.exp(-kappa*t/2)*np.cos(2*np.pi*b*t) + np.exp(-kappa*t))\n",
        "\n",
        "\n",
        "popt, pcov = curve_fit(func, tlist, result.expect[5], p0 = [0.02, 0.0128, 0.012])\n",
        "\n",
        "popt"
      ],
      "metadata": {
        "id": "w2oMGIVL5e9H"
      },
      "execution_count": null,
      "outputs": []
    },
    {
      "cell_type": "code",
      "source": [
        "pkappa_simulation.append(popt[2])\n",
        "pphoton_simulation.append(popt[0])\n",
        "poscillation_simulation.append(np.abs(popt[1]))"
      ],
      "metadata": {
        "id": "OHEB40MG5e9H"
      },
      "execution_count": null,
      "outputs": []
    },
    {
      "cell_type": "markdown",
      "source": [
        "### $ \\kappa = 2\\pi 15MHz$"
      ],
      "metadata": {
        "id": "fQqOCDw85e9H"
      }
    },
    {
      "cell_type": "code",
      "source": [
        "# Simulation\n",
        "\n",
        "N_seq = 0\n",
        "A = 0.005 * 2 * np.pi\n",
        "omega_qd = 37.6381\n",
        "kappa_f = 2 * np.pi * 0.015  # external coupling rate of resonator in units of GHz\n",
        "\n",
        "tlist = np.linspace(0, 1000, 10000)\n",
        "\n",
        "result = mesolve(\n",
        "    [H0, [H1, Hrd_lab_frame], [H2, CP_lab_frame]],\n",
        "    psis_dressed,\n",
        "    tlist,\n",
        "    c_ops = [np.sqrt(kappa_f) * tensor(qeye(2), qeye(N), b)],\n",
        "    args = {'A': A, 'T_srt_r': 0, 'T_end_r': 50000, 'Omega_rd': omega_rd, 'B': B, 'T_srt_q': 0, 'T_end_q': 400, 'N_seq': N_seq, 'Omega_qd': omega_qd},\n",
        "    e_ops = op_list,\n",
        ")"
      ],
      "metadata": {
        "id": "lszMpoAw5e9H"
      },
      "execution_count": null,
      "outputs": []
    },
    {
      "cell_type": "code",
      "source": [
        "# Plot Results\n",
        "\n",
        "plt.plot(tlist, result.expect[4])\n",
        "\n",
        "plt.title('Readout Resonator Photon Number')\n",
        "plt.xlabel('Evolution Time (ns)')\n",
        "plt.ylabel('Readout Resonator Photon Number')"
      ],
      "metadata": {
        "id": "lbMnhDGA5e9H"
      },
      "execution_count": null,
      "outputs": []
    },
    {
      "cell_type": "code",
      "source": [
        "# Plot Results\n",
        "\n",
        "plt.plot(tlist, np.sqrt(result.expect[6] - result.expect[4]*result.expect[4]), label=\"photon number fluctuation simulation\")\n",
        "plt.plot(tlist, np.sqrt(result.expect[4]), label=\"photon number fluctuation calculated\")\n",
        "\n",
        "plt.legend()\n",
        "plt.title('Readout Resonator Photon Number Fluctuation')\n",
        "plt.xlabel('Evolution Time (ns)')\n",
        "plt.ylabel('Readout Resonator Photon Number Fluctuation')"
      ],
      "metadata": {
        "id": "uIBcUDLq5e9H"
      },
      "execution_count": null,
      "outputs": []
    },
    {
      "cell_type": "code",
      "source": [
        "# Plot Results\n",
        "\n",
        "plt.plot(tlist, result.expect[5])\n",
        "\n",
        "plt.title('Filter Resonator Photon Number')\n",
        "plt.xlabel('Evolution Time (ns)')\n",
        "plt.ylabel('Filter Resonator Photon Number')"
      ],
      "metadata": {
        "id": "EpKIEa-B5e9H"
      },
      "execution_count": null,
      "outputs": []
    },
    {
      "cell_type": "code",
      "source": [
        "# Plot Results\n",
        "\n",
        "plt.plot(tlist, np.sqrt(result.expect[7] - result.expect[5]*result.expect[5]), label=\"photon number fluctuation simulation\")\n",
        "plt.plot(tlist, np.sqrt(result.expect[5]), label=\"photon number fluctuation calculated\")\n",
        "\n",
        "plt.legend()\n",
        "plt.title('Filter Resonator Photon Number Fluctuation')\n",
        "plt.xlabel('Evolution Time (ns)')\n",
        "plt.ylabel('Filter Resonator Photon Number Fluctuation')"
      ],
      "metadata": {
        "id": "UqWrP_2v5e9H"
      },
      "execution_count": null,
      "outputs": []
    },
    {
      "cell_type": "code",
      "source": [
        "# Fitting function : exponential function\n",
        "\n",
        "def func(t, a, b, kappa):\n",
        "  return a*(1 - 2*np.exp(-kappa*t/2)*np.cos(2*np.pi*b*t) + np.exp(-kappa*t))\n",
        "\n",
        "\n",
        "popt, pcov = curve_fit(func, tlist, result.expect[4], p0 = [0.02, 0.01, 0.012])\n",
        "\n",
        "popt"
      ],
      "metadata": {
        "id": "RcY3qLNf5e9H"
      },
      "execution_count": null,
      "outputs": []
    },
    {
      "cell_type": "code",
      "source": [
        "rkappa_simulation.append(popt[2])\n",
        "rphoton_simulation.append(popt[0])\n",
        "roscillation_simulation.append(np.abs(popt[1]))"
      ],
      "metadata": {
        "id": "33Gh2aOm5e9H"
      },
      "execution_count": null,
      "outputs": []
    },
    {
      "cell_type": "code",
      "source": [
        "# Fitting function : exponential function\n",
        "\n",
        "def func(t, a, b, kappa):\n",
        "  return a*(1 - 2*np.exp(-kappa*t/2)*np.cos(2*np.pi*b*t) + np.exp(-kappa*t))\n",
        "\n",
        "\n",
        "popt, pcov = curve_fit(func, tlist, result.expect[5], p0 = [0.02, 0.0128, 0.012])\n",
        "\n",
        "popt"
      ],
      "metadata": {
        "id": "bCC4ueoR5e9H"
      },
      "execution_count": null,
      "outputs": []
    },
    {
      "cell_type": "code",
      "source": [
        "pkappa_simulation.append(popt[2])\n",
        "pphoton_simulation.append(popt[0])\n",
        "poscillation_simulation.append(np.abs(popt[1]))"
      ],
      "metadata": {
        "id": "80gzaN-n5e9H"
      },
      "execution_count": null,
      "outputs": []
    },
    {
      "cell_type": "markdown",
      "source": [
        "### $ \\kappa = 2\\pi 20MHz$"
      ],
      "metadata": {
        "id": "mKZ-xWzP5e9H"
      }
    },
    {
      "cell_type": "code",
      "source": [
        "# Simulation\n",
        "\n",
        "N_seq = 0\n",
        "A = 0.005 * 2 * np.pi\n",
        "omega_qd = 37.6381\n",
        "kappa_f = 2 * np.pi * 0.020  # external coupling rate of resonator in units of GHz\n",
        "\n",
        "tlist = np.linspace(0, 1000, 10000)\n",
        "\n",
        "result = mesolve(\n",
        "    [H0, [H1, Hrd_lab_frame], [H2, CP_lab_frame]],\n",
        "    psis_dressed,\n",
        "    tlist,\n",
        "    c_ops = [np.sqrt(kappa_f) * tensor(qeye(2), qeye(N), b)],\n",
        "    args = {'A': A, 'T_srt_r': 0, 'T_end_r': 50000, 'Omega_rd': omega_rd, 'B': B, 'T_srt_q': 0, 'T_end_q': 400, 'N_seq': N_seq, 'Omega_qd': omega_qd},\n",
        "    e_ops = op_list,\n",
        ")"
      ],
      "metadata": {
        "id": "s8-RCWyA5e9H"
      },
      "execution_count": null,
      "outputs": []
    },
    {
      "cell_type": "code",
      "source": [
        "# Plot Results\n",
        "\n",
        "plt.plot(tlist, result.expect[4])\n",
        "\n",
        "plt.title('Readout Resonator Photon Number')\n",
        "plt.xlabel('Evolution Time (ns)')\n",
        "plt.ylabel('Readout Resonator Photon Number')"
      ],
      "metadata": {
        "id": "vy_Y8iY95e9H"
      },
      "execution_count": null,
      "outputs": []
    },
    {
      "cell_type": "code",
      "source": [
        "# Plot Results\n",
        "\n",
        "plt.plot(tlist, np.sqrt(result.expect[6] - result.expect[4]*result.expect[4]), label=\"photon number fluctuation simulation\")\n",
        "plt.plot(tlist, np.sqrt(result.expect[4]), label=\"photon number fluctuation calculated\")\n",
        "\n",
        "plt.legend()\n",
        "plt.title('Readout Resonator Photon Number Fluctuation')\n",
        "plt.xlabel('Evolution Time (ns)')\n",
        "plt.ylabel('Readout Resonator Photon Number Fluctuation')"
      ],
      "metadata": {
        "id": "HoHFaZVg5e9H"
      },
      "execution_count": null,
      "outputs": []
    },
    {
      "cell_type": "code",
      "source": [
        "# Plot Results\n",
        "\n",
        "plt.plot(tlist, result.expect[5])\n",
        "\n",
        "plt.title('Filter Resonator Photon Number')\n",
        "plt.xlabel('Evolution Time (ns)')\n",
        "plt.ylabel('Filter Resonator Photon Number')"
      ],
      "metadata": {
        "id": "KSygsW1z5e9H"
      },
      "execution_count": null,
      "outputs": []
    },
    {
      "cell_type": "code",
      "source": [
        "# Plot Results\n",
        "\n",
        "plt.plot(tlist, np.sqrt(result.expect[7] - result.expect[5]*result.expect[5]), label=\"photon number fluctuation simulation\")\n",
        "plt.plot(tlist, np.sqrt(result.expect[5]), label=\"photon number fluctuation calculated\")\n",
        "\n",
        "plt.legend()\n",
        "plt.title('Filter Resonator Photon Number Fluctuation')\n",
        "plt.xlabel('Evolution Time (ns)')\n",
        "plt.ylabel('Filter Resonator Photon Number Fluctuation')"
      ],
      "metadata": {
        "id": "fBgjCugW5e9H"
      },
      "execution_count": null,
      "outputs": []
    },
    {
      "cell_type": "code",
      "source": [
        "# Fitting function : exponential function\n",
        "\n",
        "def func(t, a, b, kappa):\n",
        "  return a*(1 - 2*np.exp(-kappa*t/2)*np.cos(2*np.pi*b*t) + np.exp(-kappa*t))\n",
        "\n",
        "\n",
        "popt, pcov = curve_fit(func, tlist, result.expect[4], p0 = [0.02, 0.01, 0.012])\n",
        "\n",
        "popt"
      ],
      "metadata": {
        "id": "y5etZlU35e9H"
      },
      "execution_count": null,
      "outputs": []
    },
    {
      "cell_type": "code",
      "source": [
        "rkappa_simulation.append(popt[2])\n",
        "rphoton_simulation.append(popt[0])\n",
        "roscillation_simulation.append(np.abs(popt[1]))"
      ],
      "metadata": {
        "id": "EUt7eVRs5e9H"
      },
      "execution_count": null,
      "outputs": []
    },
    {
      "cell_type": "code",
      "source": [
        "# Fitting function : exponential function\n",
        "\n",
        "def func(t, a, b, kappa):\n",
        "  return a*(1 - 2*np.exp(-kappa*t/2)*np.cos(2*np.pi*b*t) + np.exp(-kappa*t))\n",
        "\n",
        "\n",
        "popt, pcov = curve_fit(func, tlist, result.expect[5], p0 = [0.02, 0.0128, 0.012])\n",
        "\n",
        "popt"
      ],
      "metadata": {
        "id": "jqyNhskf5e9I"
      },
      "execution_count": null,
      "outputs": []
    },
    {
      "cell_type": "code",
      "source": [
        "pkappa_simulation.append(popt[2])\n",
        "pphoton_simulation.append(popt[0])\n",
        "poscillation_simulation.append(np.abs(popt[1]))"
      ],
      "metadata": {
        "id": "cDMfiqfz5e9I"
      },
      "execution_count": null,
      "outputs": []
    },
    {
      "cell_type": "markdown",
      "source": [
        "### $ \\kappa = 2\\pi 25MHz$"
      ],
      "metadata": {
        "id": "EQsOl3qS5e9I"
      }
    },
    {
      "cell_type": "code",
      "source": [
        "# Simulation\n",
        "\n",
        "N_seq = 0\n",
        "A = 0.005 * 2 * np.pi\n",
        "omega_qd = 37.6381\n",
        "kappa_f = 2 * np.pi * 0.025  # external coupling rate of resonator in units of GHz\n",
        "\n",
        "tlist = np.linspace(0, 1000, 10000)\n",
        "\n",
        "result = mesolve(\n",
        "    [H0, [H1, Hrd_lab_frame], [H2, CP_lab_frame]],\n",
        "    psis_dressed,\n",
        "    tlist,\n",
        "    c_ops = [np.sqrt(kappa_f) * tensor(qeye(2), qeye(N), b)],\n",
        "    args = {'A': A, 'T_srt_r': 0, 'T_end_r': 50000, 'Omega_rd': omega_rd, 'B': B, 'T_srt_q': 0, 'T_end_q': 400, 'N_seq': N_seq, 'Omega_qd': omega_qd},\n",
        "    e_ops = op_list,\n",
        ")"
      ],
      "metadata": {
        "id": "XhL-S-Sj5e9I"
      },
      "execution_count": null,
      "outputs": []
    },
    {
      "cell_type": "code",
      "source": [
        "# Plot Results\n",
        "\n",
        "plt.plot(tlist, result.expect[4])\n",
        "\n",
        "plt.title('Readout Resonator Photon Number')\n",
        "plt.xlabel('Evolution Time (ns)')\n",
        "plt.ylabel('Readout Resonator Photon Number')"
      ],
      "metadata": {
        "id": "V_8ai_h65e9I"
      },
      "execution_count": null,
      "outputs": []
    },
    {
      "cell_type": "code",
      "source": [
        "# Plot Results\n",
        "\n",
        "plt.plot(tlist, np.sqrt(result.expect[6] - result.expect[4]*result.expect[4]), label=\"photon number fluctuation simulation\")\n",
        "plt.plot(tlist, np.sqrt(result.expect[4]), label=\"photon number fluctuation calculated\")\n",
        "\n",
        "plt.legend()\n",
        "plt.title('Readout Resonator Photon Number Fluctuation')\n",
        "plt.xlabel('Evolution Time (ns)')\n",
        "plt.ylabel('Readout Resonator Photon Number Fluctuation')"
      ],
      "metadata": {
        "id": "bTg9IGTh5e9I"
      },
      "execution_count": null,
      "outputs": []
    },
    {
      "cell_type": "code",
      "source": [
        "# Plot Results\n",
        "\n",
        "plt.plot(tlist, result.expect[5])\n",
        "\n",
        "plt.title('Filter Resonator Photon Number')\n",
        "plt.xlabel('Evolution Time (ns)')\n",
        "plt.ylabel('Filter Resonator Photon Number')"
      ],
      "metadata": {
        "id": "6_CHdeMN5e9I"
      },
      "execution_count": null,
      "outputs": []
    },
    {
      "cell_type": "code",
      "source": [
        "# Plot Results\n",
        "\n",
        "plt.plot(tlist, np.sqrt(result.expect[7] - result.expect[5]*result.expect[5]), label=\"photon number fluctuation simulation\")\n",
        "plt.plot(tlist, np.sqrt(result.expect[5]), label=\"photon number fluctuation calculated\")\n",
        "\n",
        "plt.legend()\n",
        "plt.title('Filter Resonator Photon Number Fluctuation')\n",
        "plt.xlabel('Evolution Time (ns)')\n",
        "plt.ylabel('Filter Resonator Photon Number Fluctuation')"
      ],
      "metadata": {
        "id": "FRifzv6c5e9I"
      },
      "execution_count": null,
      "outputs": []
    },
    {
      "cell_type": "code",
      "source": [
        "# Fitting function : exponential function\n",
        "\n",
        "def func(t, a, b, kappa):\n",
        "  return a*(1 - 2*np.exp(-kappa*t/2)*np.cos(2*np.pi*b*t) + np.exp(-kappa*t))\n",
        "\n",
        "\n",
        "popt, pcov = curve_fit(func, tlist, result.expect[4], p0 = [0.02, 0.01, 0.012])\n",
        "\n",
        "popt"
      ],
      "metadata": {
        "id": "K5PjgTDR5e9I"
      },
      "execution_count": null,
      "outputs": []
    },
    {
      "cell_type": "code",
      "source": [
        "rkappa_simulation.append(popt[2])\n",
        "rphoton_simulation.append(popt[0])\n",
        "roscillation_simulation.append(np.abs(popt[1]))"
      ],
      "metadata": {
        "id": "-AFGo6o45e9I"
      },
      "execution_count": null,
      "outputs": []
    },
    {
      "cell_type": "code",
      "source": [
        "# Fitting function : exponential function\n",
        "\n",
        "def func(t, a, b, kappa):\n",
        "  return a*(1 - 2*np.exp(-kappa*t/2)*np.cos(2*np.pi*b*t) + np.exp(-kappa*t))\n",
        "\n",
        "\n",
        "popt, pcov = curve_fit(func, tlist, result.expect[5], p0 = [0.02, 0.0128, 0.012])\n",
        "\n",
        "popt"
      ],
      "metadata": {
        "id": "ifkuqb-F5e9I"
      },
      "execution_count": null,
      "outputs": []
    },
    {
      "cell_type": "code",
      "source": [
        "pkappa_simulation.append(popt[2])\n",
        "pphoton_simulation.append(popt[0])\n",
        "poscillation_simulation.append(np.abs(popt[1]))"
      ],
      "metadata": {
        "id": "bmA68RjL5e9I"
      },
      "execution_count": null,
      "outputs": []
    },
    {
      "cell_type": "markdown",
      "source": [
        "### $ \\kappa = 2\\pi 30MHz$"
      ],
      "metadata": {
        "id": "NfAxNl7Y5e9I"
      }
    },
    {
      "cell_type": "code",
      "source": [
        "# Simulation\n",
        "\n",
        "N_seq = 0\n",
        "A = 0.005 * 2 * np.pi\n",
        "omega_qd = 37.6381\n",
        "kappa_f = 2 * np.pi * 0.030  # external coupling rate of resonator in units of GHz\n",
        "\n",
        "tlist = np.linspace(0, 1000, 10000)\n",
        "\n",
        "result = mesolve(\n",
        "    [H0, [H1, Hrd_lab_frame], [H2, CP_lab_frame]],\n",
        "    psis_dressed,\n",
        "    tlist,\n",
        "    c_ops = [np.sqrt(kappa_f) * tensor(qeye(2), qeye(N), b)],\n",
        "    args = {'A': A, 'T_srt_r': 0, 'T_end_r': 50000, 'Omega_rd': omega_rd, 'B': B, 'T_srt_q': 0, 'T_end_q': 400, 'N_seq': N_seq, 'Omega_qd': omega_qd},\n",
        "    e_ops = op_list,\n",
        ")"
      ],
      "metadata": {
        "id": "bVdNImDQ5e9I"
      },
      "execution_count": null,
      "outputs": []
    },
    {
      "cell_type": "code",
      "source": [
        "# Plot Results\n",
        "\n",
        "plt.plot(tlist, result.expect[4])\n",
        "\n",
        "plt.title('Readout Resonator Photon Number')\n",
        "plt.xlabel('Evolution Time (ns)')\n",
        "plt.ylabel('Readout Resonator Photon Number')"
      ],
      "metadata": {
        "id": "-25dbB2y5e9I"
      },
      "execution_count": null,
      "outputs": []
    },
    {
      "cell_type": "code",
      "source": [
        "# Plot Results\n",
        "\n",
        "plt.plot(tlist, np.sqrt(result.expect[6] - result.expect[4]*result.expect[4]), label=\"photon number fluctuation simulation\")\n",
        "plt.plot(tlist, np.sqrt(result.expect[4]), label=\"photon number fluctuation calculated\")\n",
        "\n",
        "plt.legend()\n",
        "plt.title('Readout Resonator Photon Number Fluctuation')\n",
        "plt.xlabel('Evolution Time (ns)')\n",
        "plt.ylabel('Readout Resonator Photon Number Fluctuation')"
      ],
      "metadata": {
        "id": "4cNydVfT5e9I"
      },
      "execution_count": null,
      "outputs": []
    },
    {
      "cell_type": "code",
      "source": [
        "# Plot Results\n",
        "\n",
        "plt.plot(tlist, result.expect[5])\n",
        "\n",
        "plt.title('Filter Resonator Photon Number')\n",
        "plt.xlabel('Evolution Time (ns)')\n",
        "plt.ylabel('Filter Resonator Photon Number')"
      ],
      "metadata": {
        "id": "q-FN3OHA5e9I"
      },
      "execution_count": null,
      "outputs": []
    },
    {
      "cell_type": "code",
      "source": [
        "# Plot Results\n",
        "\n",
        "plt.plot(tlist, np.sqrt(result.expect[7] - result.expect[5]*result.expect[5]), label=\"photon number fluctuation simulation\")\n",
        "plt.plot(tlist, np.sqrt(result.expect[5]), label=\"photon number fluctuation calculated\")\n",
        "\n",
        "plt.legend()\n",
        "plt.title('Filter Resonator Photon Number Fluctuation')\n",
        "plt.xlabel('Evolution Time (ns)')\n",
        "plt.ylabel('Filter Resonator Photon Number Fluctuation')"
      ],
      "metadata": {
        "id": "UlTjTttV5e9I"
      },
      "execution_count": null,
      "outputs": []
    },
    {
      "cell_type": "code",
      "source": [
        "# Fitting function : exponential function\n",
        "\n",
        "def func(t, a, b, kappa):\n",
        "  return a*(1 - 2*np.exp(-kappa*t/2)*np.cos(2*np.pi*b*t) + np.exp(-kappa*t))\n",
        "\n",
        "\n",
        "popt, pcov = curve_fit(func, tlist, result.expect[4], p0 = [0.02, 0.01, 0.012])\n",
        "\n",
        "popt"
      ],
      "metadata": {
        "id": "ruzH1OLt5e9J"
      },
      "execution_count": null,
      "outputs": []
    },
    {
      "cell_type": "code",
      "source": [
        "rkappa_simulation.append(popt[2])\n",
        "rphoton_simulation.append(popt[0])\n",
        "roscillation_simulation.append(np.abs(popt[1]))"
      ],
      "metadata": {
        "id": "bdDtXygP5e9J"
      },
      "execution_count": null,
      "outputs": []
    },
    {
      "cell_type": "code",
      "source": [
        "# Fitting function : exponential function\n",
        "\n",
        "def func(t, a, b, kappa):\n",
        "  return a*(1 - 2*np.exp(-kappa*t/2)*np.cos(2*np.pi*b*t) + np.exp(-kappa*t))\n",
        "\n",
        "\n",
        "popt, pcov = curve_fit(func, tlist, result.expect[5], p0 = [0.02, 0.0128, 0.012])\n",
        "\n",
        "popt"
      ],
      "metadata": {
        "id": "MIDeitlm5e9J"
      },
      "execution_count": null,
      "outputs": []
    },
    {
      "cell_type": "code",
      "source": [
        "pkappa_simulation.append(popt[2])\n",
        "pphoton_simulation.append(popt[0])\n",
        "poscillation_simulation.append(np.abs(popt[1]))"
      ],
      "metadata": {
        "id": "KrBYmjpJ5e9J"
      },
      "execution_count": null,
      "outputs": []
    },
    {
      "cell_type": "markdown",
      "source": [
        "## $G=2\\pi 40MHz$"
      ],
      "metadata": {
        "id": "Q4g97A7k5flQ"
      }
    },
    {
      "cell_type": "code",
      "execution_count": null,
      "metadata": {
        "id": "SB5I64Kn5flR"
      },
      "outputs": [],
      "source": [
        "# readout resonator & purcell filter resonator dimension\n",
        "\n",
        "N = 3\n",
        "\n",
        "\n",
        "# constant\n",
        "\n",
        "B = 0.01 * 2 * np.pi        # gate operation time : 50ns\n",
        "\n",
        "omega_r = 2 * np.pi * 7.0   # resonator frequency in units of GHz\n",
        "omega_f = 2 * np.pi * 7.0   # resonator frequency in units of GHz\n",
        "omega_q = 2 * np.pi * 6.0   # qubit frequency in units of GHz\n",
        "omega_rd = 2 * np.pi * 7.0  # qubit frequency in units of GHz\n",
        "g = 2 * np.pi * 0.1         # qubit-resonator coupling in units of GHz\n",
        "G = 2 * np.pi * 0.040        # qubit-resonator coupling in units of GHz\n",
        "\n",
        "\n",
        "detune = omega_q-omega_r\n",
        "chi = g*g/(detune)\n",
        "\n",
        "omega_rd = omega_r          # qubit frequency in units of GHz\n",
        "omega_qd = omega_q + chi\n",
        "\n",
        "# operator defined on bare basis\n",
        "\n",
        "sz = sigmaz()\n",
        "sx = sigmax()\n",
        "sy = sigmay()\n",
        "sp = basis(2,1)*basis(2,0).dag()\n",
        "sm = basis(2,0)*basis(2,1).dag()\n",
        "\n",
        "a = destroy(N)\n",
        "b = destroy(N)\n",
        "\n",
        "sx_bare                 = tensor(sx, qeye(N), qeye(N))\n",
        "sy_bare                 = tensor(sy, qeye(N), qeye(N))\n",
        "sz_bare                 = tensor(sz, qeye(N), qeye(N))\n",
        "sp_bare                 = tensor(sp, qeye(N), qeye(N))\n",
        "sm_bare                 = tensor(sm, qeye(N), qeye(N))\n",
        "\n",
        "readout_annihilate_bare = tensor(qeye(2), a, qeye(N))\n",
        "readout_create_bare     = tensor(qeye(2), a.dag(), qeye(N))\n",
        "readout_number_bare     = tensor(qeye(2), a.dag()*a, qeye(N))\n",
        "\n",
        "filter_annihilate_bare  = tensor(qeye(2), qeye(N), b)\n",
        "filter_create_bare      = tensor(qeye(2), qeye(N), b.dag())\n",
        "filter_number_bare      = tensor(qeye(2), qeye(N), b.dag()*b)\n",
        "\n",
        "psi0_bare               = tensor(basis(2,0), basis(N,0), basis(N,0))\n",
        "psis_bare               = tensor((basis(2,0) + basis(2,1))/np.sqrt(2), basis(N,0), basis(N,0))\n",
        "psi1_bare               = tensor(basis(2,1), basis(N,0), basis(N,0))\n",
        "\n",
        "\n",
        "H0 = -0.5*omega_q*sz_bare + omega_r*readout_number_bare + omega_f*filter_number_bare + g*(tensor(sp, a, qeye(N))+tensor(sm, a.dag(), qeye(N))) + G*(tensor(qeye(2), a, b.dag()) + tensor(qeye(2), a.dag(), b))\n",
        "H1 = tensor(qeye(2), a+a.dag(), qeye(N))\n",
        "H2 = sx_bare"
      ]
    },
    {
      "cell_type": "code",
      "source": [
        "sx_dressed = H0.eigenstates()[1][0]*H0.eigenstates()[1][1].dag() + H0.eigenstates()[1][2]*H0.eigenstates()[1][5].dag() \\\n",
        "+ H0.eigenstates()[1][3]*H0.eigenstates()[1][4].dag() + H0.eigenstates()[1][6]*H0.eigenstates()[1][10].dag() \\\n",
        "+ H0.eigenstates()[1][7]*H0.eigenstates()[1][9].dag() + H0.eigenstates()[1][8]*H0.eigenstates()[1][11].dag() \\\n",
        "+ H0.eigenstates()[1][12]*H0.eigenstates()[1][15].dag() + H0.eigenstates()[1][13]*H0.eigenstates()[1][14].dag() \\\n",
        "+ H0.eigenstates()[1][16]*H0.eigenstates()[1][17].dag() \\\n",
        "+ H0.eigenstates()[1][1]*H0.eigenstates()[1][0].dag() + H0.eigenstates()[1][5]*H0.eigenstates()[1][2].dag() \\\n",
        "+ H0.eigenstates()[1][4]*H0.eigenstates()[1][3].dag() + H0.eigenstates()[1][10]*H0.eigenstates()[1][6].dag() \\\n",
        "+ H0.eigenstates()[1][9]*H0.eigenstates()[1][7].dag() + H0.eigenstates()[1][11]*H0.eigenstates()[1][8].dag() \\\n",
        "+ H0.eigenstates()[1][15]*H0.eigenstates()[1][12].dag() + H0.eigenstates()[1][14]*H0.eigenstates()[1][13].dag() \\\n",
        "+ H0.eigenstates()[1][17]*H0.eigenstates()[1][16].dag()\n",
        "\n",
        "\n",
        "sy_dressed = + (-1j)*H0.eigenstates()[1][0]*H0.eigenstates()[1][1].dag() + (-1j)*H0.eigenstates()[1][2]*H0.eigenstates()[1][5].dag() \\\n",
        "+ (-1j)*H0.eigenstates()[1][3]*H0.eigenstates()[1][4].dag() + (-1j)*H0.eigenstates()[1][6]*H0.eigenstates()[1][10].dag() \\\n",
        "+ (-1j)*H0.eigenstates()[1][7]*H0.eigenstates()[1][9].dag() + (-1j)*H0.eigenstates()[1][8]*H0.eigenstates()[1][11].dag() \\\n",
        "+ (-1j)*H0.eigenstates()[1][12]*H0.eigenstates()[1][15].dag() + (-1j)*H0.eigenstates()[1][13]*H0.eigenstates()[1][14].dag() \\\n",
        "+ (-1j)*H0.eigenstates()[1][16]*H0.eigenstates()[1][17].dag() \\\n",
        "+ (+1j)*H0.eigenstates()[1][1]*H0.eigenstates()[1][0].dag() + (+1j)*H0.eigenstates()[1][5]*H0.eigenstates()[1][2].dag() \\\n",
        "+ (+1j)*H0.eigenstates()[1][4]*H0.eigenstates()[1][3].dag() + (+1j)*H0.eigenstates()[1][10]*H0.eigenstates()[1][6].dag() \\\n",
        "+ (+1j)*H0.eigenstates()[1][9]*H0.eigenstates()[1][7].dag() + (+1j)*H0.eigenstates()[1][11]*H0.eigenstates()[1][8].dag() \\\n",
        "+ (+1j)*H0.eigenstates()[1][15]*H0.eigenstates()[1][12].dag() + (+1j)*H0.eigenstates()[1][14]*H0.eigenstates()[1][13].dag() \\\n",
        "+ (+1j)*H0.eigenstates()[1][17]*H0.eigenstates()[1][16].dag()\n",
        "\n",
        "\n",
        "sz_dressed = H0.eigenstates()[1][0]*H0.eigenstates()[1][0].dag() + H0.eigenstates()[1][2]*H0.eigenstates()[1][2].dag() \\\n",
        "+ H0.eigenstates()[1][3]*H0.eigenstates()[1][3].dag() + H0.eigenstates()[1][6]*H0.eigenstates()[1][6].dag() \\\n",
        "+ H0.eigenstates()[1][7]*H0.eigenstates()[1][7].dag() + H0.eigenstates()[1][8]*H0.eigenstates()[1][8].dag() \\\n",
        "+ H0.eigenstates()[1][12]*H0.eigenstates()[1][12].dag() + H0.eigenstates()[1][13]*H0.eigenstates()[1][13].dag() \\\n",
        "+ H0.eigenstates()[1][16]*H0.eigenstates()[1][16].dag() \\\n",
        "- H0.eigenstates()[1][1]*H0.eigenstates()[1][1].dag() - H0.eigenstates()[1][4]*H0.eigenstates()[1][4].dag() \\\n",
        "- H0.eigenstates()[1][5]*H0.eigenstates()[1][5].dag() - H0.eigenstates()[1][9]*H0.eigenstates()[1][9].dag() \\\n",
        "- H0.eigenstates()[1][10]*H0.eigenstates()[1][10].dag() - H0.eigenstates()[1][11]*H0.eigenstates()[1][11].dag() \\\n",
        "- H0.eigenstates()[1][14]*H0.eigenstates()[1][14].dag() - H0.eigenstates()[1][15]*H0.eigenstates()[1][15].dag() \\\n",
        "- H0.eigenstates()[1][17]*H0.eigenstates()[1][17].dag()\n",
        "\n",
        "\n",
        "sp_dressed = H0.eigenstates()[1][1]*H0.eigenstates()[1][0].dag() + H0.eigenstates()[1][5]*H0.eigenstates()[1][2].dag() \\\n",
        "+ H0.eigenstates()[1][4]*H0.eigenstates()[1][3].dag() + H0.eigenstates()[1][10]*H0.eigenstates()[1][6].dag() \\\n",
        "+ H0.eigenstates()[1][9]*H0.eigenstates()[1][7].dag() + H0.eigenstates()[1][11]*H0.eigenstates()[1][8].dag() \\\n",
        "+ H0.eigenstates()[1][15]*H0.eigenstates()[1][12].dag() + H0.eigenstates()[1][14]*H0.eigenstates()[1][13].dag() \\\n",
        "+ H0.eigenstates()[1][17]*H0.eigenstates()[1][16].dag()\n",
        "\n",
        "\n",
        "readout_number_dressed = H0.eigenstates()[1][3]*H0.eigenstates()[1][3].dag() + H0.eigenstates()[1][4]*H0.eigenstates()[1][4].dag() \\\n",
        "+ H0.eigenstates()[1][7]*H0.eigenstates()[1][7].dag() + H0.eigenstates()[1][9]*H0.eigenstates()[1][9].dag() \\\n",
        "+ H0.eigenstates()[1][12]*H0.eigenstates()[1][12].dag() + H0.eigenstates()[1][14]*H0.eigenstates()[1][14].dag() \\\n",
        "+ 2*H0.eigenstates()[1][8]*H0.eigenstates()[1][8].dag() + 2*H0.eigenstates()[1][11]*H0.eigenstates()[1][11].dag() \\\n",
        "+ 2*H0.eigenstates()[1][13]*H0.eigenstates()[1][13].dag() + 2*H0.eigenstates()[1][15]*H0.eigenstates()[1][15].dag() \\\n",
        "+ 2*H0.eigenstates()[1][16]*H0.eigenstates()[1][16].dag() + 2*H0.eigenstates()[1][17]*H0.eigenstates()[1][17].dag() \\\n",
        "\n",
        "\n",
        "filter_number_dressed = H0.eigenstates()[1][2]*H0.eigenstates()[1][2].dag() + H0.eigenstates()[1][5]*H0.eigenstates()[1][5].dag() \\\n",
        "+ H0.eigenstates()[1][7]*H0.eigenstates()[1][7].dag() + H0.eigenstates()[1][9]*H0.eigenstates()[1][9].dag() \\\n",
        "+ H0.eigenstates()[1][13]*H0.eigenstates()[1][13].dag() + H0.eigenstates()[1][15]*H0.eigenstates()[1][15].dag() \\\n",
        "+ 2*H0.eigenstates()[1][6]*H0.eigenstates()[1][6].dag() + 2*H0.eigenstates()[1][10]*H0.eigenstates()[1][10].dag() \\\n",
        "+ 2*H0.eigenstates()[1][12]*H0.eigenstates()[1][12].dag() + 2*H0.eigenstates()[1][14]*H0.eigenstates()[1][14].dag() \\\n",
        "+ 2*H0.eigenstates()[1][16]*H0.eigenstates()[1][16].dag() + 2*H0.eigenstates()[1][17]*H0.eigenstates()[1][17].dag()"
      ],
      "metadata": {
        "id": "MhxsxO0c5flR"
      },
      "execution_count": null,
      "outputs": []
    },
    {
      "cell_type": "code",
      "source": [
        "psi0_dressed             = H0.eigenstates()[1][0]\n",
        "psi1_dressed             = H0.eigenstates()[1][1]\n",
        "psis_dressed             = (psi0_dressed + psi1_dressed)/np.sqrt(2)\n",
        "\n",
        "op_list = [sx_dressed, sy_dressed, sz_dressed, sp_dressed, readout_number_dressed, filter_number_dressed]"
      ],
      "metadata": {
        "id": "xf3VwoIf5flR"
      },
      "execution_count": null,
      "outputs": []
    },
    {
      "cell_type": "markdown",
      "source": [
        "### $ \\kappa = 2\\pi 5MHz$"
      ],
      "metadata": {
        "id": "x1hUUigI5flR"
      }
    },
    {
      "cell_type": "code",
      "source": [
        "# Simulation\n",
        "\n",
        "N_seq = 0\n",
        "A = 0.005 * 2 * np.pi\n",
        "omega_qd = 37.6381\n",
        "kappa_f = 2 * np.pi * 0.05  # external coupling rate of resonator in units of GHz\n",
        "\n",
        "tlist = np.linspace(0, 1000, 10000)\n",
        "\n",
        "result = mesolve(\n",
        "    [H0, [H1, Hrd_lab_frame], [H2, CP_lab_frame]],\n",
        "    psis_dressed,\n",
        "    tlist,\n",
        "    c_ops = [np.sqrt(kappa_f) * tensor(qeye(2), qeye(N), b)],\n",
        "    args = {'A': A, 'T_srt_r': 0, 'T_end_r': 50000, 'Omega_rd': omega_rd, 'B': B, 'T_srt_q': 0, 'T_end_q': 400, 'N_seq': N_seq, 'Omega_qd': omega_qd},\n",
        "    e_ops = op_list,\n",
        ")"
      ],
      "metadata": {
        "id": "1JKCmRLo5flR"
      },
      "execution_count": null,
      "outputs": []
    },
    {
      "cell_type": "code",
      "source": [
        "# Plot Results\n",
        "\n",
        "plt.plot(tlist, result.expect[4])\n",
        "\n",
        "plt.title('Readout Resonator Photon Number')\n",
        "plt.xlabel('Evolution Time (ns)')\n",
        "plt.ylabel('Readout Resonator Photon Number')"
      ],
      "metadata": {
        "id": "CwNcXz0N5flR"
      },
      "execution_count": null,
      "outputs": []
    },
    {
      "cell_type": "code",
      "source": [
        "# Plot Results\n",
        "\n",
        "plt.plot(tlist, np.sqrt(result.expect[6] - result.expect[4]*result.expect[4]), label=\"photon number fluctuation simulation\")\n",
        "plt.plot(tlist, np.sqrt(result.expect[4]), label=\"photon number fluctuation calculated\")\n",
        "\n",
        "plt.legend()\n",
        "plt.title('Readout Resonator Photon Number Fluctuation')\n",
        "plt.xlabel('Evolution Time (ns)')\n",
        "plt.ylabel('Readout Resonator Photon Number Fluctuation')"
      ],
      "metadata": {
        "id": "0fIlHUez5flR"
      },
      "execution_count": null,
      "outputs": []
    },
    {
      "cell_type": "code",
      "source": [
        "# Plot Results\n",
        "\n",
        "plt.plot(tlist, result.expect[5])\n",
        "\n",
        "plt.title('Filter Resonator Photon Number')\n",
        "plt.xlabel('Evolution Time (ns)')\n",
        "plt.ylabel('Filter Resonator Photon Number')"
      ],
      "metadata": {
        "id": "tO-emDZf5flR"
      },
      "execution_count": null,
      "outputs": []
    },
    {
      "cell_type": "code",
      "source": [
        "# Plot Results\n",
        "\n",
        "plt.plot(tlist, np.sqrt(result.expect[7] - result.expect[5]*result.expect[5]), label=\"photon number fluctuation simulation\")\n",
        "plt.plot(tlist, np.sqrt(result.expect[5]), label=\"photon number fluctuation calculated\")\n",
        "\n",
        "plt.legend()\n",
        "plt.title('Filter Resonator Photon Number Fluctuation')\n",
        "plt.xlabel('Evolution Time (ns)')\n",
        "plt.ylabel('Filter Resonator Photon Number Fluctuation')"
      ],
      "metadata": {
        "id": "gSyU4XdJ5flR"
      },
      "execution_count": null,
      "outputs": []
    },
    {
      "cell_type": "code",
      "source": [
        "# Fitting function : exponential function\n",
        "\n",
        "def func(t, a, b, kappa):\n",
        "  return a*(1 - 2*np.exp(-kappa*t/2)*np.cos(2*np.pi*b*t) + np.exp(-kappa*t))\n",
        "\n",
        "\n",
        "popt, pcov = curve_fit(func, tlist, result.expect[4], p0 = [0.02, 0.01, 0.012])\n",
        "\n",
        "popt"
      ],
      "metadata": {
        "id": "VQT0Vhyq5flR"
      },
      "execution_count": null,
      "outputs": []
    },
    {
      "cell_type": "code",
      "source": [
        "rkappa_simulation.append(popt[2])\n",
        "rphoton_simulation.append(popt[0])\n",
        "roscillation_simulation.append(np.abs(popt[1]))"
      ],
      "metadata": {
        "id": "MAvxuCeZ5flR"
      },
      "execution_count": null,
      "outputs": []
    },
    {
      "cell_type": "code",
      "source": [
        "# Fitting function : exponential function\n",
        "\n",
        "def func(t, a, b, kappa):\n",
        "  return a*(1 - 2*np.exp(-kappa*t/2)*np.cos(2*np.pi*b*t) + np.exp(-kappa*t))\n",
        "\n",
        "\n",
        "popt, pcov = curve_fit(func, tlist, result.expect[5], p0 = [0.02, 0.0128, 0.012])\n",
        "\n",
        "popt"
      ],
      "metadata": {
        "id": "E-5qzVJB5flR"
      },
      "execution_count": null,
      "outputs": []
    },
    {
      "cell_type": "code",
      "source": [
        "pkappa_simulation.append(popt[2])\n",
        "pphoton_simulation.append(popt[0])\n",
        "poscillation_simulation.append(np.abs(popt[1]))"
      ],
      "metadata": {
        "id": "s1W9s2eU5flR"
      },
      "execution_count": null,
      "outputs": []
    },
    {
      "cell_type": "markdown",
      "source": [
        "### $ \\kappa = 2\\pi 10MHz$"
      ],
      "metadata": {
        "id": "jwZMVxq35flR"
      }
    },
    {
      "cell_type": "code",
      "source": [
        "# Simulation\n",
        "\n",
        "N_seq = 0\n",
        "A = 0.005 * 2 * np.pi\n",
        "omega_qd = 37.6381\n",
        "kappa_f = 2 * np.pi * 0.10  # external coupling rate of resonator in units of GHz\n",
        "\n",
        "tlist = np.linspace(0, 1000, 10000)\n",
        "\n",
        "result = mesolve(\n",
        "    [H0, [H1, Hrd_lab_frame], [H2, CP_lab_frame]],\n",
        "    psis_dressed,\n",
        "    tlist,\n",
        "    c_ops = [np.sqrt(kappa_f) * tensor(qeye(2), qeye(N), b)],\n",
        "    args = {'A': A, 'T_srt_r': 0, 'T_end_r': 50000, 'Omega_rd': omega_rd, 'B': B, 'T_srt_q': 0, 'T_end_q': 400, 'N_seq': N_seq, 'Omega_qd': omega_qd},\n",
        "    e_ops = op_list,\n",
        ")"
      ],
      "metadata": {
        "id": "4_xyw5bF5flS"
      },
      "execution_count": null,
      "outputs": []
    },
    {
      "cell_type": "code",
      "source": [
        "# Plot Results\n",
        "\n",
        "plt.plot(tlist, result.expect[4])\n",
        "\n",
        "plt.title('Readout Resonator Photon Number')\n",
        "plt.xlabel('Evolution Time (ns)')\n",
        "plt.ylabel('Readout Resonator Photon Number')"
      ],
      "metadata": {
        "id": "TI_SaGUr5flS"
      },
      "execution_count": null,
      "outputs": []
    },
    {
      "cell_type": "code",
      "source": [
        "# Plot Results\n",
        "\n",
        "plt.plot(tlist, np.sqrt(result.expect[6] - result.expect[4]*result.expect[4]), label=\"photon number fluctuation simulation\")\n",
        "plt.plot(tlist, np.sqrt(result.expect[4]), label=\"photon number fluctuation calculated\")\n",
        "\n",
        "plt.legend()\n",
        "plt.title('Readout Resonator Photon Number Fluctuation')\n",
        "plt.xlabel('Evolution Time (ns)')\n",
        "plt.ylabel('Readout Resonator Photon Number Fluctuation')"
      ],
      "metadata": {
        "id": "vxER8N-a5flS"
      },
      "execution_count": null,
      "outputs": []
    },
    {
      "cell_type": "code",
      "source": [
        "# Plot Results\n",
        "\n",
        "plt.plot(tlist, result.expect[5])\n",
        "\n",
        "plt.title('Filter Resonator Photon Number')\n",
        "plt.xlabel('Evolution Time (ns)')\n",
        "plt.ylabel('Filter Resonator Photon Number')"
      ],
      "metadata": {
        "id": "bS5LqgVv5flS"
      },
      "execution_count": null,
      "outputs": []
    },
    {
      "cell_type": "code",
      "source": [
        "# Plot Results\n",
        "\n",
        "plt.plot(tlist, np.sqrt(result.expect[7] - result.expect[5]*result.expect[5]), label=\"photon number fluctuation simulation\")\n",
        "plt.plot(tlist, np.sqrt(result.expect[5]), label=\"photon number fluctuation calculated\")\n",
        "\n",
        "plt.legend()\n",
        "plt.title('Filter Resonator Photon Number Fluctuation')\n",
        "plt.xlabel('Evolution Time (ns)')\n",
        "plt.ylabel('Filter Resonator Photon Number Fluctuation')"
      ],
      "metadata": {
        "id": "kBkHIUji5flS"
      },
      "execution_count": null,
      "outputs": []
    },
    {
      "cell_type": "code",
      "source": [
        "# Fitting function : exponential function\n",
        "\n",
        "def func(t, a, b, kappa):\n",
        "  return a*(1 - 2*np.exp(-kappa*t/2)*np.cos(2*np.pi*b*t) + np.exp(-kappa*t))\n",
        "\n",
        "\n",
        "popt, pcov = curve_fit(func, tlist, result.expect[4], p0 = [0.02, 0.01, 0.012])\n",
        "\n",
        "popt"
      ],
      "metadata": {
        "id": "yUBa4fyi5flS"
      },
      "execution_count": null,
      "outputs": []
    },
    {
      "cell_type": "code",
      "source": [
        "rkappa_simulation.append(popt[2])\n",
        "rphoton_simulation.append(popt[0])\n",
        "roscillation_simulation.append(np.abs(popt[1]))"
      ],
      "metadata": {
        "id": "7yM581Xa5flS"
      },
      "execution_count": null,
      "outputs": []
    },
    {
      "cell_type": "code",
      "source": [
        "# Fitting function : exponential function\n",
        "\n",
        "def func(t, a, b, kappa):\n",
        "  return a*(1 - 2*np.exp(-kappa*t/2)*np.cos(2*np.pi*b*t) + np.exp(-kappa*t))\n",
        "\n",
        "\n",
        "popt, pcov = curve_fit(func, tlist, result.expect[5], p0 = [0.02, 0.0128, 0.012])\n",
        "\n",
        "popt"
      ],
      "metadata": {
        "id": "hznoyya05flS"
      },
      "execution_count": null,
      "outputs": []
    },
    {
      "cell_type": "code",
      "source": [
        "pkappa_simulation.append(popt[2])\n",
        "pphoton_simulation.append(popt[0])\n",
        "poscillation_simulation.append(np.abs(popt[1]))"
      ],
      "metadata": {
        "id": "3L4-Nl5-5flS"
      },
      "execution_count": null,
      "outputs": []
    },
    {
      "cell_type": "markdown",
      "source": [
        "### $ \\kappa = 2\\pi 15MHz$"
      ],
      "metadata": {
        "id": "8WRmFO5K5flS"
      }
    },
    {
      "cell_type": "code",
      "source": [
        "# Simulation\n",
        "\n",
        "N_seq = 0\n",
        "A = 0.005 * 2 * np.pi\n",
        "omega_qd = 37.6381\n",
        "kappa_f = 2 * np.pi * 0.015  # external coupling rate of resonator in units of GHz\n",
        "\n",
        "tlist = np.linspace(0, 1000, 10000)\n",
        "\n",
        "result = mesolve(\n",
        "    [H0, [H1, Hrd_lab_frame], [H2, CP_lab_frame]],\n",
        "    psis_dressed,\n",
        "    tlist,\n",
        "    c_ops = [np.sqrt(kappa_f) * tensor(qeye(2), qeye(N), b)],\n",
        "    args = {'A': A, 'T_srt_r': 0, 'T_end_r': 50000, 'Omega_rd': omega_rd, 'B': B, 'T_srt_q': 0, 'T_end_q': 400, 'N_seq': N_seq, 'Omega_qd': omega_qd},\n",
        "    e_ops = op_list,\n",
        ")"
      ],
      "metadata": {
        "id": "wXYzwbgw5flS"
      },
      "execution_count": null,
      "outputs": []
    },
    {
      "cell_type": "code",
      "source": [
        "# Plot Results\n",
        "\n",
        "plt.plot(tlist, result.expect[4])\n",
        "\n",
        "plt.title('Readout Resonator Photon Number')\n",
        "plt.xlabel('Evolution Time (ns)')\n",
        "plt.ylabel('Readout Resonator Photon Number')"
      ],
      "metadata": {
        "id": "tKDmMGxY5flS"
      },
      "execution_count": null,
      "outputs": []
    },
    {
      "cell_type": "code",
      "source": [
        "# Plot Results\n",
        "\n",
        "plt.plot(tlist, np.sqrt(result.expect[6] - result.expect[4]*result.expect[4]), label=\"photon number fluctuation simulation\")\n",
        "plt.plot(tlist, np.sqrt(result.expect[4]), label=\"photon number fluctuation calculated\")\n",
        "\n",
        "plt.legend()\n",
        "plt.title('Readout Resonator Photon Number Fluctuation')\n",
        "plt.xlabel('Evolution Time (ns)')\n",
        "plt.ylabel('Readout Resonator Photon Number Fluctuation')"
      ],
      "metadata": {
        "id": "Av_OZoih5flS"
      },
      "execution_count": null,
      "outputs": []
    },
    {
      "cell_type": "code",
      "source": [
        "# Plot Results\n",
        "\n",
        "plt.plot(tlist, result.expect[5])\n",
        "\n",
        "plt.title('Filter Resonator Photon Number')\n",
        "plt.xlabel('Evolution Time (ns)')\n",
        "plt.ylabel('Filter Resonator Photon Number')"
      ],
      "metadata": {
        "id": "f8MgUHv45flS"
      },
      "execution_count": null,
      "outputs": []
    },
    {
      "cell_type": "code",
      "source": [
        "# Plot Results\n",
        "\n",
        "plt.plot(tlist, np.sqrt(result.expect[7] - result.expect[5]*result.expect[5]), label=\"photon number fluctuation simulation\")\n",
        "plt.plot(tlist, np.sqrt(result.expect[5]), label=\"photon number fluctuation calculated\")\n",
        "\n",
        "plt.legend()\n",
        "plt.title('Filter Resonator Photon Number Fluctuation')\n",
        "plt.xlabel('Evolution Time (ns)')\n",
        "plt.ylabel('Filter Resonator Photon Number Fluctuation')"
      ],
      "metadata": {
        "id": "n1r4yG2D5flS"
      },
      "execution_count": null,
      "outputs": []
    },
    {
      "cell_type": "code",
      "source": [
        "# Fitting function : exponential function\n",
        "\n",
        "def func(t, a, b, kappa):\n",
        "  return a*(1 - 2*np.exp(-kappa*t/2)*np.cos(2*np.pi*b*t) + np.exp(-kappa*t))\n",
        "\n",
        "\n",
        "popt, pcov = curve_fit(func, tlist, result.expect[4], p0 = [0.02, 0.01, 0.012])\n",
        "\n",
        "popt"
      ],
      "metadata": {
        "id": "0dyo38Tq5flS"
      },
      "execution_count": null,
      "outputs": []
    },
    {
      "cell_type": "code",
      "source": [
        "rkappa_simulation.append(popt[2])\n",
        "rphoton_simulation.append(popt[0])\n",
        "roscillation_simulation.append(np.abs(popt[1]))"
      ],
      "metadata": {
        "id": "N0RDICyG5flS"
      },
      "execution_count": null,
      "outputs": []
    },
    {
      "cell_type": "code",
      "source": [
        "# Fitting function : exponential function\n",
        "\n",
        "def func(t, a, b, kappa):\n",
        "  return a*(1 - 2*np.exp(-kappa*t/2)*np.cos(2*np.pi*b*t) + np.exp(-kappa*t))\n",
        "\n",
        "\n",
        "popt, pcov = curve_fit(func, tlist, result.expect[5], p0 = [0.02, 0.0128, 0.012])\n",
        "\n",
        "popt"
      ],
      "metadata": {
        "id": "jnAdbD-Q5flT"
      },
      "execution_count": null,
      "outputs": []
    },
    {
      "cell_type": "code",
      "source": [
        "pkappa_simulation.append(popt[2])\n",
        "pphoton_simulation.append(popt[0])\n",
        "poscillation_simulation.append(np.abs(popt[1]))"
      ],
      "metadata": {
        "id": "kh9idqBo5flT"
      },
      "execution_count": null,
      "outputs": []
    },
    {
      "cell_type": "markdown",
      "source": [
        "### $ \\kappa = 2\\pi 20MHz$"
      ],
      "metadata": {
        "id": "6YaTVIxu5flT"
      }
    },
    {
      "cell_type": "code",
      "source": [
        "# Simulation\n",
        "\n",
        "N_seq = 0\n",
        "A = 0.005 * 2 * np.pi\n",
        "omega_qd = 37.6381\n",
        "kappa_f = 2 * np.pi * 0.020  # external coupling rate of resonator in units of GHz\n",
        "\n",
        "tlist = np.linspace(0, 1000, 10000)\n",
        "\n",
        "result = mesolve(\n",
        "    [H0, [H1, Hrd_lab_frame], [H2, CP_lab_frame]],\n",
        "    psis_dressed,\n",
        "    tlist,\n",
        "    c_ops = [np.sqrt(kappa_f) * tensor(qeye(2), qeye(N), b)],\n",
        "    args = {'A': A, 'T_srt_r': 0, 'T_end_r': 50000, 'Omega_rd': omega_rd, 'B': B, 'T_srt_q': 0, 'T_end_q': 400, 'N_seq': N_seq, 'Omega_qd': omega_qd},\n",
        "    e_ops = op_list,\n",
        ")"
      ],
      "metadata": {
        "id": "K74y0wlX5flT"
      },
      "execution_count": null,
      "outputs": []
    },
    {
      "cell_type": "code",
      "source": [
        "# Plot Results\n",
        "\n",
        "plt.plot(tlist, result.expect[4])\n",
        "\n",
        "plt.title('Readout Resonator Photon Number')\n",
        "plt.xlabel('Evolution Time (ns)')\n",
        "plt.ylabel('Readout Resonator Photon Number')"
      ],
      "metadata": {
        "id": "KrIywrD25flT"
      },
      "execution_count": null,
      "outputs": []
    },
    {
      "cell_type": "code",
      "source": [
        "# Plot Results\n",
        "\n",
        "plt.plot(tlist, np.sqrt(result.expect[6] - result.expect[4]*result.expect[4]), label=\"photon number fluctuation simulation\")\n",
        "plt.plot(tlist, np.sqrt(result.expect[4]), label=\"photon number fluctuation calculated\")\n",
        "\n",
        "plt.legend()\n",
        "plt.title('Readout Resonator Photon Number Fluctuation')\n",
        "plt.xlabel('Evolution Time (ns)')\n",
        "plt.ylabel('Readout Resonator Photon Number Fluctuation')"
      ],
      "metadata": {
        "id": "3p-Udmp55flT"
      },
      "execution_count": null,
      "outputs": []
    },
    {
      "cell_type": "code",
      "source": [
        "# Plot Results\n",
        "\n",
        "plt.plot(tlist, result.expect[5])\n",
        "\n",
        "plt.title('Filter Resonator Photon Number')\n",
        "plt.xlabel('Evolution Time (ns)')\n",
        "plt.ylabel('Filter Resonator Photon Number')"
      ],
      "metadata": {
        "id": "PYwQ7yTq5flT"
      },
      "execution_count": null,
      "outputs": []
    },
    {
      "cell_type": "code",
      "source": [
        "# Plot Results\n",
        "\n",
        "plt.plot(tlist, np.sqrt(result.expect[7] - result.expect[5]*result.expect[5]), label=\"photon number fluctuation simulation\")\n",
        "plt.plot(tlist, np.sqrt(result.expect[5]), label=\"photon number fluctuation calculated\")\n",
        "\n",
        "plt.legend()\n",
        "plt.title('Filter Resonator Photon Number Fluctuation')\n",
        "plt.xlabel('Evolution Time (ns)')\n",
        "plt.ylabel('Filter Resonator Photon Number Fluctuation')"
      ],
      "metadata": {
        "id": "mnb26vV85flT"
      },
      "execution_count": null,
      "outputs": []
    },
    {
      "cell_type": "code",
      "source": [
        "# Fitting function : exponential function\n",
        "\n",
        "def func(t, a, b, kappa):\n",
        "  return a*(1 - 2*np.exp(-kappa*t/2)*np.cos(2*np.pi*b*t) + np.exp(-kappa*t))\n",
        "\n",
        "\n",
        "popt, pcov = curve_fit(func, tlist, result.expect[4], p0 = [0.02, 0.01, 0.012])\n",
        "\n",
        "popt"
      ],
      "metadata": {
        "id": "GPRsb5JR5flT"
      },
      "execution_count": null,
      "outputs": []
    },
    {
      "cell_type": "code",
      "source": [
        "rkappa_simulation.append(popt[2])\n",
        "rphoton_simulation.append(popt[0])\n",
        "roscillation_simulation.append(np.abs(popt[1]))"
      ],
      "metadata": {
        "id": "iuMwynGY5flT"
      },
      "execution_count": null,
      "outputs": []
    },
    {
      "cell_type": "code",
      "source": [
        "# Fitting function : exponential function\n",
        "\n",
        "def func(t, a, b, kappa):\n",
        "  return a*(1 - 2*np.exp(-kappa*t/2)*np.cos(2*np.pi*b*t) + np.exp(-kappa*t))\n",
        "\n",
        "\n",
        "popt, pcov = curve_fit(func, tlist, result.expect[5], p0 = [0.02, 0.0128, 0.012])\n",
        "\n",
        "popt"
      ],
      "metadata": {
        "id": "f3HHCfex5flT"
      },
      "execution_count": null,
      "outputs": []
    },
    {
      "cell_type": "code",
      "source": [
        "pkappa_simulation.append(popt[2])\n",
        "pphoton_simulation.append(popt[0])\n",
        "poscillation_simulation.append(np.abs(popt[1]))"
      ],
      "metadata": {
        "id": "4AjoWqVH5flT"
      },
      "execution_count": null,
      "outputs": []
    },
    {
      "cell_type": "markdown",
      "source": [
        "### $ \\kappa = 2\\pi 25MHz$"
      ],
      "metadata": {
        "id": "hlCvCbHk5flT"
      }
    },
    {
      "cell_type": "code",
      "source": [
        "# Simulation\n",
        "\n",
        "N_seq = 0\n",
        "A = 0.005 * 2 * np.pi\n",
        "omega_qd = 37.6381\n",
        "kappa_f = 2 * np.pi * 0.025  # external coupling rate of resonator in units of GHz\n",
        "\n",
        "tlist = np.linspace(0, 1000, 10000)\n",
        "\n",
        "result = mesolve(\n",
        "    [H0, [H1, Hrd_lab_frame], [H2, CP_lab_frame]],\n",
        "    psis_dressed,\n",
        "    tlist,\n",
        "    c_ops = [np.sqrt(kappa_f) * tensor(qeye(2), qeye(N), b)],\n",
        "    args = {'A': A, 'T_srt_r': 0, 'T_end_r': 50000, 'Omega_rd': omega_rd, 'B': B, 'T_srt_q': 0, 'T_end_q': 400, 'N_seq': N_seq, 'Omega_qd': omega_qd},\n",
        "    e_ops = op_list,\n",
        ")"
      ],
      "metadata": {
        "id": "QP8QFd295flT"
      },
      "execution_count": null,
      "outputs": []
    },
    {
      "cell_type": "code",
      "source": [
        "# Plot Results\n",
        "\n",
        "plt.plot(tlist, result.expect[4])\n",
        "\n",
        "plt.title('Readout Resonator Photon Number')\n",
        "plt.xlabel('Evolution Time (ns)')\n",
        "plt.ylabel('Readout Resonator Photon Number')"
      ],
      "metadata": {
        "id": "TR0Afs3J5flT"
      },
      "execution_count": null,
      "outputs": []
    },
    {
      "cell_type": "code",
      "source": [
        "# Plot Results\n",
        "\n",
        "plt.plot(tlist, np.sqrt(result.expect[6] - result.expect[4]*result.expect[4]), label=\"photon number fluctuation simulation\")\n",
        "plt.plot(tlist, np.sqrt(result.expect[4]), label=\"photon number fluctuation calculated\")\n",
        "\n",
        "plt.legend()\n",
        "plt.title('Readout Resonator Photon Number Fluctuation')\n",
        "plt.xlabel('Evolution Time (ns)')\n",
        "plt.ylabel('Readout Resonator Photon Number Fluctuation')"
      ],
      "metadata": {
        "id": "al3CXCQW5flT"
      },
      "execution_count": null,
      "outputs": []
    },
    {
      "cell_type": "code",
      "source": [
        "# Plot Results\n",
        "\n",
        "plt.plot(tlist, result.expect[5])\n",
        "\n",
        "plt.title('Filter Resonator Photon Number')\n",
        "plt.xlabel('Evolution Time (ns)')\n",
        "plt.ylabel('Filter Resonator Photon Number')"
      ],
      "metadata": {
        "id": "a7nd3tgS5flT"
      },
      "execution_count": null,
      "outputs": []
    },
    {
      "cell_type": "code",
      "source": [
        "# Plot Results\n",
        "\n",
        "plt.plot(tlist, np.sqrt(result.expect[7] - result.expect[5]*result.expect[5]), label=\"photon number fluctuation simulation\")\n",
        "plt.plot(tlist, np.sqrt(result.expect[5]), label=\"photon number fluctuation calculated\")\n",
        "\n",
        "plt.legend()\n",
        "plt.title('Filter Resonator Photon Number Fluctuation')\n",
        "plt.xlabel('Evolution Time (ns)')\n",
        "plt.ylabel('Filter Resonator Photon Number Fluctuation')"
      ],
      "metadata": {
        "id": "vmVKfhGi5flU"
      },
      "execution_count": null,
      "outputs": []
    },
    {
      "cell_type": "code",
      "source": [
        "# Fitting function : exponential function\n",
        "\n",
        "def func(t, a, b, kappa):\n",
        "  return a*(1 - 2*np.exp(-kappa*t/2)*np.cos(2*np.pi*b*t) + np.exp(-kappa*t))\n",
        "\n",
        "\n",
        "popt, pcov = curve_fit(func, tlist, result.expect[4], p0 = [0.02, 0.01, 0.012])\n",
        "\n",
        "popt"
      ],
      "metadata": {
        "id": "iKIfdpsE5flU"
      },
      "execution_count": null,
      "outputs": []
    },
    {
      "cell_type": "code",
      "source": [
        "rkappa_simulation.append(popt[2])\n",
        "rphoton_simulation.append(popt[0])\n",
        "roscillation_simulation.append(np.abs(popt[1]))"
      ],
      "metadata": {
        "id": "Q4fRXiu65flU"
      },
      "execution_count": null,
      "outputs": []
    },
    {
      "cell_type": "code",
      "source": [
        "# Fitting function : exponential function\n",
        "\n",
        "def func(t, a, b, kappa):\n",
        "  return a*(1 - 2*np.exp(-kappa*t/2)*np.cos(2*np.pi*b*t) + np.exp(-kappa*t))\n",
        "\n",
        "\n",
        "popt, pcov = curve_fit(func, tlist, result.expect[5], p0 = [0.02, 0.0128, 0.012])\n",
        "\n",
        "popt"
      ],
      "metadata": {
        "id": "5Z-UKxv_5flU"
      },
      "execution_count": null,
      "outputs": []
    },
    {
      "cell_type": "code",
      "source": [
        "pkappa_simulation.append(popt[2])\n",
        "pphoton_simulation.append(popt[0])\n",
        "poscillation_simulation.append(np.abs(popt[1]))"
      ],
      "metadata": {
        "id": "jvtopWoU5flU"
      },
      "execution_count": null,
      "outputs": []
    },
    {
      "cell_type": "markdown",
      "source": [
        "### $ \\kappa = 2\\pi 30MHz$"
      ],
      "metadata": {
        "id": "KZamBsua5flU"
      }
    },
    {
      "cell_type": "code",
      "source": [
        "# Simulation\n",
        "\n",
        "N_seq = 0\n",
        "A = 0.005 * 2 * np.pi\n",
        "omega_qd = 37.6381\n",
        "kappa_f = 2 * np.pi * 0.030  # external coupling rate of resonator in units of GHz\n",
        "\n",
        "tlist = np.linspace(0, 1000, 10000)\n",
        "\n",
        "result = mesolve(\n",
        "    [H0, [H1, Hrd_lab_frame], [H2, CP_lab_frame]],\n",
        "    psis_dressed,\n",
        "    tlist,\n",
        "    c_ops = [np.sqrt(kappa_f) * tensor(qeye(2), qeye(N), b)],\n",
        "    args = {'A': A, 'T_srt_r': 0, 'T_end_r': 50000, 'Omega_rd': omega_rd, 'B': B, 'T_srt_q': 0, 'T_end_q': 400, 'N_seq': N_seq, 'Omega_qd': omega_qd},\n",
        "    e_ops = op_list,\n",
        ")"
      ],
      "metadata": {
        "id": "BkTbydrj5flU"
      },
      "execution_count": null,
      "outputs": []
    },
    {
      "cell_type": "code",
      "source": [
        "# Plot Results\n",
        "\n",
        "plt.plot(tlist, result.expect[4])\n",
        "\n",
        "plt.title('Readout Resonator Photon Number')\n",
        "plt.xlabel('Evolution Time (ns)')\n",
        "plt.ylabel('Readout Resonator Photon Number')"
      ],
      "metadata": {
        "id": "h77Vwrzx5flU"
      },
      "execution_count": null,
      "outputs": []
    },
    {
      "cell_type": "code",
      "source": [
        "# Plot Results\n",
        "\n",
        "plt.plot(tlist, np.sqrt(result.expect[6] - result.expect[4]*result.expect[4]), label=\"photon number fluctuation simulation\")\n",
        "plt.plot(tlist, np.sqrt(result.expect[4]), label=\"photon number fluctuation calculated\")\n",
        "\n",
        "plt.legend()\n",
        "plt.title('Readout Resonator Photon Number Fluctuation')\n",
        "plt.xlabel('Evolution Time (ns)')\n",
        "plt.ylabel('Readout Resonator Photon Number Fluctuation')"
      ],
      "metadata": {
        "id": "QU4ZzMp05flU"
      },
      "execution_count": null,
      "outputs": []
    },
    {
      "cell_type": "code",
      "source": [
        "# Plot Results\n",
        "\n",
        "plt.plot(tlist, result.expect[5])\n",
        "\n",
        "plt.title('Filter Resonator Photon Number')\n",
        "plt.xlabel('Evolution Time (ns)')\n",
        "plt.ylabel('Filter Resonator Photon Number')"
      ],
      "metadata": {
        "id": "LmttokwS5flU"
      },
      "execution_count": null,
      "outputs": []
    },
    {
      "cell_type": "code",
      "source": [
        "# Plot Results\n",
        "\n",
        "plt.plot(tlist, np.sqrt(result.expect[7] - result.expect[5]*result.expect[5]), label=\"photon number fluctuation simulation\")\n",
        "plt.plot(tlist, np.sqrt(result.expect[5]), label=\"photon number fluctuation calculated\")\n",
        "\n",
        "plt.legend()\n",
        "plt.title('Filter Resonator Photon Number Fluctuation')\n",
        "plt.xlabel('Evolution Time (ns)')\n",
        "plt.ylabel('Filter Resonator Photon Number Fluctuation')"
      ],
      "metadata": {
        "id": "W2IVdzye5flU"
      },
      "execution_count": null,
      "outputs": []
    },
    {
      "cell_type": "code",
      "source": [
        "# Fitting function : exponential function\n",
        "\n",
        "def func(t, a, b, kappa):\n",
        "  return a*(1 - 2*np.exp(-kappa*t/2)*np.cos(2*np.pi*b*t) + np.exp(-kappa*t))\n",
        "\n",
        "\n",
        "popt, pcov = curve_fit(func, tlist, result.expect[4], p0 = [0.02, 0.01, 0.012])\n",
        "\n",
        "popt"
      ],
      "metadata": {
        "id": "HiBtvTrN5flU"
      },
      "execution_count": null,
      "outputs": []
    },
    {
      "cell_type": "code",
      "source": [
        "rkappa_simulation.append(popt[2])\n",
        "rphoton_simulation.append(popt[0])\n",
        "roscillation_simulation.append(np.abs(popt[1]))"
      ],
      "metadata": {
        "id": "PHUMDclQ5flU"
      },
      "execution_count": null,
      "outputs": []
    },
    {
      "cell_type": "code",
      "source": [
        "# Fitting function : exponential function\n",
        "\n",
        "def func(t, a, b, kappa):\n",
        "  return a*(1 - 2*np.exp(-kappa*t/2)*np.cos(2*np.pi*b*t) + np.exp(-kappa*t))\n",
        "\n",
        "\n",
        "popt, pcov = curve_fit(func, tlist, result.expect[5], p0 = [0.02, 0.0128, 0.012])\n",
        "\n",
        "popt"
      ],
      "metadata": {
        "id": "7OTtMoxa5flU"
      },
      "execution_count": null,
      "outputs": []
    },
    {
      "cell_type": "code",
      "source": [
        "pkappa_simulation.append(popt[2])\n",
        "pphoton_simulation.append(popt[0])\n",
        "poscillation_simulation.append(np.abs(popt[1]))"
      ],
      "metadata": {
        "id": "tGooqlRf5flU"
      },
      "execution_count": null,
      "outputs": []
    },
    {
      "cell_type": "markdown",
      "source": [
        "## $G=2\\pi 50MHz$"
      ],
      "metadata": {
        "id": "zbw_Guhu5gQy"
      }
    },
    {
      "cell_type": "code",
      "execution_count": null,
      "metadata": {
        "id": "Qwy2Hca25gQz"
      },
      "outputs": [],
      "source": [
        "# readout resonator & purcell filter resonator dimension\n",
        "\n",
        "N = 3\n",
        "\n",
        "\n",
        "# constant\n",
        "\n",
        "B = 0.01 * 2 * np.pi        # gate operation time : 50ns\n",
        "\n",
        "omega_r = 2 * np.pi * 7.0   # resonator frequency in units of GHz\n",
        "omega_f = 2 * np.pi * 7.0   # resonator frequency in units of GHz\n",
        "omega_q = 2 * np.pi * 6.0   # qubit frequency in units of GHz\n",
        "omega_rd = 2 * np.pi * 7.0  # qubit frequency in units of GHz\n",
        "g = 2 * np.pi * 0.1         # qubit-resonator coupling in units of GHz\n",
        "G = 2 * np.pi * 0.050        # qubit-resonator coupling in units of GHz\n",
        "\n",
        "\n",
        "detune = omega_q-omega_r\n",
        "chi = g*g/(detune)\n",
        "\n",
        "omega_rd = omega_r          # qubit frequency in units of GHz\n",
        "omega_qd = omega_q + chi\n",
        "\n",
        "# operator defined on bare basis\n",
        "\n",
        "sz = sigmaz()\n",
        "sx = sigmax()\n",
        "sy = sigmay()\n",
        "sp = basis(2,1)*basis(2,0).dag()\n",
        "sm = basis(2,0)*basis(2,1).dag()\n",
        "\n",
        "a = destroy(N)\n",
        "b = destroy(N)\n",
        "\n",
        "sx_bare                 = tensor(sx, qeye(N), qeye(N))\n",
        "sy_bare                 = tensor(sy, qeye(N), qeye(N))\n",
        "sz_bare                 = tensor(sz, qeye(N), qeye(N))\n",
        "sp_bare                 = tensor(sp, qeye(N), qeye(N))\n",
        "sm_bare                 = tensor(sm, qeye(N), qeye(N))\n",
        "\n",
        "readout_annihilate_bare = tensor(qeye(2), a, qeye(N))\n",
        "readout_create_bare     = tensor(qeye(2), a.dag(), qeye(N))\n",
        "readout_number_bare     = tensor(qeye(2), a.dag()*a, qeye(N))\n",
        "\n",
        "filter_annihilate_bare  = tensor(qeye(2), qeye(N), b)\n",
        "filter_create_bare      = tensor(qeye(2), qeye(N), b.dag())\n",
        "filter_number_bare      = tensor(qeye(2), qeye(N), b.dag()*b)\n",
        "\n",
        "psi0_bare               = tensor(basis(2,0), basis(N,0), basis(N,0))\n",
        "psis_bare               = tensor((basis(2,0) + basis(2,1))/np.sqrt(2), basis(N,0), basis(N,0))\n",
        "psi1_bare               = tensor(basis(2,1), basis(N,0), basis(N,0))\n",
        "\n",
        "\n",
        "H0 = -0.5*omega_q*sz_bare + omega_r*readout_number_bare + omega_f*filter_number_bare + g*(tensor(sp, a, qeye(N))+tensor(sm, a.dag(), qeye(N))) + G*(tensor(qeye(2), a, b.dag()) + tensor(qeye(2), a.dag(), b))\n",
        "H1 = tensor(qeye(2), a+a.dag(), qeye(N))\n",
        "H2 = sx_bare"
      ]
    },
    {
      "cell_type": "code",
      "source": [
        "sx_dressed = H0.eigenstates()[1][0]*H0.eigenstates()[1][1].dag() + H0.eigenstates()[1][2]*H0.eigenstates()[1][5].dag() \\\n",
        "+ H0.eigenstates()[1][3]*H0.eigenstates()[1][4].dag() + H0.eigenstates()[1][6]*H0.eigenstates()[1][10].dag() \\\n",
        "+ H0.eigenstates()[1][7]*H0.eigenstates()[1][9].dag() + H0.eigenstates()[1][8]*H0.eigenstates()[1][11].dag() \\\n",
        "+ H0.eigenstates()[1][12]*H0.eigenstates()[1][15].dag() + H0.eigenstates()[1][13]*H0.eigenstates()[1][14].dag() \\\n",
        "+ H0.eigenstates()[1][16]*H0.eigenstates()[1][17].dag() \\\n",
        "+ H0.eigenstates()[1][1]*H0.eigenstates()[1][0].dag() + H0.eigenstates()[1][5]*H0.eigenstates()[1][2].dag() \\\n",
        "+ H0.eigenstates()[1][4]*H0.eigenstates()[1][3].dag() + H0.eigenstates()[1][10]*H0.eigenstates()[1][6].dag() \\\n",
        "+ H0.eigenstates()[1][9]*H0.eigenstates()[1][7].dag() + H0.eigenstates()[1][11]*H0.eigenstates()[1][8].dag() \\\n",
        "+ H0.eigenstates()[1][15]*H0.eigenstates()[1][12].dag() + H0.eigenstates()[1][14]*H0.eigenstates()[1][13].dag() \\\n",
        "+ H0.eigenstates()[1][17]*H0.eigenstates()[1][16].dag()\n",
        "\n",
        "\n",
        "sy_dressed = + (-1j)*H0.eigenstates()[1][0]*H0.eigenstates()[1][1].dag() + (-1j)*H0.eigenstates()[1][2]*H0.eigenstates()[1][5].dag() \\\n",
        "+ (-1j)*H0.eigenstates()[1][3]*H0.eigenstates()[1][4].dag() + (-1j)*H0.eigenstates()[1][6]*H0.eigenstates()[1][10].dag() \\\n",
        "+ (-1j)*H0.eigenstates()[1][7]*H0.eigenstates()[1][9].dag() + (-1j)*H0.eigenstates()[1][8]*H0.eigenstates()[1][11].dag() \\\n",
        "+ (-1j)*H0.eigenstates()[1][12]*H0.eigenstates()[1][15].dag() + (-1j)*H0.eigenstates()[1][13]*H0.eigenstates()[1][14].dag() \\\n",
        "+ (-1j)*H0.eigenstates()[1][16]*H0.eigenstates()[1][17].dag() \\\n",
        "+ (+1j)*H0.eigenstates()[1][1]*H0.eigenstates()[1][0].dag() + (+1j)*H0.eigenstates()[1][5]*H0.eigenstates()[1][2].dag() \\\n",
        "+ (+1j)*H0.eigenstates()[1][4]*H0.eigenstates()[1][3].dag() + (+1j)*H0.eigenstates()[1][10]*H0.eigenstates()[1][6].dag() \\\n",
        "+ (+1j)*H0.eigenstates()[1][9]*H0.eigenstates()[1][7].dag() + (+1j)*H0.eigenstates()[1][11]*H0.eigenstates()[1][8].dag() \\\n",
        "+ (+1j)*H0.eigenstates()[1][15]*H0.eigenstates()[1][12].dag() + (+1j)*H0.eigenstates()[1][14]*H0.eigenstates()[1][13].dag() \\\n",
        "+ (+1j)*H0.eigenstates()[1][17]*H0.eigenstates()[1][16].dag()\n",
        "\n",
        "\n",
        "sz_dressed = H0.eigenstates()[1][0]*H0.eigenstates()[1][0].dag() + H0.eigenstates()[1][2]*H0.eigenstates()[1][2].dag() \\\n",
        "+ H0.eigenstates()[1][3]*H0.eigenstates()[1][3].dag() + H0.eigenstates()[1][6]*H0.eigenstates()[1][6].dag() \\\n",
        "+ H0.eigenstates()[1][7]*H0.eigenstates()[1][7].dag() + H0.eigenstates()[1][8]*H0.eigenstates()[1][8].dag() \\\n",
        "+ H0.eigenstates()[1][12]*H0.eigenstates()[1][12].dag() + H0.eigenstates()[1][13]*H0.eigenstates()[1][13].dag() \\\n",
        "+ H0.eigenstates()[1][16]*H0.eigenstates()[1][16].dag() \\\n",
        "- H0.eigenstates()[1][1]*H0.eigenstates()[1][1].dag() - H0.eigenstates()[1][4]*H0.eigenstates()[1][4].dag() \\\n",
        "- H0.eigenstates()[1][5]*H0.eigenstates()[1][5].dag() - H0.eigenstates()[1][9]*H0.eigenstates()[1][9].dag() \\\n",
        "- H0.eigenstates()[1][10]*H0.eigenstates()[1][10].dag() - H0.eigenstates()[1][11]*H0.eigenstates()[1][11].dag() \\\n",
        "- H0.eigenstates()[1][14]*H0.eigenstates()[1][14].dag() - H0.eigenstates()[1][15]*H0.eigenstates()[1][15].dag() \\\n",
        "- H0.eigenstates()[1][17]*H0.eigenstates()[1][17].dag()\n",
        "\n",
        "\n",
        "sp_dressed = H0.eigenstates()[1][1]*H0.eigenstates()[1][0].dag() + H0.eigenstates()[1][5]*H0.eigenstates()[1][2].dag() \\\n",
        "+ H0.eigenstates()[1][4]*H0.eigenstates()[1][3].dag() + H0.eigenstates()[1][10]*H0.eigenstates()[1][6].dag() \\\n",
        "+ H0.eigenstates()[1][9]*H0.eigenstates()[1][7].dag() + H0.eigenstates()[1][11]*H0.eigenstates()[1][8].dag() \\\n",
        "+ H0.eigenstates()[1][15]*H0.eigenstates()[1][12].dag() + H0.eigenstates()[1][14]*H0.eigenstates()[1][13].dag() \\\n",
        "+ H0.eigenstates()[1][17]*H0.eigenstates()[1][16].dag()\n",
        "\n",
        "\n",
        "readout_number_dressed = H0.eigenstates()[1][3]*H0.eigenstates()[1][3].dag() + H0.eigenstates()[1][4]*H0.eigenstates()[1][4].dag() \\\n",
        "+ H0.eigenstates()[1][7]*H0.eigenstates()[1][7].dag() + H0.eigenstates()[1][9]*H0.eigenstates()[1][9].dag() \\\n",
        "+ H0.eigenstates()[1][12]*H0.eigenstates()[1][12].dag() + H0.eigenstates()[1][14]*H0.eigenstates()[1][14].dag() \\\n",
        "+ 2*H0.eigenstates()[1][8]*H0.eigenstates()[1][8].dag() + 2*H0.eigenstates()[1][11]*H0.eigenstates()[1][11].dag() \\\n",
        "+ 2*H0.eigenstates()[1][13]*H0.eigenstates()[1][13].dag() + 2*H0.eigenstates()[1][15]*H0.eigenstates()[1][15].dag() \\\n",
        "+ 2*H0.eigenstates()[1][16]*H0.eigenstates()[1][16].dag() + 2*H0.eigenstates()[1][17]*H0.eigenstates()[1][17].dag() \\\n",
        "\n",
        "\n",
        "filter_number_dressed = H0.eigenstates()[1][2]*H0.eigenstates()[1][2].dag() + H0.eigenstates()[1][5]*H0.eigenstates()[1][5].dag() \\\n",
        "+ H0.eigenstates()[1][7]*H0.eigenstates()[1][7].dag() + H0.eigenstates()[1][9]*H0.eigenstates()[1][9].dag() \\\n",
        "+ H0.eigenstates()[1][13]*H0.eigenstates()[1][13].dag() + H0.eigenstates()[1][15]*H0.eigenstates()[1][15].dag() \\\n",
        "+ 2*H0.eigenstates()[1][6]*H0.eigenstates()[1][6].dag() + 2*H0.eigenstates()[1][10]*H0.eigenstates()[1][10].dag() \\\n",
        "+ 2*H0.eigenstates()[1][12]*H0.eigenstates()[1][12].dag() + 2*H0.eigenstates()[1][14]*H0.eigenstates()[1][14].dag() \\\n",
        "+ 2*H0.eigenstates()[1][16]*H0.eigenstates()[1][16].dag() + 2*H0.eigenstates()[1][17]*H0.eigenstates()[1][17].dag()"
      ],
      "metadata": {
        "id": "KaNQeNkp5gQz"
      },
      "execution_count": null,
      "outputs": []
    },
    {
      "cell_type": "code",
      "source": [
        "psi0_dressed             = H0.eigenstates()[1][0]\n",
        "psi1_dressed             = H0.eigenstates()[1][1]\n",
        "psis_dressed             = (psi0_dressed + psi1_dressed)/np.sqrt(2)\n",
        "\n",
        "op_list = [sx_dressed, sy_dressed, sz_dressed, sp_dressed, readout_number_dressed, filter_number_dressed]"
      ],
      "metadata": {
        "id": "_seIHN2D5gQz"
      },
      "execution_count": null,
      "outputs": []
    },
    {
      "cell_type": "markdown",
      "source": [
        "### $ \\kappa = 2\\pi 5MHz$"
      ],
      "metadata": {
        "id": "8G3Cm2Hr5gQz"
      }
    },
    {
      "cell_type": "code",
      "source": [
        "# Simulation\n",
        "\n",
        "N_seq = 0\n",
        "A = 0.005 * 2 * np.pi\n",
        "omega_qd = 37.6381\n",
        "kappa_f = 2 * np.pi * 0.05  # external coupling rate of resonator in units of GHz\n",
        "\n",
        "tlist = np.linspace(0, 1000, 10000)\n",
        "\n",
        "result = mesolve(\n",
        "    [H0, [H1, Hrd_lab_frame], [H2, CP_lab_frame]],\n",
        "    psis_dressed,\n",
        "    tlist,\n",
        "    c_ops = [np.sqrt(kappa_f) * tensor(qeye(2), qeye(N), b)],\n",
        "    args = {'A': A, 'T_srt_r': 0, 'T_end_r': 50000, 'Omega_rd': omega_rd, 'B': B, 'T_srt_q': 0, 'T_end_q': 400, 'N_seq': N_seq, 'Omega_qd': omega_qd},\n",
        "    e_ops = op_list,\n",
        ")"
      ],
      "metadata": {
        "id": "uAFhFi3p5gQz"
      },
      "execution_count": null,
      "outputs": []
    },
    {
      "cell_type": "code",
      "source": [
        "# Plot Results\n",
        "\n",
        "plt.plot(tlist, result.expect[4])\n",
        "\n",
        "plt.title('Readout Resonator Photon Number')\n",
        "plt.xlabel('Evolution Time (ns)')\n",
        "plt.ylabel('Readout Resonator Photon Number')"
      ],
      "metadata": {
        "id": "5bFfef6h5gQz"
      },
      "execution_count": null,
      "outputs": []
    },
    {
      "cell_type": "code",
      "source": [
        "# Plot Results\n",
        "\n",
        "plt.plot(tlist, np.sqrt(result.expect[6] - result.expect[4]*result.expect[4]), label=\"photon number fluctuation simulation\")\n",
        "plt.plot(tlist, np.sqrt(result.expect[4]), label=\"photon number fluctuation calculated\")\n",
        "\n",
        "plt.legend()\n",
        "plt.title('Readout Resonator Photon Number Fluctuation')\n",
        "plt.xlabel('Evolution Time (ns)')\n",
        "plt.ylabel('Readout Resonator Photon Number Fluctuation')"
      ],
      "metadata": {
        "id": "abU3Izg-5gQz"
      },
      "execution_count": null,
      "outputs": []
    },
    {
      "cell_type": "code",
      "source": [
        "# Plot Results\n",
        "\n",
        "plt.plot(tlist, result.expect[5])\n",
        "\n",
        "plt.title('Filter Resonator Photon Number')\n",
        "plt.xlabel('Evolution Time (ns)')\n",
        "plt.ylabel('Filter Resonator Photon Number')"
      ],
      "metadata": {
        "id": "IsBtL0445gQz"
      },
      "execution_count": null,
      "outputs": []
    },
    {
      "cell_type": "code",
      "source": [
        "# Plot Results\n",
        "\n",
        "plt.plot(tlist, np.sqrt(result.expect[7] - result.expect[5]*result.expect[5]), label=\"photon number fluctuation simulation\")\n",
        "plt.plot(tlist, np.sqrt(result.expect[5]), label=\"photon number fluctuation calculated\")\n",
        "\n",
        "plt.legend()\n",
        "plt.title('Filter Resonator Photon Number Fluctuation')\n",
        "plt.xlabel('Evolution Time (ns)')\n",
        "plt.ylabel('Filter Resonator Photon Number Fluctuation')"
      ],
      "metadata": {
        "id": "nKxNEYLt5gQz"
      },
      "execution_count": null,
      "outputs": []
    },
    {
      "cell_type": "code",
      "source": [
        "# Fitting function : exponential function\n",
        "\n",
        "def func(t, a, b, kappa):\n",
        "  return a*(1 - 2*np.exp(-kappa*t/2)*np.cos(2*np.pi*b*t) + np.exp(-kappa*t))\n",
        "\n",
        "\n",
        "popt, pcov = curve_fit(func, tlist, result.expect[4], p0 = [0.02, 0.01, 0.012])\n",
        "\n",
        "popt"
      ],
      "metadata": {
        "id": "wUEdYZuC5gQz"
      },
      "execution_count": null,
      "outputs": []
    },
    {
      "cell_type": "code",
      "source": [
        "rkappa_simulation.append(popt[2])\n",
        "rphoton_simulation.append(popt[0])\n",
        "roscillation_simulation.append(np.abs(popt[1]))"
      ],
      "metadata": {
        "id": "D_6f5ktb5gQz"
      },
      "execution_count": null,
      "outputs": []
    },
    {
      "cell_type": "code",
      "source": [
        "# Fitting function : exponential function\n",
        "\n",
        "def func(t, a, b, kappa):\n",
        "  return a*(1 - 2*np.exp(-kappa*t/2)*np.cos(2*np.pi*b*t) + np.exp(-kappa*t))\n",
        "\n",
        "\n",
        "popt, pcov = curve_fit(func, tlist, result.expect[5], p0 = [0.02, 0.0128, 0.012])\n",
        "\n",
        "popt"
      ],
      "metadata": {
        "id": "UEwA6pGP5gQz"
      },
      "execution_count": null,
      "outputs": []
    },
    {
      "cell_type": "code",
      "source": [
        "pkappa_simulation.append(popt[2])\n",
        "pphoton_simulation.append(popt[0])\n",
        "poscillation_simulation.append(np.abs(popt[1]))"
      ],
      "metadata": {
        "id": "ldocYr5w5gQ0"
      },
      "execution_count": null,
      "outputs": []
    },
    {
      "cell_type": "markdown",
      "source": [
        "### $ \\kappa = 2\\pi 10MHz$"
      ],
      "metadata": {
        "id": "U16grTUU5gQ0"
      }
    },
    {
      "cell_type": "code",
      "source": [
        "# Simulation\n",
        "\n",
        "N_seq = 0\n",
        "A = 0.005 * 2 * np.pi\n",
        "omega_qd = 37.6381\n",
        "kappa_f = 2 * np.pi * 0.10  # external coupling rate of resonator in units of GHz\n",
        "\n",
        "tlist = np.linspace(0, 1000, 10000)\n",
        "\n",
        "result = mesolve(\n",
        "    [H0, [H1, Hrd_lab_frame], [H2, CP_lab_frame]],\n",
        "    psis_dressed,\n",
        "    tlist,\n",
        "    c_ops = [np.sqrt(kappa_f) * tensor(qeye(2), qeye(N), b)],\n",
        "    args = {'A': A, 'T_srt_r': 0, 'T_end_r': 50000, 'Omega_rd': omega_rd, 'B': B, 'T_srt_q': 0, 'T_end_q': 400, 'N_seq': N_seq, 'Omega_qd': omega_qd},\n",
        "    e_ops = op_list,\n",
        ")"
      ],
      "metadata": {
        "id": "kFOM85WM5gQ0"
      },
      "execution_count": null,
      "outputs": []
    },
    {
      "cell_type": "code",
      "source": [
        "# Plot Results\n",
        "\n",
        "plt.plot(tlist, result.expect[4])\n",
        "\n",
        "plt.title('Readout Resonator Photon Number')\n",
        "plt.xlabel('Evolution Time (ns)')\n",
        "plt.ylabel('Readout Resonator Photon Number')"
      ],
      "metadata": {
        "id": "WVGSWGPd5gQ0"
      },
      "execution_count": null,
      "outputs": []
    },
    {
      "cell_type": "code",
      "source": [
        "# Plot Results\n",
        "\n",
        "plt.plot(tlist, np.sqrt(result.expect[6] - result.expect[4]*result.expect[4]), label=\"photon number fluctuation simulation\")\n",
        "plt.plot(tlist, np.sqrt(result.expect[4]), label=\"photon number fluctuation calculated\")\n",
        "\n",
        "plt.legend()\n",
        "plt.title('Readout Resonator Photon Number Fluctuation')\n",
        "plt.xlabel('Evolution Time (ns)')\n",
        "plt.ylabel('Readout Resonator Photon Number Fluctuation')"
      ],
      "metadata": {
        "id": "p3uiUdLc5gQ0"
      },
      "execution_count": null,
      "outputs": []
    },
    {
      "cell_type": "code",
      "source": [
        "# Plot Results\n",
        "\n",
        "plt.plot(tlist, result.expect[5])\n",
        "\n",
        "plt.title('Filter Resonator Photon Number')\n",
        "plt.xlabel('Evolution Time (ns)')\n",
        "plt.ylabel('Filter Resonator Photon Number')"
      ],
      "metadata": {
        "id": "dvMAnAPs5gQ0"
      },
      "execution_count": null,
      "outputs": []
    },
    {
      "cell_type": "code",
      "source": [
        "# Plot Results\n",
        "\n",
        "plt.plot(tlist, np.sqrt(result.expect[7] - result.expect[5]*result.expect[5]), label=\"photon number fluctuation simulation\")\n",
        "plt.plot(tlist, np.sqrt(result.expect[5]), label=\"photon number fluctuation calculated\")\n",
        "\n",
        "plt.legend()\n",
        "plt.title('Filter Resonator Photon Number Fluctuation')\n",
        "plt.xlabel('Evolution Time (ns)')\n",
        "plt.ylabel('Filter Resonator Photon Number Fluctuation')"
      ],
      "metadata": {
        "id": "COr5oEOA5gQ0"
      },
      "execution_count": null,
      "outputs": []
    },
    {
      "cell_type": "code",
      "source": [
        "# Fitting function : exponential function\n",
        "\n",
        "def func(t, a, b, kappa):\n",
        "  return a*(1 - 2*np.exp(-kappa*t/2)*np.cos(2*np.pi*b*t) + np.exp(-kappa*t))\n",
        "\n",
        "\n",
        "popt, pcov = curve_fit(func, tlist, result.expect[4], p0 = [0.02, 0.01, 0.012])\n",
        "\n",
        "popt"
      ],
      "metadata": {
        "id": "4-4MtPHk5gQ0"
      },
      "execution_count": null,
      "outputs": []
    },
    {
      "cell_type": "code",
      "source": [
        "rkappa_simulation.append(popt[2])\n",
        "rphoton_simulation.append(popt[0])\n",
        "roscillation_simulation.append(np.abs(popt[1]))"
      ],
      "metadata": {
        "id": "E84IG7Xt5gQ0"
      },
      "execution_count": null,
      "outputs": []
    },
    {
      "cell_type": "code",
      "source": [
        "# Fitting function : exponential function\n",
        "\n",
        "def func(t, a, b, kappa):\n",
        "  return a*(1 - 2*np.exp(-kappa*t/2)*np.cos(2*np.pi*b*t) + np.exp(-kappa*t))\n",
        "\n",
        "\n",
        "popt, pcov = curve_fit(func, tlist, result.expect[5], p0 = [0.02, 0.0128, 0.012])\n",
        "\n",
        "popt"
      ],
      "metadata": {
        "id": "fjAAd4dW5gQ0"
      },
      "execution_count": null,
      "outputs": []
    },
    {
      "cell_type": "code",
      "source": [
        "pkappa_simulation.append(popt[2])\n",
        "pphoton_simulation.append(popt[0])\n",
        "poscillation_simulation.append(np.abs(popt[1]))"
      ],
      "metadata": {
        "id": "JiDpcIX_5gQ0"
      },
      "execution_count": null,
      "outputs": []
    },
    {
      "cell_type": "markdown",
      "source": [
        "### $ \\kappa = 2\\pi 15MHz$"
      ],
      "metadata": {
        "id": "dZftXAdQ5gQ0"
      }
    },
    {
      "cell_type": "code",
      "source": [
        "# Simulation\n",
        "\n",
        "N_seq = 0\n",
        "A = 0.005 * 2 * np.pi\n",
        "omega_qd = 37.6381\n",
        "kappa_f = 2 * np.pi * 0.015  # external coupling rate of resonator in units of GHz\n",
        "\n",
        "tlist = np.linspace(0, 1000, 10000)\n",
        "\n",
        "result = mesolve(\n",
        "    [H0, [H1, Hrd_lab_frame], [H2, CP_lab_frame]],\n",
        "    psis_dressed,\n",
        "    tlist,\n",
        "    c_ops = [np.sqrt(kappa_f) * tensor(qeye(2), qeye(N), b)],\n",
        "    args = {'A': A, 'T_srt_r': 0, 'T_end_r': 50000, 'Omega_rd': omega_rd, 'B': B, 'T_srt_q': 0, 'T_end_q': 400, 'N_seq': N_seq, 'Omega_qd': omega_qd},\n",
        "    e_ops = op_list,\n",
        ")"
      ],
      "metadata": {
        "id": "qqsPJC0S5gQ0"
      },
      "execution_count": null,
      "outputs": []
    },
    {
      "cell_type": "code",
      "source": [
        "# Plot Results\n",
        "\n",
        "plt.plot(tlist, result.expect[4])\n",
        "\n",
        "plt.title('Readout Resonator Photon Number')\n",
        "plt.xlabel('Evolution Time (ns)')\n",
        "plt.ylabel('Readout Resonator Photon Number')"
      ],
      "metadata": {
        "id": "bVTdOEx35gQ0"
      },
      "execution_count": null,
      "outputs": []
    },
    {
      "cell_type": "code",
      "source": [
        "# Plot Results\n",
        "\n",
        "plt.plot(tlist, np.sqrt(result.expect[6] - result.expect[4]*result.expect[4]), label=\"photon number fluctuation simulation\")\n",
        "plt.plot(tlist, np.sqrt(result.expect[4]), label=\"photon number fluctuation calculated\")\n",
        "\n",
        "plt.legend()\n",
        "plt.title('Readout Resonator Photon Number Fluctuation')\n",
        "plt.xlabel('Evolution Time (ns)')\n",
        "plt.ylabel('Readout Resonator Photon Number Fluctuation')"
      ],
      "metadata": {
        "id": "FfeCtQLr5gQ1"
      },
      "execution_count": null,
      "outputs": []
    },
    {
      "cell_type": "code",
      "source": [
        "# Plot Results\n",
        "\n",
        "plt.plot(tlist, result.expect[5])\n",
        "\n",
        "plt.title('Filter Resonator Photon Number')\n",
        "plt.xlabel('Evolution Time (ns)')\n",
        "plt.ylabel('Filter Resonator Photon Number')"
      ],
      "metadata": {
        "id": "Ze59QjuL5gQ1"
      },
      "execution_count": null,
      "outputs": []
    },
    {
      "cell_type": "code",
      "source": [
        "# Plot Results\n",
        "\n",
        "plt.plot(tlist, np.sqrt(result.expect[7] - result.expect[5]*result.expect[5]), label=\"photon number fluctuation simulation\")\n",
        "plt.plot(tlist, np.sqrt(result.expect[5]), label=\"photon number fluctuation calculated\")\n",
        "\n",
        "plt.legend()\n",
        "plt.title('Filter Resonator Photon Number Fluctuation')\n",
        "plt.xlabel('Evolution Time (ns)')\n",
        "plt.ylabel('Filter Resonator Photon Number Fluctuation')"
      ],
      "metadata": {
        "id": "F5axEA0O5gQ1"
      },
      "execution_count": null,
      "outputs": []
    },
    {
      "cell_type": "code",
      "source": [
        "# Fitting function : exponential function\n",
        "\n",
        "def func(t, a, b, kappa):\n",
        "  return a*(1 - 2*np.exp(-kappa*t/2)*np.cos(2*np.pi*b*t) + np.exp(-kappa*t))\n",
        "\n",
        "\n",
        "popt, pcov = curve_fit(func, tlist, result.expect[4], p0 = [0.02, 0.01, 0.012])\n",
        "\n",
        "popt"
      ],
      "metadata": {
        "id": "she4eeTh5gQ1"
      },
      "execution_count": null,
      "outputs": []
    },
    {
      "cell_type": "code",
      "source": [
        "rkappa_simulation.append(popt[2])\n",
        "rphoton_simulation.append(popt[0])\n",
        "roscillation_simulation.append(np.abs(popt[1]))"
      ],
      "metadata": {
        "id": "fUk3_0RP5gQ1"
      },
      "execution_count": null,
      "outputs": []
    },
    {
      "cell_type": "code",
      "source": [
        "# Fitting function : exponential function\n",
        "\n",
        "def func(t, a, b, kappa):\n",
        "  return a*(1 - 2*np.exp(-kappa*t/2)*np.cos(2*np.pi*b*t) + np.exp(-kappa*t))\n",
        "\n",
        "\n",
        "popt, pcov = curve_fit(func, tlist, result.expect[5], p0 = [0.02, 0.0128, 0.012])\n",
        "\n",
        "popt"
      ],
      "metadata": {
        "id": "0jOvKwmo5gQ1"
      },
      "execution_count": null,
      "outputs": []
    },
    {
      "cell_type": "code",
      "source": [
        "pkappa_simulation.append(popt[2])\n",
        "pphoton_simulation.append(popt[0])\n",
        "poscillation_simulation.append(np.abs(popt[1]))"
      ],
      "metadata": {
        "id": "tRRrB0K35gQ1"
      },
      "execution_count": null,
      "outputs": []
    },
    {
      "cell_type": "markdown",
      "source": [
        "### $ \\kappa = 2\\pi 20MHz$"
      ],
      "metadata": {
        "id": "A6vj3ICw5gQ1"
      }
    },
    {
      "cell_type": "code",
      "source": [
        "# Simulation\n",
        "\n",
        "N_seq = 0\n",
        "A = 0.005 * 2 * np.pi\n",
        "omega_qd = 37.6381\n",
        "kappa_f = 2 * np.pi * 0.020  # external coupling rate of resonator in units of GHz\n",
        "\n",
        "tlist = np.linspace(0, 1000, 10000)\n",
        "\n",
        "result = mesolve(\n",
        "    [H0, [H1, Hrd_lab_frame], [H2, CP_lab_frame]],\n",
        "    psis_dressed,\n",
        "    tlist,\n",
        "    c_ops = [np.sqrt(kappa_f) * tensor(qeye(2), qeye(N), b)],\n",
        "    args = {'A': A, 'T_srt_r': 0, 'T_end_r': 50000, 'Omega_rd': omega_rd, 'B': B, 'T_srt_q': 0, 'T_end_q': 400, 'N_seq': N_seq, 'Omega_qd': omega_qd},\n",
        "    e_ops = op_list,\n",
        ")"
      ],
      "metadata": {
        "id": "w5G12z6f5gQ1"
      },
      "execution_count": null,
      "outputs": []
    },
    {
      "cell_type": "code",
      "source": [
        "# Plot Results\n",
        "\n",
        "plt.plot(tlist, result.expect[4])\n",
        "\n",
        "plt.title('Readout Resonator Photon Number')\n",
        "plt.xlabel('Evolution Time (ns)')\n",
        "plt.ylabel('Readout Resonator Photon Number')"
      ],
      "metadata": {
        "id": "BjPUPkbA5gQ1"
      },
      "execution_count": null,
      "outputs": []
    },
    {
      "cell_type": "code",
      "source": [
        "# Plot Results\n",
        "\n",
        "plt.plot(tlist, np.sqrt(result.expect[6] - result.expect[4]*result.expect[4]), label=\"photon number fluctuation simulation\")\n",
        "plt.plot(tlist, np.sqrt(result.expect[4]), label=\"photon number fluctuation calculated\")\n",
        "\n",
        "plt.legend()\n",
        "plt.title('Readout Resonator Photon Number Fluctuation')\n",
        "plt.xlabel('Evolution Time (ns)')\n",
        "plt.ylabel('Readout Resonator Photon Number Fluctuation')"
      ],
      "metadata": {
        "id": "9HVATSNJ5gQ1"
      },
      "execution_count": null,
      "outputs": []
    },
    {
      "cell_type": "code",
      "source": [
        "# Plot Results\n",
        "\n",
        "plt.plot(tlist, result.expect[5])\n",
        "\n",
        "plt.title('Filter Resonator Photon Number')\n",
        "plt.xlabel('Evolution Time (ns)')\n",
        "plt.ylabel('Filter Resonator Photon Number')"
      ],
      "metadata": {
        "id": "mKj3ve1l5gQ1"
      },
      "execution_count": null,
      "outputs": []
    },
    {
      "cell_type": "code",
      "source": [
        "# Plot Results\n",
        "\n",
        "plt.plot(tlist, np.sqrt(result.expect[7] - result.expect[5]*result.expect[5]), label=\"photon number fluctuation simulation\")\n",
        "plt.plot(tlist, np.sqrt(result.expect[5]), label=\"photon number fluctuation calculated\")\n",
        "\n",
        "plt.legend()\n",
        "plt.title('Filter Resonator Photon Number Fluctuation')\n",
        "plt.xlabel('Evolution Time (ns)')\n",
        "plt.ylabel('Filter Resonator Photon Number Fluctuation')"
      ],
      "metadata": {
        "id": "T5G7hemm5gQ1"
      },
      "execution_count": null,
      "outputs": []
    },
    {
      "cell_type": "code",
      "source": [
        "# Fitting function : exponential function\n",
        "\n",
        "def func(t, a, b, kappa):\n",
        "  return a*(1 - 2*np.exp(-kappa*t/2)*np.cos(2*np.pi*b*t) + np.exp(-kappa*t))\n",
        "\n",
        "\n",
        "popt, pcov = curve_fit(func, tlist, result.expect[4], p0 = [0.02, 0.01, 0.012])\n",
        "\n",
        "popt"
      ],
      "metadata": {
        "id": "tHqEwGYa5gQ2"
      },
      "execution_count": null,
      "outputs": []
    },
    {
      "cell_type": "code",
      "source": [
        "rkappa_simulation.append(popt[2])\n",
        "rphoton_simulation.append(popt[0])\n",
        "roscillation_simulation.append(np.abs(popt[1]))"
      ],
      "metadata": {
        "id": "-QYYNVGs5gQ2"
      },
      "execution_count": null,
      "outputs": []
    },
    {
      "cell_type": "code",
      "source": [
        "# Fitting function : exponential function\n",
        "\n",
        "def func(t, a, b, kappa):\n",
        "  return a*(1 - 2*np.exp(-kappa*t/2)*np.cos(2*np.pi*b*t) + np.exp(-kappa*t))\n",
        "\n",
        "\n",
        "popt, pcov = curve_fit(func, tlist, result.expect[5], p0 = [0.02, 0.0128, 0.012])\n",
        "\n",
        "popt"
      ],
      "metadata": {
        "id": "n8RCwwfk5gQ2"
      },
      "execution_count": null,
      "outputs": []
    },
    {
      "cell_type": "code",
      "source": [
        "pkappa_simulation.append(popt[2])\n",
        "pphoton_simulation.append(popt[0])\n",
        "poscillation_simulation.append(np.abs(popt[1]))"
      ],
      "metadata": {
        "id": "hwVjRXmV5gQ2"
      },
      "execution_count": null,
      "outputs": []
    },
    {
      "cell_type": "markdown",
      "source": [
        "### $ \\kappa = 2\\pi 25MHz$"
      ],
      "metadata": {
        "id": "yxgUjHfQ5gQ2"
      }
    },
    {
      "cell_type": "code",
      "source": [
        "# Simulation\n",
        "\n",
        "N_seq = 0\n",
        "A = 0.005 * 2 * np.pi\n",
        "omega_qd = 37.6381\n",
        "kappa_f = 2 * np.pi * 0.025  # external coupling rate of resonator in units of GHz\n",
        "\n",
        "tlist = np.linspace(0, 1000, 10000)\n",
        "\n",
        "result = mesolve(\n",
        "    [H0, [H1, Hrd_lab_frame], [H2, CP_lab_frame]],\n",
        "    psis_dressed,\n",
        "    tlist,\n",
        "    c_ops = [np.sqrt(kappa_f) * tensor(qeye(2), qeye(N), b)],\n",
        "    args = {'A': A, 'T_srt_r': 0, 'T_end_r': 50000, 'Omega_rd': omega_rd, 'B': B, 'T_srt_q': 0, 'T_end_q': 400, 'N_seq': N_seq, 'Omega_qd': omega_qd},\n",
        "    e_ops = op_list,\n",
        ")"
      ],
      "metadata": {
        "id": "3VaDe4vW5gQ2"
      },
      "execution_count": null,
      "outputs": []
    },
    {
      "cell_type": "code",
      "source": [
        "# Plot Results\n",
        "\n",
        "plt.plot(tlist, result.expect[4])\n",
        "\n",
        "plt.title('Readout Resonator Photon Number')\n",
        "plt.xlabel('Evolution Time (ns)')\n",
        "plt.ylabel('Readout Resonator Photon Number')"
      ],
      "metadata": {
        "id": "ktqsj-VQ5gQ2"
      },
      "execution_count": null,
      "outputs": []
    },
    {
      "cell_type": "code",
      "source": [
        "# Plot Results\n",
        "\n",
        "plt.plot(tlist, np.sqrt(result.expect[6] - result.expect[4]*result.expect[4]), label=\"photon number fluctuation simulation\")\n",
        "plt.plot(tlist, np.sqrt(result.expect[4]), label=\"photon number fluctuation calculated\")\n",
        "\n",
        "plt.legend()\n",
        "plt.title('Readout Resonator Photon Number Fluctuation')\n",
        "plt.xlabel('Evolution Time (ns)')\n",
        "plt.ylabel('Readout Resonator Photon Number Fluctuation')"
      ],
      "metadata": {
        "id": "V6WEbBtI5gQ2"
      },
      "execution_count": null,
      "outputs": []
    },
    {
      "cell_type": "code",
      "source": [
        "# Plot Results\n",
        "\n",
        "plt.plot(tlist, result.expect[5])\n",
        "\n",
        "plt.title('Filter Resonator Photon Number')\n",
        "plt.xlabel('Evolution Time (ns)')\n",
        "plt.ylabel('Filter Resonator Photon Number')"
      ],
      "metadata": {
        "id": "d3OJxQ3_5gQ2"
      },
      "execution_count": null,
      "outputs": []
    },
    {
      "cell_type": "code",
      "source": [
        "# Plot Results\n",
        "\n",
        "plt.plot(tlist, np.sqrt(result.expect[7] - result.expect[5]*result.expect[5]), label=\"photon number fluctuation simulation\")\n",
        "plt.plot(tlist, np.sqrt(result.expect[5]), label=\"photon number fluctuation calculated\")\n",
        "\n",
        "plt.legend()\n",
        "plt.title('Filter Resonator Photon Number Fluctuation')\n",
        "plt.xlabel('Evolution Time (ns)')\n",
        "plt.ylabel('Filter Resonator Photon Number Fluctuation')"
      ],
      "metadata": {
        "id": "2IGJ8kL25gQ2"
      },
      "execution_count": null,
      "outputs": []
    },
    {
      "cell_type": "code",
      "source": [
        "# Fitting function : exponential function\n",
        "\n",
        "def func(t, a, b, kappa):\n",
        "  return a*(1 - 2*np.exp(-kappa*t/2)*np.cos(2*np.pi*b*t) + np.exp(-kappa*t))\n",
        "\n",
        "\n",
        "popt, pcov = curve_fit(func, tlist, result.expect[4], p0 = [0.02, 0.01, 0.012])\n",
        "\n",
        "popt"
      ],
      "metadata": {
        "id": "SsbEJroe5gQ2"
      },
      "execution_count": null,
      "outputs": []
    },
    {
      "cell_type": "code",
      "source": [
        "rkappa_simulation.append(popt[2])\n",
        "rphoton_simulation.append(popt[0])\n",
        "roscillation_simulation.append(np.abs(popt[1]))"
      ],
      "metadata": {
        "id": "hY0QB1QJ5gQ3"
      },
      "execution_count": null,
      "outputs": []
    },
    {
      "cell_type": "code",
      "source": [
        "# Fitting function : exponential function\n",
        "\n",
        "def func(t, a, b, kappa):\n",
        "  return a*(1 - 2*np.exp(-kappa*t/2)*np.cos(2*np.pi*b*t) + np.exp(-kappa*t))\n",
        "\n",
        "\n",
        "popt, pcov = curve_fit(func, tlist, result.expect[5], p0 = [0.02, 0.0128, 0.012])\n",
        "\n",
        "popt"
      ],
      "metadata": {
        "id": "sQd5ZGU05gQ3"
      },
      "execution_count": null,
      "outputs": []
    },
    {
      "cell_type": "code",
      "source": [
        "pkappa_simulation.append(popt[2])\n",
        "pphoton_simulation.append(popt[0])\n",
        "poscillation_simulation.append(np.abs(popt[1]))"
      ],
      "metadata": {
        "id": "Q0rySsEp5gQ3"
      },
      "execution_count": null,
      "outputs": []
    },
    {
      "cell_type": "markdown",
      "source": [
        "### $ \\kappa = 2\\pi 30MHz$"
      ],
      "metadata": {
        "id": "dsAr9xht5gQ3"
      }
    },
    {
      "cell_type": "code",
      "source": [
        "# Simulation\n",
        "\n",
        "N_seq = 0\n",
        "A = 0.005 * 2 * np.pi\n",
        "omega_qd = 37.6381\n",
        "kappa_f = 2 * np.pi * 0.030  # external coupling rate of resonator in units of GHz\n",
        "\n",
        "tlist = np.linspace(0, 1000, 10000)\n",
        "\n",
        "result = mesolve(\n",
        "    [H0, [H1, Hrd_lab_frame], [H2, CP_lab_frame]],\n",
        "    psis_dressed,\n",
        "    tlist,\n",
        "    c_ops = [np.sqrt(kappa_f) * tensor(qeye(2), qeye(N), b)],\n",
        "    args = {'A': A, 'T_srt_r': 0, 'T_end_r': 50000, 'Omega_rd': omega_rd, 'B': B, 'T_srt_q': 0, 'T_end_q': 400, 'N_seq': N_seq, 'Omega_qd': omega_qd},\n",
        "    e_ops = op_list,\n",
        ")"
      ],
      "metadata": {
        "id": "S1BXbHW35gQ3"
      },
      "execution_count": null,
      "outputs": []
    },
    {
      "cell_type": "code",
      "source": [
        "# Plot Results\n",
        "\n",
        "plt.plot(tlist, result.expect[4])\n",
        "\n",
        "plt.title('Readout Resonator Photon Number')\n",
        "plt.xlabel('Evolution Time (ns)')\n",
        "plt.ylabel('Readout Resonator Photon Number')"
      ],
      "metadata": {
        "id": "DH7Ffe515gQ3"
      },
      "execution_count": null,
      "outputs": []
    },
    {
      "cell_type": "code",
      "source": [
        "# Plot Results\n",
        "\n",
        "plt.plot(tlist, np.sqrt(result.expect[6] - result.expect[4]*result.expect[4]), label=\"photon number fluctuation simulation\")\n",
        "plt.plot(tlist, np.sqrt(result.expect[4]), label=\"photon number fluctuation calculated\")\n",
        "\n",
        "plt.legend()\n",
        "plt.title('Readout Resonator Photon Number Fluctuation')\n",
        "plt.xlabel('Evolution Time (ns)')\n",
        "plt.ylabel('Readout Resonator Photon Number Fluctuation')"
      ],
      "metadata": {
        "id": "6NbthhUn5gQ3"
      },
      "execution_count": null,
      "outputs": []
    },
    {
      "cell_type": "code",
      "source": [
        "# Plot Results\n",
        "\n",
        "plt.plot(tlist, result.expect[5])\n",
        "\n",
        "plt.title('Filter Resonator Photon Number')\n",
        "plt.xlabel('Evolution Time (ns)')\n",
        "plt.ylabel('Filter Resonator Photon Number')"
      ],
      "metadata": {
        "id": "nvnayObm5gQ3"
      },
      "execution_count": null,
      "outputs": []
    },
    {
      "cell_type": "code",
      "source": [
        "# Plot Results\n",
        "\n",
        "plt.plot(tlist, np.sqrt(result.expect[7] - result.expect[5]*result.expect[5]), label=\"photon number fluctuation simulation\")\n",
        "plt.plot(tlist, np.sqrt(result.expect[5]), label=\"photon number fluctuation calculated\")\n",
        "\n",
        "plt.legend()\n",
        "plt.title('Filter Resonator Photon Number Fluctuation')\n",
        "plt.xlabel('Evolution Time (ns)')\n",
        "plt.ylabel('Filter Resonator Photon Number Fluctuation')"
      ],
      "metadata": {
        "id": "fhtU9ShQ5gQ3"
      },
      "execution_count": null,
      "outputs": []
    },
    {
      "cell_type": "code",
      "source": [
        "# Fitting function : exponential function\n",
        "\n",
        "def func(t, a, b, kappa):\n",
        "  return a*(1 - 2*np.exp(-kappa*t/2)*np.cos(2*np.pi*b*t) + np.exp(-kappa*t))\n",
        "\n",
        "\n",
        "popt, pcov = curve_fit(func, tlist, result.expect[4], p0 = [0.02, 0.01, 0.012])\n",
        "\n",
        "popt"
      ],
      "metadata": {
        "id": "qit8za_k5gQ3"
      },
      "execution_count": null,
      "outputs": []
    },
    {
      "cell_type": "code",
      "source": [
        "rkappa_simulation.append(popt[2])\n",
        "rphoton_simulation.append(popt[0])\n",
        "roscillation_simulation.append(np.abs(popt[1]))"
      ],
      "metadata": {
        "id": "aXUbhsL-5gQ3"
      },
      "execution_count": null,
      "outputs": []
    },
    {
      "cell_type": "code",
      "source": [
        "# Fitting function : exponential function\n",
        "\n",
        "def func(t, a, b, kappa):\n",
        "  return a*(1 - 2*np.exp(-kappa*t/2)*np.cos(2*np.pi*b*t) + np.exp(-kappa*t))\n",
        "\n",
        "\n",
        "popt, pcov = curve_fit(func, tlist, result.expect[5], p0 = [0.02, 0.0128, 0.012])\n",
        "\n",
        "popt"
      ],
      "metadata": {
        "id": "eqt1CY485gQ3"
      },
      "execution_count": null,
      "outputs": []
    },
    {
      "cell_type": "code",
      "source": [
        "pkappa_simulation.append(popt[2])\n",
        "pphoton_simulation.append(popt[0])\n",
        "poscillation_simulation.append(np.abs(popt[1]))"
      ],
      "metadata": {
        "id": "KKxq2QxM5gQ3"
      },
      "execution_count": null,
      "outputs": []
    },
    {
      "cell_type": "markdown",
      "source": [
        "## $G=2\\pi 60MHz$"
      ],
      "metadata": {
        "id": "GQCiwF845g_v"
      }
    },
    {
      "cell_type": "code",
      "execution_count": null,
      "metadata": {
        "id": "DKZhNPdf5g_v"
      },
      "outputs": [],
      "source": [
        "# readout resonator & purcell filter resonator dimension\n",
        "\n",
        "N = 3\n",
        "\n",
        "\n",
        "# constant\n",
        "\n",
        "B = 0.01 * 2 * np.pi        # gate operation time : 50ns\n",
        "\n",
        "omega_r = 2 * np.pi * 7.0   # resonator frequency in units of GHz\n",
        "omega_f = 2 * np.pi * 7.0   # resonator frequency in units of GHz\n",
        "omega_q = 2 * np.pi * 6.0   # qubit frequency in units of GHz\n",
        "omega_rd = 2 * np.pi * 7.0  # qubit frequency in units of GHz\n",
        "g = 2 * np.pi * 0.1         # qubit-resonator coupling in units of GHz\n",
        "G = 2 * np.pi * 0.060        # qubit-resonator coupling in units of GHz\n",
        "\n",
        "\n",
        "detune = omega_q-omega_r\n",
        "chi = g*g/(detune)\n",
        "\n",
        "omega_rd = omega_r          # qubit frequency in units of GHz\n",
        "omega_qd = omega_q + chi\n",
        "\n",
        "# operator defined on bare basis\n",
        "\n",
        "sz = sigmaz()\n",
        "sx = sigmax()\n",
        "sy = sigmay()\n",
        "sp = basis(2,1)*basis(2,0).dag()\n",
        "sm = basis(2,0)*basis(2,1).dag()\n",
        "\n",
        "a = destroy(N)\n",
        "b = destroy(N)\n",
        "\n",
        "sx_bare                 = tensor(sx, qeye(N), qeye(N))\n",
        "sy_bare                 = tensor(sy, qeye(N), qeye(N))\n",
        "sz_bare                 = tensor(sz, qeye(N), qeye(N))\n",
        "sp_bare                 = tensor(sp, qeye(N), qeye(N))\n",
        "sm_bare                 = tensor(sm, qeye(N), qeye(N))\n",
        "\n",
        "readout_annihilate_bare = tensor(qeye(2), a, qeye(N))\n",
        "readout_create_bare     = tensor(qeye(2), a.dag(), qeye(N))\n",
        "readout_number_bare     = tensor(qeye(2), a.dag()*a, qeye(N))\n",
        "\n",
        "filter_annihilate_bare  = tensor(qeye(2), qeye(N), b)\n",
        "filter_create_bare      = tensor(qeye(2), qeye(N), b.dag())\n",
        "filter_number_bare      = tensor(qeye(2), qeye(N), b.dag()*b)\n",
        "\n",
        "psi0_bare               = tensor(basis(2,0), basis(N,0), basis(N,0))\n",
        "psis_bare               = tensor((basis(2,0) + basis(2,1))/np.sqrt(2), basis(N,0), basis(N,0))\n",
        "psi1_bare               = tensor(basis(2,1), basis(N,0), basis(N,0))\n",
        "\n",
        "\n",
        "H0 = -0.5*omega_q*sz_bare + omega_r*readout_number_bare + omega_f*filter_number_bare + g*(tensor(sp, a, qeye(N))+tensor(sm, a.dag(), qeye(N))) + G*(tensor(qeye(2), a, b.dag()) + tensor(qeye(2), a.dag(), b))\n",
        "H1 = tensor(qeye(2), a+a.dag(), qeye(N))\n",
        "H2 = sx_bare"
      ]
    },
    {
      "cell_type": "code",
      "source": [
        "sx_dressed = H0.eigenstates()[1][0]*H0.eigenstates()[1][1].dag() + H0.eigenstates()[1][2]*H0.eigenstates()[1][5].dag() \\\n",
        "+ H0.eigenstates()[1][3]*H0.eigenstates()[1][4].dag() + H0.eigenstates()[1][6]*H0.eigenstates()[1][10].dag() \\\n",
        "+ H0.eigenstates()[1][7]*H0.eigenstates()[1][9].dag() + H0.eigenstates()[1][8]*H0.eigenstates()[1][11].dag() \\\n",
        "+ H0.eigenstates()[1][12]*H0.eigenstates()[1][15].dag() + H0.eigenstates()[1][13]*H0.eigenstates()[1][14].dag() \\\n",
        "+ H0.eigenstates()[1][16]*H0.eigenstates()[1][17].dag() \\\n",
        "+ H0.eigenstates()[1][1]*H0.eigenstates()[1][0].dag() + H0.eigenstates()[1][5]*H0.eigenstates()[1][2].dag() \\\n",
        "+ H0.eigenstates()[1][4]*H0.eigenstates()[1][3].dag() + H0.eigenstates()[1][10]*H0.eigenstates()[1][6].dag() \\\n",
        "+ H0.eigenstates()[1][9]*H0.eigenstates()[1][7].dag() + H0.eigenstates()[1][11]*H0.eigenstates()[1][8].dag() \\\n",
        "+ H0.eigenstates()[1][15]*H0.eigenstates()[1][12].dag() + H0.eigenstates()[1][14]*H0.eigenstates()[1][13].dag() \\\n",
        "+ H0.eigenstates()[1][17]*H0.eigenstates()[1][16].dag()\n",
        "\n",
        "\n",
        "sy_dressed = + (-1j)*H0.eigenstates()[1][0]*H0.eigenstates()[1][1].dag() + (-1j)*H0.eigenstates()[1][2]*H0.eigenstates()[1][5].dag() \\\n",
        "+ (-1j)*H0.eigenstates()[1][3]*H0.eigenstates()[1][4].dag() + (-1j)*H0.eigenstates()[1][6]*H0.eigenstates()[1][10].dag() \\\n",
        "+ (-1j)*H0.eigenstates()[1][7]*H0.eigenstates()[1][9].dag() + (-1j)*H0.eigenstates()[1][8]*H0.eigenstates()[1][11].dag() \\\n",
        "+ (-1j)*H0.eigenstates()[1][12]*H0.eigenstates()[1][15].dag() + (-1j)*H0.eigenstates()[1][13]*H0.eigenstates()[1][14].dag() \\\n",
        "+ (-1j)*H0.eigenstates()[1][16]*H0.eigenstates()[1][17].dag() \\\n",
        "+ (+1j)*H0.eigenstates()[1][1]*H0.eigenstates()[1][0].dag() + (+1j)*H0.eigenstates()[1][5]*H0.eigenstates()[1][2].dag() \\\n",
        "+ (+1j)*H0.eigenstates()[1][4]*H0.eigenstates()[1][3].dag() + (+1j)*H0.eigenstates()[1][10]*H0.eigenstates()[1][6].dag() \\\n",
        "+ (+1j)*H0.eigenstates()[1][9]*H0.eigenstates()[1][7].dag() + (+1j)*H0.eigenstates()[1][11]*H0.eigenstates()[1][8].dag() \\\n",
        "+ (+1j)*H0.eigenstates()[1][15]*H0.eigenstates()[1][12].dag() + (+1j)*H0.eigenstates()[1][14]*H0.eigenstates()[1][13].dag() \\\n",
        "+ (+1j)*H0.eigenstates()[1][17]*H0.eigenstates()[1][16].dag()\n",
        "\n",
        "\n",
        "sz_dressed = H0.eigenstates()[1][0]*H0.eigenstates()[1][0].dag() + H0.eigenstates()[1][2]*H0.eigenstates()[1][2].dag() \\\n",
        "+ H0.eigenstates()[1][3]*H0.eigenstates()[1][3].dag() + H0.eigenstates()[1][6]*H0.eigenstates()[1][6].dag() \\\n",
        "+ H0.eigenstates()[1][7]*H0.eigenstates()[1][7].dag() + H0.eigenstates()[1][8]*H0.eigenstates()[1][8].dag() \\\n",
        "+ H0.eigenstates()[1][12]*H0.eigenstates()[1][12].dag() + H0.eigenstates()[1][13]*H0.eigenstates()[1][13].dag() \\\n",
        "+ H0.eigenstates()[1][16]*H0.eigenstates()[1][16].dag() \\\n",
        "- H0.eigenstates()[1][1]*H0.eigenstates()[1][1].dag() - H0.eigenstates()[1][4]*H0.eigenstates()[1][4].dag() \\\n",
        "- H0.eigenstates()[1][5]*H0.eigenstates()[1][5].dag() - H0.eigenstates()[1][9]*H0.eigenstates()[1][9].dag() \\\n",
        "- H0.eigenstates()[1][10]*H0.eigenstates()[1][10].dag() - H0.eigenstates()[1][11]*H0.eigenstates()[1][11].dag() \\\n",
        "- H0.eigenstates()[1][14]*H0.eigenstates()[1][14].dag() - H0.eigenstates()[1][15]*H0.eigenstates()[1][15].dag() \\\n",
        "- H0.eigenstates()[1][17]*H0.eigenstates()[1][17].dag()\n",
        "\n",
        "\n",
        "sp_dressed = H0.eigenstates()[1][1]*H0.eigenstates()[1][0].dag() + H0.eigenstates()[1][5]*H0.eigenstates()[1][2].dag() \\\n",
        "+ H0.eigenstates()[1][4]*H0.eigenstates()[1][3].dag() + H0.eigenstates()[1][10]*H0.eigenstates()[1][6].dag() \\\n",
        "+ H0.eigenstates()[1][9]*H0.eigenstates()[1][7].dag() + H0.eigenstates()[1][11]*H0.eigenstates()[1][8].dag() \\\n",
        "+ H0.eigenstates()[1][15]*H0.eigenstates()[1][12].dag() + H0.eigenstates()[1][14]*H0.eigenstates()[1][13].dag() \\\n",
        "+ H0.eigenstates()[1][17]*H0.eigenstates()[1][16].dag()\n",
        "\n",
        "\n",
        "readout_number_dressed = H0.eigenstates()[1][3]*H0.eigenstates()[1][3].dag() + H0.eigenstates()[1][4]*H0.eigenstates()[1][4].dag() \\\n",
        "+ H0.eigenstates()[1][7]*H0.eigenstates()[1][7].dag() + H0.eigenstates()[1][9]*H0.eigenstates()[1][9].dag() \\\n",
        "+ H0.eigenstates()[1][12]*H0.eigenstates()[1][12].dag() + H0.eigenstates()[1][14]*H0.eigenstates()[1][14].dag() \\\n",
        "+ 2*H0.eigenstates()[1][8]*H0.eigenstates()[1][8].dag() + 2*H0.eigenstates()[1][11]*H0.eigenstates()[1][11].dag() \\\n",
        "+ 2*H0.eigenstates()[1][13]*H0.eigenstates()[1][13].dag() + 2*H0.eigenstates()[1][15]*H0.eigenstates()[1][15].dag() \\\n",
        "+ 2*H0.eigenstates()[1][16]*H0.eigenstates()[1][16].dag() + 2*H0.eigenstates()[1][17]*H0.eigenstates()[1][17].dag() \\\n",
        "\n",
        "\n",
        "filter_number_dressed = H0.eigenstates()[1][2]*H0.eigenstates()[1][2].dag() + H0.eigenstates()[1][5]*H0.eigenstates()[1][5].dag() \\\n",
        "+ H0.eigenstates()[1][7]*H0.eigenstates()[1][7].dag() + H0.eigenstates()[1][9]*H0.eigenstates()[1][9].dag() \\\n",
        "+ H0.eigenstates()[1][13]*H0.eigenstates()[1][13].dag() + H0.eigenstates()[1][15]*H0.eigenstates()[1][15].dag() \\\n",
        "+ 2*H0.eigenstates()[1][6]*H0.eigenstates()[1][6].dag() + 2*H0.eigenstates()[1][10]*H0.eigenstates()[1][10].dag() \\\n",
        "+ 2*H0.eigenstates()[1][12]*H0.eigenstates()[1][12].dag() + 2*H0.eigenstates()[1][14]*H0.eigenstates()[1][14].dag() \\\n",
        "+ 2*H0.eigenstates()[1][16]*H0.eigenstates()[1][16].dag() + 2*H0.eigenstates()[1][17]*H0.eigenstates()[1][17].dag()"
      ],
      "metadata": {
        "id": "zjJ33uru5g_v"
      },
      "execution_count": null,
      "outputs": []
    },
    {
      "cell_type": "code",
      "source": [
        "psi0_dressed             = H0.eigenstates()[1][0]\n",
        "psi1_dressed             = H0.eigenstates()[1][1]\n",
        "psis_dressed             = (psi0_dressed + psi1_dressed)/np.sqrt(2)\n",
        "\n",
        "op_list = [sx_dressed, sy_dressed, sz_dressed, sp_dressed, readout_number_dressed, filter_number_dressed]"
      ],
      "metadata": {
        "id": "TY-6JwU05g_v"
      },
      "execution_count": null,
      "outputs": []
    },
    {
      "cell_type": "markdown",
      "source": [
        "### $ \\kappa = 2\\pi 5MHz$"
      ],
      "metadata": {
        "id": "snAbhByq5g_v"
      }
    },
    {
      "cell_type": "code",
      "source": [
        "# Simulation\n",
        "\n",
        "N_seq = 0\n",
        "A = 0.005 * 2 * np.pi\n",
        "omega_qd = 37.6381\n",
        "kappa_f = 2 * np.pi * 0.05  # external coupling rate of resonator in units of GHz\n",
        "\n",
        "tlist = np.linspace(0, 1000, 10000)\n",
        "\n",
        "result = mesolve(\n",
        "    [H0, [H1, Hrd_lab_frame], [H2, CP_lab_frame]],\n",
        "    psis_dressed,\n",
        "    tlist,\n",
        "    c_ops = [np.sqrt(kappa_f) * tensor(qeye(2), qeye(N), b)],\n",
        "    args = {'A': A, 'T_srt_r': 0, 'T_end_r': 50000, 'Omega_rd': omega_rd, 'B': B, 'T_srt_q': 0, 'T_end_q': 400, 'N_seq': N_seq, 'Omega_qd': omega_qd},\n",
        "    e_ops = op_list,\n",
        ")"
      ],
      "metadata": {
        "id": "fANCnVp_5g_v"
      },
      "execution_count": null,
      "outputs": []
    },
    {
      "cell_type": "code",
      "source": [
        "# Plot Results\n",
        "\n",
        "plt.plot(tlist, result.expect[4])\n",
        "\n",
        "plt.title('Readout Resonator Photon Number')\n",
        "plt.xlabel('Evolution Time (ns)')\n",
        "plt.ylabel('Readout Resonator Photon Number')"
      ],
      "metadata": {
        "id": "E-QptUvq5g_v"
      },
      "execution_count": null,
      "outputs": []
    },
    {
      "cell_type": "code",
      "source": [
        "# Plot Results\n",
        "\n",
        "plt.plot(tlist, np.sqrt(result.expect[6] - result.expect[4]*result.expect[4]), label=\"photon number fluctuation simulation\")\n",
        "plt.plot(tlist, np.sqrt(result.expect[4]), label=\"photon number fluctuation calculated\")\n",
        "\n",
        "plt.legend()\n",
        "plt.title('Readout Resonator Photon Number Fluctuation')\n",
        "plt.xlabel('Evolution Time (ns)')\n",
        "plt.ylabel('Readout Resonator Photon Number Fluctuation')"
      ],
      "metadata": {
        "id": "uhvUmGdr5g_w"
      },
      "execution_count": null,
      "outputs": []
    },
    {
      "cell_type": "code",
      "source": [
        "# Plot Results\n",
        "\n",
        "plt.plot(tlist, result.expect[5])\n",
        "\n",
        "plt.title('Filter Resonator Photon Number')\n",
        "plt.xlabel('Evolution Time (ns)')\n",
        "plt.ylabel('Filter Resonator Photon Number')"
      ],
      "metadata": {
        "id": "GHJ0xIBh5g_w"
      },
      "execution_count": null,
      "outputs": []
    },
    {
      "cell_type": "code",
      "source": [
        "# Plot Results\n",
        "\n",
        "plt.plot(tlist, np.sqrt(result.expect[7] - result.expect[5]*result.expect[5]), label=\"photon number fluctuation simulation\")\n",
        "plt.plot(tlist, np.sqrt(result.expect[5]), label=\"photon number fluctuation calculated\")\n",
        "\n",
        "plt.legend()\n",
        "plt.title('Filter Resonator Photon Number Fluctuation')\n",
        "plt.xlabel('Evolution Time (ns)')\n",
        "plt.ylabel('Filter Resonator Photon Number Fluctuation')"
      ],
      "metadata": {
        "id": "0P3DwtYr5g_w"
      },
      "execution_count": null,
      "outputs": []
    },
    {
      "cell_type": "code",
      "source": [
        "# Fitting function : exponential function\n",
        "\n",
        "def func(t, a, b, kappa):\n",
        "  return a*(1 - 2*np.exp(-kappa*t/2)*np.cos(2*np.pi*b*t) + np.exp(-kappa*t))\n",
        "\n",
        "\n",
        "popt, pcov = curve_fit(func, tlist, result.expect[4], p0 = [0.02, 0.01, 0.012])\n",
        "\n",
        "popt"
      ],
      "metadata": {
        "id": "r7SHBMVR5g_w"
      },
      "execution_count": null,
      "outputs": []
    },
    {
      "cell_type": "code",
      "source": [
        "rkappa_simulation.append(popt[2])\n",
        "rphoton_simulation.append(popt[0])\n",
        "roscillation_simulation.append(np.abs(popt[1]))"
      ],
      "metadata": {
        "id": "jZrh0Kon5g_w"
      },
      "execution_count": null,
      "outputs": []
    },
    {
      "cell_type": "code",
      "source": [
        "# Fitting function : exponential function\n",
        "\n",
        "def func(t, a, b, kappa):\n",
        "  return a*(1 - 2*np.exp(-kappa*t/2)*np.cos(2*np.pi*b*t) + np.exp(-kappa*t))\n",
        "\n",
        "\n",
        "popt, pcov = curve_fit(func, tlist, result.expect[5], p0 = [0.02, 0.0128, 0.012])\n",
        "\n",
        "popt"
      ],
      "metadata": {
        "id": "x7NYNlxe5g_w"
      },
      "execution_count": null,
      "outputs": []
    },
    {
      "cell_type": "code",
      "source": [
        "pkappa_simulation.append(popt[2])\n",
        "pphoton_simulation.append(popt[0])\n",
        "poscillation_simulation.append(np.abs(popt[1]))"
      ],
      "metadata": {
        "id": "omsNCAwM5g_w"
      },
      "execution_count": null,
      "outputs": []
    },
    {
      "cell_type": "markdown",
      "source": [
        "### $ \\kappa = 2\\pi 10MHz$"
      ],
      "metadata": {
        "id": "7-UF-TLY5g_w"
      }
    },
    {
      "cell_type": "code",
      "source": [
        "# Simulation\n",
        "\n",
        "N_seq = 0\n",
        "A = 0.005 * 2 * np.pi\n",
        "omega_qd = 37.6381\n",
        "kappa_f = 2 * np.pi * 0.10  # external coupling rate of resonator in units of GHz\n",
        "\n",
        "tlist = np.linspace(0, 1000, 10000)\n",
        "\n",
        "result = mesolve(\n",
        "    [H0, [H1, Hrd_lab_frame], [H2, CP_lab_frame]],\n",
        "    psis_dressed,\n",
        "    tlist,\n",
        "    c_ops = [np.sqrt(kappa_f) * tensor(qeye(2), qeye(N), b)],\n",
        "    args = {'A': A, 'T_srt_r': 0, 'T_end_r': 50000, 'Omega_rd': omega_rd, 'B': B, 'T_srt_q': 0, 'T_end_q': 400, 'N_seq': N_seq, 'Omega_qd': omega_qd},\n",
        "    e_ops = op_list,\n",
        ")"
      ],
      "metadata": {
        "id": "djS6fHJ-5g_w"
      },
      "execution_count": null,
      "outputs": []
    },
    {
      "cell_type": "code",
      "source": [
        "# Plot Results\n",
        "\n",
        "plt.plot(tlist, result.expect[4])\n",
        "\n",
        "plt.title('Readout Resonator Photon Number')\n",
        "plt.xlabel('Evolution Time (ns)')\n",
        "plt.ylabel('Readout Resonator Photon Number')"
      ],
      "metadata": {
        "id": "b6k4A0m05g_w"
      },
      "execution_count": null,
      "outputs": []
    },
    {
      "cell_type": "code",
      "source": [
        "# Plot Results\n",
        "\n",
        "plt.plot(tlist, np.sqrt(result.expect[6] - result.expect[4]*result.expect[4]), label=\"photon number fluctuation simulation\")\n",
        "plt.plot(tlist, np.sqrt(result.expect[4]), label=\"photon number fluctuation calculated\")\n",
        "\n",
        "plt.legend()\n",
        "plt.title('Readout Resonator Photon Number Fluctuation')\n",
        "plt.xlabel('Evolution Time (ns)')\n",
        "plt.ylabel('Readout Resonator Photon Number Fluctuation')"
      ],
      "metadata": {
        "id": "A2sHAj6y5g_w"
      },
      "execution_count": null,
      "outputs": []
    },
    {
      "cell_type": "code",
      "source": [
        "# Plot Results\n",
        "\n",
        "plt.plot(tlist, result.expect[5])\n",
        "\n",
        "plt.title('Filter Resonator Photon Number')\n",
        "plt.xlabel('Evolution Time (ns)')\n",
        "plt.ylabel('Filter Resonator Photon Number')"
      ],
      "metadata": {
        "id": "zYIVI4Fn5g_x"
      },
      "execution_count": null,
      "outputs": []
    },
    {
      "cell_type": "code",
      "source": [
        "# Plot Results\n",
        "\n",
        "plt.plot(tlist, np.sqrt(result.expect[7] - result.expect[5]*result.expect[5]), label=\"photon number fluctuation simulation\")\n",
        "plt.plot(tlist, np.sqrt(result.expect[5]), label=\"photon number fluctuation calculated\")\n",
        "\n",
        "plt.legend()\n",
        "plt.title('Filter Resonator Photon Number Fluctuation')\n",
        "plt.xlabel('Evolution Time (ns)')\n",
        "plt.ylabel('Filter Resonator Photon Number Fluctuation')"
      ],
      "metadata": {
        "id": "YvnyykfR5g_x"
      },
      "execution_count": null,
      "outputs": []
    },
    {
      "cell_type": "code",
      "source": [
        "# Fitting function : exponential function\n",
        "\n",
        "def func(t, a, b, kappa):\n",
        "  return a*(1 - 2*np.exp(-kappa*t/2)*np.cos(2*np.pi*b*t) + np.exp(-kappa*t))\n",
        "\n",
        "\n",
        "popt, pcov = curve_fit(func, tlist, result.expect[4], p0 = [0.02, 0.01, 0.012])\n",
        "\n",
        "popt"
      ],
      "metadata": {
        "id": "5Ekx8Sh05g_x"
      },
      "execution_count": null,
      "outputs": []
    },
    {
      "cell_type": "code",
      "source": [
        "rkappa_simulation.append(popt[2])\n",
        "rphoton_simulation.append(popt[0])\n",
        "roscillation_simulation.append(np.abs(popt[1]))"
      ],
      "metadata": {
        "id": "VkdGCLHR5g_x"
      },
      "execution_count": null,
      "outputs": []
    },
    {
      "cell_type": "code",
      "source": [
        "# Fitting function : exponential function\n",
        "\n",
        "def func(t, a, b, kappa):\n",
        "  return a*(1 - 2*np.exp(-kappa*t/2)*np.cos(2*np.pi*b*t) + np.exp(-kappa*t))\n",
        "\n",
        "\n",
        "popt, pcov = curve_fit(func, tlist, result.expect[5], p0 = [0.02, 0.0128, 0.012])\n",
        "\n",
        "popt"
      ],
      "metadata": {
        "id": "1WzDlc925g_x"
      },
      "execution_count": null,
      "outputs": []
    },
    {
      "cell_type": "code",
      "source": [
        "pkappa_simulation.append(popt[2])\n",
        "pphoton_simulation.append(popt[0])\n",
        "poscillation_simulation.append(np.abs(popt[1]))"
      ],
      "metadata": {
        "id": "PkHfN4nw5g_x"
      },
      "execution_count": null,
      "outputs": []
    },
    {
      "cell_type": "markdown",
      "source": [
        "### $ \\kappa = 2\\pi 15MHz$"
      ],
      "metadata": {
        "id": "bqXt0Uu75g_x"
      }
    },
    {
      "cell_type": "code",
      "source": [
        "# Simulation\n",
        "\n",
        "N_seq = 0\n",
        "A = 0.005 * 2 * np.pi\n",
        "omega_qd = 37.6381\n",
        "kappa_f = 2 * np.pi * 0.015  # external coupling rate of resonator in units of GHz\n",
        "\n",
        "tlist = np.linspace(0, 1000, 10000)\n",
        "\n",
        "result = mesolve(\n",
        "    [H0, [H1, Hrd_lab_frame], [H2, CP_lab_frame]],\n",
        "    psis_dressed,\n",
        "    tlist,\n",
        "    c_ops = [np.sqrt(kappa_f) * tensor(qeye(2), qeye(N), b)],\n",
        "    args = {'A': A, 'T_srt_r': 0, 'T_end_r': 50000, 'Omega_rd': omega_rd, 'B': B, 'T_srt_q': 0, 'T_end_q': 400, 'N_seq': N_seq, 'Omega_qd': omega_qd},\n",
        "    e_ops = op_list,\n",
        ")"
      ],
      "metadata": {
        "id": "ydOhugud5g_x"
      },
      "execution_count": null,
      "outputs": []
    },
    {
      "cell_type": "code",
      "source": [
        "# Plot Results\n",
        "\n",
        "plt.plot(tlist, result.expect[4])\n",
        "\n",
        "plt.title('Readout Resonator Photon Number')\n",
        "plt.xlabel('Evolution Time (ns)')\n",
        "plt.ylabel('Readout Resonator Photon Number')"
      ],
      "metadata": {
        "id": "Yg4LBB1F5g_x"
      },
      "execution_count": null,
      "outputs": []
    },
    {
      "cell_type": "code",
      "source": [
        "# Plot Results\n",
        "\n",
        "plt.plot(tlist, np.sqrt(result.expect[6] - result.expect[4]*result.expect[4]), label=\"photon number fluctuation simulation\")\n",
        "plt.plot(tlist, np.sqrt(result.expect[4]), label=\"photon number fluctuation calculated\")\n",
        "\n",
        "plt.legend()\n",
        "plt.title('Readout Resonator Photon Number Fluctuation')\n",
        "plt.xlabel('Evolution Time (ns)')\n",
        "plt.ylabel('Readout Resonator Photon Number Fluctuation')"
      ],
      "metadata": {
        "id": "GLN0frPa5g_x"
      },
      "execution_count": null,
      "outputs": []
    },
    {
      "cell_type": "code",
      "source": [
        "# Plot Results\n",
        "\n",
        "plt.plot(tlist, result.expect[5])\n",
        "\n",
        "plt.title('Filter Resonator Photon Number')\n",
        "plt.xlabel('Evolution Time (ns)')\n",
        "plt.ylabel('Filter Resonator Photon Number')"
      ],
      "metadata": {
        "id": "ba_VHPVJ5g_x"
      },
      "execution_count": null,
      "outputs": []
    },
    {
      "cell_type": "code",
      "source": [
        "# Plot Results\n",
        "\n",
        "plt.plot(tlist, np.sqrt(result.expect[7] - result.expect[5]*result.expect[5]), label=\"photon number fluctuation simulation\")\n",
        "plt.plot(tlist, np.sqrt(result.expect[5]), label=\"photon number fluctuation calculated\")\n",
        "\n",
        "plt.legend()\n",
        "plt.title('Filter Resonator Photon Number Fluctuation')\n",
        "plt.xlabel('Evolution Time (ns)')\n",
        "plt.ylabel('Filter Resonator Photon Number Fluctuation')"
      ],
      "metadata": {
        "id": "K2m5Z3BO5g_x"
      },
      "execution_count": null,
      "outputs": []
    },
    {
      "cell_type": "code",
      "source": [
        "# Fitting function : exponential function\n",
        "\n",
        "def func(t, a, b, kappa):\n",
        "  return a*(1 - 2*np.exp(-kappa*t/2)*np.cos(2*np.pi*b*t) + np.exp(-kappa*t))\n",
        "\n",
        "\n",
        "popt, pcov = curve_fit(func, tlist, result.expect[4], p0 = [0.02, 0.01, 0.012])\n",
        "\n",
        "popt"
      ],
      "metadata": {
        "id": "AfMED8xU5g_x"
      },
      "execution_count": null,
      "outputs": []
    },
    {
      "cell_type": "code",
      "source": [
        "rkappa_simulation.append(popt[2])\n",
        "rphoton_simulation.append(popt[0])\n",
        "roscillation_simulation.append(np.abs(popt[1]))"
      ],
      "metadata": {
        "id": "OPKyun3m5g_x"
      },
      "execution_count": null,
      "outputs": []
    },
    {
      "cell_type": "code",
      "source": [
        "# Fitting function : exponential function\n",
        "\n",
        "def func(t, a, b, kappa):\n",
        "  return a*(1 - 2*np.exp(-kappa*t/2)*np.cos(2*np.pi*b*t) + np.exp(-kappa*t))\n",
        "\n",
        "\n",
        "popt, pcov = curve_fit(func, tlist, result.expect[5], p0 = [0.02, 0.0128, 0.012])\n",
        "\n",
        "popt"
      ],
      "metadata": {
        "id": "p-Mfb8us5g_x"
      },
      "execution_count": null,
      "outputs": []
    },
    {
      "cell_type": "code",
      "source": [
        "pkappa_simulation.append(popt[2])\n",
        "pphoton_simulation.append(popt[0])\n",
        "poscillation_simulation.append(np.abs(popt[1]))"
      ],
      "metadata": {
        "id": "-GWocVIM5g_x"
      },
      "execution_count": null,
      "outputs": []
    },
    {
      "cell_type": "markdown",
      "source": [
        "### $ \\kappa = 2\\pi 20MHz$"
      ],
      "metadata": {
        "id": "Q0IJpT4w5g_x"
      }
    },
    {
      "cell_type": "code",
      "source": [
        "# Simulation\n",
        "\n",
        "N_seq = 0\n",
        "A = 0.005 * 2 * np.pi\n",
        "omega_qd = 37.6381\n",
        "kappa_f = 2 * np.pi * 0.020  # external coupling rate of resonator in units of GHz\n",
        "\n",
        "tlist = np.linspace(0, 1000, 10000)\n",
        "\n",
        "result = mesolve(\n",
        "    [H0, [H1, Hrd_lab_frame], [H2, CP_lab_frame]],\n",
        "    psis_dressed,\n",
        "    tlist,\n",
        "    c_ops = [np.sqrt(kappa_f) * tensor(qeye(2), qeye(N), b)],\n",
        "    args = {'A': A, 'T_srt_r': 0, 'T_end_r': 50000, 'Omega_rd': omega_rd, 'B': B, 'T_srt_q': 0, 'T_end_q': 400, 'N_seq': N_seq, 'Omega_qd': omega_qd},\n",
        "    e_ops = op_list,\n",
        ")"
      ],
      "metadata": {
        "id": "wEWY10k85g_x"
      },
      "execution_count": null,
      "outputs": []
    },
    {
      "cell_type": "code",
      "source": [
        "# Plot Results\n",
        "\n",
        "plt.plot(tlist, result.expect[4])\n",
        "\n",
        "plt.title('Readout Resonator Photon Number')\n",
        "plt.xlabel('Evolution Time (ns)')\n",
        "plt.ylabel('Readout Resonator Photon Number')"
      ],
      "metadata": {
        "id": "YMRWWjYK5g_x"
      },
      "execution_count": null,
      "outputs": []
    },
    {
      "cell_type": "code",
      "source": [
        "# Plot Results\n",
        "\n",
        "plt.plot(tlist, np.sqrt(result.expect[6] - result.expect[4]*result.expect[4]), label=\"photon number fluctuation simulation\")\n",
        "plt.plot(tlist, np.sqrt(result.expect[4]), label=\"photon number fluctuation calculated\")\n",
        "\n",
        "plt.legend()\n",
        "plt.title('Readout Resonator Photon Number Fluctuation')\n",
        "plt.xlabel('Evolution Time (ns)')\n",
        "plt.ylabel('Readout Resonator Photon Number Fluctuation')"
      ],
      "metadata": {
        "id": "FbGIqmKM5g_x"
      },
      "execution_count": null,
      "outputs": []
    },
    {
      "cell_type": "code",
      "source": [
        "# Plot Results\n",
        "\n",
        "plt.plot(tlist, result.expect[5])\n",
        "\n",
        "plt.title('Filter Resonator Photon Number')\n",
        "plt.xlabel('Evolution Time (ns)')\n",
        "plt.ylabel('Filter Resonator Photon Number')"
      ],
      "metadata": {
        "id": "H_6fWWo05g_y"
      },
      "execution_count": null,
      "outputs": []
    },
    {
      "cell_type": "code",
      "source": [
        "# Plot Results\n",
        "\n",
        "plt.plot(tlist, np.sqrt(result.expect[7] - result.expect[5]*result.expect[5]), label=\"photon number fluctuation simulation\")\n",
        "plt.plot(tlist, np.sqrt(result.expect[5]), label=\"photon number fluctuation calculated\")\n",
        "\n",
        "plt.legend()\n",
        "plt.title('Filter Resonator Photon Number Fluctuation')\n",
        "plt.xlabel('Evolution Time (ns)')\n",
        "plt.ylabel('Filter Resonator Photon Number Fluctuation')"
      ],
      "metadata": {
        "id": "C4vOxBbW5g_y"
      },
      "execution_count": null,
      "outputs": []
    },
    {
      "cell_type": "code",
      "source": [
        "# Fitting function : exponential function\n",
        "\n",
        "def func(t, a, b, kappa):\n",
        "  return a*(1 - 2*np.exp(-kappa*t/2)*np.cos(2*np.pi*b*t) + np.exp(-kappa*t))\n",
        "\n",
        "\n",
        "popt, pcov = curve_fit(func, tlist, result.expect[4], p0 = [0.02, 0.01, 0.012])\n",
        "\n",
        "popt"
      ],
      "metadata": {
        "id": "Qt3KF8L95g_y"
      },
      "execution_count": null,
      "outputs": []
    },
    {
      "cell_type": "code",
      "source": [
        "rkappa_simulation.append(popt[2])\n",
        "rphoton_simulation.append(popt[0])\n",
        "roscillation_simulation.append(np.abs(popt[1]))"
      ],
      "metadata": {
        "id": "zkHR3_Xk5g_y"
      },
      "execution_count": null,
      "outputs": []
    },
    {
      "cell_type": "code",
      "source": [
        "# Fitting function : exponential function\n",
        "\n",
        "def func(t, a, b, kappa):\n",
        "  return a*(1 - 2*np.exp(-kappa*t/2)*np.cos(2*np.pi*b*t) + np.exp(-kappa*t))\n",
        "\n",
        "\n",
        "popt, pcov = curve_fit(func, tlist, result.expect[5], p0 = [0.02, 0.0128, 0.012])\n",
        "\n",
        "popt"
      ],
      "metadata": {
        "id": "VNWOvryr5g_y"
      },
      "execution_count": null,
      "outputs": []
    },
    {
      "cell_type": "code",
      "source": [
        "pkappa_simulation.append(popt[2])\n",
        "pphoton_simulation.append(popt[0])\n",
        "poscillation_simulation.append(np.abs(popt[1]))"
      ],
      "metadata": {
        "id": "9jda_9nA5g_y"
      },
      "execution_count": null,
      "outputs": []
    },
    {
      "cell_type": "markdown",
      "source": [
        "### $ \\kappa = 2\\pi 25MHz$"
      ],
      "metadata": {
        "id": "BZAQWgye5g_y"
      }
    },
    {
      "cell_type": "code",
      "source": [
        "# Simulation\n",
        "\n",
        "N_seq = 0\n",
        "A = 0.005 * 2 * np.pi\n",
        "omega_qd = 37.6381\n",
        "kappa_f = 2 * np.pi * 0.025  # external coupling rate of resonator in units of GHz\n",
        "\n",
        "tlist = np.linspace(0, 1000, 10000)\n",
        "\n",
        "result = mesolve(\n",
        "    [H0, [H1, Hrd_lab_frame], [H2, CP_lab_frame]],\n",
        "    psis_dressed,\n",
        "    tlist,\n",
        "    c_ops = [np.sqrt(kappa_f) * tensor(qeye(2), qeye(N), b)],\n",
        "    args = {'A': A, 'T_srt_r': 0, 'T_end_r': 50000, 'Omega_rd': omega_rd, 'B': B, 'T_srt_q': 0, 'T_end_q': 400, 'N_seq': N_seq, 'Omega_qd': omega_qd},\n",
        "    e_ops = op_list,\n",
        ")"
      ],
      "metadata": {
        "id": "RuYCzHya5g_y"
      },
      "execution_count": null,
      "outputs": []
    },
    {
      "cell_type": "code",
      "source": [
        "# Plot Results\n",
        "\n",
        "plt.plot(tlist, result.expect[4])\n",
        "\n",
        "plt.title('Readout Resonator Photon Number')\n",
        "plt.xlabel('Evolution Time (ns)')\n",
        "plt.ylabel('Readout Resonator Photon Number')"
      ],
      "metadata": {
        "id": "xAzMnSwZ5g_y"
      },
      "execution_count": null,
      "outputs": []
    },
    {
      "cell_type": "code",
      "source": [
        "# Plot Results\n",
        "\n",
        "plt.plot(tlist, np.sqrt(result.expect[6] - result.expect[4]*result.expect[4]), label=\"photon number fluctuation simulation\")\n",
        "plt.plot(tlist, np.sqrt(result.expect[4]), label=\"photon number fluctuation calculated\")\n",
        "\n",
        "plt.legend()\n",
        "plt.title('Readout Resonator Photon Number Fluctuation')\n",
        "plt.xlabel('Evolution Time (ns)')\n",
        "plt.ylabel('Readout Resonator Photon Number Fluctuation')"
      ],
      "metadata": {
        "id": "B8ycZPXl5g_y"
      },
      "execution_count": null,
      "outputs": []
    },
    {
      "cell_type": "code",
      "source": [
        "# Plot Results\n",
        "\n",
        "plt.plot(tlist, result.expect[5])\n",
        "\n",
        "plt.title('Filter Resonator Photon Number')\n",
        "plt.xlabel('Evolution Time (ns)')\n",
        "plt.ylabel('Filter Resonator Photon Number')"
      ],
      "metadata": {
        "id": "vwlIdLIL5g_y"
      },
      "execution_count": null,
      "outputs": []
    },
    {
      "cell_type": "code",
      "source": [
        "# Plot Results\n",
        "\n",
        "plt.plot(tlist, np.sqrt(result.expect[7] - result.expect[5]*result.expect[5]), label=\"photon number fluctuation simulation\")\n",
        "plt.plot(tlist, np.sqrt(result.expect[5]), label=\"photon number fluctuation calculated\")\n",
        "\n",
        "plt.legend()\n",
        "plt.title('Filter Resonator Photon Number Fluctuation')\n",
        "plt.xlabel('Evolution Time (ns)')\n",
        "plt.ylabel('Filter Resonator Photon Number Fluctuation')"
      ],
      "metadata": {
        "id": "zviYh_KK5g_y"
      },
      "execution_count": null,
      "outputs": []
    },
    {
      "cell_type": "code",
      "source": [
        "# Fitting function : exponential function\n",
        "\n",
        "def func(t, a, b, kappa):\n",
        "  return a*(1 - 2*np.exp(-kappa*t/2)*np.cos(2*np.pi*b*t) + np.exp(-kappa*t))\n",
        "\n",
        "\n",
        "popt, pcov = curve_fit(func, tlist, result.expect[4], p0 = [0.02, 0.01, 0.012])\n",
        "\n",
        "popt"
      ],
      "metadata": {
        "id": "EEaGH4Uy5g_y"
      },
      "execution_count": null,
      "outputs": []
    },
    {
      "cell_type": "code",
      "source": [
        "rkappa_simulation.append(popt[2])\n",
        "rphoton_simulation.append(popt[0])\n",
        "roscillation_simulation.append(np.abs(popt[1]))"
      ],
      "metadata": {
        "id": "QIYt60XL5g_y"
      },
      "execution_count": null,
      "outputs": []
    },
    {
      "cell_type": "code",
      "source": [
        "# Fitting function : exponential function\n",
        "\n",
        "def func(t, a, b, kappa):\n",
        "  return a*(1 - 2*np.exp(-kappa*t/2)*np.cos(2*np.pi*b*t) + np.exp(-kappa*t))\n",
        "\n",
        "\n",
        "popt, pcov = curve_fit(func, tlist, result.expect[5], p0 = [0.02, 0.0128, 0.012])\n",
        "\n",
        "popt"
      ],
      "metadata": {
        "id": "k8VmRjiE5g_y"
      },
      "execution_count": null,
      "outputs": []
    },
    {
      "cell_type": "code",
      "source": [
        "pkappa_simulation.append(popt[2])\n",
        "pphoton_simulation.append(popt[0])\n",
        "poscillation_simulation.append(np.abs(popt[1]))"
      ],
      "metadata": {
        "id": "ZuzER47_5g_y"
      },
      "execution_count": null,
      "outputs": []
    },
    {
      "cell_type": "markdown",
      "source": [
        "### $ \\kappa = 2\\pi 30MHz$"
      ],
      "metadata": {
        "id": "P6xsAdk15g_y"
      }
    },
    {
      "cell_type": "code",
      "source": [
        "# Simulation\n",
        "\n",
        "N_seq = 0\n",
        "A = 0.005 * 2 * np.pi\n",
        "omega_qd = 37.6381\n",
        "kappa_f = 2 * np.pi * 0.030  # external coupling rate of resonator in units of GHz\n",
        "\n",
        "tlist = np.linspace(0, 1000, 10000)\n",
        "\n",
        "result = mesolve(\n",
        "    [H0, [H1, Hrd_lab_frame], [H2, CP_lab_frame]],\n",
        "    psis_dressed,\n",
        "    tlist,\n",
        "    c_ops = [np.sqrt(kappa_f) * tensor(qeye(2), qeye(N), b)],\n",
        "    args = {'A': A, 'T_srt_r': 0, 'T_end_r': 50000, 'Omega_rd': omega_rd, 'B': B, 'T_srt_q': 0, 'T_end_q': 400, 'N_seq': N_seq, 'Omega_qd': omega_qd},\n",
        "    e_ops = op_list,\n",
        ")"
      ],
      "metadata": {
        "id": "QMwjJ1NV5g_y"
      },
      "execution_count": null,
      "outputs": []
    },
    {
      "cell_type": "code",
      "source": [
        "# Plot Results\n",
        "\n",
        "plt.plot(tlist, result.expect[4])\n",
        "\n",
        "plt.title('Readout Resonator Photon Number')\n",
        "plt.xlabel('Evolution Time (ns)')\n",
        "plt.ylabel('Readout Resonator Photon Number')"
      ],
      "metadata": {
        "id": "2p40iVna5g_y"
      },
      "execution_count": null,
      "outputs": []
    },
    {
      "cell_type": "code",
      "source": [
        "# Plot Results\n",
        "\n",
        "plt.plot(tlist, np.sqrt(result.expect[6] - result.expect[4]*result.expect[4]), label=\"photon number fluctuation simulation\")\n",
        "plt.plot(tlist, np.sqrt(result.expect[4]), label=\"photon number fluctuation calculated\")\n",
        "\n",
        "plt.legend()\n",
        "plt.title('Readout Resonator Photon Number Fluctuation')\n",
        "plt.xlabel('Evolution Time (ns)')\n",
        "plt.ylabel('Readout Resonator Photon Number Fluctuation')"
      ],
      "metadata": {
        "id": "G8cQWnJU5g_z"
      },
      "execution_count": null,
      "outputs": []
    },
    {
      "cell_type": "code",
      "source": [
        "# Plot Results\n",
        "\n",
        "plt.plot(tlist, result.expect[5])\n",
        "\n",
        "plt.title('Filter Resonator Photon Number')\n",
        "plt.xlabel('Evolution Time (ns)')\n",
        "plt.ylabel('Filter Resonator Photon Number')"
      ],
      "metadata": {
        "id": "WDcPtY0b5g_z"
      },
      "execution_count": null,
      "outputs": []
    },
    {
      "cell_type": "code",
      "source": [
        "# Plot Results\n",
        "\n",
        "plt.plot(tlist, np.sqrt(result.expect[7] - result.expect[5]*result.expect[5]), label=\"photon number fluctuation simulation\")\n",
        "plt.plot(tlist, np.sqrt(result.expect[5]), label=\"photon number fluctuation calculated\")\n",
        "\n",
        "plt.legend()\n",
        "plt.title('Filter Resonator Photon Number Fluctuation')\n",
        "plt.xlabel('Evolution Time (ns)')\n",
        "plt.ylabel('Filter Resonator Photon Number Fluctuation')"
      ],
      "metadata": {
        "id": "2wN83PP75g_z"
      },
      "execution_count": null,
      "outputs": []
    },
    {
      "cell_type": "code",
      "source": [
        "# Fitting function : exponential function\n",
        "\n",
        "def func(t, a, b, kappa):\n",
        "  return a*(1 - 2*np.exp(-kappa*t/2)*np.cos(2*np.pi*b*t) + np.exp(-kappa*t))\n",
        "\n",
        "\n",
        "popt, pcov = curve_fit(func, tlist, result.expect[4], p0 = [0.02, 0.01, 0.012])\n",
        "\n",
        "popt"
      ],
      "metadata": {
        "id": "sOf6lPeR5g_z"
      },
      "execution_count": null,
      "outputs": []
    },
    {
      "cell_type": "code",
      "source": [
        "rkappa_simulation.append(popt[2])\n",
        "rphoton_simulation.append(popt[0])\n",
        "roscillation_simulation.append(np.abs(popt[1]))"
      ],
      "metadata": {
        "id": "gdjA-bmM5g_z"
      },
      "execution_count": null,
      "outputs": []
    },
    {
      "cell_type": "code",
      "source": [
        "# Fitting function : exponential function\n",
        "\n",
        "def func(t, a, b, kappa):\n",
        "  return a*(1 - 2*np.exp(-kappa*t/2)*np.cos(2*np.pi*b*t) + np.exp(-kappa*t))\n",
        "\n",
        "\n",
        "popt, pcov = curve_fit(func, tlist, result.expect[5], p0 = [0.02, 0.0128, 0.012])\n",
        "\n",
        "popt"
      ],
      "metadata": {
        "id": "9_t6Hl-l5g_z"
      },
      "execution_count": null,
      "outputs": []
    },
    {
      "cell_type": "code",
      "source": [
        "pkappa_simulation.append(popt[2])\n",
        "pphoton_simulation.append(popt[0])\n",
        "poscillation_simulation.append(np.abs(popt[1]))"
      ],
      "metadata": {
        "id": "MFvrkVi_5g_z"
      },
      "execution_count": null,
      "outputs": []
    }
  ]
}