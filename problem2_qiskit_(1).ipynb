{
  "cells": [
    {
      "cell_type": "markdown",
      "metadata": {
        "id": "view-in-github",
        "colab_type": "text"
      },
      "source": [
        "<a href=\"https://colab.research.google.com/github/BrainConnection/Dynamical_Decoupling_Project/blob/main/problem2_qiskit_(1).ipynb\" target=\"_parent\"><img src=\"https://colab.research.google.com/assets/colab-badge.svg\" alt=\"Open In Colab\"/></a>"
      ]
    },
    {
      "cell_type": "markdown",
      "source": [
        "# Environment Setting"
      ],
      "metadata": {
        "id": "f7b2rrgnZcB9"
      }
    },
    {
      "cell_type": "code",
      "source": [
        "!pip install qiskit\n",
        "!pip install qiskit-ibm-runtime\n",
        "!pip install numpy\n",
        "!pip install matplotlib\n",
        "!pip install pylatexenc\n",
        "!pip install qiskit-aer"
      ],
      "metadata": {
        "id": "LuMQNqHfMb8M"
      },
      "execution_count": null,
      "outputs": []
    },
    {
      "cell_type": "code",
      "source": [
        "import qiskit\n",
        "import qiskit_ibm_runtime\n",
        "import numpy as np\n",
        "import matplotlib.pyplot as plt\n",
        "\n",
        "from qiskit import QuantumCircuit\n",
        "from qiskit.quantum_info import SparsePauliOp\n",
        "from qiskit.transpiler.preset_passmanagers import generate_preset_pass_manager\n",
        "from qiskit_ibm_runtime import QiskitRuntimeService\n",
        "from qiskit_ibm_runtime import EstimatorV2 as Estimator, Batch\n",
        "\n",
        "from qiskit_aer import AerSimulator\n",
        "from qiskit.circuit import ParameterVector"
      ],
      "metadata": {
        "id": "BiZhpm5y0ZZh"
      },
      "execution_count": null,
      "outputs": []
    },
    {
      "cell_type": "code",
      "source": [
        "service = QiskitRuntimeService(\n",
        "    channel='ibm_quantum',\n",
        "    instance='ibm-q-skku/hackathon-2024/hackathon',\n",
        "    token='24ce54238a7bb29fe5e3eb450acefed2444169ce5e525f08f9515676b1cf257ea65b85895d4157a30359eb3d9a4aab9873008d7edf6ff177ed29015e625e4ad6'\n",
        ")"
      ],
      "metadata": {
        "id": "SEpGeVe0ZhSk"
      },
      "execution_count": null,
      "outputs": []
    },
    {
      "cell_type": "code",
      "source": [
        "backend = AerSimulator()\n",
        "print(backend)"
      ],
      "metadata": {
        "id": "TDhB11T0ZhPD"
      },
      "execution_count": null,
      "outputs": []
    },
    {
      "cell_type": "code",
      "source": [
        "num_qubits = 5"
      ],
      "metadata": {
        "id": "xxDC4rdXZuxO"
      },
      "execution_count": null,
      "outputs": []
    },
    {
      "cell_type": "markdown",
      "source": [
        "# 1. 그냥"
      ],
      "metadata": {
        "id": "5WmrbXvHVRVk"
      }
    },
    {
      "cell_type": "code",
      "source": [
        "from qiskit.circuit import QuantumCircuit, QuantumRegister, ClassicalRegister, Parameter\n",
        "from qiskit.quantum_info import SparsePauliOp\n",
        "from qiskit.circuit import ParameterVector\n",
        "from qiskit.primitives import Estimator, Sampler\n",
        "\n",
        "import numpy as np\n",
        "from scipy.optimize import minimize"
      ],
      "metadata": {
        "id": "680F7MiaVUp5"
      },
      "execution_count": null,
      "outputs": []
    },
    {
      "cell_type": "markdown",
      "source": [
        "## ansatz"
      ],
      "metadata": {
        "id": "iatGVWN9XFUd"
      }
    },
    {
      "cell_type": "code",
      "source": [
        "# Instantiate the system Hamiltonian\n",
        "interation = 1\n",
        "bias = -1\n",
        "\n",
        "coeff_list = [interation for _ in range(4)] + [bias for _ in range(5)]\n",
        "operator_list = [\"ZZIII\", \"IZZII\", \"IIZZI\", \"IIIZZ\", \"XIIII\", \"IXIII\", \"IIXII\", \"IIIXI\", \"IIIIX\"]\n",
        "hamiltonian_list = []\n",
        "for i in range(9):\n",
        "  hamiltonian_list.append((operator_list[i], coeff_list[i]))\n",
        "hamiltonian = SparsePauliOp.from_list(hamiltonian_list)"
      ],
      "metadata": {
        "id": "KoR-xtSmhIFG"
      },
      "execution_count": null,
      "outputs": []
    },
    {
      "cell_type": "code",
      "source": [
        "# Ansatz for VQE\n",
        "\n",
        "ansatz = QuantumCircuit(5)\n",
        "params = ParameterVector(\"theta\", length=9)\n",
        "it = iter(params)\n",
        "ansatz.h(range(0,5))\n",
        "\n",
        "ansatz.barrier()\n",
        "\n",
        "ansatz.cx(0, 1)\n",
        "ansatz.cx(2, 3)\n",
        "ansatz.rz(next(it), 1)\n",
        "ansatz.rz(next(it), 3)\n",
        "ansatz.cx(0, 1)\n",
        "ansatz.cx(2, 3)\n",
        "ansatz.cx(1, 2)\n",
        "ansatz.cx(3, 4)\n",
        "ansatz.rz(next(it), 2)\n",
        "ansatz.rz(next(it), 4)\n",
        "ansatz.cx(1, 2)\n",
        "ansatz.cx(3, 4)\n",
        "\n",
        "ansatz.barrier()\n",
        "\n",
        "ansatz.rx(next(it), 0)\n",
        "ansatz.rx(next(it), 1)\n",
        "ansatz.rx(next(it), 2)\n",
        "ansatz.rx(next(it), 3)\n",
        "ansatz.rx(next(it), 4)\n",
        "\n",
        "ansatz.draw(\"mpl\")"
      ],
      "metadata": {
        "id": "kQizJBKXlHwO"
      },
      "execution_count": null,
      "outputs": []
    },
    {
      "cell_type": "code",
      "source": [
        "# Ansatz for VQNHE ZZ Measurement\n",
        "\n",
        "qbit = QuantumRegister(5)\n",
        "cbit = ClassicalRegister(5)\n",
        "\n",
        "ansatz_zz = QuantumCircuit(qbit, cbit)\n",
        "\n",
        "params = ParameterVector(\"theta\", length=9)\n",
        "it = iter(params)\n",
        "\n",
        "ansatz_zz.h(range(0,5))\n",
        "\n",
        "ansatz_zz.barrier()\n",
        "\n",
        "ansatz_zz.cx(0, 1)\n",
        "ansatz_zz.cx(2, 3)\n",
        "ansatz_zz.rz(next(it), 1)\n",
        "ansatz_zz.rz(next(it), 3)\n",
        "ansatz_zz.cx(0, 1)\n",
        "ansatz_zz.cx(2, 3)\n",
        "ansatz_zz.cx(1, 2)\n",
        "ansatz_zz.cx(3, 4)\n",
        "ansatz_zz.rz(next(it), 2)\n",
        "ansatz_zz.rz(next(it), 4)\n",
        "ansatz_zz.cx(1, 2)\n",
        "ansatz_zz.cx(3, 4)\n",
        "\n",
        "ansatz_zz.barrier()\n",
        "\n",
        "ansatz_zz.rx(next(it), 0)\n",
        "ansatz_zz.rx(next(it), 1)\n",
        "ansatz_zz.rx(next(it), 2)\n",
        "ansatz_zz.rx(next(it), 3)\n",
        "ansatz_zz.rx(next(it), 4)\n",
        "\n",
        "ansatz_zz.barrier()\n",
        "\n",
        "ansatz_zz.measure([0,1,2,3,4], [0,1,2,3,4])\n",
        "\n",
        "ansatz_zz.draw(\"mpl\")"
      ],
      "metadata": {
        "id": "NImgYN9VoSW6"
      },
      "execution_count": null,
      "outputs": []
    },
    {
      "cell_type": "code",
      "source": [
        "# Ansatz for VQNHE X0 Measurement\n",
        "\n",
        "qbit0 = QuantumRegister(5)\n",
        "cbit0 = ClassicalRegister(5)\n",
        "\n",
        "ansatz_x0 = QuantumCircuit(qbit0, cbit0)\n",
        "\n",
        "params = ParameterVector(\"theta\", length=9)\n",
        "it = iter(params)\n",
        "\n",
        "ansatz_x0.h(range(0,5))\n",
        "\n",
        "ansatz_x0.barrier()\n",
        "\n",
        "ansatz_x0.cx(0, 1)\n",
        "ansatz_x0.cx(2, 3)\n",
        "ansatz_x0.rz(next(it), 1)\n",
        "ansatz_x0.rz(next(it), 3)\n",
        "ansatz_x0.cx(0, 1)\n",
        "ansatz_x0.cx(2, 3)\n",
        "ansatz_x0.cx(1, 2)\n",
        "ansatz_x0.cx(3, 4)\n",
        "ansatz_x0.rz(next(it), 2)\n",
        "ansatz_x0.rz(next(it), 4)\n",
        "ansatz_x0.cx(1, 2)\n",
        "ansatz_x0.cx(3, 4)\n",
        "\n",
        "ansatz_x0.barrier()\n",
        "\n",
        "ansatz_x0.rx(next(it), 0)\n",
        "ansatz_x0.rx(next(it), 1)\n",
        "ansatz_x0.rx(next(it), 2)\n",
        "ansatz_x0.rx(next(it), 3)\n",
        "ansatz_x0.rx(next(it), 4)\n",
        "\n",
        "ansatz_x0.barrier()\n",
        "\n",
        "ansatz_x0.h(0)\n",
        "\n",
        "ansatz_x0.barrier()\n",
        "\n",
        "ansatz_x0.measure([0,1,2,3,4], [4,3,2,1,0])\n",
        "\n",
        "ansatz_x0.draw(\"mpl\")"
      ],
      "metadata": {
        "id": "oimYp77jlxu7"
      },
      "execution_count": null,
      "outputs": []
    },
    {
      "cell_type": "code",
      "source": [
        "# Ansatz for VQNHE X1 Measurement\n",
        "\n",
        "qbit1 = QuantumRegister(5)\n",
        "cbit1 = ClassicalRegister(5)\n",
        "\n",
        "ansatz_x1 = QuantumCircuit(qbit1, cbit1)\n",
        "\n",
        "params = ParameterVector(\"theta\", length=9)\n",
        "it = iter(params)\n",
        "\n",
        "ansatz_x1.h(range(0,5))\n",
        "\n",
        "ansatz_x1.barrier()\n",
        "\n",
        "ansatz_x1.cx(0, 1)\n",
        "ansatz_x1.cx(2, 3)\n",
        "ansatz_x1.rz(next(it), 1)\n",
        "ansatz_x1.rz(next(it), 3)\n",
        "ansatz_x1.cx(0, 1)\n",
        "ansatz_x1.cx(2, 3)\n",
        "ansatz_x1.cx(1, 2)\n",
        "ansatz_x1.cx(3, 4)\n",
        "ansatz_x1.rz(next(it), 2)\n",
        "ansatz_x1.rz(next(it), 4)\n",
        "ansatz_x1.cx(1, 2)\n",
        "ansatz_x1.cx(3, 4)\n",
        "\n",
        "ansatz_x1.barrier()\n",
        "\n",
        "ansatz_x1.rx(next(it), 0)\n",
        "ansatz_x1.rx(next(it), 1)\n",
        "ansatz_x1.rx(next(it), 2)\n",
        "ansatz_x1.rx(next(it), 3)\n",
        "ansatz_x1.rx(next(it), 4)\n",
        "\n",
        "ansatz_x1.barrier()\n",
        "\n",
        "ansatz_x1.h(1)\n",
        "\n",
        "ansatz_x1.barrier()\n",
        "\n",
        "ansatz_x1.measure([0,1,2,3,4], [4,3,2,1,0])\n",
        "\n",
        "ansatz_x1.draw(\"mpl\")"
      ],
      "metadata": {
        "id": "HurRQflLWX4z"
      },
      "execution_count": null,
      "outputs": []
    },
    {
      "cell_type": "code",
      "source": [
        "# Ansatz for VQNHE X2 Measurement\n",
        "\n",
        "qbit2 = QuantumRegister(5)\n",
        "cbit2 = ClassicalRegister(5)\n",
        "\n",
        "ansatz_x2 = QuantumCircuit(qbit2, cbit2)\n",
        "\n",
        "params = ParameterVector(\"theta\", length=9)\n",
        "it = iter(params)\n",
        "\n",
        "ansatz_x2.h(range(0,5))\n",
        "\n",
        "ansatz_x2.barrier()\n",
        "\n",
        "ansatz_x2.cx(0, 1)\n",
        "ansatz_x2.cx(2, 3)\n",
        "ansatz_x2.rz(next(it), 1)\n",
        "ansatz_x2.rz(next(it), 3)\n",
        "ansatz_x2.cx(0, 1)\n",
        "ansatz_x2.cx(2, 3)\n",
        "ansatz_x2.cx(1, 2)\n",
        "ansatz_x2.cx(3, 4)\n",
        "ansatz_x2.rz(next(it), 2)\n",
        "ansatz_x2.rz(next(it), 4)\n",
        "ansatz_x2.cx(1, 2)\n",
        "ansatz_x2.cx(3, 4)\n",
        "\n",
        "ansatz_x2.barrier()\n",
        "\n",
        "ansatz_x2.rx(next(it), 0)\n",
        "ansatz_x2.rx(next(it), 1)\n",
        "ansatz_x2.rx(next(it), 2)\n",
        "ansatz_x2.rx(next(it), 3)\n",
        "ansatz_x2.rx(next(it), 4)\n",
        "\n",
        "ansatz_x2.barrier()\n",
        "\n",
        "ansatz_x2.h(2)\n",
        "\n",
        "ansatz_x2.barrier()\n",
        "\n",
        "ansatz_x2.measure([0,1,2,3,4], [4,3,2,1,0])\n",
        "\n",
        "ansatz_x2.draw(\"mpl\")"
      ],
      "metadata": {
        "id": "s2_VGEXwWX1w"
      },
      "execution_count": null,
      "outputs": []
    },
    {
      "cell_type": "code",
      "source": [
        "# Ansatz for VQNHE X3 Measurement\n",
        "\n",
        "qbit3 = QuantumRegister(5)\n",
        "cbit3 = ClassicalRegister(5)\n",
        "\n",
        "ansatz_x3 = QuantumCircuit(qbit3, cbit3)\n",
        "\n",
        "params = ParameterVector(\"theta\", length=9)\n",
        "it = iter(params)\n",
        "\n",
        "ansatz_x3.h(range(0,5))\n",
        "\n",
        "ansatz_x3.barrier()\n",
        "\n",
        "ansatz_x3.cx(0, 1)\n",
        "ansatz_x3.cx(2, 3)\n",
        "ansatz_x3.rz(next(it), 1)\n",
        "ansatz_x3.rz(next(it), 3)\n",
        "ansatz_x3.cx(0, 1)\n",
        "ansatz_x3.cx(2, 3)\n",
        "ansatz_x3.cx(1, 2)\n",
        "ansatz_x3.cx(3, 4)\n",
        "ansatz_x3.rz(next(it), 2)\n",
        "ansatz_x3.rz(next(it), 4)\n",
        "ansatz_x3.cx(1, 2)\n",
        "ansatz_x3.cx(3, 4)\n",
        "\n",
        "ansatz_x3.barrier()\n",
        "\n",
        "ansatz_x3.rx(next(it), 0)\n",
        "ansatz_x3.rx(next(it), 1)\n",
        "ansatz_x3.rx(next(it), 2)\n",
        "ansatz_x3.rx(next(it), 3)\n",
        "ansatz_x3.rx(next(it), 4)\n",
        "\n",
        "ansatz_x3.barrier()\n",
        "\n",
        "ansatz_x3.h(3)\n",
        "\n",
        "ansatz_x3.barrier()\n",
        "\n",
        "ansatz_x3.measure([0,1,2,3,4], [4,3,2,1,0])\n",
        "\n",
        "ansatz_x3.draw(\"mpl\")"
      ],
      "metadata": {
        "id": "Efx35gCVWXzK"
      },
      "execution_count": null,
      "outputs": []
    },
    {
      "cell_type": "code",
      "source": [
        "# Ansatz for VQNHE X4 Measurement\n",
        "\n",
        "qbit4 = QuantumRegister(5)\n",
        "cbit4 = ClassicalRegister(5)\n",
        "\n",
        "ansatz_x4 = QuantumCircuit(qbit4, cbit4)\n",
        "\n",
        "params = ParameterVector(\"theta\", length=9)\n",
        "it = iter(params)\n",
        "\n",
        "ansatz_x4.h(range(0,5))\n",
        "\n",
        "ansatz_x4.barrier()\n",
        "\n",
        "ansatz_x4.cx(0, 1)\n",
        "ansatz_x4.cx(2, 3)\n",
        "ansatz_x4.rz(next(it), 1)\n",
        "ansatz_x4.rz(next(it), 3)\n",
        "ansatz_x4.cx(0, 1)\n",
        "ansatz_x4.cx(2, 3)\n",
        "ansatz_x4.cx(1, 2)\n",
        "ansatz_x4.cx(3, 4)\n",
        "ansatz_x4.rz(next(it), 2)\n",
        "ansatz_x4.rz(next(it), 4)\n",
        "ansatz_x4.cx(1, 2)\n",
        "ansatz_x4.cx(3, 4)\n",
        "\n",
        "ansatz_x4.barrier()\n",
        "\n",
        "ansatz_x4.rx(next(it), 0)\n",
        "ansatz_x4.rx(next(it), 1)\n",
        "ansatz_x4.rx(next(it), 2)\n",
        "ansatz_x4.rx(next(it), 3)\n",
        "ansatz_x4.rx(next(it), 4)\n",
        "\n",
        "ansatz_x4.barrier()\n",
        "\n",
        "ansatz_x4.h(4)\n",
        "\n",
        "ansatz_x4.barrier()\n",
        "\n",
        "ansatz_x4.measure([0,1,2,3,4], [4,3,2,1,0])\n",
        "\n",
        "ansatz_x4.draw(\"mpl\")"
      ],
      "metadata": {
        "id": "ylQ_9z9kWXwF"
      },
      "execution_count": null,
      "outputs": []
    },
    {
      "cell_type": "code",
      "source": [
        "# Estimator & Sampler\n",
        "\n",
        "estimator = Estimator()\n",
        "sampler = Sampler()"
      ],
      "metadata": {
        "id": "NH5g9iJzEPAm"
      },
      "execution_count": null,
      "outputs": []
    },
    {
      "cell_type": "markdown",
      "source": [
        "## cost function"
      ],
      "metadata": {
        "id": "Ro50NbKNXJCR"
      }
    },
    {
      "cell_type": "code",
      "source": [
        "def ZZ(ansatz_zz, params_pqc, sampler, shots):\n",
        "  job = sampler.run(ansatz_zz, params_pqc, shots=shots).result()\n",
        "  prob_string = job.quasi_dists[0]\n",
        "\n",
        "  for i in range(32):\n",
        "   if not (i in prob_string):  prob_string[i] = 0\n",
        "\n",
        "  expval = 0\n",
        "\n",
        "  for k in range(32):\n",
        "    if k // 8 == 0 or k // 8 == 3:\n",
        "      expval = expval + prob_string[k]\n",
        "    if k // 8 == 1 or k // 8 == 2:\n",
        "      expval = expval - prob_string[k]\n",
        "\n",
        "  for k in range(32):\n",
        "    if k // 4 == 0 or k // 4 == 3 or k // 4 == 4 or k // 4 == 7:\n",
        "      expval = expval + prob_string[k]\n",
        "    if k // 4 == 1 or k // 4 == 2 or k // 4 == 5 or k // 4 == 6:\n",
        "      expval = expval - prob_string[k]\n",
        "\n",
        "  for k in range(32):\n",
        "    if k % 8 == 0 or k % 8 == 1 or k % 8 == 6 or k % 8 == 7:\n",
        "      expval = expval + prob_string[k]\n",
        "    if k % 8 == 2 or k % 8 == 3 or k % 8 == 4 or k % 8 == 5:\n",
        "      expval = expval - prob_string[k]\n",
        "\n",
        "  for k in range(32):\n",
        "    if k % 4 == 0 or k % 4 == 3:\n",
        "      expval = expval + prob_string[k]\n",
        "    else:\n",
        "      expval = expval - prob_string[k]\n",
        "\n",
        "  return expval"
      ],
      "metadata": {
        "id": "Z_9VU2I3XOdX"
      },
      "execution_count": null,
      "outputs": []
    },
    {
      "cell_type": "code",
      "source": [
        "def X0(ansatz_x0, params_pqc, sampler, shots):\n",
        "  job = sampler.run(ansatz_x0, params_pqc, shots=shots).result()\n",
        "  prob_string = job.quasi_dists[0]\n",
        "\n",
        "  for i in range(32):\n",
        "   if not (i in prob_string):  prob_string[i] = 0\n",
        "\n",
        "  expval = 0\n",
        "\n",
        "  for k in range(16):\n",
        "    delt = prob_string[k] - prob_string[k+16]\n",
        "    expval = expval + delt\n",
        "\n",
        "  return expval\n",
        "\n",
        "\n",
        "def X1(ansatz_x1, params_pqc, sampler, shots):\n",
        "  job = sampler.run(ansatz_x1, params_pqc, shots=shots).result()\n",
        "  prob_string = job.quasi_dists[0]\n",
        "\n",
        "  for i in range(32):\n",
        "   if not (i in prob_string):  prob_string[i] = 0\n",
        "\n",
        "  expval = 0\n",
        "\n",
        "  for k in range(8):\n",
        "    delt = prob_string[k] - prob_string[k+8]\n",
        "    expval = expval + delt\n",
        "\n",
        "  for k in range(16,24,1):\n",
        "    delt = prob_string[k] - prob_string[k+8]\n",
        "    expval = expval + delt\n",
        "\n",
        "  return expval\n",
        "\n",
        "\n",
        "def X2(ansatz_x2, params_pqc, sampler, shots):\n",
        "  job = sampler.run(ansatz_x2, params_pqc, shots=shots).result()\n",
        "  prob_string = job.quasi_dists[0]\n",
        "\n",
        "  for i in range(32):\n",
        "   if not (i in prob_string):  prob_string[i] = 0\n",
        "\n",
        "  expval = 0\n",
        "\n",
        "  for k in range(4):\n",
        "    delt = prob_string[k] - prob_string[k+4]\n",
        "    expval = expval + delt\n",
        "\n",
        "  for k in range(8,12,1):\n",
        "    delt = prob_string[k] - prob_string[k+4]\n",
        "    expval = expval + delt\n",
        "\n",
        "  for k in range(16,20,1):\n",
        "    delt = prob_string[k] - prob_string[k+4]\n",
        "    expval = expval + delt\n",
        "\n",
        "  for k in range(24,28,1):\n",
        "    delt = prob_string[k] - prob_string[k+4]\n",
        "    expval = expval + delt\n",
        "\n",
        "  return expval\n",
        "\n",
        "\n",
        "def X3(ansatz_x3, params_pqc, sampler, shots):\n",
        "  job = sampler.run(ansatz_x3, params_pqc, shots=shots).result()\n",
        "  prob_string = job.quasi_dists[0]\n",
        "\n",
        "  for i in range(32):\n",
        "   if not (i in prob_string):  prob_string[i] = 0\n",
        "\n",
        "  expval = 0\n",
        "\n",
        "  for k in range(0,32,4):\n",
        "    expval = expval + (prob_string[k] - prob_string[k+2])\n",
        "    expval = expval + (prob_string[k+1] - prob_string[k+3])\n",
        "\n",
        "  return expval\n",
        "\n",
        "\n",
        "def X4(ansatz_x4, params_pqc, sampler, shots):\n",
        "  job = sampler.run(ansatz_x4, params_pqc, shots=shots).result()\n",
        "  prob_string = job.quasi_dists[0]\n",
        "\n",
        "  for i in range(32):\n",
        "   if not (i in prob_string):  prob_string[i] = 0\n",
        "\n",
        "  expval = 0\n",
        "\n",
        "  for k in range(0,32,2):\n",
        "    expval = expval + (prob_string[k] - prob_string[k+1])\n",
        "\n",
        "  return expval"
      ],
      "metadata": {
        "id": "nhz4l3zXXObG"
      },
      "execution_count": null,
      "outputs": []
    },
    {
      "cell_type": "code",
      "source": [
        "def cost_func_vqe(params_pqc, ansatz_zz, ansatz_x0, ansatz_x1, ansatz_x2, ansatz_x3, ansatz_x4, sampler, shots):\n",
        "  expval = 0\n",
        "  expval = expval + ZZ(ansatz_zz, params_pqc, sampler, shots)\n",
        "  expval = expval - X0(ansatz_x0, params_pqc, sampler, shots)\n",
        "  expval = expval - X1(ansatz_x1, params_pqc, sampler, shots)\n",
        "  expval = expval - X2(ansatz_x2, params_pqc, sampler, shots)\n",
        "  expval = expval - X3(ansatz_x3, params_pqc, sampler, shots)\n",
        "  expval = expval - X4(ansatz_x4, params_pqc, sampler, shots)\n",
        "\n",
        "  return expval"
      ],
      "metadata": {
        "id": "BiXqCLA0Xwzm"
      },
      "execution_count": null,
      "outputs": []
    },
    {
      "cell_type": "code",
      "source": [
        "shots = 1000\n",
        "\n",
        "cost_func_vqe(np.array([5.803e+00,  5.886e+00,  5.886e+00,  5.803e+00,  7.854e+00, 1.823e-07,  7.854e+00,  1.749e-06,  1.571e+00]), ansatz_zz, ansatz_x0, ansatz_x1, ansatz_x2, ansatz_x3, ansatz_x4, sampler, shots)"
      ],
      "metadata": {
        "id": "yCwHcuKHYPVt"
      },
      "execution_count": null,
      "outputs": []
    },
    {
      "cell_type": "code",
      "source": [
        "def build_callback_vqe(ansatz_zz, ansatz_x0, ansatz_x1, ansatz_x2, ansatz_x3, ansatz_x4, sampler, shots, callback_dict):\n",
        "  def callback(current_vector):\n",
        "    callback_dict_vqe[\"iters\"] += 1\n",
        "    callback_dict_vqe[\"prev_vector\"] = current_vector\n",
        "    current_cost_vqe = cost_func_vqe(current_vector, ansatz_zz, ansatz_x0, ansatz_x1, ansatz_x2, ansatz_x3, ansatz_x4, sampler, shots)\n",
        "\n",
        "    callback_dict_vqe[\"cost_history\"].append(current_cost_vqe)\n",
        "\n",
        "    print(\n",
        "      \"Iters. done: {} [Current cost: {}]\".format(callback_dict_vqe[\"iters\"], current_cost_vqe),\n",
        "      end=\"\\r\",\n",
        "      flush=True,\n",
        "    )\n",
        "\n",
        "  return callback"
      ],
      "metadata": {
        "id": "NlZb7tjhYr2d"
      },
      "execution_count": null,
      "outputs": []
    },
    {
      "cell_type": "code",
      "source": [
        "callback_dict_vqe = {\n",
        "    \"prev_vector\": None,\n",
        "    \"iters\": 0,\n",
        "    \"cost_history\": [],\n",
        "}\n",
        "\n",
        "options = dict()\n",
        "options[\"maxiter\"] = 50000\n",
        "options[\"disp\"] = True\n",
        "\n",
        "np.random.seed(4)\n",
        "x0 = 2 * np.pi * np.random.random(9)\n",
        "\n",
        "x0"
      ],
      "metadata": {
        "id": "WITSQURWYfVF"
      },
      "execution_count": null,
      "outputs": []
    },
    {
      "cell_type": "code",
      "source": [
        "shots = 50\n",
        "lst = []\n",
        "for i in range(10):\n",
        "  callback_vqe = build_callback_vqe(ansatz_zz, ansatz_x0, ansatz_x1, ansatz_x2, ansatz_x3, ansatz_x4, sampler, shots, callback_dict_vqe)\n",
        "  res = minimize(\n",
        "    cost_func_vqe,\n",
        "    x0,\n",
        "    args=(ansatz_zz, ansatz_x0, ansatz_x1, ansatz_x2, ansatz_x3, ansatz_x4, sampler, shots),\n",
        "    method=\"cobyla\",\n",
        "    callback=callback_vqe,\n",
        "    options=options\n",
        "  )\n",
        "\n",
        "  lst.append(cost_func_vqe(res.x, ansatz_zz, ansatz_x0, ansatz_x1, ansatz_x2, ansatz_x3, ansatz_x4, sampler, shots))\n",
        "print(np.mean(np.array(lst)))\n",
        "print(2*np.sqrt(np.var(np.array(lst))))"
      ],
      "metadata": {
        "id": "54q2enLMrG-9"
      },
      "execution_count": null,
      "outputs": []
    },
    {
      "cell_type": "code",
      "source": [
        "shots = 250\n",
        "lst = []\n",
        "for i in range(10):\n",
        "  callback_vqe = build_callback_vqe(ansatz_zz, ansatz_x0, ansatz_x1, ansatz_x2, ansatz_x3, ansatz_x4, sampler, shots, callback_dict_vqe)\n",
        "  res = minimize(\n",
        "    cost_func_vqe,\n",
        "    x0,\n",
        "    args=(ansatz_zz, ansatz_x0, ansatz_x1, ansatz_x2, ansatz_x3, ansatz_x4, sampler, shots),\n",
        "    method=\"cobyla\",\n",
        "    callback=callback_vqe,\n",
        "    options=options\n",
        "  )\n",
        "\n",
        "  lst.append(cost_func_vqe(res.x, ansatz_zz, ansatz_x0, ansatz_x1, ansatz_x2, ansatz_x3, ansatz_x4, sampler, shots))\n",
        "print(np.mean(np.array(lst)))\n",
        "print(2*np.sqrt(np.var(np.array(lst))))"
      ],
      "metadata": {
        "id": "C5r_cMAjq6s3"
      },
      "execution_count": null,
      "outputs": []
    },
    {
      "cell_type": "code",
      "source": [
        "shots = 500\n",
        "lst = []\n",
        "for i in range(10):\n",
        "  callback_vqe = build_callback_vqe(ansatz_zz, ansatz_x0, ansatz_x1, ansatz_x2, ansatz_x3, ansatz_x4, sampler, shots, callback_dict_vqe)\n",
        "  res = minimize(\n",
        "    cost_func_vqe,\n",
        "    x0,\n",
        "    args=(ansatz_zz, ansatz_x0, ansatz_x1, ansatz_x2, ansatz_x3, ansatz_x4, sampler, shots),\n",
        "    method=\"cobyla\",\n",
        "    callback=callback_vqe,\n",
        "    options=options\n",
        "  )\n",
        "\n",
        "  lst.append(cost_func_vqe(res.x, ansatz_zz, ansatz_x0, ansatz_x1, ansatz_x2, ansatz_x3, ansatz_x4, sampler, shots))\n",
        "print(np.mean(np.array(lst)))\n",
        "print(2*np.sqrt(np.var(np.array(lst))))"
      ],
      "metadata": {
        "id": "j9gnYvvTYfS5"
      },
      "execution_count": null,
      "outputs": []
    },
    {
      "cell_type": "code",
      "source": [
        "shots = 750\n",
        "lst = []\n",
        "for i in range(10):\n",
        "  callback_vqe = build_callback_vqe(ansatz_zz, ansatz_x0, ansatz_x1, ansatz_x2, ansatz_x3, ansatz_x4, sampler, shots, callback_dict_vqe)\n",
        "  res = minimize(\n",
        "    cost_func_vqe,\n",
        "    x0,\n",
        "    args=(ansatz_zz, ansatz_x0, ansatz_x1, ansatz_x2, ansatz_x3, ansatz_x4, sampler, shots),\n",
        "    method=\"cobyla\",\n",
        "    callback=callback_vqe,\n",
        "    options=options\n",
        "  )\n",
        "\n",
        "  lst.append(cost_func_vqe(res.x, ansatz_zz, ansatz_x0, ansatz_x1, ansatz_x2, ansatz_x3, ansatz_x4, sampler, shots))\n",
        "print(np.mean(np.array(lst)))\n",
        "print(2*np.sqrt(np.var(np.array(lst))))"
      ],
      "metadata": {
        "id": "MbXjUyIoYfQV"
      },
      "execution_count": null,
      "outputs": []
    },
    {
      "cell_type": "code",
      "source": [
        "shots = 1000\n",
        "for i in range(10):\n",
        "  callback_vqe = build_callback_vqe(ansatz_zz, ansatz_x0, ansatz_x1, ansatz_x2, ansatz_x3, ansatz_x4, sampler, shots, callback_dict_vqe)\n",
        "  res = minimize(\n",
        "    cost_func_vqe,\n",
        "    x0,\n",
        "    args=(ansatz_zz, ansatz_x0, ansatz_x1, ansatz_x2, ansatz_x3, ansatz_x4, sampler, shots),\n",
        "    method=\"cobyla\",\n",
        "    callback=callback_vqe,\n",
        "    options=options\n",
        "  )\n",
        "\n",
        "  print(cost_func_vqe(res.x, ansatz_zz, ansatz_x0, ansatz_x1, ansatz_x2, ansatz_x3, ansatz_x4, sampler, shots))"
      ],
      "metadata": {
        "id": "2QbDIIl-y6Cn"
      },
      "execution_count": null,
      "outputs": []
    },
    {
      "cell_type": "code",
      "source": [
        "shots = 2500\n",
        "for i in range(10):\n",
        "  callback_vqe = build_callback_vqe(ansatz_zz, ansatz_x0, ansatz_x1, ansatz_x2, ansatz_x3, ansatz_x4, sampler, shots, callback_dict_vqe)\n",
        "  res = minimize(\n",
        "    cost_func_vqe,\n",
        "    x0,\n",
        "    args=(ansatz_zz, ansatz_x0, ansatz_x1, ansatz_x2, ansatz_x3, ansatz_x4, sampler, shots),\n",
        "    method=\"cobyla\",\n",
        "    callback=callback_vqe,\n",
        "    options=options\n",
        "  )\n",
        "\n",
        "  print(cost_func_vqe(res.x, ansatz_zz, ansatz_x0, ansatz_x1, ansatz_x2, ansatz_x3, ansatz_x4, sampler, shots))"
      ],
      "metadata": {
        "id": "pN823JR2Xg9l"
      },
      "execution_count": null,
      "outputs": []
    },
    {
      "cell_type": "code",
      "source": [
        "lst = [-5.582000000000001,\n",
        "-5.458,\n",
        "-5.472000000000001,\n",
        "-5.668000000000001,\n",
        "-5.32,\n",
        "-5.522,\n",
        "-5.576000000000001,\n",
        "-5.780000000000001,\n",
        "-5.6259999999999994,\n",
        "-5.860000000000002]\n",
        "\n",
        "lst = np.array(lst)\n",
        "print(np.mean(lst))\n",
        "print(np.sqrt(np.var(lst)))"
      ],
      "metadata": {
        "id": "vu0aUdFgZXDO"
      },
      "execution_count": null,
      "outputs": []
    },
    {
      "cell_type": "code",
      "source": [
        "lst = [-5.78,\n",
        "-5.6784,\n",
        "-5.861599999999999,\n",
        "-5.5488,\n",
        "-5.634400000000001,\n",
        "-5.651200000000001,\n",
        "-5.461599999999999,\n",
        "-5.563199999999999,\n",
        "-5.3848,\n",
        "-5.8408]\n",
        "\n",
        "lst = np.array(lst)\n",
        "print(np.mean(lst))\n",
        "print(np.sqrt(np.var(lst)))"
      ],
      "metadata": {
        "id": "AtTSKDWYZXAX"
      },
      "execution_count": null,
      "outputs": []
    },
    {
      "cell_type": "markdown",
      "source": [
        "# 2. Classical Shadow (Randomized Clifford Gates) 야매"
      ],
      "metadata": {
        "id": "TRyMvgrCMRRt"
      }
    },
    {
      "cell_type": "code",
      "execution_count": null,
      "metadata": {
        "id": "zrjcGH6OMPh3"
      },
      "outputs": [],
      "source": [
        "import qiskit\n",
        "import qiskit_ibm_runtime\n",
        "import numpy as np\n",
        "import matplotlib.pyplot as plt\n",
        "\n",
        "from qiskit import QuantumCircuit\n",
        "from qiskit.quantum_info import SparsePauliOp\n",
        "from qiskit.transpiler.preset_passmanagers import generate_preset_pass_manager\n",
        "from qiskit_ibm_runtime import QiskitRuntimeService\n",
        "from qiskit_ibm_runtime import EstimatorV2 as Estimator, Batch\n",
        "\n",
        "from qiskit_aer import AerSimulator\n",
        "from qiskit.circuit import ParameterVector\n",
        "\n",
        "from qiskit import QuantumCircuit\n",
        "from qiskit.quantum_info import Statevector\n",
        "from qiskit.quantum_info.operators import Operator\n",
        "from qiskit.circuit.library.standard_gates import IGate, XGate, YGate, ZGate"
      ]
    },
    {
      "cell_type": "markdown",
      "source": [
        "## ansatz and classical shadow"
      ],
      "metadata": {
        "id": "uEdOi3hAarPy"
      }
    },
    {
      "cell_type": "code",
      "source": [
        "# Instantiate the system Hamiltonian\n",
        "interation = 1\n",
        "bias = -1\n",
        "\n",
        "coeff_list = [interation for _ in range(4)] + [bias for _ in range(5)]\n",
        "operator_list = [\"ZZIII\", \"IZZII\", \"IIZZI\", \"IIIZZ\", \"XIIII\", \"IXIII\", \"IIXII\", \"IIIXI\", \"IIIIX\"]\n",
        "hamiltonian_list = []\n",
        "for i in range(9):\n",
        "  hamiltonian_list.append((operator_list[i], coeff_list[i]))\n",
        "hamiltonian = SparsePauliOp.from_list(hamiltonian_list)"
      ],
      "metadata": {
        "id": "vXdAh_JdYc3k"
      },
      "execution_count": null,
      "outputs": []
    },
    {
      "cell_type": "code",
      "source": [
        "# Ansatz for VQE\n",
        "\n",
        "def circuit_base(params, num_qubits):\n",
        "\n",
        "  ansatz = QuantumCircuit(num_qubits)\n",
        "  it = iter(params)\n",
        "  ansatz.h(range(0,5))\n",
        "\n",
        "  ansatz.barrier()\n",
        "\n",
        "  ansatz.cx(0, 1)\n",
        "  ansatz.cx(2, 3)\n",
        "  ansatz.rz(next(it), 1)\n",
        "  ansatz.rz(next(it), 3)\n",
        "  ansatz.cx(0, 1)\n",
        "  ansatz.cx(2, 3)\n",
        "  ansatz.cx(1, 2)\n",
        "  ansatz.cx(3, 4)\n",
        "  ansatz.rz(next(it), 2)\n",
        "  ansatz.rz(next(it), 4)\n",
        "  ansatz.cx(1, 2)\n",
        "  ansatz.cx(3, 4)\n",
        "\n",
        "  ansatz.barrier()\n",
        "\n",
        "  ansatz.rx(next(it), 0)\n",
        "  ansatz.rx(next(it), 1)\n",
        "  ansatz.rx(next(it), 2)\n",
        "  ansatz.rx(next(it), 3)\n",
        "  ansatz.rx(next(it), 4)\n",
        "\n",
        "  return ansatz"
      ],
      "metadata": {
        "id": "M9NyDvRXY6Is"
      },
      "execution_count": null,
      "outputs": []
    },
    {
      "cell_type": "code",
      "source": [
        "%matplotlib inline\n",
        "\n",
        "params = np.array([5.803e+00,  5.886e+00,  5.886e+00,  5.803e+00,  7.854e+00, 1.823e-07,  7.854e+00,  1.749e-06,  1.571e+00])\n",
        "qc = circuit_base(params, num_qubits)\n",
        "qc.draw(\"mpl\")"
      ],
      "metadata": {
        "colab": {
          "base_uri": "https://localhost:8080/",
          "height": 384
        },
        "id": "_JMnP64-Y6G0",
        "outputId": "12f59306-d040-4b80-e0fa-2fcc1fb34a6a"
      },
      "execution_count": null,
      "outputs": [
        {
          "output_type": "execute_result",
          "data": {
            "text/plain": [
              "<Figure size 1040x451.5 with 1 Axes>"
            ],
            "image/png": "[encoded data removed]"
          },
          "metadata": {},
          "execution_count": 415
        }
      ]
    },
    {
      "cell_type": "code",
      "source": [
        "pauli_list = [\n",
        "    np.array([[0.0, 1.0], [1.0, 0.0]]),\n",
        "    np.array([[0, -1.0j], [1.0j, 0.0]]),\n",
        "    np.array([[1.0, 0.0], [0.0, -1.0]]),\n",
        "]"
      ],
      "metadata": {
        "id": "JcWitGKZP1h-"
      },
      "execution_count": null,
      "outputs": []
    },
    {
      "cell_type": "code",
      "source": [
        "def Minv(N,X):\n",
        "    '''inverse shadow channel'''\n",
        "    return ((2**N+1.))*X - np.eye(2**N)"
      ],
      "metadata": {
        "id": "mvH37pRcdzTE"
      },
      "execution_count": null,
      "outputs": []
    },
    {
      "cell_type": "code",
      "source": [
        "def cluster_rho(num_qubits, qc, size):\n",
        "\n",
        "  reps = 1\n",
        "\n",
        "  Cluster_Size = size\n",
        "  cliffords = [qiskit.quantum_info.random_clifford(num_qubits) for _ in range(Cluster_Size)]\n",
        "\n",
        "  results = []\n",
        "  for cliff in cliffords:\n",
        "    qc_c  = qc.compose(cliff.to_circuit())\n",
        "\n",
        "    counts = qiskit.quantum_info.Statevector(qc_c).sample_counts(1)\n",
        "    results.append(counts)\n",
        "\n",
        "  shadows = []\n",
        "  for cliff, res in zip(cliffords, results):\n",
        "    mat = cliff.adjoint().to_matrix()\n",
        "    for bit,count in res.items():\n",
        "        Ub = mat[:,int(bit,2)] # this is Udag|b>\n",
        "        shadows.append(Minv(num_qubits,np.outer(Ub,Ub.conj()))*count)\n",
        "\n",
        "  return np.sum(shadows,axis=0)/(Cluster_Size)"
      ],
      "metadata": {
        "id": "SFS5WugQ3f3u"
      },
      "execution_count": null,
      "outputs": []
    },
    {
      "cell_type": "code",
      "source": [
        "def generate_pauli_string(location, pauli, num_qubits):\n",
        "    string = [\"I\"] * num_qubits\n",
        "    for i, loc in enumerate(location):\n",
        "        string[num_qubits-loc-1] = pauli[i]\n",
        "\n",
        "    result = ''.join(char for char in string)\n",
        "\n",
        "    return result"
      ],
      "metadata": {
        "id": "Kb6iQXwhaEFv"
      },
      "execution_count": null,
      "outputs": []
    },
    {
      "cell_type": "code",
      "source": [
        "list_of_observables = ([SparsePauliOp(generate_pauli_string([i,i+1],[\"Z\",\"Z\"], num_qubits)) for i in range(num_qubits - 1)]  +[SparsePauliOp(generate_pauli_string([i],[\"X\"], num_qubits)) for i in range(num_qubits)])"
      ],
      "metadata": {
        "id": "fPhQza13Z-kf"
      },
      "execution_count": null,
      "outputs": []
    },
    {
      "cell_type": "code",
      "source": [
        "def clustor_observable(num_qubits, qc, size, list_of_observables):\n",
        "  lst = []\n",
        "  for o in list_of_observables:\n",
        "    rho = cluster_rho(num_qubits, qc, size)\n",
        "    o_matrix = o.to_matrix()\n",
        "    lst.append(np.real(np.trace(np.matmul(rho, o_matrix))))\n",
        "\n",
        "  lst = np.array(lst)\n",
        "\n",
        "  return lst"
      ],
      "metadata": {
        "id": "fLJkzguJZCx8"
      },
      "execution_count": null,
      "outputs": []
    },
    {
      "cell_type": "code",
      "source": [
        "qc = circuit_base(params, num_qubits)\n",
        "print(clustor_observable(num_qubits, qc, 200, list_of_observables))"
      ],
      "metadata": {
        "colab": {
          "base_uri": "https://localhost:8080/"
        },
        "id": "V2wSJt26GwqU",
        "outputId": "dad34574-f6b6-4ab6-840c-03b4102d28e2"
      },
      "execution_count": null,
      "outputs": [
        {
          "output_type": "stream",
          "name": "stdout",
          "text": [
            "[-4.95000000e-01 -4.95000000e-01 -1.65000000e-01 -1.65000000e-01\n",
            "  8.25000000e-01  6.60000000e-01  1.48500000e+00  8.25000000e-01\n",
            "  2.49800181e-16]\n"
          ]
        }
      ]
    },
    {
      "cell_type": "code",
      "source": [
        "def mean_hamiltonian(num_qubits, params, list_of_observables, shadow_size, size=200):\n",
        "  qc = circuit_base(params, num_qubits)\n",
        "  median_list = []\n",
        "\n",
        "  sum = 0\n",
        "\n",
        "  observable_list = []\n",
        "  for i in range(shadow_size//200):\n",
        "    observable_list.append(clustor_observable(num_qubits, qc, 200, list_of_observables))\n",
        "\n",
        "  for j in range(9):\n",
        "    med = np.median(np.array([observable_list[i][j] for i in range(shadow_size//200)]))\n",
        "\n",
        "    if j<4:\n",
        "      sum = sum + med\n",
        "\n",
        "    else:\n",
        "      sum = sum - med\n",
        "\n",
        "  return sum"
      ],
      "metadata": {
        "id": "VIUI_C9gdVFc"
      },
      "execution_count": null,
      "outputs": []
    },
    {
      "cell_type": "markdown",
      "source": [
        "## cost function"
      ],
      "metadata": {
        "id": "8oWXFeCIgZuL"
      }
    },
    {
      "cell_type": "code",
      "source": [
        "def cost_func_clifford_shadow(params, shadow_size):\n",
        "  num_qubits = 5\n",
        "  list_of_observables = ([SparsePauliOp(generate_pauli_string([i,i+1],[\"Z\",\"Z\"], num_qubits)) for i in range(num_qubits - 1)]  +[SparsePauliOp(generate_pauli_string([i],[\"X\"], num_qubits)) for i in range(num_qubits)])\n",
        "  return mean_hamiltonian(num_qubits, params, list_of_observables, shadow_size, 200)"
      ],
      "metadata": {
        "id": "_TL6xoeihEYc"
      },
      "execution_count": null,
      "outputs": []
    },
    {
      "cell_type": "code",
      "source": [
        "for _ in range(10):\n",
        "  print(cost_func_clifford_shadow(np.array([5.803e+00,  5.886e+00,  5.886e+00,  5.803e+00,  7.854e+00, 1.823e-07,  7.854e+00,  1.749e-06,  1.571e+00]), 200))"
      ],
      "metadata": {
        "colab": {
          "base_uri": "https://localhost:8080/"
        },
        "id": "HciYp6wNw41B",
        "outputId": "0b1058cb-eb6a-4908-c8dc-401ddc9cc431"
      },
      "execution_count": null,
      "outputs": [
        {
          "output_type": "stream",
          "name": "stdout",
          "text": [
            "-5.609999999999992\n",
            "-5.609999999999992\n",
            "-5.279999999999991\n",
            "-5.279999999999991\n",
            "-11.219999999999986\n",
            "-11.219999999999986\n",
            "-5.279999999999992\n",
            "-5.279999999999992\n",
            "-5.609999999999991\n",
            "-5.609999999999991\n",
            "-3.299999999999995\n",
            "-3.299999999999995\n",
            "-3.2999999999999954\n",
            "-3.2999999999999954\n",
            "-5.93999999999999\n",
            "-5.93999999999999\n",
            "-6.269999999999992\n",
            "-6.269999999999992\n",
            "-4.289999999999994\n",
            "-4.289999999999994\n"
          ]
        }
      ]
    },
    {
      "cell_type": "code",
      "source": [
        "for _ in range(10):\n",
        "  print(cost_func_clifford_shadow(np.array([5.803e+00,  5.886e+00,  5.886e+00,  5.803e+00,  7.854e+00, 1.823e-07,  7.854e+00,  1.749e-06,  1.571e+00]), 250))"
      ],
      "metadata": {
        "colab": {
          "base_uri": "https://localhost:8080/"
        },
        "id": "8FnmLl2fymW1",
        "outputId": "bc4cab02-9d68-4a8e-cfa5-c445783626b4"
      },
      "execution_count": null,
      "outputs": [
        {
          "output_type": "stream",
          "name": "stdout",
          "text": [
            "-5.675999999999993\n",
            "-5.675999999999993\n",
            "-4.883999999999997\n",
            "-4.883999999999997\n",
            "-6.071999999999996\n",
            "-6.071999999999996\n",
            "-8.579999999999995\n",
            "-8.579999999999995\n",
            "-6.467999999999992\n",
            "-6.467999999999992\n",
            "-6.335999999999992\n",
            "-6.335999999999992\n",
            "-6.467999999999996\n",
            "-6.467999999999996\n",
            "-6.203999999999992\n",
            "-6.203999999999992\n",
            "-4.091999999999993\n",
            "-4.091999999999993\n",
            "-7.655999999999993\n",
            "-7.655999999999993\n"
          ]
        }
      ]
    },
    {
      "cell_type": "code",
      "source": [
        "for _ in range(10):\n",
        "  print(cost_func_clifford_shadow(np.array([5.803e+00,  5.886e+00,  5.886e+00,  5.803e+00,  7.854e+00, 1.823e-07,  7.854e+00,  1.749e-06,  1.571e+00]), 500))"
      ],
      "metadata": {
        "colab": {
          "base_uri": "https://localhost:8080/"
        },
        "id": "nA-RizJPw7Qa",
        "outputId": "e9319b3b-ae19-4a34-c229-681333d4b764"
      },
      "execution_count": null,
      "outputs": [
        {
          "output_type": "stream",
          "name": "stdout",
          "text": [
            "-4.421999999999995\n",
            "-4.421999999999995\n",
            "-7.127999999999994\n",
            "-7.127999999999994\n",
            "-6.138000000000002\n",
            "-6.138000000000002\n",
            "-6.929999999999998\n",
            "-6.929999999999998\n",
            "-4.949999999999996\n",
            "-4.949999999999996\n",
            "-6.8639999999999946\n",
            "-6.8639999999999946\n",
            "-5.741999999999994\n",
            "-5.741999999999994\n",
            "-6.4019999999999975\n",
            "-6.4019999999999975\n",
            "-5.214\n",
            "-5.214\n",
            "-6.665999999999997\n",
            "-6.665999999999997\n"
          ]
        }
      ]
    },
    {
      "cell_type": "code",
      "source": [
        "for _ in range(10):\n",
        "  print(cost_func_clifford_shadow(np.array([5.803e+00,  5.886e+00,  5.886e+00,  5.803e+00,  7.854e+00, 1.823e-07,  7.854e+00,  1.749e-06,  1.571e+00]), 750))"
      ],
      "metadata": {
        "colab": {
          "base_uri": "https://localhost:8080/"
        },
        "id": "hCXdqu4Nyl0N",
        "outputId": "d10843dc-8fe2-4eb7-c2a0-e7b6d8733ee1"
      },
      "execution_count": null,
      "outputs": [
        {
          "output_type": "stream",
          "name": "stdout",
          "text": [
            "-6.512000000000002\n",
            "-6.512000000000002\n",
            "-5.280000000000004\n",
            "-5.280000000000004\n",
            "-5.412000000000003\n",
            "-5.412000000000003\n",
            "-6.072000000000001\n",
            "-6.072000000000001\n",
            "-5.808000000000001\n",
            "-5.808000000000001\n",
            "-4.532000000000003\n",
            "-4.532000000000003\n",
            "-6.028\n",
            "-6.028\n",
            "-6.556000000000001\n",
            "-6.556000000000001\n",
            "-6.731999999999996\n",
            "-6.731999999999996\n",
            "-4.928000000000004\n",
            "-4.928000000000004\n"
          ]
        }
      ]
    },
    {
      "cell_type": "code",
      "source": [
        "for _ in range(10):\n",
        "  print(cost_func_clifford_shadow(np.array([5.803e+00,  5.886e+00,  5.886e+00,  5.803e+00,  7.854e+00, 1.823e-07,  7.854e+00,  1.749e-06,  1.571e+00]), 1000))"
      ],
      "metadata": {
        "colab": {
          "base_uri": "https://localhost:8080/"
        },
        "id": "_2p8U_XOtrJ1",
        "outputId": "a96904a2-6a0d-4a27-f7c0-fdb5c9f6516c"
      },
      "execution_count": null,
      "outputs": [
        {
          "output_type": "stream",
          "name": "stdout",
          "text": [
            "-5.016000000000002\n",
            "-5.016000000000002\n",
            "-5.808000000000004\n",
            "-5.808000000000004\n",
            "-5.247000000000005\n",
            "-5.247000000000005\n",
            "-5.610000000000006\n",
            "-5.610000000000006\n",
            "-6.204000000000002\n",
            "-6.204000000000002\n",
            "-6.237\n",
            "-6.237\n",
            "-6.930000000000005\n",
            "-6.930000000000005\n",
            "-6.171000000000002\n",
            "-6.171000000000002\n",
            "-5.907000000000003\n",
            "-5.907000000000003\n",
            "-6.336000000000001\n",
            "-6.336000000000001\n"
          ]
        }
      ]
    },
    {
      "cell_type": "code",
      "source": [
        "for _ in range(10):\n",
        "  print(cost_func_clifford_shadow(np.array([5.803e+00,  5.886e+00,  5.886e+00,  5.803e+00,  7.854e+00, 1.823e-07,  7.854e+00,  1.749e-06,  1.571e+00]), 2000))"
      ],
      "metadata": {
        "colab": {
          "base_uri": "https://localhost:8080/"
        },
        "id": "czFs2B3strHj",
        "outputId": "f12f0139-34d3-418e-a422-2fce0b7f9daf"
      },
      "execution_count": null,
      "outputs": [
        {
          "output_type": "stream",
          "name": "stdout",
          "text": [
            "-6.517500000000012\n",
            "-6.517500000000012\n",
            "-5.49450000000001\n",
            "-5.49450000000001\n",
            "-5.907000000000008\n",
            "-5.907000000000008\n",
            "-6.303000000000004\n",
            "-6.303000000000004\n",
            "-5.973000000000006\n",
            "-5.973000000000006\n",
            "-6.3855000000000075\n",
            "-6.3855000000000075\n",
            "-6.138000000000009\n",
            "-6.138000000000009\n",
            "-5.824500000000005\n",
            "-5.824500000000005\n",
            "-6.055500000000013\n",
            "-6.055500000000013\n",
            "-5.973000000000011\n",
            "-5.973000000000011\n"
          ]
        }
      ]
    },
    {
      "cell_type": "code",
      "source": [
        "lst = [-5.609999999999992,\n",
        "-5.279999999999991,\n",
        "-11.219999999999986,\n",
        "-5.279999999999992,\n",
        "-5.609999999999991,\n",
        "-3.299999999999995,\n",
        "-3.2999999999999954,\n",
        "-5.93999999999999,\n",
        "-6.269999999999992,\n",
        "-4.289999999999994]\n",
        "\n",
        "lst = np.array(lst)\n",
        "print(np.mean(lst))\n",
        "print(np.sqrt(np.var(lst)))\n",
        "print()\n",
        "\n",
        "\n",
        "lst = [-5.675999999999993,\n",
        "-4.883999999999997\n",
        "-6.071999999999996\n",
        "-8.579999999999995,\n",
        "-6.467999999999992,\n",
        "-6.335999999999992,\n",
        "-6.467999999999996,\n",
        "-6.203999999999992,\n",
        "-4.091999999999993,\n",
        "-7.655999999999993]\n",
        "\n",
        "lst = np.array(lst)\n",
        "print(np.mean(lst))\n",
        "print(np.sqrt(np.var(lst)))\n",
        "print()\n",
        "\n",
        "\n",
        "lst = [-4.421999999999995,\n",
        "-7.127999999999994,\n",
        "-6.138000000000002,\n",
        "-6.929999999999998,\n",
        "-4.949999999999996,\n",
        "-6.8639999999999946,\n",
        "-5.741999999999994,\n",
        "-6.4019999999999975,\n",
        "-5.214,\n",
        "-6.665999999999997]\n",
        "\n",
        "lst = np.array(lst)\n",
        "print(np.mean(lst))\n",
        "print(np.sqrt(np.var(lst)))\n",
        "print()\n",
        "\n",
        "\n",
        "lst = [-6.512000000000002,\n",
        "-5.280000000000004,\n",
        "-5.412000000000003,\n",
        "-6.072000000000001,\n",
        "-5.808000000000001,\n",
        "-4.532000000000003,\n",
        "-6.028,\n",
        "-6.556000000000001,\n",
        "-6.731999999999996,\n",
        "-4.928000000000004]\n",
        "\n",
        "lst = np.array(lst)\n",
        "print(np.mean(lst))\n",
        "print(np.sqrt(np.var(lst)))\n",
        "print()\n",
        "\n",
        "\n",
        "lst = [-5.016000000000002,\n",
        "-5.808000000000004,\n",
        "-5.247000000000005,\n",
        "-5.610000000000006,\n",
        "-6.204000000000002,\n",
        "-6.237,\n",
        "-6.930000000000005,\n",
        "-6.171000000000002,\n",
        "-5.907000000000003,\n",
        "-6.336000000000001]\n",
        "\n",
        "lst = np.array(lst)\n",
        "print(np.mean(lst))\n",
        "print(np.sqrt(np.var(lst)))\n",
        "print()\n",
        "\n",
        "\n",
        "lst = [-6.517500000000012,\n",
        "-5.49450000000001,\n",
        "-5.907000000000008,\n",
        "-6.303000000000004,\n",
        "-5.973000000000006,\n",
        "-6.3855000000000075,\n",
        "-6.138000000000009,\n",
        "-5.824500000000005,\n",
        "-6.055500000000013,\n",
        "-5.973000000000011]\n",
        "\n",
        "lst = np.array(lst)\n",
        "print(np.mean(lst))\n",
        "print(np.sqrt(np.var(lst)))\n",
        "print()"
      ],
      "metadata": {
        "colab": {
          "base_uri": "https://localhost:8080/"
        },
        "id": "kNbp0CJn72iB",
        "outputId": "a1a1b72a-3839-4516-cb0e-901378fedd7f"
      },
      "execution_count": null,
      "outputs": [
        {
          "output_type": "stream",
          "name": "stdout",
          "text": [
            "-5.609999999999991\n",
            "2.113030998352838\n",
            "\n",
            "-7.804499999999992\n",
            "4.531195620363348\n",
            "\n",
            "-6.045599999999996\n",
            "0.8811432573651118\n",
            "\n",
            "-5.786000000000002\n",
            "0.697160526708159\n",
            "\n",
            "-5.946600000000003\n",
            "0.5300173959409255\n",
            "\n",
            "-6.057150000000009\n",
            "0.2818024174843076\n",
            "\n"
          ]
        }
      ]
    },
    {
      "cell_type": "code",
      "source": [
        "lst = [-5.016000000000002,\n",
        "-5.808000000000004,\n",
        "-5.247000000000005,\n",
        "-5.610000000000006,\n",
        "-6.204000000000002,\n",
        "-6.237,\n",
        "-6.930000000000005,\n",
        "-6.171000000000002,\n",
        "-5.907000000000003,\n",
        "-6.336000000000001]\n",
        "\n",
        "lst = np.array(lst)\n",
        "print(np.mean(lst))\n",
        "print(np.sqrt(np.var(lst)))"
      ],
      "metadata": {
        "id": "MDbvXft48Vn3"
      },
      "execution_count": null,
      "outputs": []
    },
    {
      "cell_type": "code",
      "source": [],
      "metadata": {
        "id": "apYDOqUJ8XAY"
      },
      "execution_count": null,
      "outputs": []
    },
    {
      "cell_type": "code",
      "source": [],
      "metadata": {
        "id": "wRCxL9wI8W9o"
      },
      "execution_count": null,
      "outputs": []
    },
    {
      "cell_type": "markdown",
      "source": [
        "# 3. Classical Shadow (Randomized Clifford Gates) 정석"
      ],
      "metadata": {
        "id": "ZAZTNVEhRNMF"
      }
    },
    {
      "cell_type": "code",
      "execution_count": null,
      "metadata": {
        "id": "nbK9Kw51RNMO"
      },
      "outputs": [],
      "source": [
        "import qiskit\n",
        "import qiskit_ibm_runtime\n",
        "import numpy as np\n",
        "import matplotlib.pyplot as plt\n",
        "\n",
        "from qiskit import QuantumCircuit\n",
        "from qiskit.quantum_info import SparsePauliOp\n",
        "from qiskit.transpiler.preset_passmanagers import generate_preset_pass_manager\n",
        "from qiskit_ibm_runtime import QiskitRuntimeService\n",
        "from qiskit_ibm_runtime import EstimatorV2 as Estimator, Batch\n",
        "\n",
        "from qiskit_aer import AerSimulator\n",
        "from qiskit.circuit import ParameterVector\n",
        "\n",
        "from qiskit import QuantumCircuit\n",
        "from qiskit.quantum_info import Statevector\n",
        "from qiskit.quantum_info.operators import Operator\n",
        "from qiskit.circuit.library.standard_gates import IGate, XGate, YGate, ZGate"
      ]
    },
    {
      "cell_type": "markdown",
      "source": [
        "## ansatz and classical shadow"
      ],
      "metadata": {
        "id": "TTdMgEe5RNMO"
      }
    },
    {
      "cell_type": "code",
      "source": [
        "# Instantiate the system Hamiltonian\n",
        "interation = 1\n",
        "bias = -1\n",
        "\n",
        "coeff_list = [interation for _ in range(4)] + [bias for _ in range(5)]\n",
        "operator_list = [\"ZZIII\", \"IZZII\", \"IIZZI\", \"IIIZZ\", \"XIIII\", \"IXIII\", \"IIXII\", \"IIIXI\", \"IIIIX\"]\n",
        "hamiltonian_list = []\n",
        "for i in range(9):\n",
        "  hamiltonian_list.append((operator_list[i], coeff_list[i]))\n",
        "hamiltonian = SparsePauliOp.from_list(hamiltonian_list)"
      ],
      "metadata": {
        "id": "k_FkI5yiRNMO"
      },
      "execution_count": null,
      "outputs": []
    },
    {
      "cell_type": "code",
      "source": [
        "# Ansatz for VQE\n",
        "\n",
        "def circuit_base(params, num_qubits):\n",
        "\n",
        "  ansatz = QuantumCircuit(num_qubits)\n",
        "  it = iter(params)\n",
        "  ansatz.h(range(0,5))\n",
        "\n",
        "  ansatz.barrier()\n",
        "\n",
        "  ansatz.cx(0, 1)\n",
        "  ansatz.cx(2, 3)\n",
        "  ansatz.rz(next(it), 1)\n",
        "  ansatz.rz(next(it), 3)\n",
        "  ansatz.cx(0, 1)\n",
        "  ansatz.cx(2, 3)\n",
        "  ansatz.cx(1, 2)\n",
        "  ansatz.cx(3, 4)\n",
        "  ansatz.rz(next(it), 2)\n",
        "  ansatz.rz(next(it), 4)\n",
        "  ansatz.cx(1, 2)\n",
        "  ansatz.cx(3, 4)\n",
        "\n",
        "  ansatz.barrier()\n",
        "\n",
        "  ansatz.rx(next(it), 0)\n",
        "  ansatz.rx(next(it), 1)\n",
        "  ansatz.rx(next(it), 2)\n",
        "  ansatz.rx(next(it), 3)\n",
        "  ansatz.rx(next(it), 4)\n",
        "\n",
        "  return ansatz"
      ],
      "metadata": {
        "id": "luWHsZD1RNMO"
      },
      "execution_count": null,
      "outputs": []
    },
    {
      "cell_type": "code",
      "source": [
        "%matplotlib inline\n",
        "\n",
        "params = np.array([5.803e+00,  5.886e+00,  5.886e+00,  5.803e+00,  7.854e+00, 1.823e-07,  7.854e+00,  1.749e-06,  1.571e+00])\n",
        "qc = circuit_base(params, num_qubits)\n",
        "qc.draw(\"mpl\")"
      ],
      "metadata": {
        "colab": {
          "base_uri": "https://localhost:8080/",
          "height": 384
        },
        "outputId": "a1be40c4-839f-4f71-aa97-e2fa49ecfae9",
        "id": "-jXAQSJjRNMO"
      },
      "execution_count": null,
      "outputs": [
        {
          "output_type": "execute_result",
          "data": {
            "text/plain": [
              "<Figure size 1040x451.5 with 1 Axes>"
            ],
            "image/png": "[encoded data removed]"
          },
          "metadata": {},
          "execution_count": 219
        }
      ]
    },
    {
      "cell_type": "code",
      "source": [
        "pauli_list = [\n",
        "    np.array([[0.0, 1.0], [1.0, 0.0]]),\n",
        "    np.array([[0, -1.0j], [1.0j, 0.0]]),\n",
        "    np.array([[1.0, 0.0], [0.0, -1.0]]),\n",
        "]"
      ],
      "metadata": {
        "id": "vAJkaLPXRNMO"
      },
      "execution_count": null,
      "outputs": []
    },
    {
      "cell_type": "code",
      "source": [
        "def Minv(N,X):\n",
        "    '''inverse shadow channel'''\n",
        "    return ((2**N+1.))*X - np.eye(2**N)"
      ],
      "metadata": {
        "id": "akSQTkEhRNMO"
      },
      "execution_count": null,
      "outputs": []
    },
    {
      "cell_type": "code",
      "source": [
        "def cluster_rho(num_qubits, qc, size):\n",
        "\n",
        "  reps = 1\n",
        "\n",
        "  Cluster_Size = size\n",
        "  cliffords = [qiskit.quantum_info.random_clifford(num_qubits) for _ in range(Cluster_Size)]\n",
        "\n",
        "  results = []\n",
        "  for cliff in cliffords:\n",
        "    qc_c  = qc.compose(cliff.to_circuit())\n",
        "\n",
        "    counts = qiskit.quantum_info.Statevector(qc_c).sample_counts(1)\n",
        "    results.append(counts)\n",
        "\n",
        "  shadows = []\n",
        "  for cliff, res in zip(cliffords, results):\n",
        "    mat = cliff.adjoint().to_matrix()\n",
        "    for bit,count in res.items():\n",
        "        Ub = mat[:,int(bit,2)] # this is Udag|b>\n",
        "        shadows.append(Minv(num_qubits,np.outer(Ub,Ub.conj()))*count)\n",
        "\n",
        "  return np.sum(shadows,axis=0)/(Cluster_Size)"
      ],
      "metadata": {
        "id": "Z5WBRgyVRNMO"
      },
      "execution_count": null,
      "outputs": []
    },
    {
      "cell_type": "code",
      "source": [
        "def operator_expect_list(num_qubits, qc, size, operator)"
      ],
      "metadata": {
        "id": "swWrHAL0YaKO"
      },
      "execution_count": null,
      "outputs": []
    },
    {
      "cell_type": "markdown",
      "source": [
        "## cost function"
      ],
      "metadata": {
        "id": "_kVAYnq_RNMO"
      }
    },
    {
      "cell_type": "code",
      "source": [
        "def cost_func_clifford_shadow(params, size):\n",
        "\n",
        "  num_qubits = 5\n",
        "\n",
        "  qc = circuit_base(params, num_qubits)\n",
        "  rho = cluster_rho(num_qubits, qc, size)\n",
        "  interation = 1\n",
        "  bias = -1\n",
        "\n",
        "  coeff_list = [interation for _ in range(4)] + [bias for _ in range(5)]\n",
        "  operator_list = [\"ZZIII\", \"IZZII\", \"IIZZI\", \"IIIZZ\", \"XIIII\", \"IXIII\", \"IIXII\", \"IIIXI\", \"IIIIX\"]\n",
        "  hamiltonian_list = []\n",
        "  for i in range(9):\n",
        "    hamiltonian_list.append((operator_list[i], coeff_list[i]))\n",
        "  hamiltonian = SparsePauliOp.from_list(hamiltonian_list)\n",
        "  hamiltonian_matrix = hamiltonian.to_matrix()\n",
        "\n",
        "  print(np.real(np.trace(np.matmul(rho, hamiltonian_matrix))))\n",
        "  return np.real(np.trace(np.matmul(rho, hamiltonian_matrix)))"
      ],
      "metadata": {
        "id": "9jkcuHcQRNMO"
      },
      "execution_count": null,
      "outputs": []
    },
    {
      "cell_type": "code",
      "source": [
        "for _ in range(10):\n",
        "  print(cost_func_clifford_shadow(np.array([5.803e+00,  5.886e+00,  5.886e+00,  5.803e+00,  7.854e+00, 1.823e-07,  7.854e+00,  1.749e-06,  1.571e+00]), 100))"
      ],
      "metadata": {
        "colab": {
          "base_uri": "https://localhost:8080/"
        },
        "outputId": "0b1058cb-eb6a-4908-c8dc-401ddc9cc431",
        "id": "Qi8AjM9mRNMO"
      },
      "execution_count": null,
      "outputs": [
        {
          "output_type": "stream",
          "name": "stdout",
          "text": [
            "-5.609999999999992\n",
            "-5.609999999999992\n",
            "-5.279999999999991\n",
            "-5.279999999999991\n",
            "-11.219999999999986\n",
            "-11.219999999999986\n",
            "-5.279999999999992\n",
            "-5.279999999999992\n",
            "-5.609999999999991\n",
            "-5.609999999999991\n",
            "-3.299999999999995\n",
            "-3.299999999999995\n",
            "-3.2999999999999954\n",
            "-3.2999999999999954\n",
            "-5.93999999999999\n",
            "-5.93999999999999\n",
            "-6.269999999999992\n",
            "-6.269999999999992\n",
            "-4.289999999999994\n",
            "-4.289999999999994\n"
          ]
        }
      ]
    },
    {
      "cell_type": "code",
      "source": [
        "for _ in range(10):\n",
        "  print(cost_func_clifford_shadow(np.array([5.803e+00,  5.886e+00,  5.886e+00,  5.803e+00,  7.854e+00, 1.823e-07,  7.854e+00,  1.749e-06,  1.571e+00]), 250))"
      ],
      "metadata": {
        "colab": {
          "base_uri": "https://localhost:8080/"
        },
        "outputId": "bc4cab02-9d68-4a8e-cfa5-c445783626b4",
        "id": "Z9knFAQgRNMP"
      },
      "execution_count": null,
      "outputs": [
        {
          "output_type": "stream",
          "name": "stdout",
          "text": [
            "-5.675999999999993\n",
            "-5.675999999999993\n",
            "-4.883999999999997\n",
            "-4.883999999999997\n",
            "-6.071999999999996\n",
            "-6.071999999999996\n",
            "-8.579999999999995\n",
            "-8.579999999999995\n",
            "-6.467999999999992\n",
            "-6.467999999999992\n",
            "-6.335999999999992\n",
            "-6.335999999999992\n",
            "-6.467999999999996\n",
            "-6.467999999999996\n",
            "-6.203999999999992\n",
            "-6.203999999999992\n",
            "-4.091999999999993\n",
            "-4.091999999999993\n",
            "-7.655999999999993\n",
            "-7.655999999999993\n"
          ]
        }
      ]
    },
    {
      "cell_type": "code",
      "source": [
        "for _ in range(10):\n",
        "  print(cost_func_clifford_shadow(np.array([5.803e+00,  5.886e+00,  5.886e+00,  5.803e+00,  7.854e+00, 1.823e-07,  7.854e+00,  1.749e-06,  1.571e+00]), 500))"
      ],
      "metadata": {
        "colab": {
          "base_uri": "https://localhost:8080/"
        },
        "outputId": "e9319b3b-ae19-4a34-c229-681333d4b764",
        "id": "3XYkDK1aRNMP"
      },
      "execution_count": null,
      "outputs": [
        {
          "output_type": "stream",
          "name": "stdout",
          "text": [
            "-4.421999999999995\n",
            "-4.421999999999995\n",
            "-7.127999999999994\n",
            "-7.127999999999994\n",
            "-6.138000000000002\n",
            "-6.138000000000002\n",
            "-6.929999999999998\n",
            "-6.929999999999998\n",
            "-4.949999999999996\n",
            "-4.949999999999996\n",
            "-6.8639999999999946\n",
            "-6.8639999999999946\n",
            "-5.741999999999994\n",
            "-5.741999999999994\n",
            "-6.4019999999999975\n",
            "-6.4019999999999975\n",
            "-5.214\n",
            "-5.214\n",
            "-6.665999999999997\n",
            "-6.665999999999997\n"
          ]
        }
      ]
    },
    {
      "cell_type": "code",
      "source": [
        "for _ in range(10):\n",
        "  print(cost_func_clifford_shadow(np.array([5.803e+00,  5.886e+00,  5.886e+00,  5.803e+00,  7.854e+00, 1.823e-07,  7.854e+00,  1.749e-06,  1.571e+00]), 750))"
      ],
      "metadata": {
        "colab": {
          "base_uri": "https://localhost:8080/"
        },
        "outputId": "d10843dc-8fe2-4eb7-c2a0-e7b6d8733ee1",
        "id": "mIFeDibARNMP"
      },
      "execution_count": null,
      "outputs": [
        {
          "output_type": "stream",
          "name": "stdout",
          "text": [
            "-6.512000000000002\n",
            "-6.512000000000002\n",
            "-5.280000000000004\n",
            "-5.280000000000004\n",
            "-5.412000000000003\n",
            "-5.412000000000003\n",
            "-6.072000000000001\n",
            "-6.072000000000001\n",
            "-5.808000000000001\n",
            "-5.808000000000001\n",
            "-4.532000000000003\n",
            "-4.532000000000003\n",
            "-6.028\n",
            "-6.028\n",
            "-6.556000000000001\n",
            "-6.556000000000001\n",
            "-6.731999999999996\n",
            "-6.731999999999996\n",
            "-4.928000000000004\n",
            "-4.928000000000004\n"
          ]
        }
      ]
    },
    {
      "cell_type": "code",
      "source": [
        "for _ in range(10):\n",
        "  print(cost_func_clifford_shadow(np.array([5.803e+00,  5.886e+00,  5.886e+00,  5.803e+00,  7.854e+00, 1.823e-07,  7.854e+00,  1.749e-06,  1.571e+00]), 1000))"
      ],
      "metadata": {
        "colab": {
          "base_uri": "https://localhost:8080/"
        },
        "outputId": "a96904a2-6a0d-4a27-f7c0-fdb5c9f6516c",
        "id": "zAhC1IEERNMP"
      },
      "execution_count": null,
      "outputs": [
        {
          "output_type": "stream",
          "name": "stdout",
          "text": [
            "-5.016000000000002\n",
            "-5.016000000000002\n",
            "-5.808000000000004\n",
            "-5.808000000000004\n",
            "-5.247000000000005\n",
            "-5.247000000000005\n",
            "-5.610000000000006\n",
            "-5.610000000000006\n",
            "-6.204000000000002\n",
            "-6.204000000000002\n",
            "-6.237\n",
            "-6.237\n",
            "-6.930000000000005\n",
            "-6.930000000000005\n",
            "-6.171000000000002\n",
            "-6.171000000000002\n",
            "-5.907000000000003\n",
            "-5.907000000000003\n",
            "-6.336000000000001\n",
            "-6.336000000000001\n"
          ]
        }
      ]
    },
    {
      "cell_type": "code",
      "source": [
        "for _ in range(10):\n",
        "  print(cost_func_clifford_shadow(np.array([5.803e+00,  5.886e+00,  5.886e+00,  5.803e+00,  7.854e+00, 1.823e-07,  7.854e+00,  1.749e-06,  1.571e+00]), 2000))"
      ],
      "metadata": {
        "colab": {
          "base_uri": "https://localhost:8080/"
        },
        "outputId": "f12f0139-34d3-418e-a422-2fce0b7f9daf",
        "id": "CDCr3A2TRNMP"
      },
      "execution_count": null,
      "outputs": [
        {
          "output_type": "stream",
          "name": "stdout",
          "text": [
            "-6.517500000000012\n",
            "-6.517500000000012\n",
            "-5.49450000000001\n",
            "-5.49450000000001\n",
            "-5.907000000000008\n",
            "-5.907000000000008\n",
            "-6.303000000000004\n",
            "-6.303000000000004\n",
            "-5.973000000000006\n",
            "-5.973000000000006\n",
            "-6.3855000000000075\n",
            "-6.3855000000000075\n",
            "-6.138000000000009\n",
            "-6.138000000000009\n",
            "-5.824500000000005\n",
            "-5.824500000000005\n",
            "-6.055500000000013\n",
            "-6.055500000000013\n",
            "-5.973000000000011\n",
            "-5.973000000000011\n"
          ]
        }
      ]
    },
    {
      "cell_type": "code",
      "source": [
        "for _ in range(10):\n",
        "  print(cost_func_clifford_shadow(np.array([5.803e+00,  5.886e+00,  5.886e+00,  5.803e+00,  7.854e+00, 1.823e-07,  7.854e+00,  1.749e-06,  1.571e+00]), 5000))"
      ],
      "metadata": {
        "id": "fPPxET4aKBEr"
      },
      "execution_count": null,
      "outputs": []
    },
    {
      "cell_type": "code",
      "source": [
        "lst = [-5.609999999999992,\n",
        "-5.279999999999991,\n",
        "-11.219999999999986,\n",
        "-5.279999999999992,\n",
        "-5.609999999999991,\n",
        "-3.299999999999995,\n",
        "-3.2999999999999954,\n",
        "-5.93999999999999,\n",
        "-6.269999999999992,\n",
        "-4.289999999999994]\n",
        "\n",
        "lst = np.array(lst)\n",
        "print(np.mean(lst))\n",
        "print(np.sqrt(np.var(lst)))\n",
        "print()\n",
        "\n",
        "\n",
        "lst = [-5.675999999999993,\n",
        "-4.883999999999997\n",
        "-6.071999999999996\n",
        "-8.579999999999995,\n",
        "-6.467999999999992,\n",
        "-6.335999999999992,\n",
        "-6.467999999999996,\n",
        "-6.203999999999992,\n",
        "-4.091999999999993,\n",
        "-7.655999999999993]\n",
        "\n",
        "lst = np.array(lst)\n",
        "print(np.mean(lst))\n",
        "print(np.sqrt(np.var(lst)))\n",
        "print()\n",
        "\n",
        "\n",
        "lst = [-4.421999999999995,\n",
        "-7.127999999999994,\n",
        "-6.138000000000002,\n",
        "-6.929999999999998,\n",
        "-4.949999999999996,\n",
        "-6.8639999999999946,\n",
        "-5.741999999999994,\n",
        "-6.4019999999999975,\n",
        "-5.214,\n",
        "-6.665999999999997]\n",
        "\n",
        "lst = np.array(lst)\n",
        "print(np.mean(lst))\n",
        "print(np.sqrt(np.var(lst)))\n",
        "print()\n",
        "\n",
        "\n",
        "lst = [-6.512000000000002,\n",
        "-5.280000000000004,\n",
        "-5.412000000000003,\n",
        "-6.072000000000001,\n",
        "-5.808000000000001,\n",
        "-4.532000000000003,\n",
        "-6.028,\n",
        "-6.556000000000001,\n",
        "-6.731999999999996,\n",
        "-4.928000000000004]\n",
        "\n",
        "lst = np.array(lst)\n",
        "print(np.mean(lst))\n",
        "print(np.sqrt(np.var(lst)))\n",
        "print()\n",
        "\n",
        "\n",
        "lst = [-5.016000000000002,\n",
        "-5.808000000000004,\n",
        "-5.247000000000005,\n",
        "-5.610000000000006,\n",
        "-6.204000000000002,\n",
        "-6.237,\n",
        "-6.930000000000005,\n",
        "-6.171000000000002,\n",
        "-5.907000000000003,\n",
        "-6.336000000000001]\n",
        "\n",
        "lst = np.array(lst)\n",
        "print(np.mean(lst))\n",
        "print(np.sqrt(np.var(lst)))\n",
        "print()\n",
        "\n",
        "\n",
        "lst = [-6.517500000000012,\n",
        "-5.49450000000001,\n",
        "-5.907000000000008,\n",
        "-6.303000000000004,\n",
        "-5.973000000000006,\n",
        "-6.3855000000000075,\n",
        "-6.138000000000009,\n",
        "-5.824500000000005,\n",
        "-6.055500000000013,\n",
        "-5.973000000000011]\n",
        "\n",
        "lst = np.array(lst)\n",
        "print(np.mean(lst))\n",
        "print(np.sqrt(np.var(lst)))\n",
        "print()"
      ],
      "metadata": {
        "colab": {
          "base_uri": "https://localhost:8080/"
        },
        "outputId": "a1a1b72a-3839-4516-cb0e-901378fedd7f",
        "id": "GhgQ3OZERNMP"
      },
      "execution_count": null,
      "outputs": [
        {
          "output_type": "stream",
          "name": "stdout",
          "text": [
            "-5.609999999999991\n",
            "2.113030998352838\n",
            "\n",
            "-7.804499999999992\n",
            "4.531195620363348\n",
            "\n",
            "-6.045599999999996\n",
            "0.8811432573651118\n",
            "\n",
            "-5.786000000000002\n",
            "0.697160526708159\n",
            "\n",
            "-5.946600000000003\n",
            "0.5300173959409255\n",
            "\n",
            "-6.057150000000009\n",
            "0.2818024174843076\n",
            "\n"
          ]
        }
      ]
    },
    {
      "cell_type": "code",
      "source": [
        "lst = [-5.016000000000002,\n",
        "-5.808000000000004,\n",
        "-5.247000000000005,\n",
        "-5.610000000000006,\n",
        "-6.204000000000002,\n",
        "-6.237,\n",
        "-6.930000000000005,\n",
        "-6.171000000000002,\n",
        "-5.907000000000003,\n",
        "-6.336000000000001]\n",
        "\n",
        "lst = np.array(lst)\n",
        "print(np.mean(lst))\n",
        "print(np.sqrt(np.var(lst)))"
      ],
      "metadata": {
        "id": "pNHVpIB1RNMP"
      },
      "execution_count": null,
      "outputs": []
    },
    {
      "cell_type": "code",
      "source": [],
      "metadata": {
        "id": "--8dhu9sRNMP"
      },
      "execution_count": null,
      "outputs": []
    },
    {
      "cell_type": "code",
      "source": [],
      "metadata": {
        "id": "QHtyBcVnRNMP"
      },
      "execution_count": null,
      "outputs": []
    },
    {
      "cell_type": "markdown",
      "source": [
        "# 4. Classical Shadow (Randomized Pauli Gates)"
      ],
      "metadata": {
        "id": "LPYE84y87jqE"
      }
    },
    {
      "cell_type": "code",
      "execution_count": null,
      "metadata": {
        "id": "ARw8up797jqK"
      },
      "outputs": [],
      "source": [
        "import qiskit\n",
        "import qiskit_ibm_runtime\n",
        "import numpy as np\n",
        "import matplotlib.pyplot as plt\n",
        "\n",
        "from qiskit import QuantumCircuit\n",
        "from qiskit.quantum_info import SparsePauliOp\n",
        "from qiskit.transpiler.preset_passmanagers import generate_preset_pass_manager\n",
        "from qiskit_ibm_runtime import QiskitRuntimeService\n",
        "from qiskit_ibm_runtime import EstimatorV2 as Estimator, Batch\n",
        "\n",
        "from qiskit_aer import AerSimulator\n",
        "from qiskit.circuit import ParameterVector\n",
        "\n",
        "from qiskit import QuantumCircuit\n",
        "from qiskit.quantum_info import Statevector\n",
        "from qiskit.quantum_info.operators import Operator\n",
        "from qiskit.circuit.library.standard_gates import IGate, XGate, YGate, ZGate"
      ]
    },
    {
      "cell_type": "markdown",
      "source": [
        "## ansatz and classical shadow"
      ],
      "metadata": {
        "id": "3FiQ66Lg7jqK"
      }
    },
    {
      "cell_type": "code",
      "source": [
        "# Instantiate the system Hamiltonian\n",
        "interation = 1\n",
        "bias = -1\n",
        "\n",
        "coeff_list = [interation for _ in range(4)] + [bias for _ in range(5)]\n",
        "operator_list = [\"ZZIII\", \"IZZII\", \"IIZZI\", \"IIIZZ\", \"XIIII\", \"IXIII\", \"IIXII\", \"IIIXI\", \"IIIIX\"]\n",
        "hamiltonian_list = []\n",
        "for i in range(9):\n",
        "  hamiltonian_list.append((operator_list[i], coeff_list[i]))\n",
        "hamiltonian = SparsePauliOp.from_list(hamiltonian_list)"
      ],
      "metadata": {
        "id": "vC-OECia7jqK"
      },
      "execution_count": null,
      "outputs": []
    },
    {
      "cell_type": "code",
      "source": [
        "# Ansatz for VQE\n",
        "\n",
        "def circuit_base(params, num_qubits):\n",
        "\n",
        "  ansatz = QuantumCircuit(num_qubits)\n",
        "  it = iter(params)\n",
        "  ansatz.h(range(0,5))\n",
        "\n",
        "  ansatz.barrier()\n",
        "\n",
        "  ansatz.cx(0, 1)\n",
        "  ansatz.cx(2, 3)\n",
        "  ansatz.rz(next(it), 1)\n",
        "  ansatz.rz(next(it), 3)\n",
        "  ansatz.cx(0, 1)\n",
        "  ansatz.cx(2, 3)\n",
        "  ansatz.cx(1, 2)\n",
        "  ansatz.cx(3, 4)\n",
        "  ansatz.rz(next(it), 2)\n",
        "  ansatz.rz(next(it), 4)\n",
        "  ansatz.cx(1, 2)\n",
        "  ansatz.cx(3, 4)\n",
        "\n",
        "  ansatz.barrier()\n",
        "\n",
        "  ansatz.rx(next(it), 0)\n",
        "  ansatz.rx(next(it), 1)\n",
        "  ansatz.rx(next(it), 2)\n",
        "  ansatz.rx(next(it), 3)\n",
        "  ansatz.rx(next(it), 4)\n",
        "\n",
        "  return ansatz"
      ],
      "metadata": {
        "id": "hq0zq6uV7jqK"
      },
      "execution_count": null,
      "outputs": []
    },
    {
      "cell_type": "code",
      "source": [
        "%matplotlib inline\n",
        "\n",
        "params = np.array([5.803e+00,  5.886e+00,  5.886e+00,  5.803e+00,  7.854e+00, 1.823e-07,  7.854e+00,  1.749e-06,  1.571e+00])\n",
        "qc = circuit_base(params, num_qubits)\n",
        "qc.draw(\"mpl\")"
      ],
      "metadata": {
        "colab": {
          "base_uri": "https://localhost:8080/",
          "height": 384
        },
        "outputId": "a1be40c4-839f-4f71-aa97-e2fa49ecfae9",
        "id": "z7HNYBTT7jqK"
      },
      "execution_count": null,
      "outputs": [
        {
          "output_type": "execute_result",
          "data": {
            "text/plain": [
              "<Figure size 1040x451.5 with 1 Axes>"
            ],
            "image/png": "[encoded data removed]"
          },
          "metadata": {},
          "execution_count": 219
        }
      ]
    },
    {
      "cell_type": "code",
      "source": [
        "pauli_list = [\n",
        "    np.array([[0.0, 1.0], [1.0, 0.0]]),\n",
        "    np.array([[0, -1.0j], [1.0j, 0.0]]),\n",
        "    np.array([[1.0, 0.0], [0.0, -1.0]]),\n",
        "]"
      ],
      "metadata": {
        "id": "gBBCPuGw7jqK"
      },
      "execution_count": null,
      "outputs": []
    },
    {
      "cell_type": "code",
      "source": [
        "def Minv(N,X):\n",
        "    '''inverse shadow channel'''\n",
        "    return ((2**N+1.))*X - np.eye(2**N)\n",
        "\n",
        "\n",
        "def pauli_to_circuit(pauli):\n",
        "    qc = QuantumCircuit(pauli.num_qubits)\n",
        "    for i, p in enumerate(pauli.to_label()):\n",
        "        if p == 'X':\n",
        "            qc.append(XGate(), [i])\n",
        "        elif p == 'Y':\n",
        "            qc.append(YGate(), [i])\n",
        "        elif p == 'Z':\n",
        "            qc.append(ZGate(), [i])\n",
        "        elif p == 'I':\n",
        "            qc.append(IGate(), [i])\n",
        "    return qc"
      ],
      "metadata": {
        "id": "JP_IcXTA7jqK"
      },
      "execution_count": null,
      "outputs": []
    },
    {
      "cell_type": "code",
      "source": [
        "def cluster_rho(num_qubits, qc, size):\n",
        "    Cluster_Size = size\n",
        "    paulis = [Pauli.random(num_qubits) for _ in range(Cluster_Size)]\n",
        "\n",
        "    results = []\n",
        "    for pauli in paulis:\n",
        "        pauli_circuit = pauli_to_circuit(pauli)\n",
        "        qc_c = qc.compose(pauli_circuit)\n",
        "\n",
        "        counts = Statevector(qc_c).sample_counts(1)\n",
        "        results.append(counts)\n",
        "\n",
        "    shadows = []\n",
        "    for pauli, res in zip(paulis, results):\n",
        "        mat = pauli.to_matrix().conj().T\n",
        "        for bit, count in res.items():\n",
        "            Ub = mat[:, int(bit, 2)]  # this is Udag|b>\n",
        "            shadows.append(Minv(num_qubits, np.outer(Ub, Ub.conj())) * count)\n",
        "\n",
        "    return np.sum(shadows, axis=0) / Cluster_Size"
      ],
      "metadata": {
        "id": "QlUmDRrO-4DO"
      },
      "execution_count": null,
      "outputs": []
    },
    {
      "cell_type": "code",
      "source": [
        "def cluster_rho(num_qubits, qc, size):\n",
        "\n",
        "  reps = 1\n",
        "\n",
        "  Cluster_Size = size\n",
        "  cliffords = [qiskit.quantum_info.random_clifford(num_qubits) for _ in range(Cluster_Size)]\n",
        "\n",
        "  results = []\n",
        "  for cliff in cliffords:\n",
        "    qc_c  = qc.compose(cliff.to_circuit())\n",
        "\n",
        "    counts = qiskit.quantum_info.Statevector(qc_c).sample_counts(1)\n",
        "    results.append(counts)\n",
        "\n",
        "  shadows = []\n",
        "  for cliff, res in zip(cliffords, results):\n",
        "    mat = cliff.adjoint().to_matrix()\n",
        "    for bit,count in res.items():\n",
        "        Ub = mat[:,int(bit,2)] # this is Udag|b>\n",
        "        shadows.append(Minv(num_qubits,np.outer(Ub,Ub.conj()))*count)\n",
        "\n",
        "  return np.sum(shadows,axis=0)/(Cluster_Size)"
      ],
      "metadata": {
        "id": "rd5WWQJr7jqK"
      },
      "execution_count": null,
      "outputs": []
    },
    {
      "cell_type": "markdown",
      "source": [
        "## cost function"
      ],
      "metadata": {
        "id": "9W0wi5mi7jqL"
      }
    },
    {
      "cell_type": "code",
      "source": [
        "def cost_func_clifford_shadow(params, size):\n",
        "\n",
        "  num_qubits = 5\n",
        "\n",
        "  qc = circuit_base(params, num_qubits)\n",
        "  rho = cluster_rho(num_qubits, qc, size)\n",
        "  interation = 1\n",
        "  bias = -1\n",
        "\n",
        "  coeff_list = [interation for _ in range(4)] + [bias for _ in range(5)]\n",
        "  operator_list = [\"ZZIII\", \"IZZII\", \"IIZZI\", \"IIIZZ\", \"XIIII\", \"IXIII\", \"IIXII\", \"IIIXI\", \"IIIIX\"]\n",
        "  hamiltonian_list = []\n",
        "  for i in range(9):\n",
        "    hamiltonian_list.append((operator_list[i], coeff_list[i]))\n",
        "  hamiltonian = SparsePauliOp.from_list(hamiltonian_list)\n",
        "  hamiltonian_matrix = hamiltonian.to_matrix()\n",
        "\n",
        "  print(np.real(np.trace(np.matmul(rho, hamiltonian_matrix))))\n",
        "  return np.real(np.trace(np.matmul(rho, hamiltonian_matrix)))"
      ],
      "metadata": {
        "id": "ZZRRLn3m7jqL"
      },
      "execution_count": null,
      "outputs": []
    },
    {
      "cell_type": "code",
      "source": [
        "for _ in range(10):\n",
        "  print(cost_func_clifford_shadow(np.array([5.803e+00,  5.886e+00,  5.886e+00,  5.803e+00,  7.854e+00, 1.823e-07,  7.854e+00,  1.749e-06,  1.571e+00]), 100))"
      ],
      "metadata": {
        "colab": {
          "base_uri": "https://localhost:8080/"
        },
        "outputId": "0b1058cb-eb6a-4908-c8dc-401ddc9cc431",
        "id": "WvPufAtc7jqL"
      },
      "execution_count": null,
      "outputs": [
        {
          "output_type": "stream",
          "name": "stdout",
          "text": [
            "-5.609999999999992\n",
            "-5.609999999999992\n",
            "-5.279999999999991\n",
            "-5.279999999999991\n",
            "-11.219999999999986\n",
            "-11.219999999999986\n",
            "-5.279999999999992\n",
            "-5.279999999999992\n",
            "-5.609999999999991\n",
            "-5.609999999999991\n",
            "-3.299999999999995\n",
            "-3.299999999999995\n",
            "-3.2999999999999954\n",
            "-3.2999999999999954\n",
            "-5.93999999999999\n",
            "-5.93999999999999\n",
            "-6.269999999999992\n",
            "-6.269999999999992\n",
            "-4.289999999999994\n",
            "-4.289999999999994\n"
          ]
        }
      ]
    },
    {
      "cell_type": "code",
      "source": [
        "for _ in range(10):\n",
        "  print(cost_func_clifford_shadow(np.array([5.803e+00,  5.886e+00,  5.886e+00,  5.803e+00,  7.854e+00, 1.823e-07,  7.854e+00,  1.749e-06,  1.571e+00]), 250))"
      ],
      "metadata": {
        "colab": {
          "base_uri": "https://localhost:8080/"
        },
        "outputId": "bc4cab02-9d68-4a8e-cfa5-c445783626b4",
        "id": "7Aa3tRSt7jqL"
      },
      "execution_count": null,
      "outputs": [
        {
          "output_type": "stream",
          "name": "stdout",
          "text": [
            "-5.675999999999993\n",
            "-5.675999999999993\n",
            "-4.883999999999997\n",
            "-4.883999999999997\n",
            "-6.071999999999996\n",
            "-6.071999999999996\n",
            "-8.579999999999995\n",
            "-8.579999999999995\n",
            "-6.467999999999992\n",
            "-6.467999999999992\n",
            "-6.335999999999992\n",
            "-6.335999999999992\n",
            "-6.467999999999996\n",
            "-6.467999999999996\n",
            "-6.203999999999992\n",
            "-6.203999999999992\n",
            "-4.091999999999993\n",
            "-4.091999999999993\n",
            "-7.655999999999993\n",
            "-7.655999999999993\n"
          ]
        }
      ]
    },
    {
      "cell_type": "code",
      "source": [
        "for _ in range(10):\n",
        "  print(cost_func_clifford_shadow(np.array([5.803e+00,  5.886e+00,  5.886e+00,  5.803e+00,  7.854e+00, 1.823e-07,  7.854e+00,  1.749e-06,  1.571e+00]), 500))"
      ],
      "metadata": {
        "colab": {
          "base_uri": "https://localhost:8080/"
        },
        "outputId": "e9319b3b-ae19-4a34-c229-681333d4b764",
        "id": "Ux18XWbQ7jqL"
      },
      "execution_count": null,
      "outputs": [
        {
          "output_type": "stream",
          "name": "stdout",
          "text": [
            "-4.421999999999995\n",
            "-4.421999999999995\n",
            "-7.127999999999994\n",
            "-7.127999999999994\n",
            "-6.138000000000002\n",
            "-6.138000000000002\n",
            "-6.929999999999998\n",
            "-6.929999999999998\n",
            "-4.949999999999996\n",
            "-4.949999999999996\n",
            "-6.8639999999999946\n",
            "-6.8639999999999946\n",
            "-5.741999999999994\n",
            "-5.741999999999994\n",
            "-6.4019999999999975\n",
            "-6.4019999999999975\n",
            "-5.214\n",
            "-5.214\n",
            "-6.665999999999997\n",
            "-6.665999999999997\n"
          ]
        }
      ]
    },
    {
      "cell_type": "code",
      "source": [
        "for _ in range(10):\n",
        "  print(cost_func_clifford_shadow(np.array([5.803e+00,  5.886e+00,  5.886e+00,  5.803e+00,  7.854e+00, 1.823e-07,  7.854e+00,  1.749e-06,  1.571e+00]), 750))"
      ],
      "metadata": {
        "colab": {
          "base_uri": "https://localhost:8080/"
        },
        "outputId": "d10843dc-8fe2-4eb7-c2a0-e7b6d8733ee1",
        "id": "FUyMeEBF7jqL"
      },
      "execution_count": null,
      "outputs": [
        {
          "output_type": "stream",
          "name": "stdout",
          "text": [
            "-6.512000000000002\n",
            "-6.512000000000002\n",
            "-5.280000000000004\n",
            "-5.280000000000004\n",
            "-5.412000000000003\n",
            "-5.412000000000003\n",
            "-6.072000000000001\n",
            "-6.072000000000001\n",
            "-5.808000000000001\n",
            "-5.808000000000001\n",
            "-4.532000000000003\n",
            "-4.532000000000003\n"
          ]
        }
      ]
    },
    {
      "cell_type": "code",
      "source": [
        "for _ in range(10):\n",
        "  print(cost_func_clifford_shadow(np.array([5.803e+00,  5.886e+00,  5.886e+00,  5.803e+00,  7.854e+00, 1.823e-07,  7.854e+00,  1.749e-06,  1.571e+00]), 1000))"
      ],
      "metadata": {
        "colab": {
          "base_uri": "https://localhost:8080/"
        },
        "outputId": "a96904a2-6a0d-4a27-f7c0-fdb5c9f6516c",
        "id": "aJ9KOnWf7jqL"
      },
      "execution_count": null,
      "outputs": [
        {
          "output_type": "stream",
          "name": "stdout",
          "text": [
            "-5.016000000000002\n",
            "-5.016000000000002\n",
            "-5.808000000000004\n",
            "-5.808000000000004\n",
            "-5.247000000000005\n",
            "-5.247000000000005\n",
            "-5.610000000000006\n",
            "-5.610000000000006\n",
            "-6.204000000000002\n",
            "-6.204000000000002\n",
            "-6.237\n",
            "-6.237\n",
            "-6.930000000000005\n",
            "-6.930000000000005\n",
            "-6.171000000000002\n",
            "-6.171000000000002\n",
            "-5.907000000000003\n",
            "-5.907000000000003\n",
            "-6.336000000000001\n",
            "-6.336000000000001\n"
          ]
        }
      ]
    },
    {
      "cell_type": "code",
      "source": [
        "for _ in range(10):\n",
        "  print(cost_func_clifford_shadow(np.array([5.803e+00,  5.886e+00,  5.886e+00,  5.803e+00,  7.854e+00, 1.823e-07,  7.854e+00,  1.749e-06,  1.571e+00]), 2000))"
      ],
      "metadata": {
        "colab": {
          "base_uri": "https://localhost:8080/"
        },
        "outputId": "f12f0139-34d3-418e-a422-2fce0b7f9daf",
        "id": "a-mwUilB7jqL"
      },
      "execution_count": null,
      "outputs": [
        {
          "output_type": "stream",
          "name": "stdout",
          "text": [
            "-6.517500000000012\n",
            "-6.517500000000012\n",
            "-5.49450000000001\n",
            "-5.49450000000001\n",
            "-5.907000000000008\n",
            "-5.907000000000008\n",
            "-6.303000000000004\n",
            "-6.303000000000004\n",
            "-5.973000000000006\n",
            "-5.973000000000006\n",
            "-6.3855000000000075\n",
            "-6.3855000000000075\n",
            "-6.138000000000009\n",
            "-6.138000000000009\n",
            "-5.824500000000005\n",
            "-5.824500000000005\n",
            "-6.055500000000013\n",
            "-6.055500000000013\n",
            "-5.973000000000011\n",
            "-5.973000000000011\n"
          ]
        }
      ]
    },
    {
      "cell_type": "markdown",
      "source": [
        "# 번외"
      ],
      "metadata": {
        "id": "YzagQHUo0Y7k"
      }
    },
    {
      "cell_type": "code",
      "source": [
        "def build_callback_clifford_shadow(size, callback_dict):\n",
        "  def callback(current_vector):\n",
        "    callback_dict_clifford_shadow[\"iters\"] += 1\n",
        "    callback_dict_clifford_shadow[\"prev_vector\"] = current_vector\n",
        "    current_cost_clifford_shadow = cost_func_clifford_shadow(current_vector, size)\n",
        "\n",
        "    callback_dict_clifford_shadow[\"cost_history\"].append(current_cost_clifford_shadow)\n",
        "\n",
        "    print(\n",
        "      \"Iters. done: {} [Current cost: {}]\".format(callback_dict_clifford_shadow[\"iters\"], current_cost_clifford_shadow),\n",
        "      end=\"\\r\",\n",
        "      flush=True,\n",
        "    )\n",
        "\n",
        "  return callback"
      ],
      "metadata": {
        "id": "9DMpxHkZgTi9"
      },
      "execution_count": null,
      "outputs": []
    },
    {
      "cell_type": "code",
      "source": [
        "callback_dict_clifford_shadow = {\n",
        "    \"prev_vector\": None,\n",
        "    \"iters\": 0,\n",
        "    \"cost_history\": [],\n",
        "}\n",
        "\n",
        "options = dict()\n",
        "options[\"maxiter\"] = 50000\n",
        "options[\"disp\"] = True\n",
        "\n",
        "np.random.seed(4)\n",
        "x0 = np.array([5.803e+00,  5.886e+00,  5.886e+00,  5.803e+00,  7.854e+00, 1.823e-07,  7.854e+00,  1.749e-06,  1.571e+00])\n",
        "\n",
        "x0"
      ],
      "metadata": {
        "colab": {
          "base_uri": "https://localhost:8080/"
        },
        "id": "mw6Tu8pUh8z4",
        "outputId": "a8395505-63e4-4153-cd99-9eaedf2b34c2"
      },
      "execution_count": null,
      "outputs": [
        {
          "output_type": "execute_result",
          "data": {
            "text/plain": [
              "array([5.803e+00, 5.886e+00, 5.886e+00, 5.803e+00, 7.854e+00, 1.823e-07,\n",
              "       7.854e+00, 1.749e-06, 1.571e+00])"
            ]
          },
          "metadata": {},
          "execution_count": 434
        }
      ]
    },
    {
      "cell_type": "code",
      "source": [
        "size = 1000\n",
        "\n",
        "callback_clifford_shadow = build_callback_clifford_shadow(size, callback_dict_clifford_shadow)\n",
        "res = minimize(\n",
        "  cost_func_clifford_shadow,\n",
        "  x0,\n",
        "  args=(size),\n",
        "  method=\"bfgs\",\n",
        "  callback=callback_vqe,\n",
        "  options=options\n",
        ")"
      ],
      "metadata": {
        "colab": {
          "base_uri": "https://localhost:8080/"
        },
        "id": "H2Ddku9ph8yF",
        "outputId": "4173d5d6-df2f-448b-c76d-16dd4ebd9833"
      },
      "execution_count": null,
      "outputs": [
        {
          "output_type": "stream",
          "name": "stdout",
          "text": [
            "-4.983000000000006\n",
            "-5.412000000000006\n",
            "-6.765000000000004\n",
            "-6.204000000000006\n",
            "-6.566999999999997\n"
          ]
        }
      ]
    },
    {
      "cell_type": "code",
      "source": [
        "-5.675999999999991"
      ],
      "metadata": {
        "id": "G1IC_RD3h8wC"
      },
      "execution_count": null,
      "outputs": []
    },
    {
      "cell_type": "code",
      "source": [],
      "metadata": {
        "id": "w0gfSEBhh8t5"
      },
      "execution_count": null,
      "outputs": []
    },
    {
      "cell_type": "code",
      "source": [],
      "metadata": {
        "id": "DD2ST2Z5h8r7"
      },
      "execution_count": null,
      "outputs": []
    },
    {
      "cell_type": "code",
      "source": [],
      "metadata": {
        "id": "RRq5dnA5h8p4"
      },
      "execution_count": null,
      "outputs": []
    },
    {
      "cell_type": "code",
      "source": [],
      "metadata": {
        "id": "2LxSRJlqh8nc"
      },
      "execution_count": null,
      "outputs": []
    },
    {
      "cell_type": "code",
      "source": [
        "size = 200\n",
        "\n",
        "rho_list = []\n",
        "\"\"\"\n",
        "for i in range(size//200):\n",
        "  rho_list.append([])\n",
        "\n",
        "print(rho_list)\n",
        "\"\"\"\n",
        "for i in range(size//200):\n",
        "  rho = cluster_rho(num_qubits, qc)\n",
        "\n",
        "  for j in range(9):\n",
        "    coeff_list = [0,0,0,0,0,0,0,0,0]\n",
        "    coeff_list[i]=1\n",
        "\n",
        "    operator_list = [\"ZZIII\", \"IZZII\", \"IIZZI\", \"IIIZZ\", \"XIIII\", \"IXIII\", \"IIXII\", \"IIIXI\", \"IIIIX\"]\n",
        "\n",
        "    hamiltonian_list = []\n",
        "\n",
        "    for i in range(9):\n",
        "      hamiltonian_list.append((operator_list[i], coeff_list[i]))\n",
        "\n",
        "    hamiltonian = SparsePauliOp.from_list(hamiltonian_list)\n",
        "    hamiltonian_matrix = hamiltonian.to_matrix()\n",
        "\n",
        "    rho_list.append(np.trace(np.matmul(rho, hamiltonian_matrix)))\n"
      ],
      "metadata": {
        "id": "4X-r8aNqU0ma"
      },
      "execution_count": null,
      "outputs": []
    },
    {
      "cell_type": "code",
      "source": [
        "rho_list"
      ],
      "metadata": {
        "id": "D83cfbUZU0kB"
      },
      "execution_count": null,
      "outputs": []
    },
    {
      "cell_type": "code",
      "source": [
        "from qiskit.quantum_info import SparsePauliOp\n",
        "\n",
        "interation = 1\n",
        "bias = -1\n",
        "\n",
        "sum = 0\n",
        "for i in range(9):\n",
        "  coeff_list = [0,0,0,0,0,0,0,0,0]\n",
        "  coeff_list[i]=1\n",
        "\n",
        "  operator_list = [\"ZZIII\", \"IZZII\", \"IIZZI\", \"IIIZZ\", \"XIIII\", \"IXIII\", \"IIXII\", \"IIIXI\", \"IIIIX\"]\n",
        "\n",
        "  hamiltonian_list = []\n",
        "  for i in range(9):\n",
        "    hamiltonian_list.append((operator_list[i], coeff_list[i]))\n",
        "  hamiltonian = SparsePauliOp.from_list(hamiltonian_list)\n",
        "  hamiltonian_matrix = hamiltonian.to_matrix()\n",
        "\n",
        "  nlist = []\n",
        "  for i in range(100):\n",
        "    nlist.append(np.trace(np.matmul(cluster_rho(num_qubits, qc), hamiltonian_matrix)))\n",
        "\n",
        "  nlist = np.array(nlist)\n",
        "  print(np.median(nlist))\n",
        "\n",
        "  if i<4:\n",
        "    sum = sum + np.median(nlist)\n",
        "  else:\n",
        "    sum = sum - np.median(nlist)"
      ],
      "metadata": {
        "id": "BwLZ_iJwia5v"
      },
      "execution_count": null,
      "outputs": []
    },
    {
      "cell_type": "code",
      "source": [
        "med = np.median(np.array(nlist))\n",
        "\n",
        "print(med)"
      ],
      "metadata": {
        "id": "VuR_Z3_jia3a"
      },
      "execution_count": null,
      "outputs": []
    },
    {
      "cell_type": "code",
      "source": [
        "def shadow_bound(error, observables, failure_rate=0.01):\n",
        "    \"\"\"\n",
        "    Calculate the shadow bound for the Pauli measurement scheme.\n",
        "\n",
        "    Implements Eq. (S13) from https://arxiv.org/pdf/2002.08953.pdf\n",
        "\n",
        "    Args:\n",
        "        error (float): The error on the estimator.\n",
        "        observables (list) : List of matrices corresponding to the observables we intend to\n",
        "            measure.\n",
        "        failure_rate (float): Rate of failure for the bound to hold.\n",
        "\n",
        "    Returns:\n",
        "        An integer that gives the number of samples required to satisfy the shadow bound and\n",
        "        the chunk size required attaining the specified failure rate.\n",
        "    \"\"\"\n",
        "    M = len(observables)\n",
        "    K = 2 * np.log(2 * M / failure_rate)\n",
        "    shadow_norm = lambda op: np.linalg.norm(op - np.trace(op) / 2 ** int(np.log2(op.shape[0])), ord=np.inf) ** 2\n",
        "    N = 34 * max(shadow_norm(o) for o in observables) / error**2\n",
        "    return int(np.ceil(N * K)), int(K)"
      ],
      "metadata": {
        "id": "QiLAUanepECH"
      },
      "execution_count": null,
      "outputs": []
    },
    {
      "cell_type": "markdown",
      "source": [
        "# Figure"
      ],
      "metadata": {
        "id": "c8AuIf5qCm5C"
      }
    },
    {
      "cell_type": "code",
      "source": [
        "import matplotlib.pyplot as plt\n",
        "\n",
        "\n",
        "x = [100, 250, 500, 750, 1000, 2000]\n",
        "\n",
        "y = [-3.248, -4.224, -5.3416000000000015, -4.870933333333333, -5.2424, -5.399]\n",
        "yerr = [2*1.0765574764033734, 2*1.1503154350003308, 2*0.3176523886263097, 2*1.1004588618692963, 2*0.5084917305128966, 2*0.49349468082239767]\n",
        "\n",
        "z = [-5.610, -7.8045, -6.04559, -5.786, -5.9466, -6.057]\n",
        "zerr = [2*2.113030998352838, 2*4.531195620363348, 2*0.8811432573651118, 2*0.697160526708159, 2*0.5300173959409255, 2*0.2818024174843076]\n",
        "\n",
        "\n",
        "plt.plot(x, y)\n",
        "plt.plot(x, z)\n",
        "plt.axhline(y=-6.02, xmin=0, xmax=2000, color='blue', linestyle='solid')\n",
        "plt.errorbar(x, y, yerr=yerr, fmt ='o')\n",
        "plt.errorbar(x, z, yerr=zerr, fmt ='o')\n",
        "plt.xlabel('Shots')\n",
        "plt.ylabel('Lowest Energy')\n",
        "plt.show()"
      ],
      "metadata": {
        "colab": {
          "base_uri": "https://localhost:8080/",
          "height": 449
        },
        "id": "PZvLUg08Cpfp",
        "outputId": "1704ec15-5269-4529-8553-f33a44ffb876"
      },
      "execution_count": null,
      "outputs": [
        {
          "output_type": "display_data",
          "data": {
            "text/plain": [
              "<Figure size 640x480 with 1 Axes>"
            ],
            "image/png": "[encoded data removed]"
          },
          "metadata": {}
        }
      ]
    },
    {
      "cell_type": "markdown",
      "source": [
        "참값과의 차이 / error 바 크기\n",
        "\n",
        "둘 다 shot 늘어나면 exact하게 간다\n",
        "-> error바 줄어들고, 참값과의 차이도\n",
        "\n",
        "total measurement 횟수 measurement circuit을 다 일일히 만들고,\n",
        "\n"
      ],
      "metadata": {
        "id": "-_JqzDU8Izwt"
      }
    }
  ],
  "metadata": {
    "kernelspec": {
      "display_name": "Python 3",
      "language": "python",
      "name": "python3"
    },
    "language_info": {
      "codemirror_mode": {
        "name": "ipython",
        "version": 3
      },
      "file_extension": ".py",
      "mimetype": "text/x-python",
      "name": "python",
      "nbconvert_exporter": "python",
      "pygments_lexer": "ipython3",
      "version": "3.10.11"
    },
    "colab": {
      "provenance": [],
      "include_colab_link": true
    }
  },
  "nbformat": 4,
  "nbformat_minor": 0
}