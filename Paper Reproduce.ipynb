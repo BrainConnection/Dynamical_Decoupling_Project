{
  "nbformat": 4,
  "nbformat_minor": 0,
  "metadata": {
    "colab": {
      "provenance": [],
      "authorship_tag": "ABX9TyP8Eqhc8AG+KzY94YM1trPD",
      "include_colab_link": true
    },
    "kernelspec": {
      "name": "python3",
      "display_name": "Python 3"
    },
    "language_info": {
      "name": "python"
    }
  },
  "cells": [
    {
      "cell_type": "markdown",
      "metadata": {
        "id": "view-in-github",
        "colab_type": "text"
      },
      "source": [
        "<a href=\"https://colab.research.google.com/github/BrainConnection/Dynamical_Decoupling_Project/blob/main/Paper%20Reproduce.ipynb\" target=\"_parent\"><img src=\"https://colab.research.google.com/assets/colab-badge.svg\" alt=\"Open In Colab\"/></a>"
      ]
    },
    {
      "cell_type": "markdown",
      "source": [
        "# Thermal Photon"
      ],
      "metadata": {
        "id": "aunKZyet-vwT"
      }
    },
    {
      "cell_type": "code",
      "execution_count": null,
      "metadata": {
        "id": "yDxF2gqQ-pwx"
      },
      "outputs": [],
      "source": []
    },
    {
      "cell_type": "markdown",
      "source": [
        "# Coherent Photon"
      ],
      "metadata": {
        "id": "OnW2GP2a-zAz"
      }
    },
    {
      "cell_type": "code",
      "source": [],
      "metadata": {
        "id": "jISW97g6-1WX"
      },
      "execution_count": null,
      "outputs": []
    }
  ]
}